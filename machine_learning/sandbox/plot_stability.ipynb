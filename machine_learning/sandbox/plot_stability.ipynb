{
 "cells": [
  {
   "cell_type": "code",
   "execution_count": 1,
   "metadata": {},
   "outputs": [],
   "source": [
    "# coding: utf-8\n",
    "\"\"\"\n",
    "author: Carlos Loucera\n",
    "email: carlos.loucera@juntadeandalucia.es\n",
    "\n",
    "Analise pre-trained models.\n",
    "\"\"\"\n",
    "import joblib\n",
    "import matplotlib.pyplot as plt\n",
    "import numpy as np\n",
    "import pandas as pd\n",
    "import seaborn as sns\n",
    "from scipy import stats\n",
    "from sklearn import metrics\n",
    "from sklearn.model_selection import LeaveOneGroupOut\n",
    "\n",
    "import mlgut.stability as stab\n",
    "from mlgut import utils, datasets\n",
    "from mlgut.datasets import get_path\n",
    "from mlgut.models import (\n",
    "    compute_rbo_mat,\n",
    "    compute_support_ebm,\n",
    "    get_cp_support,\n",
    "    get_lopo_support\n",
    ")\n",
    "\n",
    "import dotenv\n",
    "import pathlib\n",
    "\n",
    "EXTENSIONS = [\"pdf\", \"png\", \"svg\"]\n",
    "\n",
    "PROJECT_NAMES_DICT = {\n",
    "    \"PRJNA389927\": \"Hannigan\",\n",
    "    \"PRJEB12449\": \"Vogtmann\",\n",
    "    \"PRJEB6070\": \"Zeller\",\n",
    "    \"PRJEB7774\": \"Feng\",\n",
    "    \"PRJEB10878\": \"Yu\",\n",
    "    \"PRJNA447983\": \"Thomas0\",\n",
    "    \"PRJEB27928\": \"Thomas1\",\n",
    "}\n",
    "\n",
    "PROJECT_ORDER = sorted(PROJECT_NAMES_DICT.values())\n",
    "DISEASE_COLUMN_NAME = \"DISEASE\"\n",
    "PROJECT_COLUMN_NAME = \"SECONDARY_STUDY_ID\"\n",
    "\n",
    "\n",
    "def load_crossproject(condition, profile, path):\n",
    "    crossproject_fname = f\"{condition}_{profile}_cross_project.jbl\"\n",
    "    crossproject_fpath = path.joinpath(crossproject_fname)\n",
    "    crossproject_results = joblib.load(crossproject_fpath)\n",
    "    crossproject_results = utils.rename_keys(crossproject_results, PROJECT_NAMES_DICT)\n",
    "\n",
    "    return crossproject_results\n",
    "\n",
    "\n",
    "def load_stability(condition, profile, path):\n",
    "    stability_fname = f\"{condition}_{profile}_stability.jbl\"\n",
    "    stability_fpath = path.joinpath(stability_fname)\n",
    "    stability_results = joblib.load(stability_fpath)\n",
    "    stability_results = utils.rename_keys(stability_results, PROJECT_NAMES_DICT)\n",
    "\n",
    "    return stability_results\n",
    "\n",
    "\n",
    "def compute_error(results, alpha=0.05, metric=\"roc_auc\"):\n",
    "    # Z matrix in Nogueira's stability paper\n",
    "    metric_str = f\"test_{metric}\"\n",
    "    scores = np.array(results[metric_str])\n",
    "    n_splits = scores.size\n",
    "\n",
    "    mean_score = np.mean(scores)\n",
    "    ci = stats.norm.ppf(1 - alpha / 2) * (np.std(scores)) / np.sqrt(n_splits)\n",
    "\n",
    "    return scores, mean_score, ci\n",
    "\n",
    "\n",
    "def compute_stability(results, alpha=0.05):\n",
    "    # Z matrix in Nogueira's stability paper\n",
    "\n",
    "    support_matrix = [\n",
    "        model[\"selector\"].get_support() * 1 for model in results[\"estimator\"]\n",
    "    ]\n",
    "    support_matrix = np.array(support_matrix)\n",
    "\n",
    "    stab_res = stab.confidenceIntervals(support_matrix, alpha=alpha)\n",
    "    stability = stab_res[\"stability\"]\n",
    "    stability_error = stab_res[\"stability\"] - stab_res[\"lower\"]\n",
    "\n",
    "    return support_matrix, stability, stability_error\n",
    "\n",
    "\n",
    "def analyze_stability(\n",
    "    stability_results, crossproject_results, condition, profile, path\n",
    "):\n",
    "    stability_results_df = {\n",
    "        key: compute_stability(stability_results[key])[1:]\n",
    "        for key in stability_results.keys()\n",
    "    }\n",
    "    stability_results_df = pd.DataFrame(\n",
    "        stability_results_df, index=[\"estability\", \"error\"]\n",
    "    )\n",
    "    stability_results_df = stability_results_df.T.sort_index()\n",
    "\n",
    "    crossproject_results_df = {\n",
    "        key: compute_stability(crossproject_results[key][\"cv\"])[1:]\n",
    "        for key in crossproject_results.keys()\n",
    "    }\n",
    "    crossproject_results_df = pd.DataFrame(\n",
    "        crossproject_results_df, index=[\"estability\", \"error\"]\n",
    "    )\n",
    "    crossproject_results_df = crossproject_results_df.T.sort_index()\n",
    "\n",
    "    roc_auc_stability = {\n",
    "        key: compute_error(stability_results[key])[0]\n",
    "        for key in stability_results.keys()\n",
    "    }\n",
    "\n",
    "    roc_auc_stability = pd.DataFrame(roc_auc_stability).melt(\n",
    "        value_name=\"Mean AUROC\", var_name=\"Project\"\n",
    "    )\n",
    "\n",
    "    roc_auc_crossproject = {\n",
    "        key: compute_error(crossproject_results[key][\"cv\"])[0]\n",
    "        for key in crossproject_results.keys()\n",
    "    }\n",
    "    roc_auc_crossproject = pd.DataFrame(roc_auc_crossproject).melt(\n",
    "        value_name=\"Mean AUROC\", var_name=\"Project\"\n",
    "    )\n",
    "\n",
    "    plot_stability(\n",
    "        crossproject_results_df, stability_results_df, condition, profile, path\n",
    "    )\n",
    "    plot_error(roc_auc_crossproject, roc_auc_stability, condition, profile, path)\n",
    "\n",
    "    return roc_auc_crossproject\n",
    "\n",
    "\n",
    "def plot_stability(cp_df, stab_df, condition, profile, path):\n",
    "    plt.style.use(\"fivethirtyeight\")\n",
    "    _, ax = plt.subplots(1, 1, figsize=(16, 9))\n",
    "    plt.errorbar(\n",
    "        x=cp_df.index,\n",
    "        y=cp_df[\"estability\"],\n",
    "        yerr=cp_df[\"error\"],\n",
    "        label=[\"CV-stability\"],\n",
    "    )\n",
    "    plt.errorbar(\n",
    "        x=stab_df.index,\n",
    "        y=stab_df[\"estability\"],\n",
    "        yerr=stab_df[\"error\"],\n",
    "        label=[\"RSSS-stability\"],\n",
    "    )\n",
    "    ax.set_xlabel(\"Project\")\n",
    "    ax.set_ylabel(\"Stability\")\n",
    "    plt.legend(loc=\"lower right\")\n",
    "    plt.tight_layout()\n",
    "    for ext in EXTENSIONS:\n",
    "        fname = f\"{condition}_{profile}_feature_selection_stability.{ext}\"\n",
    "        fpath = path.joinpath(fname)\n",
    "        plt.savefig(fpath, dpi=300, bbox_inches=\"tight\", pad_inches=0)\n",
    "    plt.close()\n",
    "\n",
    "\n",
    "def plot_error(cp_df, stab_df, condition, profile, path):\n",
    "    _, ax = plt.subplots(1, 1, figsize=(16, 9))\n",
    "\n",
    "    sns.lineplot(\n",
    "        x=\"Project\",\n",
    "        y=\"Mean AUROC\",\n",
    "        data=cp_df,\n",
    "        ax=ax,\n",
    "        err_style=\"bars\",\n",
    "        ci=95,\n",
    "        label=\"CV-test\",\n",
    "    )\n",
    "    sns.lineplot(\n",
    "        x=\"Project\",\n",
    "        y=\"Mean AUROC\",\n",
    "        data=stab_df,\n",
    "        ax=ax,\n",
    "        err_style=\"bars\",\n",
    "        ci=95,\n",
    "        label=\"RSSS-test\",\n",
    "    )\n",
    "    plt.legend(loc=\"lower right\")\n",
    "    plt.tight_layout()\n",
    "    for ext in EXTENSIONS:\n",
    "        fname = f\"{condition}_{profile}_feature_selection_stability_error.{ext}\"\n",
    "        fpath = path.joinpath(fname)\n",
    "        plt.savefig(fpath, dpi=300, bbox_inches=\"tight\", pad_inches=0)\n",
    "    plt.close()\n",
    "\n",
    "\n",
    "def analyze_rank_stability(results, features, profile, condition, path):\n",
    "    def compute_ebm_fi_by_project(results, key):\n",
    "        ebm_fi_list = [\n",
    "            pd.Series(compute_support_ebm(model)[1], index=features.columns)\n",
    "            for model in results[key][\"cv\"][\"estimator\"]\n",
    "        ]\n",
    "        ebm_fi = pd.concat(ebm_fi_list, axis=1)\n",
    "\n",
    "        return ebm_fi\n",
    "\n",
    "    ebm_fi_by_project = {\n",
    "        key: compute_ebm_fi_by_project(results, key) for key in results.keys()\n",
    "    }\n",
    "\n",
    "    dmat = {\n",
    "        key: compute_rbo_mat(ebm_fi_by_project[key]) for key in ebm_fi_by_project.keys()\n",
    "    }\n",
    "\n",
    "    dmat = pd.DataFrame(dmat).melt(value_name=\"dRBO\", var_name=\"Project\")\n",
    "    fname = f\"{condition}_{profile}_rank_stability_mat.jbl\"\n",
    "    fpath = path.joinpath(fname)\n",
    "    joblib.dump(dmat, fpath)\n",
    "\n",
    "    plt.figure(figsize=(16, 9))\n",
    "    sns.violinplot(x=\"Project\", y=\"dRBO\", data=dmat, order=PROJECT_ORDER)\n",
    "    plt.ylim([-0.1, 1.1])\n",
    "    plt.tight_layout()\n",
    "    for ext in EXTENSIONS:\n",
    "        fname = f\"{condition}_{profile}_rank_stability.{ext}\"\n",
    "        fpath = path.joinpath(fname)\n",
    "        plt.savefig(fpath, dpi=300, bbox_inches=\"tight\", pad_inches=0)\n",
    "    plt.close()\n",
    "\n",
    "\n",
    "def analyze_lopo_wo_oracle(results, features, metadata, profile, condition, control):\n",
    "    query = metadata[DISEASE_COLUMN_NAME].isin([control, condition])\n",
    "    projects = metadata.loc[query, PROJECT_COLUMN_NAME]\n",
    "\n",
    "    lopo_mean = dict(zip(np.unique(projects), results[\"test_roc_auc\"]))\n",
    "    lopo_mean = utils.rename_keys(lopo_mean, PROJECT_NAMES_DICT)\n",
    "\n",
    "    _, support_merged = get_lopo_support(results, features.columns)\n",
    "\n",
    "    print(lopo_mean, np.mean(results[\"test_roc_auc\"]))\n",
    "\n",
    "    return lopo_mean, support_merged\n",
    "\n",
    "\n",
    "def analyze_lopo_with_oracle(results, metadata, profile, condition, control):\n",
    "    query = metadata[DISEASE_COLUMN_NAME].isin([control, condition])\n",
    "    projects = metadata.loc[query, PROJECT_COLUMN_NAME]\n",
    "\n",
    "    best = 0.0\n",
    "    keep = {}\n",
    "    best_support = []\n",
    "    for i in results.keys():\n",
    "        # top: at least in `i` LOPO trainings.\n",
    "        lopo_mean_i = dict(zip(np.unique(projects), results[i][\"cv\"][\"test_roc_auc\"]))\n",
    "        mean_i = np.mean(results[i][\"cv\"][\"test_roc_auc\"])\n",
    "        lopo_mean_i = utils.rename_keys(lopo_mean_i, PROJECT_NAMES_DICT)\n",
    "        if mean_i > best:\n",
    "            best = mean_i\n",
    "            keep = lopo_mean_i\n",
    "            columns = results[i][\"columns\"]\n",
    "            _, best_support = get_lopo_support(results[i][\"cv\"], columns)\n",
    "\n",
    "        print(lopo_mean_i, mean_i)\n",
    "\n",
    "    return keep, best_support\n",
    "\n",
    "\n",
    "def plot_lopo(frame, support, profile, condition, path, oracle=True):\n",
    "    if oracle:\n",
    "        with_str = \"with\"\n",
    "    else:\n",
    "        with_str = \"wo\"\n",
    "    print(frame)\n",
    "    fname = f\"{condition}_{profile}_lopo_{with_str} _oracle_support.tsv\"\n",
    "    fpath = path.joinpath(fname)\n",
    "    support.to_csv(fpath, sep=\"\\t\")\n",
    "\n",
    "\n",
    "def get_cross_project_data(names, profile, condition, results):\n",
    "\n",
    "    l = []\n",
    "    for project_id in results.keys():\n",
    "        r = results[project_id][\"outer\"][\n",
    "            [PROJECT_COLUMN_NAME, DISEASE_COLUMN_NAME, \"decission\"]\n",
    "        ].copy()\n",
    "        r[PROJECT_COLUMN_NAME] = r[PROJECT_COLUMN_NAME].replace(PROJECT_NAMES_DICT)\n",
    "        r = r.groupby(PROJECT_COLUMN_NAME).apply(\n",
    "            lambda x: metrics.roc_auc_score(\n",
    "                x[DISEASE_COLUMN_NAME] == condition, x[\"decission\"]\n",
    "            )\n",
    "        )\n",
    "        r.name = project_id\n",
    "        l.append(r)\n",
    "\n",
    "    r = pd.concat(l, axis=1).T\n",
    "    for project_id in results.keys():\n",
    "        r.loc[project_id, project_id] = np.mean(\n",
    "            results[project_id][\"cv\"][\"test_roc_auc\"]\n",
    "        )\n",
    "\n",
    "    fi, fi_merged = get_cp_support(results, names)\n",
    "\n",
    "    return r, fi, fi_merged\n",
    "\n",
    "\n",
    "def build_scoring_mat(cp_mat, lopo_wo_oracle, lopo_with_oracle):\n",
    "\n",
    "    mat = cp_mat.copy()\n",
    "    mat = mat.loc[PROJECT_ORDER, PROJECT_ORDER]\n",
    "    mat.loc[\"Mean\", :] = mat.mean(axis=0)\n",
    "    lopo_wo_oracle_series = pd.Series(lopo_wo_oracle, name=\"LOPO\")\n",
    "    lopo_with_oracle_series = pd.Series(lopo_with_oracle, name=\"oLOPO\")\n",
    "    mat = mat.append(lopo_wo_oracle_series)\n",
    "    mat = mat.append(lopo_with_oracle_series)\n",
    "    mat[\"Mean\"] = mat.mean(axis=1)\n",
    "\n",
    "    return mat\n",
    "\n",
    "\n",
    "def plot_scores(mat, condition, profile, path):\n",
    "\n",
    "    plt.figure()\n",
    "    ax = sns.heatmap(\n",
    "        mat,\n",
    "        annot=True,\n",
    "        fmt=\".2f\",\n",
    "        vmin=0.0,\n",
    "        vmax=1.0,\n",
    "        cbar=False,\n",
    "        xticklabels=True,\n",
    "        yticklabels=True,\n",
    "    )\n",
    "    ax.xaxis.set_ticks_position(\"top\")\n",
    "    ax.set_xticklabels(ax.get_xticklabels(), rotation=45)\n",
    "    for ext in EXTENSIONS:\n",
    "        fname = f\"{condition}_{profile}_score_matrix.{ext}\"\n",
    "        fpath = path.joinpath(fname)\n",
    "        plt.savefig(fpath, dpi=300, bbox_inches=\"tight\", pad_inches=0)\n",
    "    plt.close()\n",
    "\n",
    "\n",
    "def load_lopo(condition, profile, path, oracle=False):\n",
    "    if oracle:\n",
    "        with_str = \"with\"\n",
    "    else:\n",
    "        with_str = \"wo\"\n",
    "\n",
    "    fname = f\"{condition}_{profile}_lopo_{with_str}_oracle.jbl\"\n",
    "    fpath = path.joinpath(fname)\n",
    "    results = joblib.load(fpath)\n",
    "\n",
    "    return results\n",
    "\n",
    "\n",
    "def build_analysis(features, metadata, profile, condition, control, path):\n",
    "    results_stab = load_stability(condition, profile, path)\n",
    "    results_cp = load_crossproject(condition, profile, path)\n",
    "    results_lopo_wo_oracle = load_lopo(condition, profile, path, oracle=False)\n",
    "    results_lopo_with_oracle = load_lopo(condition, profile, path, oracle=True)\n",
    "\n",
    "    metadata_ = metadata.copy()\n",
    "    metadata_[PROJECT_COLUMN_NAME] = metadata_[PROJECT_COLUMN_NAME].replace(\n",
    "        PROJECT_NAMES_DICT\n",
    "    )\n",
    "\n",
    "    cp_mat, cp_fi, cp_fi_merged = get_cross_project_data(\n",
    "        features.columns, profile, condition, results_cp\n",
    "    )\n",
    "    cp_fi.to_csv(path.joinpath(f\"{condition}_{profile}_cp_support.tsv\"), sep=\"\\t\")\n",
    "    cp_fi_merged.to_csv(\n",
    "        path.joinpath(f\"{condition}_{profile}_cp_support_merge.tsv\"), sep=\"\\t\"\n",
    "    )\n",
    "\n",
    "    lopo_wo_oracle, support_lopo_wo_oracle = analyze_lopo_wo_oracle(\n",
    "        results_lopo_wo_oracle, features, metadata, profile, condition, control\n",
    "    )\n",
    "    lopo_with_oracle, support_lopo_with_oracle = analyze_lopo_with_oracle(\n",
    "        results_lopo_with_oracle, metadata, profile, condition, control\n",
    "    )\n",
    "\n",
    "    score_mat = build_scoring_mat(cp_mat, lopo_wo_oracle, lopo_with_oracle)\n",
    "    plot_scores(score_mat, condition, profile, path)\n",
    "\n",
    "    plot_lopo(\n",
    "        lopo_wo_oracle, support_lopo_wo_oracle, profile, condition, path, oracle=False\n",
    "    )\n",
    "    plot_lopo(\n",
    "        lopo_with_oracle,\n",
    "        support_lopo_with_oracle,\n",
    "        profile,\n",
    "        condition,\n",
    "        path,\n",
    "        oracle=True,\n",
    "    )\n",
    "\n",
    "    analyze_stability(results_stab, results_cp, condition, profile, path)\n",
    "    analyze_rank_stability(results_cp, features, profile, condition, path)\n"
   ]
  },
  {
   "cell_type": "code",
   "execution_count": 2,
   "metadata": {},
   "outputs": [
    {
     "output_type": "execute_result",
     "data": {
      "text/plain": [
       "'/home/cloucera/.env'"
      ]
     },
     "metadata": {},
     "execution_count": 2
    }
   ],
   "source": [
    "dotenv.find_dotenv()"
   ]
  },
  {
   "cell_type": "code",
   "execution_count": 3,
   "metadata": {},
   "outputs": [],
   "source": [
    "condition = \"CRC\"\n",
    "profile = \"centrifuge\"\n",
    "ext=\"jbl\"\n",
    "save_path=\"results/paper/plots\"\n"
   ]
  },
  {
   "cell_type": "code",
   "execution_count": 9,
   "metadata": {},
   "outputs": [],
   "source": [
    "results_folder = pathlib.Path(\"/home/cloucera/data/projects/gut/results\")"
   ]
  },
  {
   "cell_type": "code",
   "execution_count": 10,
   "metadata": {},
   "outputs": [],
   "source": [
    "path = results_folder.joinpath(condition.lower(), f\"{condition.lower()}_{profile}_results\")"
   ]
  },
  {
   "cell_type": "raw",
   "metadata": {},
   "source": [
    "crossproject_results = load_crossproject(condition=condition, profile=profile_name, path=profile_results_path)"
   ]
  },
  {
   "cell_type": "raw",
   "metadata": {
    "jupyter": {
     "outputs_hidden": true
    }
   },
   "source": [
    "results_stab = load_stability(condition, profile, path)\n",
    "results_cp = load_crossproject(condition, profile, path)\n",
    "results_lopo_wo_oracle = load_lopo(condition, profile, path, oracle=False)\n",
    "results_lopo_with_oracle = load_lopo(condition, profile, path, oracle=True)\n",
    "\n",
    "features, metadata = datasets.build_condition_dataset(\n",
    "    condition, profile, ext=\"jbl\"\n",
    ")\n",
    "features = datasets.filter_egg(features)\n",
    "\n",
    "metadata_ = metadata.copy()\n",
    "metadata_[PROJECT_COLUMN_NAME] = metadata_[PROJECT_COLUMN_NAME].replace(\n",
    "    PROJECT_NAMES_DICT\n",
    ")\n",
    "\n",
    "cp_mat, cp_fi, cp_fi_merged = get_cross_project_data(\n",
    "    features.columns, profile, condition, results_cp\n",
    ")\n",
    "\n",
    "lopo_wo_oracle, support_lopo_wo_oracle = analyze_lopo_wo_oracle(\n",
    "    results_lopo_wo_oracle, features, metadata, profile, condition, control\n",
    ")\n",
    "lopo_with_oracle, support_lopo_with_oracle = analyze_lopo_with_oracle(\n",
    "    results_lopo_with_oracle, metadata, profile, condition, control\n",
    ")\n",
    "\n",
    "score_mat = build_scoring_mat(cp_mat, lopo_wo_oracle, lopo_with_oracle)\n",
    "\n",
    "#analyze_stability(results_stab, results_cp, condition, profile, path)\n",
    "#analyze_rank_stability(results_cp, features, profile, condition, path)"
   ]
  },
  {
   "cell_type": "raw",
   "metadata": {},
   "source": [
    "for project in results_cp.keys():\n",
    "    project\n",
    "    break"
   ]
  },
  {
   "cell_type": "raw",
   "metadata": {},
   "source": [
    "pipe = results_cp[project][\"cv\"][\"estimator\"][0]"
   ]
  },
  {
   "cell_type": "raw",
   "metadata": {},
   "source": [
    "support_project = np.array([pipe[\"selector\"].get_support() for pipe in results_cp[project][\"cv\"][\"estimator\"]])\n",
    "support_project = support_project * 1"
   ]
  },
  {
   "cell_type": "raw",
   "metadata": {},
   "source": [
    "support_project.shape"
   ]
  },
  {
   "cell_type": "code",
   "execution_count": 8,
   "metadata": {},
   "outputs": [
    {
     "output_type": "stream",
     "name": "stdout",
     "text": [
      "centrifuge\n"
     ]
    },
    {
     "output_type": "error",
     "ename": "FileNotFoundError",
     "evalue": "[Errno 2] No such file or directory: '/home/cloucera/data/projects/gut/crc/crc_centrifuge_results/CRC_centrifuge_stability.jbl'",
     "traceback": [
      "\u001b[0;31m---------------------------------------------------------------------------\u001b[0m",
      "\u001b[0;31mFileNotFoundError\u001b[0m                         Traceback (most recent call last)",
      "\u001b[0;32m<ipython-input-8-9fef04bdf633>\u001b[0m in \u001b[0;36m<module>\u001b[0;34m\u001b[0m\n\u001b[1;32m      7\u001b[0m     \u001b[0mpath\u001b[0m \u001b[0;34m=\u001b[0m \u001b[0mresults_folder\u001b[0m\u001b[0;34m.\u001b[0m\u001b[0mjoinpath\u001b[0m\u001b[0;34m(\u001b[0m\u001b[0mcondition\u001b[0m\u001b[0;34m.\u001b[0m\u001b[0mlower\u001b[0m\u001b[0;34m(\u001b[0m\u001b[0;34m)\u001b[0m\u001b[0;34m,\u001b[0m \u001b[0;34mf\"{condition.lower()}_{profile.lower()}_results\"\u001b[0m\u001b[0;34m)\u001b[0m\u001b[0;34m\u001b[0m\u001b[0;34m\u001b[0m\u001b[0m\n\u001b[1;32m      8\u001b[0m \u001b[0;34m\u001b[0m\u001b[0m\n\u001b[0;32m----> 9\u001b[0;31m     \u001b[0mresults_stab\u001b[0m \u001b[0;34m=\u001b[0m \u001b[0mload_stability\u001b[0m\u001b[0;34m(\u001b[0m\u001b[0mcondition\u001b[0m\u001b[0;34m,\u001b[0m \u001b[0mprofile\u001b[0m\u001b[0;34m,\u001b[0m \u001b[0mpath\u001b[0m\u001b[0;34m)\u001b[0m\u001b[0;34m\u001b[0m\u001b[0;34m\u001b[0m\u001b[0m\n\u001b[0m\u001b[1;32m     10\u001b[0m     \u001b[0mresults_stab_dict\u001b[0m\u001b[0;34m[\u001b[0m\u001b[0mprofile\u001b[0m\u001b[0;34m]\u001b[0m \u001b[0;34m=\u001b[0m \u001b[0mresults_stab\u001b[0m\u001b[0;34m\u001b[0m\u001b[0;34m\u001b[0m\u001b[0m\n\u001b[1;32m     11\u001b[0m \u001b[0;34m\u001b[0m\u001b[0m\n",
      "\u001b[0;32m<ipython-input-1-5db76a23e209>\u001b[0m in \u001b[0;36mload_stability\u001b[0;34m(condition, profile, path)\u001b[0m\n\u001b[1;32m     57\u001b[0m     \u001b[0mstability_fname\u001b[0m \u001b[0;34m=\u001b[0m \u001b[0;34mf\"{condition}_{profile}_stability.jbl\"\u001b[0m\u001b[0;34m\u001b[0m\u001b[0;34m\u001b[0m\u001b[0m\n\u001b[1;32m     58\u001b[0m     \u001b[0mstability_fpath\u001b[0m \u001b[0;34m=\u001b[0m \u001b[0mpath\u001b[0m\u001b[0;34m.\u001b[0m\u001b[0mjoinpath\u001b[0m\u001b[0;34m(\u001b[0m\u001b[0mstability_fname\u001b[0m\u001b[0;34m)\u001b[0m\u001b[0;34m\u001b[0m\u001b[0;34m\u001b[0m\u001b[0m\n\u001b[0;32m---> 59\u001b[0;31m     \u001b[0mstability_results\u001b[0m \u001b[0;34m=\u001b[0m \u001b[0mjoblib\u001b[0m\u001b[0;34m.\u001b[0m\u001b[0mload\u001b[0m\u001b[0;34m(\u001b[0m\u001b[0mstability_fpath\u001b[0m\u001b[0;34m)\u001b[0m\u001b[0;34m\u001b[0m\u001b[0;34m\u001b[0m\u001b[0m\n\u001b[0m\u001b[1;32m     60\u001b[0m     \u001b[0mstability_results\u001b[0m \u001b[0;34m=\u001b[0m \u001b[0mutils\u001b[0m\u001b[0;34m.\u001b[0m\u001b[0mrename_keys\u001b[0m\u001b[0;34m(\u001b[0m\u001b[0mstability_results\u001b[0m\u001b[0;34m,\u001b[0m \u001b[0mPROJECT_NAMES_DICT\u001b[0m\u001b[0;34m)\u001b[0m\u001b[0;34m\u001b[0m\u001b[0;34m\u001b[0m\u001b[0m\n\u001b[1;32m     61\u001b[0m \u001b[0;34m\u001b[0m\u001b[0m\n",
      "\u001b[0;32m~/projects/babelomics/metagenomic-crc/machine_learning/.venv/lib/python3.7/site-packages/joblib/numpy_pickle.py\u001b[0m in \u001b[0;36mload\u001b[0;34m(filename, mmap_mode)\u001b[0m\n\u001b[1;32m    575\u001b[0m             \u001b[0mobj\u001b[0m \u001b[0;34m=\u001b[0m \u001b[0m_unpickle\u001b[0m\u001b[0;34m(\u001b[0m\u001b[0mfobj\u001b[0m\u001b[0;34m)\u001b[0m\u001b[0;34m\u001b[0m\u001b[0;34m\u001b[0m\u001b[0m\n\u001b[1;32m    576\u001b[0m     \u001b[0;32melse\u001b[0m\u001b[0;34m:\u001b[0m\u001b[0;34m\u001b[0m\u001b[0;34m\u001b[0m\u001b[0m\n\u001b[0;32m--> 577\u001b[0;31m         \u001b[0;32mwith\u001b[0m \u001b[0mopen\u001b[0m\u001b[0;34m(\u001b[0m\u001b[0mfilename\u001b[0m\u001b[0;34m,\u001b[0m \u001b[0;34m'rb'\u001b[0m\u001b[0;34m)\u001b[0m \u001b[0;32mas\u001b[0m \u001b[0mf\u001b[0m\u001b[0;34m:\u001b[0m\u001b[0;34m\u001b[0m\u001b[0;34m\u001b[0m\u001b[0m\n\u001b[0m\u001b[1;32m    578\u001b[0m             \u001b[0;32mwith\u001b[0m \u001b[0m_read_fileobject\u001b[0m\u001b[0;34m(\u001b[0m\u001b[0mf\u001b[0m\u001b[0;34m,\u001b[0m \u001b[0mfilename\u001b[0m\u001b[0;34m,\u001b[0m \u001b[0mmmap_mode\u001b[0m\u001b[0;34m)\u001b[0m \u001b[0;32mas\u001b[0m \u001b[0mfobj\u001b[0m\u001b[0;34m:\u001b[0m\u001b[0;34m\u001b[0m\u001b[0;34m\u001b[0m\u001b[0m\n\u001b[1;32m    579\u001b[0m                 \u001b[0;32mif\u001b[0m \u001b[0misinstance\u001b[0m\u001b[0;34m(\u001b[0m\u001b[0mfobj\u001b[0m\u001b[0;34m,\u001b[0m \u001b[0mstr\u001b[0m\u001b[0;34m)\u001b[0m\u001b[0;34m:\u001b[0m\u001b[0;34m\u001b[0m\u001b[0;34m\u001b[0m\u001b[0m\n",
      "\u001b[0;31mFileNotFoundError\u001b[0m: [Errno 2] No such file or directory: '/home/cloucera/data/projects/gut/crc/crc_centrifuge_results/CRC_centrifuge_stability.jbl'"
     ]
    }
   ],
   "source": [
    "stab_df = pd.DataFrame()\n",
    "results_stab_dict = {}\n",
    "results_cp_dict = {}\n",
    "\n",
    "for profile in [\"centrifuge\", \"KEGG_KOs\", \"OGs\"]:\n",
    "    print(profile)\n",
    "    path = results_folder.joinpath(condition.lower(), f\"{condition.lower()}_{profile.lower()}_results\")\n",
    "    \n",
    "    results_stab = load_stability(condition, profile, path)\n",
    "    results_stab_dict[profile] = results_stab\n",
    "    \n",
    "    results_cp = load_crossproject(condition, profile, path)\n",
    "    results_cp_dict[profile] = results_cp"
   ]
  },
  {
   "cell_type": "code",
   "execution_count": 505,
   "metadata": {},
   "outputs": [
    {
     "name": "stdout",
     "output_type": "stream",
     "text": [
      "centrifuge\n"
     ]
    },
    {
     "name": "stderr",
     "output_type": "stream",
     "text": [
      "/mnt/lustre/scratch/home/cloucera/projects/mlgut/.venv/lib/python3.7/site-packages/sklearn/feature_selection/_univariate_selection.py:602: RuntimeWarning: invalid value encountered in less\n"
     ]
    },
    {
     "name": "stdout",
     "output_type": "stream",
     "text": [
      "KEGG_KOs\n",
      "OGs\n"
     ]
    }
   ],
   "source": [
    "stab_df = pd.DataFrame()\n",
    "\n",
    "for profile in [\"centrifuge\", \"KEGG_KOs\", \"OGs\"]:\n",
    "    print(profile)\n",
    "    \n",
    "    results_stab = results_stab_dict[profile]\n",
    "    results_cp = results_cp_dict[profile]\n",
    "    \n",
    "    cp_stab_mat = [(project, *compute_stability(results_cp[project][\"cv\"], alpha=0.05)[1:]) for project in results_cp.keys()]\n",
    "    cp_stab_df = pd.DataFrame(cp_stab_mat, columns=[\"Project\", \"Stability\", \"Error\"])\n",
    "    cp_stab_df[\"Analysis\"] = \"CV-Stability\"\n",
    "    cp_stab_df[\"Profile\"] = profile\n",
    "\n",
    "    st_stab_mat = [(project, *compute_stability(results_stab[project], alpha=0.05)[1:]) for project in results_stab.keys()]\n",
    "    st_stab_df = pd.DataFrame(st_stab_mat, columns=[\"Project\", \"Stability\", \"Error\"])\n",
    "    st_stab_df[\"Analysis\"] = \"RSSS-Stability\"\n",
    "    st_stab_df[\"Profile\"] = profile\n",
    "\n",
    "    stab_df_i = pd.concat((cp_stab_df, st_stab_df), axis=0)\n",
    "    stab_df = pd.concat((stab_df, stab_df_i), axis=0)"
   ]
  },
  {
   "cell_type": "code",
   "execution_count": 506,
   "metadata": {},
   "outputs": [],
   "source": [
    "import seaborn as sns\n",
    "\n",
    "sns.set_context(\"paper\")\n",
    "sns.set_palette(\"colorblind\")"
   ]
  },
  {
   "cell_type": "code",
   "execution_count": 507,
   "metadata": {},
   "outputs": [],
   "source": [
    "profile_rename_dict = {\n",
    "    \"centrifuge\": \"Taxonomic\",\n",
    "    \"KEGG_KOs\": \"Kegg\",\n",
    "    \"OGs\": \"EggNog\"\n",
    "}\n",
    "\n",
    "analysis_rename_dict = {\n",
    "    \"CV-Stability\": \"CV-test\",\n",
    "    \"RSSS-Stability\": \"RSSS-test\"\n",
    "}\n",
    "\n",
    "replace_dict = {**profile_rename_dict, **analysis_rename_dict}"
   ]
  },
  {
   "cell_type": "code",
   "execution_count": 508,
   "metadata": {},
   "outputs": [],
   "source": [
    "stab_df = stab_df.replace(replace_dict)\n",
    "\n",
    "stab_df[\"up\"] = stab_df[\"Stability\"] + stab_df[\"Error\"]\n",
    "stab_df[\"low\"] = stab_df[\"Stability\"] - stab_df[\"Error\"]\n",
    "\n",
    "stab_df.to_csv(\"stab.tsv\", sep=\"\\t\")"
   ]
  },
  {
   "cell_type": "code",
   "execution_count": 509,
   "metadata": {},
   "outputs": [
    {
     "data": {
      "text/html": [
       "<div>\n",
       "<style scoped>\n",
       "    .dataframe tbody tr th:only-of-type {\n",
       "        vertical-align: middle;\n",
       "    }\n",
       "\n",
       "    .dataframe tbody tr th {\n",
       "        vertical-align: top;\n",
       "    }\n",
       "\n",
       "    .dataframe thead th {\n",
       "        text-align: right;\n",
       "    }\n",
       "</style>\n",
       "<table border=\"1\" class=\"dataframe\">\n",
       "  <thead>\n",
       "    <tr style=\"text-align: right;\">\n",
       "      <th></th>\n",
       "      <th>Project</th>\n",
       "      <th>Stability</th>\n",
       "      <th>Error</th>\n",
       "      <th>Analysis</th>\n",
       "      <th>Profile</th>\n",
       "      <th>up</th>\n",
       "      <th>low</th>\n",
       "    </tr>\n",
       "  </thead>\n",
       "  <tbody>\n",
       "    <tr>\n",
       "      <th>0</th>\n",
       "      <td>Vogtmann</td>\n",
       "      <td>0.645396</td>\n",
       "      <td>0.005995</td>\n",
       "      <td>CV-test</td>\n",
       "      <td>Taxonomic</td>\n",
       "      <td>0.651390</td>\n",
       "      <td>0.639401</td>\n",
       "    </tr>\n",
       "    <tr>\n",
       "      <th>1</th>\n",
       "      <td>Thomas1</td>\n",
       "      <td>0.709563</td>\n",
       "      <td>0.004632</td>\n",
       "      <td>CV-test</td>\n",
       "      <td>Taxonomic</td>\n",
       "      <td>0.714195</td>\n",
       "      <td>0.704931</td>\n",
       "    </tr>\n",
       "    <tr>\n",
       "      <th>2</th>\n",
       "      <td>Zeller</td>\n",
       "      <td>0.788261</td>\n",
       "      <td>0.003323</td>\n",
       "      <td>CV-test</td>\n",
       "      <td>Taxonomic</td>\n",
       "      <td>0.791584</td>\n",
       "      <td>0.784938</td>\n",
       "    </tr>\n",
       "    <tr>\n",
       "      <th>3</th>\n",
       "      <td>Feng</td>\n",
       "      <td>0.751641</td>\n",
       "      <td>0.006976</td>\n",
       "      <td>CV-test</td>\n",
       "      <td>Taxonomic</td>\n",
       "      <td>0.758617</td>\n",
       "      <td>0.744664</td>\n",
       "    </tr>\n",
       "    <tr>\n",
       "      <th>4</th>\n",
       "      <td>Yu</td>\n",
       "      <td>0.724036</td>\n",
       "      <td>0.004924</td>\n",
       "      <td>CV-test</td>\n",
       "      <td>Taxonomic</td>\n",
       "      <td>0.728961</td>\n",
       "      <td>0.719112</td>\n",
       "    </tr>\n",
       "  </tbody>\n",
       "</table>\n",
       "</div>"
      ],
      "text/plain": [
       "    Project  Stability     Error Analysis    Profile        up       low\n",
       "0  Vogtmann   0.645396  0.005995  CV-test  Taxonomic  0.651390  0.639401\n",
       "1   Thomas1   0.709563  0.004632  CV-test  Taxonomic  0.714195  0.704931\n",
       "2    Zeller   0.788261  0.003323  CV-test  Taxonomic  0.791584  0.784938\n",
       "3      Feng   0.751641  0.006976  CV-test  Taxonomic  0.758617  0.744664\n",
       "4        Yu   0.724036  0.004924  CV-test  Taxonomic  0.728961  0.719112"
      ]
     },
     "execution_count": 509,
     "metadata": {},
     "output_type": "execute_result"
    }
   ],
   "source": [
    "stab_df.head()"
   ]
  },
  {
   "cell_type": "code",
   "execution_count": 510,
   "metadata": {},
   "outputs": [
    {
     "name": "stdout",
     "output_type": "stream",
     "text": [
      "centrifuge\n",
      "KEGG_KOs\n",
      "OGs\n"
     ]
    }
   ],
   "source": [
    "err_df = pd.DataFrame()\n",
    "\n",
    "for profile in [\"centrifuge\", \"KEGG_KOs\", \"OGs\"]:\n",
    "    print(profile)\n",
    "    \n",
    "    results_stab = results_stab_dict[profile]\n",
    "    results_cp = results_cp_dict[profile]\n",
    "    \n",
    "    cp_stab_mat = [(project, *compute_error(results_cp[project][\"cv\"], alpha=0.05)[1:]) for project in results_cp.keys()]\n",
    "    cp_stab_df = pd.DataFrame(cp_stab_mat, columns=[\"Project\", \"AUROC\", \"Error\"])\n",
    "    cp_stab_df[\"Analysis\"] = \"CV-Stability\"\n",
    "    cp_stab_df[\"Profile\"] = profile\n",
    "\n",
    "    st_stab_mat = [(project, *compute_error(results_stab[project], alpha=0.05)[1:]) for project in results_stab.keys()]\n",
    "    st_stab_df = pd.DataFrame(st_stab_mat, columns=[\"Project\", \"AUROC\", \"Error\"])\n",
    "    st_stab_df[\"Analysis\"] = \"RSSS-Stability\"\n",
    "    st_stab_df[\"Profile\"] = profile\n",
    "\n",
    "    stab_df_i = pd.concat((cp_stab_df, st_stab_df), axis=0)\n",
    "    err_df = pd.concat((err_df, stab_df_i), axis=0)"
   ]
  },
  {
   "cell_type": "code",
   "execution_count": 511,
   "metadata": {},
   "outputs": [],
   "source": [
    "err_df = err_df.replace(replace_dict)\n",
    "\n",
    "err_df[\"up\"] = err_df[\"AUROC\"] + err_df[\"Error\"]\n",
    "err_df[\"low\"] = err_df[\"AUROC\"] - err_df[\"Error\"]\n",
    "\n",
    "err_df.to_csv(\"err.tsv\", sep=\"\\t\")"
   ]
  },
  {
   "cell_type": "code",
   "execution_count": 512,
   "metadata": {},
   "outputs": [],
   "source": [
    "COLOR_BLIND_PALETTE = [\"#000000\", \"#E69F00\", \"#56B4E9\", \"#009E73\",\n",
    "                       \"#F0E442\", \"#0072B2\", \"#D55E00\", \"#CC79A7\"]"
   ]
  },
  {
   "cell_type": "code",
   "execution_count": 513,
   "metadata": {},
   "outputs": [
    {
     "name": "stderr",
     "output_type": "stream",
     "text": [
      "/mnt/lustre/scratch/home/cloucera/projects/mlgut/.venv/lib/python3.7/site-packages/plotnine/ggplot.py:729: PlotnineWarning: Saving 6.4 x 4.8 in image.\n",
      "/mnt/lustre/scratch/home/cloucera/projects/mlgut/.venv/lib/python3.7/site-packages/plotnine/ggplot.py:730: PlotnineWarning: Filename: stability_analysis.pdf\n",
      "/mnt/lustre/scratch/home/cloucera/projects/mlgut/.venv/lib/python3.7/site-packages/plotnine/ggplot.py:729: PlotnineWarning: Saving 6.4 x 4.8 in image.\n",
      "/mnt/lustre/scratch/home/cloucera/projects/mlgut/.venv/lib/python3.7/site-packages/plotnine/ggplot.py:730: PlotnineWarning: Filename: stability_analysis.svg\n",
      "/mnt/lustre/scratch/home/cloucera/projects/mlgut/.venv/lib/python3.7/site-packages/plotnine/ggplot.py:729: PlotnineWarning: Saving 6.4 x 4.8 in image.\n",
      "/mnt/lustre/scratch/home/cloucera/projects/mlgut/.venv/lib/python3.7/site-packages/plotnine/ggplot.py:730: PlotnineWarning: Filename: stability_analysis.png\n"
     ]
    },
    {
     "data": {
      "image/png": "[encoded data removed]",
      "text/plain": [
       "<Figure size 640x480 with 3 Axes>"
      ]
     },
     "metadata": {},
     "output_type": "display_data"
    },
    {
     "data": {
      "text/plain": [
       "<ggplot: (2999816128005)>"
      ]
     },
     "execution_count": 513,
     "metadata": {},
     "output_type": "execute_result"
    }
   ],
   "source": [
    "from plotnine import scale_x_continuous, geom_vline, ggsave, theme, element_text, scale_color_discrete\n",
    "import plotnine as gg\n",
    "\n",
    "\n",
    "fname = \"stability\"\n",
    "g = (\n",
    "    ggplot(stab_df)\n",
    "    + gg.facet_wrap(\"~Profile\")\n",
    "    + aes(x=\"Stability\", y=\"Project\", color=\"Analysis\")\n",
    "    + labs(\n",
    "        x=\"Stability Estimate\",\n",
    "        y=\"Project\"    )\n",
    "    + geom_point(size=0.8)\n",
    "    + scale_x_continuous(breaks=[0.4, 0.7])\n",
    "    + geom_errorbarh(aes(xmin=\"low\", xmax=\"up\"), height=0.2)\n",
    "    + geom_vline(xintercept=0.4, linetype=\"dashed\", color=\"red\")\n",
    "    + geom_vline(xintercept=0.7, linetype=\"dashed\", color=\"blue\")\n",
    "    + gg.theme_gray()\n",
    "    + theme(legend_position=\"top\", legend_direction=\"horizontal\", \n",
    "            legend_title=gg.element_blank(),\n",
    "            #panel_background=gg.element_rect(fill=panel_col, color=panel_col),\n",
    "            #strip_background=gg.element_rect(fill=panel_col, color=panel_col),\n",
    "            #plot_background=gg.element_rect(fill=\"w\", color=\"w\"),\n",
    "           legend_box_margin=-1,\n",
    "           legend_margin=-1)\n",
    "    #+ gg.guide_legend(nrow=1)\n",
    "    + theme(axis_text_x=element_text(size=10, rotation=30, hjust=-1))\n",
    "    #+ gg.scale_color_brewer(type=\"qual\", palette=2)\n",
    "    + gg.scale_color_manual(COLOR_BLIND_PALETTE)\n",
    ")\n",
    "\n",
    "\n",
    "g.save(f\"{fname}_analysis.pdf\")\n",
    "g.save(f\"{fname}_analysis.svg\")\n",
    "g.save(f\"{fname}_analysis.png\", dpi=300)\n",
    "g"
   ]
  },
  {
   "cell_type": "code",
   "execution_count": 514,
   "metadata": {},
   "outputs": [
    {
     "name": "stderr",
     "output_type": "stream",
     "text": [
      "/mnt/lustre/scratch/home/cloucera/projects/mlgut/.venv/lib/python3.7/site-packages/plotnine/ggplot.py:729: PlotnineWarning: Saving 6.4 x 4.8 in image.\n",
      "/mnt/lustre/scratch/home/cloucera/projects/mlgut/.venv/lib/python3.7/site-packages/plotnine/ggplot.py:730: PlotnineWarning: Filename: auroc_analysis.pdf\n",
      "/mnt/lustre/scratch/home/cloucera/projects/mlgut/.venv/lib/python3.7/site-packages/plotnine/ggplot.py:729: PlotnineWarning: Saving 6.4 x 4.8 in image.\n",
      "/mnt/lustre/scratch/home/cloucera/projects/mlgut/.venv/lib/python3.7/site-packages/plotnine/ggplot.py:730: PlotnineWarning: Filename: auroc_analysis.svg\n",
      "/mnt/lustre/scratch/home/cloucera/projects/mlgut/.venv/lib/python3.7/site-packages/plotnine/ggplot.py:729: PlotnineWarning: Saving 6.4 x 4.8 in image.\n",
      "/mnt/lustre/scratch/home/cloucera/projects/mlgut/.venv/lib/python3.7/site-packages/plotnine/ggplot.py:730: PlotnineWarning: Filename: auroc_analysis.png\n"
     ]
    },
    {
     "data": {
      "image/png": "[encoded data removed]",
      "text/plain": [
       "<Figure size 640x480 with 3 Axes>"
      ]
     },
     "metadata": {},
     "output_type": "display_data"
    },
    {
     "data": {
      "text/plain": [
       "<ggplot: (2999812171241)>"
      ]
     },
     "execution_count": 514,
     "metadata": {},
     "output_type": "execute_result"
    }
   ],
   "source": [
    "from plotnine import scale_x_continuous, geom_vline, ggsave, theme, element_text, scale_color_discrete\n",
    "import plotnine as gg\n",
    "\n",
    "panel_col = \"antiquewhite\"\n",
    "\n",
    "score_name = \"AUROC\"\n",
    "fname = \"auroc\"\n",
    "\n",
    "X = err_df\n",
    "\n",
    "g = (\n",
    "    ggplot(X)\n",
    "    + gg.facet_wrap(\"~Profile\")\n",
    "    + aes(x=score_name, y=\"Project\", color=\"Analysis\")\n",
    "    + labs(\n",
    "        x=\"AUROC Estimate\",\n",
    "        y=\"Project\"    )\n",
    "    + geom_point(size=0.8)\n",
    "    + scale_x_continuous(breaks=[0.5, 0.7, 0.9])\n",
    "    + geom_errorbarh(aes(xmin=\"low\", xmax=\"up\"), height=0.2)\n",
    "    + geom_vline(xintercept=0.5, linetype=\"dashed\", color=\"red\")\n",
    "#     + geom_vline(xintercept=0.7, linetype=\"dashed\", color=\"blue\")\n",
    "    + gg.theme_gray(base_size=12)\n",
    "    + theme(legend_position=\"top\", legend_direction=\"horizontal\", \n",
    "            legend_title=gg.element_blank(),\n",
    "            #panel_background=gg.element_rect(fill=panel_col, color=panel_col),\n",
    "            #strip_background=gg.element_rect(fill=panel_col, color=panel_col),\n",
    "            #plot_background=gg.element_rect(fill=\"w\", color=\"w\"),\n",
    "           legend_box_margin=-1,\n",
    "           legend_margin=-1)\n",
    "    #+ gg.guide_legend(nrow=1)\n",
    "    + theme(axis_text_x=element_text(size=10, rotation=30, hjust=-1))\n",
    "    #+ gg.scale_color_brewer(type=\"qual\", palette=2)\n",
    "    + gg.scale_color_manual(COLOR_BLIND_PALETTE)\n",
    ")\n",
    "\n",
    "g.save(f\"{fname}_analysis.pdf\")\n",
    "g.save(f\"{fname}_analysis.svg\")\n",
    "g.save(f\"{fname}_analysis.png\", dpi=300)\n",
    "g"
   ]
  },
  {
   "cell_type": "code",
   "execution_count": 402,
   "metadata": {},
   "outputs": [
    {
     "data": {
      "text/html": [
       "<div>\n",
       "<style scoped>\n",
       "    .dataframe tbody tr th:only-of-type {\n",
       "        vertical-align: middle;\n",
       "    }\n",
       "\n",
       "    .dataframe tbody tr th {\n",
       "        vertical-align: top;\n",
       "    }\n",
       "\n",
       "    .dataframe thead th {\n",
       "        text-align: right;\n",
       "    }\n",
       "</style>\n",
       "<table border=\"1\" class=\"dataframe\">\n",
       "  <thead>\n",
       "    <tr style=\"text-align: right;\">\n",
       "      <th></th>\n",
       "      <th>Project</th>\n",
       "      <th>Error</th>\n",
       "      <th>Analysis</th>\n",
       "      <th>Profile</th>\n",
       "      <th>up</th>\n",
       "      <th>low</th>\n",
       "      <th>slog</th>\n",
       "      <th>elog</th>\n",
       "      <th>ulog</th>\n",
       "      <th>llog</th>\n",
       "      <th>score</th>\n",
       "      <th>score_name</th>\n",
       "    </tr>\n",
       "  </thead>\n",
       "  <tbody>\n",
       "    <tr>\n",
       "      <th>0</th>\n",
       "      <td>Vogtmann</td>\n",
       "      <td>0.021227</td>\n",
       "      <td>CV-test</td>\n",
       "      <td>Taxonomic</td>\n",
       "      <td>0.759627</td>\n",
       "      <td>0.717173</td>\n",
       "      <td>2.092585</td>\n",
       "      <td>1.021454</td>\n",
       "      <td>2.137479</td>\n",
       "      <td>2.048633</td>\n",
       "      <td>0.738400</td>\n",
       "      <td>AUROC</td>\n",
       "    </tr>\n",
       "    <tr>\n",
       "      <th>1</th>\n",
       "      <td>Thomas1</td>\n",
       "      <td>0.019336</td>\n",
       "      <td>CV-test</td>\n",
       "      <td>Taxonomic</td>\n",
       "      <td>0.928503</td>\n",
       "      <td>0.889831</td>\n",
       "      <td>2.482253</td>\n",
       "      <td>1.019524</td>\n",
       "      <td>2.530717</td>\n",
       "      <td>2.434718</td>\n",
       "      <td>0.909167</td>\n",
       "      <td>AUROC</td>\n",
       "    </tr>\n",
       "    <tr>\n",
       "      <th>2</th>\n",
       "      <td>Zeller</td>\n",
       "      <td>0.009483</td>\n",
       "      <td>CV-test</td>\n",
       "      <td>Taxonomic</td>\n",
       "      <td>0.936268</td>\n",
       "      <td>0.917303</td>\n",
       "      <td>2.526376</td>\n",
       "      <td>1.009528</td>\n",
       "      <td>2.550446</td>\n",
       "      <td>2.502532</td>\n",
       "      <td>0.926786</td>\n",
       "      <td>AUROC</td>\n",
       "    </tr>\n",
       "    <tr>\n",
       "      <th>3</th>\n",
       "      <td>Feng</td>\n",
       "      <td>0.014730</td>\n",
       "      <td>CV-test</td>\n",
       "      <td>Taxonomic</td>\n",
       "      <td>0.962730</td>\n",
       "      <td>0.933270</td>\n",
       "      <td>2.580543</td>\n",
       "      <td>1.014839</td>\n",
       "      <td>2.618835</td>\n",
       "      <td>2.542811</td>\n",
       "      <td>0.948000</td>\n",
       "      <td>AUROC</td>\n",
       "    </tr>\n",
       "    <tr>\n",
       "      <th>4</th>\n",
       "      <td>Yu</td>\n",
       "      <td>0.015090</td>\n",
       "      <td>CV-test</td>\n",
       "      <td>Taxonomic</td>\n",
       "      <td>0.870340</td>\n",
       "      <td>0.840160</td>\n",
       "      <td>2.351962</td>\n",
       "      <td>1.015204</td>\n",
       "      <td>2.387723</td>\n",
       "      <td>2.316738</td>\n",
       "      <td>0.855250</td>\n",
       "      <td>AUROC</td>\n",
       "    </tr>\n",
       "    <tr>\n",
       "      <th>...</th>\n",
       "      <td>...</td>\n",
       "      <td>...</td>\n",
       "      <td>...</td>\n",
       "      <td>...</td>\n",
       "      <td>...</td>\n",
       "      <td>...</td>\n",
       "      <td>...</td>\n",
       "      <td>...</td>\n",
       "      <td>...</td>\n",
       "      <td>...</td>\n",
       "      <td>...</td>\n",
       "      <td>...</td>\n",
       "    </tr>\n",
       "    <tr>\n",
       "      <th>2</th>\n",
       "      <td>Zeller</td>\n",
       "      <td>0.009993</td>\n",
       "      <td>RSSS-test</td>\n",
       "      <td>eggNog</td>\n",
       "      <td>0.586776</td>\n",
       "      <td>0.566789</td>\n",
       "      <td>1.780301</td>\n",
       "      <td>1.010044</td>\n",
       "      <td>1.798182</td>\n",
       "      <td>1.762598</td>\n",
       "      <td>0.576782</td>\n",
       "      <td>Stability</td>\n",
       "    </tr>\n",
       "    <tr>\n",
       "      <th>3</th>\n",
       "      <td>Feng</td>\n",
       "      <td>0.012801</td>\n",
       "      <td>RSSS-test</td>\n",
       "      <td>eggNog</td>\n",
       "      <td>0.562284</td>\n",
       "      <td>0.536683</td>\n",
       "      <td>1.732358</td>\n",
       "      <td>1.012883</td>\n",
       "      <td>1.754676</td>\n",
       "      <td>1.710324</td>\n",
       "      <td>0.549483</td>\n",
       "      <td>Stability</td>\n",
       "    </tr>\n",
       "    <tr>\n",
       "      <th>4</th>\n",
       "      <td>Yu</td>\n",
       "      <td>0.009561</td>\n",
       "      <td>RSSS-test</td>\n",
       "      <td>eggNog</td>\n",
       "      <td>0.577172</td>\n",
       "      <td>0.558049</td>\n",
       "      <td>1.764047</td>\n",
       "      <td>1.009607</td>\n",
       "      <td>1.780994</td>\n",
       "      <td>1.747261</td>\n",
       "      <td>0.567610</td>\n",
       "      <td>Stability</td>\n",
       "    </tr>\n",
       "    <tr>\n",
       "      <th>5</th>\n",
       "      <td>Hannigan</td>\n",
       "      <td>0.007993</td>\n",
       "      <td>RSSS-test</td>\n",
       "      <td>eggNog</td>\n",
       "      <td>0.233310</td>\n",
       "      <td>0.217324</td>\n",
       "      <td>1.252720</td>\n",
       "      <td>1.008025</td>\n",
       "      <td>1.262772</td>\n",
       "      <td>1.242747</td>\n",
       "      <td>0.225317</td>\n",
       "      <td>Stability</td>\n",
       "    </tr>\n",
       "    <tr>\n",
       "      <th>6</th>\n",
       "      <td>Thomas0</td>\n",
       "      <td>0.012183</td>\n",
       "      <td>RSSS-test</td>\n",
       "      <td>eggNog</td>\n",
       "      <td>0.431652</td>\n",
       "      <td>0.407286</td>\n",
       "      <td>1.521153</td>\n",
       "      <td>1.012257</td>\n",
       "      <td>1.539799</td>\n",
       "      <td>1.502734</td>\n",
       "      <td>0.419469</td>\n",
       "      <td>Stability</td>\n",
       "    </tr>\n",
       "  </tbody>\n",
       "</table>\n",
       "<p>84 rows × 12 columns</p>\n",
       "</div>"
      ],
      "text/plain": [
       "     Project     Error   Analysis    Profile        up       low      slog  \\\n",
       "0   Vogtmann  0.021227    CV-test  Taxonomic  0.759627  0.717173  2.092585   \n",
       "1    Thomas1  0.019336    CV-test  Taxonomic  0.928503  0.889831  2.482253   \n",
       "2     Zeller  0.009483    CV-test  Taxonomic  0.936268  0.917303  2.526376   \n",
       "3       Feng  0.014730    CV-test  Taxonomic  0.962730  0.933270  2.580543   \n",
       "4         Yu  0.015090    CV-test  Taxonomic  0.870340  0.840160  2.351962   \n",
       "..       ...       ...        ...        ...       ...       ...       ...   \n",
       "2     Zeller  0.009993  RSSS-test     eggNog  0.586776  0.566789  1.780301   \n",
       "3       Feng  0.012801  RSSS-test     eggNog  0.562284  0.536683  1.732358   \n",
       "4         Yu  0.009561  RSSS-test     eggNog  0.577172  0.558049  1.764047   \n",
       "5   Hannigan  0.007993  RSSS-test     eggNog  0.233310  0.217324  1.252720   \n",
       "6    Thomas0  0.012183  RSSS-test     eggNog  0.431652  0.407286  1.521153   \n",
       "\n",
       "        elog      ulog      llog     score score_name  \n",
       "0   1.021454  2.137479  2.048633  0.738400      AUROC  \n",
       "1   1.019524  2.530717  2.434718  0.909167      AUROC  \n",
       "2   1.009528  2.550446  2.502532  0.926786      AUROC  \n",
       "3   1.014839  2.618835  2.542811  0.948000      AUROC  \n",
       "4   1.015204  2.387723  2.316738  0.855250      AUROC  \n",
       "..       ...       ...       ...       ...        ...  \n",
       "2   1.010044  1.798182  1.762598  0.576782  Stability  \n",
       "3   1.012883  1.754676  1.710324  0.549483  Stability  \n",
       "4   1.009607  1.780994  1.747261  0.567610  Stability  \n",
       "5   1.008025  1.262772  1.242747  0.225317  Stability  \n",
       "6   1.012257  1.539799  1.502734  0.419469  Stability  \n",
       "\n",
       "[84 rows x 12 columns]"
      ]
     },
     "execution_count": 402,
     "metadata": {},
     "output_type": "execute_result"
    }
   ],
   "source": [
    "err_df[\"score\"] = err_df[\"AUROC\"]\n",
    "err_df[\"score_name\"] = \"AUROC\"\n",
    "stab_df[\"score\"] = stab_df[\"Stability\"]\n",
    "stab_df[\"score_name\"] = \"Stability\"\n",
    "df = pd.concat((err_df, stab_df), axis=0, join=\"inner\")\n",
    "df"
   ]
  },
  {
   "cell_type": "code",
   "execution_count": 403,
   "metadata": {},
   "outputs": [
    {
     "data": {
      "text/plain": [
       "Stability    42\n",
       "AUROC        42\n",
       "Name: score_name, dtype: int64"
      ]
     },
     "execution_count": 403,
     "metadata": {},
     "output_type": "execute_result"
    }
   ],
   "source": [
    "df.score_name.value_counts()"
   ]
  },
  {
   "cell_type": "code",
   "execution_count": 404,
   "metadata": {},
   "outputs": [
    {
     "data": {
      "image/png": "[encoded data removed]",
      "text/plain": [
       "<Figure size 640x480 with 3 Axes>"
      ]
     },
     "metadata": {},
     "output_type": "display_data"
    },
    {
     "data": {
      "text/plain": [
       "<ggplot: (3000063421201)>"
      ]
     },
     "execution_count": 404,
     "metadata": {},
     "output_type": "execute_result"
    }
   ],
   "source": [
    "g = (\n",
    "    ggplot(df)\n",
    "    + gg.facet_wrap(\"~Profile\")\n",
    "    + aes(y=\"score\", x=\"Project\", color=\"Analysis\", fill=\"score_name\")\n",
    "    + labs(\n",
    "        y=\"Score\",\n",
    "        x=\"Project\"    )\n",
    "    + geom_point(size=0.8, position=gg.position_dodge(width=0.3))\n",
    "    + gg.scale_y_continuous(breaks=[0.5])\n",
    "    + gg.geom_errorbar(aes(ymin=\"low\", ymax=\"up\"), width=0.2, position=gg.position_dodge(width=0.3))\n",
    "    #+ geom_vline(xintercept=0.5, linetype=\"dashed\", color=\"red\")\n",
    "#     + geom_vline(xintercept=0.7, linetype=\"dashed\", color=\"blue\")\n",
    "    + gg.theme_minimal(base_size=12)\n",
    "    + theme(legend_position=\"top\", legend_direction=\"horizontal\", \n",
    "            legend_title=gg.element_blank(),\n",
    "            panel_background=gg.element_rect(fill=\"w\", color=\"w\"),\n",
    "            strip_background=gg.element_rect(fill=\"w\", color=\"w\"),\n",
    "            plot_background=gg.element_rect(fill=\"w\", color=\"w\"),\n",
    "           legend_box_margin=0,\n",
    "           legend_margin=0)\n",
    "    #+ gg.guide_legend(nrow=1)\n",
    "    + theme(axis_text_y=element_text(rotation=0, vjust=-1))\n",
    "    #+ gg.scale_color_brewer(type=\"qual\", palette=2)\n",
    "    + gg.scale_color_manual(COLOR_BLIND_PALETTE)\n",
    "    \n",
    "    + gg.coord_flip()\n",
    ")\n",
    "\n",
    "g"
   ]
  },
  {
   "cell_type": "code",
   "execution_count": 438,
   "metadata": {},
   "outputs": [
    {
     "data": {
      "image/png": "[encoded data removed]",
      "text/plain": [
       "<Figure size 640x480 with 3 Axes>"
      ]
     },
     "metadata": {},
     "output_type": "display_data"
    },
    {
     "data": {
      "text/plain": [
       "<ggplot: (2999966895541)>"
      ]
     },
     "execution_count": 438,
     "metadata": {},
     "output_type": "execute_result"
    }
   ],
   "source": [
    "fname = \"auroc\"\n",
    "g = (gg.ggplot(df, aes(x=\"Project\", weight=\"score\", ymin=\"low\", ymax=\"up\", color=\"Analysis\", group=\"score_name\")) +\n",
    "     labs(\n",
    "        y=\"Score\",\n",
    "        x=\"Project\"    ) +\n",
    "     #gg.geom_bar(position=gg.position_dodge(), mapping=aes(y=\"score\"), stat=\"identity\") +\n",
    "     #gg.geom_point(size=0.001, position=gg.position_dodge(width=0.9), mapping=aes(y=\"score\")) + \n",
    "     gg.geom_linerange(size=5, alpha=0.7, position=gg.position_dodge(width=0.9), mapping=aes(y=\"score\")) +\n",
    "     \n",
    "     gg.facet_wrap(\"~Profile\") +\n",
    "     gg.scale_color_manual(COLOR_BLIND_PALETTE)\n",
    "    + gg.theme_minimal(base_size=12)\n",
    "    + theme(legend_position=\"top\", legend_direction=\"horizontal\", \n",
    "            legend_title=gg.element_blank(),\n",
    "            panel_background=gg.element_rect(fill=\"w\", color=\"w\"),\n",
    "            strip_background=gg.element_rect(fill=\"w\", color=\"w\"),\n",
    "            plot_background=gg.element_rect(fill=\"w\", color=\"w\"),\n",
    "           legend_box_margin=0,\n",
    "            legend_margin=0)    \n",
    "     + gg.coord_flip()\n",
    "     + theme(axis_text_x=element_text(rotation=0, vjust=-0.9))\n",
    ")\n",
    "\n",
    "# g.save(f\"{fname}_stability.pdf\")\n",
    "# g.save(f\"{fname}_stability.svg\")\n",
    "# g.save(f\"{fname}_stability.png\", dpi=300)\n",
    "g"
   ]
  },
  {
   "cell_type": "code",
   "execution_count": null,
   "metadata": {},
   "outputs": [],
   "source": [
    "def compute_support_ebm(model: Pipeline, quantile=None):\n",
    "    # TODO: check if trained\n",
    "    ebm = model[\"estimator\"]\n",
    "    ebm_global = ebm.explain_global()\n",
    "    data = ebm_global.data()\n",
    "\n",
    "    if \"selector\" in model.named_steps.keys():\n",
    "        support = model[\"selector\"].get_support()\n",
    "    else:\n",
    "        support = np.repeat(True, len(data[\"scores\"]))\n",
    "\n",
    "    coefs = np.zeros(support.size)\n",
    "    coefs[support] = np.array(data[\"scores\"])\n",
    "\n",
    "    support = support * 1\n",
    "\n",
    "    return support, coefs"
   ]
  },
  {
   "cell_type": "code",
   "execution_count": 588,
   "metadata": {},
   "outputs": [],
   "source": [
    "from scipy.stats import linregress, rankdata\n",
    "\n",
    "def fdr(p_vals):\n",
    "    ranked_p_values = rankdata(p_vals)\n",
    "    p_vals_new = p_vals * len(p_vals) / ranked_p_values\n",
    "    p_vals_new[p_vals_new > 1] = 1\n",
    "\n",
    "    return p_vals_new\n",
    "\n",
    "def compute_explanations(pipe, X, name, folder_path, profile_name, conditon=\"crc\"):\n",
    "    from sklearn.pipeline import Pipeline\n",
    "    X_trans = Pipeline(pipe.steps[:-1]).transform(features)    \n",
    "    X_filt = pd.DataFrame(X_trans, index=X.index, columns=X.columns[pipe[\"selector\"].get_support()])\n",
    "    \n",
    "    model = pipe[\"estimator\"]\n",
    "    ebm_local = model.explain_local(X_filt)\n",
    "\n",
    "    explanations = [ebm_local.data(irow) for irow in range(X_filt.shape[0])]\n",
    "    explanation_df = pd.concat(\n",
    "        [pd.Series(x[\"scores\"], index=X_filt.columns, name=\"score\") for x in explanations],\n",
    "        axis=1,\n",
    "    )\n",
    "    explanation_df.columns = X_filt.index\n",
    "    explanation_df = explanation_df.T\n",
    "\n",
    "    explanations_reg = [\n",
    "        linregress(X[col], explanation_df[col]) for col in X_filt.columns\n",
    "    ]\n",
    "    explanations_coef = pd.Series(\n",
    "        [reg[0] for reg in explanations_reg], index=X_filt.columns, name=\"r_coeff\"\n",
    "    )\n",
    "    explanations_sig = pd.Series(\n",
    "        [coef > 0 for coef in explanations_coef], index=X_filt.columns, name=\"r_sign\"\n",
    "    )\n",
    "    explanations_pval = pd.Series(\n",
    "        [reg[3] for reg in explanations_reg], index=X_filt.columns, name=\"r_pvalue\"\n",
    "    )\n",
    "    explanations_pval_fdr = pd.Series(\n",
    "        fdr(explanations_pval), index=X_filt.columns, name=\"r_pvalue_fdr\"\n",
    "    )\n",
    "\n",
    "    explanations_rank = explanation_df.abs().mean()\n",
    "    explanations_rank.name = \"score\"\n",
    "    explanations_analysis = pd.concat(\n",
    "        (explanations_rank, explanations_coef, explanations_sig, explanations_pval, explanations_pval_fdr),\n",
    "        axis=1,\n",
    "    )\n",
    "    \n",
    "    explanations_analysis = explanations_analysis.sort_values(by=\"score\", ascending=False)\n",
    "\n",
    "    dataset_fpath = folder_path.joinpath(\n",
    "        f\"{condition}_{profile_name}_{name}_explanations.tsv\"\n",
    "    )\n",
    "    explanations_analysis.to_csv(dataset_fpath, sep=\"\\t\", index_label=\"feature_id\")\n",
    "    \n",
    "    return explanations_analysis"
   ]
  },
  {
   "cell_type": "code",
   "execution_count": 518,
   "metadata": {},
   "outputs": [],
   "source": [
    "profile = \"KEGG_KOs\"\n",
    "project = \"Thomas1\"\n",
    "pipe = results_cp_dict[profile][project][\"cv\"][\"estimator\"][0]"
   ]
  },
  {
   "cell_type": "code",
   "execution_count": 520,
   "metadata": {},
   "outputs": [],
   "source": [
    "x = pipe[\"estimator\"]"
   ]
  },
  {
   "cell_type": "code",
   "execution_count": 525,
   "metadata": {},
   "outputs": [
    {
     "data": {
      "text/plain": [
       "2475"
      ]
     },
     "execution_count": 525,
     "metadata": {},
     "output_type": "execute_result"
    }
   ],
   "source": [
    "pipe[\"selector\"].get_support().sum()"
   ]
  },
  {
   "cell_type": "code",
   "execution_count": 526,
   "metadata": {},
   "outputs": [],
   "source": [
    "features, metadata = datasets.build_condition_dataset(\n",
    "    condition=\"CRC\", profile_name=profile, ext=\"jbl\"\n",
    ")\n",
    "features = datasets.filter_egg(features)"
   ]
  },
  {
   "cell_type": "code",
   "execution_count": 540,
   "metadata": {},
   "outputs": [],
   "source": [
    "i=0\n",
    "explanations_analysis = compute_explanations(pipe, features, name=f\"all{i:2d}\", folder_path=pathlib.Path(\".\"), profile_name=\"profile\", conditon=\"crc\")"
   ]
  },
  {
   "cell_type": "code",
   "execution_count": 603,
   "metadata": {},
   "outputs": [
    {
     "name": "stderr",
     "output_type": "stream",
     "text": [
      "/mnt/lustre/scratch/home/cloucera/projects/mlgut/.venv/lib/python3.7/site-packages/sklearn/feature_selection/_univariate_selection.py:602: RuntimeWarning: invalid value encountered in less\n"
     ]
    }
   ],
   "source": [
    "kegg_explanations = {}\n",
    "for project in PROJECT_NAMES_DICT.values():\n",
    "    explanations = [pd.Series(compute_support_ebm(pipe)[1], index=features.columns) for pipe in results_cp_dict[profile][project][\"cv\"][\"estimator\"]]\n",
    "    explanations = pd.concat(explanations, axis=1)\n",
    "    kegg_explanations[project] = explanations"
   ]
  },
  {
   "cell_type": "code",
   "execution_count": 691,
   "metadata": {},
   "outputs": [
    {
     "data": {
      "text/plain": [
       "(864, 20254)"
      ]
     },
     "execution_count": 691,
     "metadata": {},
     "output_type": "execute_result"
    }
   ],
   "source": [
    "features.shape"
   ]
  },
  {
   "cell_type": "code",
   "execution_count": 918,
   "metadata": {},
   "outputs": [
    {
     "data": {
      "text/plain": [
       "['ogs_cv_explanations.jbl']"
      ]
     },
     "execution_count": 918,
     "metadata": {},
     "output_type": "execute_result"
    }
   ],
   "source": [
    "import joblib\n",
    "joblib.dump(kegg_explanations, \"kegg_cv_explanations.jbl\")\n",
    "joblib.dump(taxo_explanations, \"taxo_cv_explanations.jbl\")\n",
    "joblib.dump(ogs_explanations, \"ogs_cv_explanations.jbl\")"
   ]
  },
  {
   "cell_type": "code",
   "execution_count": 703,
   "metadata": {},
   "outputs": [],
   "source": [
    "for i, explanation_dict in enumerate([kegg_explanations, taxo_explanations, ogs_explanations]):\n",
    "    profile = [\"kegg\", \"taxo\", \"ogs\"][i]\n",
    "    for project in explanation_dict.keys():\n",
    "        explanation_dict[project].to_csv(f\"{profile}_{project}_explanations_cv.tsv\", sep=\"\\t\")"
   ]
  },
  {
   "cell_type": "code",
   "execution_count": 692,
   "metadata": {},
   "outputs": [
    {
     "name": "stdout",
     "output_type": "stream",
     "text": [
      "True\n"
     ]
    },
    {
     "name": "stderr",
     "output_type": "stream",
     "text": [
      "/mnt/lustre/scratch/home/cloucera/projects/mlgut/.venv/lib/python3.7/site-packages/sklearn/feature_selection/_univariate_selection.py:602: RuntimeWarning: invalid value encountered in less\n"
     ]
    }
   ],
   "source": [
    "taxo_explanations = {}\n",
    "profile=\"centrifuge\"\n",
    "features, metadata = datasets.build_condition_dataset(\n",
    "    condition=\"CRC\", profile_name=profile, ext=\"jbl\"\n",
    ")\n",
    "features = datasets.filter_egg(features)\n",
    "tax_id = \"9606\"\n",
    "print(tax_id in features.columns)\n",
    "features = features.drop(tax_id, axis=1)\n",
    "for project in PROJECT_NAMES_DICT.values():\n",
    "    explanations = [pd.Series(compute_support_ebm(pipe)[1], index=features.columns) for pipe in results_cp_dict[profile][project][\"cv\"][\"estimator\"]]\n",
    "    explanations = pd.concat(explanations, axis=1)\n",
    "    taxo_explanations[project] = explanations"
   ]
  },
  {
   "cell_type": "code",
   "execution_count": 698,
   "metadata": {},
   "outputs": [
    {
     "name": "stderr",
     "output_type": "stream",
     "text": [
      "/mnt/lustre/scratch/home/cloucera/projects/mlgut/.venv/lib/python3.7/site-packages/sklearn/feature_selection/_univariate_selection.py:602: RuntimeWarning: invalid value encountered in less\n"
     ]
    }
   ],
   "source": [
    "ogs_explanations = {}\n",
    "profile=\"OGs\"\n",
    "features, metadata = datasets.build_condition_dataset(\n",
    "    condition=\"CRC\", profile_name=profile, ext=\"jbl\"\n",
    ")\n",
    "features = datasets.filter_egg(features)\n",
    "for project in PROJECT_NAMES_DICT.values():\n",
    "    explanations = [pd.Series(compute_support_ebm(pipe)[1], index=features.columns) for pipe in results_cp_dict[profile][project][\"cv\"][\"estimator\"]]\n",
    "    explanations = pd.concat(explanations, axis=1)\n",
    "    ogs_explanations[project] = explanations"
   ]
  },
  {
   "cell_type": "code",
   "execution_count": 699,
   "metadata": {},
   "outputs": [],
   "source": [
    "explanations = ogs_explanations\n",
    "rank_stabs = {}\n",
    "df = pd.DataFrame(columns=[\"stability\", \"lower\", \"upper\", \"Project\", \"q\"])\n",
    "for project in PROJECT_NAMES_DICT.values():\n",
    "    x = explanations[project]\n",
    "    rank_stabs[project] = [stab.confidenceIntervals((x.apply(lambda y: y > np.quantile(y, q)) * 1).T.values) for q in np.arange(0.01, 1, 0.01)]\n",
    "    d = pd.DataFrame(rank_stabs[project])\n",
    "    d[\"Project\"] = project\n",
    "    d[\"q\"] = np.arange(0.01, 1, 0.01)\n",
    "    df = pd.concat((df, d), axis=0)"
   ]
  },
  {
   "cell_type": "code",
   "execution_count": 700,
   "metadata": {},
   "outputs": [
    {
     "data": {
      "text/plain": [
       "<matplotlib.legend.Legend at 0x2ba658cd0950>"
      ]
     },
     "execution_count": 700,
     "metadata": {},
     "output_type": "execute_result"
    },
    {
     "data": {
      "image/png": "[encoded data removed]",
      "text/plain": [
       "<Figure size 960x540 with 1 Axes>"
      ]
     },
     "metadata": {},
     "output_type": "display_data"
    }
   ],
   "source": [
    "sns.set_context(\"notebook\")\n",
    "plt.figure(figsize=(16/1.2, 9/1.2))\n",
    "g = sns.lineplot(data=df.loc[df.q>0.65, :], x=\"q\", y=\"stability\", hue=\"Project\", palette=\"colorblind\")\n",
    "plt.xlabel(\"Selection Quantile\")\n",
    "plt.ylabel(f\"{profile} Rank Stability Estimate\")\n",
    "plt.axhline(0.4, color=\"red\", linestyle=\"--\")\n",
    "plt.axhline(0.7, color=\"black\", linestyle=\"--\")\n",
    "plt.legend(loc=\"upper center\", bbox_to_anchor=(0.5, 1.08), ncol=8)\n",
    "# plt.legend(ncol=len(PROJECT_NAMES_DICT.values()), bbox_to_anchor=(0.05, 1))"
   ]
  },
  {
   "cell_type": "code",
   "execution_count": 701,
   "metadata": {},
   "outputs": [
    {
     "data": {
      "text/plain": [
       "(864, 252257)"
      ]
     },
     "execution_count": 701,
     "metadata": {},
     "output_type": "execute_result"
    }
   ],
   "source": [
    "features.shape"
   ]
  },
  {
   "cell_type": "code",
   "execution_count": 731,
   "metadata": {},
   "outputs": [
    {
     "name": "stdout",
     "output_type": "stream",
     "text": [
      "True\n"
     ]
    },
    {
     "name": "stderr",
     "output_type": "stream",
     "text": [
      "/mnt/lustre/scratch/home/cloucera/projects/mlgut/.venv/lib/python3.7/site-packages/sklearn/feature_selection/_univariate_selection.py:602: RuntimeWarning: invalid value encountered in less\n"
     ]
    }
   ],
   "source": [
    "taxo_explanations_stab = {}\n",
    "profile=\"centrifuge\"\n",
    "features, metadata = datasets.build_condition_dataset(\n",
    "    condition=\"CRC\", profile_name=profile, ext=\"jbl\"\n",
    ")\n",
    "features = datasets.filter_egg(features)\n",
    "tax_id = \"9606\"\n",
    "print(tax_id in features.columns)\n",
    "features = features.drop(tax_id, axis=1)\n",
    "for project in PROJECT_NAMES_DICT.values():\n",
    "    explanations = [pd.Series(compute_support_ebm(pipe)[1], index=features.columns) for pipe in results_cp_dict[profile][project][\"cv\"][\"estimator\"]]\n",
    "    explanations = pd.concat(explanations, axis=1)\n",
    "    explanations.to_csv(f\"{profile}_{project}_explanations_stab.tsv\", sep=\"\\t\")\n",
    "    taxo_explanations_stab[project] = explanations"
   ]
  },
  {
   "cell_type": "code",
   "execution_count": 732,
   "metadata": {},
   "outputs": [
    {
     "data": {
      "text/plain": [
       "<matplotlib.legend.Legend at 0x2bb3b9304f90>"
      ]
     },
     "execution_count": 732,
     "metadata": {},
     "output_type": "execute_result"
    },
    {
     "data": {
      "image/png": "[encoded data removed]",
      "text/plain": [
       "<Figure size 960x540 with 1 Axes>"
      ]
     },
     "metadata": {},
     "output_type": "display_data"
    }
   ],
   "source": [
    "explanations = taxo_explanations_stab\n",
    "rank_stabs = {}\n",
    "df = pd.DataFrame(columns=[\"stability\", \"lower\", \"upper\", \"Project\", \"q\"])\n",
    "for project in PROJECT_NAMES_DICT.values():\n",
    "    x = explanations[project]\n",
    "    rank_stabs[project] = [stab.confidenceIntervals((x.apply(lambda y: y > np.quantile(y, q)) * 1).T.values) for q in np.arange(0.01, 1, 0.01)]\n",
    "    d = pd.DataFrame(rank_stabs[project])\n",
    "    d[\"Project\"] = project\n",
    "    d[\"q\"] = np.arange(0.01, 1, 0.01)\n",
    "    df = pd.concat((df, d), axis=0)\n",
    "    \n",
    "sns.set_context(\"notebook\")\n",
    "plt.figure(figsize=(16/1.2, 9/1.2))\n",
    "g = sns.lineplot(data=df.loc[df.q>0.65, :], x=\"q\", y=\"stability\", hue=\"Project\", palette=\"colorblind\")\n",
    "plt.xlabel(\"Selection Quantile\")\n",
    "plt.ylabel(f\"{profile} Stab Rank Stability Estimate\")\n",
    "plt.axhline(0.4, color=\"red\", linestyle=\"--\")\n",
    "plt.axhline(0.7, color=\"black\", linestyle=\"--\")\n",
    "plt.legend(loc=\"upper center\", bbox_to_anchor=(0.5, 1.08), ncol=8)\n",
    "# plt.legend(ncol=len(PROJECT_NAMES_DICT.values()), bbox_to_anchor=(0.05, 1))"
   ]
  },
  {
   "cell_type": "code",
   "execution_count": 689,
   "metadata": {},
   "outputs": [
    {
     "data": {
      "text/plain": [
       "<matplotlib.legend.Legend at 0x2ba813f97490>"
      ]
     },
     "execution_count": 689,
     "metadata": {},
     "output_type": "execute_result"
    },
    {
     "data": {
      "image/png": "[encoded data removed]",
      "text/plain": [
       "<Figure size 960x540 with 1 Axes>"
      ]
     },
     "metadata": {},
     "output_type": "display_data"
    }
   ],
   "source": [
    "sns.set_context(\"notebook\")\n",
    "plt.figure(figsize=(16/1.2, 9/1.2))\n",
    "g = sns.lineplot(data=df.loc[df.q>0.65, :], x=\"q\", y=\"stability\", hue=\"Project\", palette=\"colorblind\")\n",
    "plt.xlabel(\"Selection Quantile\")\n",
    "plt.ylabel(f\"{profile} Rank Stability Estimate\")\n",
    "plt.axhline(0.4, color=\"red\", linestyle=\"--\")\n",
    "plt.axhline(0.7, color=\"black\", linestyle=\"--\")\n",
    "plt.legend(loc=\"upper center\", bbox_to_anchor=(0.5, 1.08), ncol=8)\n",
    "# plt.legend(ncol=len(PROJECT_NAMES_DICT.values()), bbox_to_anchor=(0.05, 1))"
   ]
  },
  {
   "cell_type": "code",
   "execution_count": 652,
   "metadata": {},
   "outputs": [
    {
     "data": {
      "text/plain": [
       "7"
      ]
     },
     "execution_count": 652,
     "metadata": {},
     "output_type": "execute_result"
    }
   ],
   "source": [
    "len(PROJECT_NAMES_DICT.values())"
   ]
  },
  {
   "cell_type": "code",
   "execution_count": 674,
   "metadata": {},
   "outputs": [
    {
     "data": {
      "text/plain": [
       "(864, 10098)"
      ]
     },
     "execution_count": 674,
     "metadata": {},
     "output_type": "execute_result"
    }
   ],
   "source": [
    "features.shape"
   ]
  },
  {
   "cell_type": "code",
   "execution_count": null,
   "metadata": {},
   "outputs": [],
   "source": [
    "function stability = effectiveStabilityWithRedundancy(Z, C)\n",
    "% Summary\n",
    "%    Calculates the stability estimator \\hat{\\Phi}}_{\\mathbb{G}(\\mathcal{Z})\n",
    "%    Input: \n",
    "%       - Z: a binary matrix of size M*d where each row represents a feature s\n",
    "%       - C: a matrix d*d that captures which pairs of features are correlated\n",
    "%      \n",
    "%    Output:\n",
    "%       - stability: the stability estimate taking into account groups of features\n",
    "%%% Numerator\n",
    "effective_numerator = sum(sum(C.*((cov(Z)))));\n",
    "\n",
    "%%% Denominator\n",
    "p_f_element = mean(sum(Z,2))/size(Z,2); \n",
    "p_f = repmat(p_f_element,1,size(Z,2));\n",
    " \n",
    "p_ff_element =  mean(sum(Z,2).*(sum(Z,2)-1) )./(size(Z,2)*(size(Z,2)-1));\n",
    "p_ff = repmat(p_ff_element,size(Z,2),size(Z,2));\n",
    "p_ff(1:(size(Z,2)+1):end) = p_f_element;\n",
    "\n",
    "covariance_matrix = p_ff -  p_f' * p_f;\n",
    "effective_denominator = sum(sum(C.*(((covariance_matrix)))));\n",
    " \n",
    "%%% Effective Stability\n",
    "stability = 1- effective_numerator/(effective_denominator);\n"
   ]
  },
  {
   "cell_type": "code",
   "execution_count": 726,
   "metadata": {},
   "outputs": [],
   "source": [
    "def effectiveStabilityWithRedundancy(Z, C):\n",
    "    effective_numerator = np.sum(np.sum(np.dot(C, np.cov(Z, rowvar=False))))\n",
    "    \n",
    "    p_f_element = np.mean(np.sum(Z, 1)) / Z.shape[1]\n",
    "    p_f = np.tile(p_f_element, (1, Z.shape[1]))\n",
    "    \n",
    "    p_ff_element =  np.mean(np.sum(Z, 1) * (np.sum(Z, 1) - 1)) / (Z.shape[1] * (Z.shape[1] - 1))\n",
    "    p_ff = np.tile(p_ff_element, (Z.shape[1], Z.shape[1]))\n",
    "    p_ff[:(Z.shape[1] + 1):] = p_f_element\n",
    "    \n",
    "    covariance_matrix = p_ff -  np.dot(p_f.T, p_f)\n",
    "    effective_denominator = np.sum(np.sum(np.dot(C, covariance_matrix)))\n",
    "    \n",
    "    stability = 1 - effective_numerator / (effective_denominator)\n",
    "    \n",
    "    return stability"
   ]
  },
  {
   "cell_type": "code",
   "execution_count": 727,
   "metadata": {},
   "outputs": [
    {
     "data": {
      "text/plain": [
       "(100, 3)"
      ]
     },
     "execution_count": 727,
     "metadata": {},
     "output_type": "execute_result"
    }
   ],
   "source": [
    "Z.shape"
   ]
  },
  {
   "cell_type": "code",
   "execution_count": 728,
   "metadata": {},
   "outputs": [
    {
     "data": {
      "text/plain": [
       "((100, 3), (3,), array([0, 1]))"
      ]
     },
     "execution_count": 728,
     "metadata": {},
     "output_type": "execute_result"
    }
   ],
   "source": [
    "dim = 3\n",
    "n_resamples = 100\n",
    "\n",
    "Z = np.random.randint(2, size=(n_resamples, dim))\n",
    "C = np.random.randn(dim)\n",
    "Z.shape, C.shape, np.unique(Z)"
   ]
  },
  {
   "cell_type": "code",
   "execution_count": 729,
   "metadata": {},
   "outputs": [
    {
     "data": {
      "text/plain": [
       "0.6658234051728227"
      ]
     },
     "execution_count": 729,
     "metadata": {},
     "output_type": "execute_result"
    }
   ],
   "source": [
    "effectiveStabilityWithRedundancy(Z, C)"
   ]
  },
  {
   "cell_type": "code",
   "execution_count": 733,
   "metadata": {},
   "outputs": [
    {
     "ename": "KeyboardInterrupt",
     "evalue": "",
     "output_type": "error",
     "traceback": [
      "\u001b[0;31m---------------------------------------------------------------------------\u001b[0m",
      "\u001b[0;31mKeyboardInterrupt\u001b[0m                         Traceback (most recent call last)",
      "\u001b[0;32m<ipython-input-733-5c2d8e172174>\u001b[0m in \u001b[0;36m<module>\u001b[0;34m\u001b[0m\n\u001b[0;32m----> 1\u001b[0;31m \u001b[0;34m(\u001b[0m\u001b[0mfeatures\u001b[0m\u001b[0;34m.\u001b[0m\u001b[0mcorr\u001b[0m\u001b[0;34m(\u001b[0m\u001b[0;34m)\u001b[0m \u001b[0;34m>\u001b[0m \u001b[0;36m0.9\u001b[0m\u001b[0;34m)\u001b[0m \u001b[0;34m*\u001b[0m \u001b[0;36m1\u001b[0m\u001b[0;34m\u001b[0m\u001b[0;34m\u001b[0m\u001b[0m\n\u001b[0m",
      "\u001b[0;32m/mnt/lustre/scratch/home/cloucera/projects/mlgut/.venv/lib/python3.7/site-packages/pandas/core/frame.py\u001b[0m in \u001b[0;36mcorr\u001b[0;34m(self, method, min_periods)\u001b[0m\n\u001b[1;32m   7464\u001b[0m \u001b[0;34m\u001b[0m\u001b[0m\n\u001b[1;32m   7465\u001b[0m         \u001b[0;32mif\u001b[0m \u001b[0mmethod\u001b[0m \u001b[0;34m==\u001b[0m \u001b[0;34m\"pearson\"\u001b[0m\u001b[0;34m:\u001b[0m\u001b[0;34m\u001b[0m\u001b[0;34m\u001b[0m\u001b[0m\n\u001b[0;32m-> 7466\u001b[0;31m             \u001b[0mcorrel\u001b[0m \u001b[0;34m=\u001b[0m \u001b[0mlibalgos\u001b[0m\u001b[0;34m.\u001b[0m\u001b[0mnancorr\u001b[0m\u001b[0;34m(\u001b[0m\u001b[0mensure_float64\u001b[0m\u001b[0;34m(\u001b[0m\u001b[0mmat\u001b[0m\u001b[0;34m)\u001b[0m\u001b[0;34m,\u001b[0m \u001b[0mminp\u001b[0m\u001b[0;34m=\u001b[0m\u001b[0mmin_periods\u001b[0m\u001b[0;34m)\u001b[0m\u001b[0;34m\u001b[0m\u001b[0;34m\u001b[0m\u001b[0m\n\u001b[0m\u001b[1;32m   7467\u001b[0m         \u001b[0;32melif\u001b[0m \u001b[0mmethod\u001b[0m \u001b[0;34m==\u001b[0m \u001b[0;34m\"spearman\"\u001b[0m\u001b[0;34m:\u001b[0m\u001b[0;34m\u001b[0m\u001b[0;34m\u001b[0m\u001b[0m\n\u001b[1;32m   7468\u001b[0m             \u001b[0mcorrel\u001b[0m \u001b[0;34m=\u001b[0m \u001b[0mlibalgos\u001b[0m\u001b[0;34m.\u001b[0m\u001b[0mnancorr_spearman\u001b[0m\u001b[0;34m(\u001b[0m\u001b[0mensure_float64\u001b[0m\u001b[0;34m(\u001b[0m\u001b[0mmat\u001b[0m\u001b[0;34m)\u001b[0m\u001b[0;34m,\u001b[0m \u001b[0mminp\u001b[0m\u001b[0;34m=\u001b[0m\u001b[0mmin_periods\u001b[0m\u001b[0;34m)\u001b[0m\u001b[0;34m\u001b[0m\u001b[0;34m\u001b[0m\u001b[0m\n",
      "\u001b[0;31mKeyboardInterrupt\u001b[0m: "
     ]
    }
   ],
   "source": [
    "(features.corr() > 0.9) * 1"
   ]
  },
  {
   "cell_type": "code",
   "execution_count": 735,
   "metadata": {},
   "outputs": [],
   "source": [
    "from sklearn.metrics import label_ranking_average_precision_score as lraps\n"
   ]
  },
  {
   "cell_type": "code",
   "execution_count": 737,
   "metadata": {},
   "outputs": [
    {
     "data": {
      "text/plain": [
       "1.0"
      ]
     },
     "execution_count": 737,
     "metadata": {},
     "output_type": "execute_result"
    }
   ],
   "source": [
    "lraps(rank_stabs_kegg, Z)"
   ]
  },
  {
   "cell_type": "code",
   "execution_count": 745,
   "metadata": {},
   "outputs": [],
   "source": [
    "explanations = kegg_explanations\n",
    "\n",
    "q=0.9\n",
    "\n",
    "project = \"Thomas0\"\n",
    "x = explanations[project]\n",
    "x = (x.apply(lambda y: y > np.quantile(y, q)) * 1).T.values\n",
    "\n",
    "project = \"Thomas1\"\n",
    "y = explanations[project]\n",
    "y = (y.apply(lambda y: y > np.quantile(y, q)) * 1).T.values"
   ]
  },
  {
   "cell_type": "code",
   "execution_count": 746,
   "metadata": {},
   "outputs": [
    {
     "data": {
      "text/plain": [
       "0.0983889472774331"
      ]
     },
     "execution_count": 746,
     "metadata": {},
     "output_type": "execute_result"
    }
   ],
   "source": [
    "lraps(x, y)"
   ]
  },
  {
   "cell_type": "code",
   "execution_count": 744,
   "metadata": {},
   "outputs": [
    {
     "data": {
      "text/plain": [
       "(200, 10098)"
      ]
     },
     "execution_count": 744,
     "metadata": {},
     "output_type": "execute_result"
    }
   ],
   "source": [
    "x.shape"
   ]
  },
  {
   "cell_type": "code",
   "execution_count": 749,
   "metadata": {},
   "outputs": [
    {
     "data": {
      "text/html": [
       "<div>\n",
       "<style scoped>\n",
       "    .dataframe tbody tr th:only-of-type {\n",
       "        vertical-align: middle;\n",
       "    }\n",
       "\n",
       "    .dataframe tbody tr th {\n",
       "        vertical-align: top;\n",
       "    }\n",
       "\n",
       "    .dataframe thead th {\n",
       "        text-align: right;\n",
       "    }\n",
       "</style>\n",
       "<table border=\"1\" class=\"dataframe\">\n",
       "  <thead>\n",
       "    <tr style=\"text-align: right;\">\n",
       "      <th></th>\n",
       "      <th>0</th>\n",
       "      <th>1</th>\n",
       "      <th>2</th>\n",
       "      <th>3</th>\n",
       "      <th>4</th>\n",
       "      <th>5</th>\n",
       "      <th>6</th>\n",
       "      <th>7</th>\n",
       "      <th>8</th>\n",
       "      <th>9</th>\n",
       "      <th>...</th>\n",
       "      <th>190</th>\n",
       "      <th>191</th>\n",
       "      <th>192</th>\n",
       "      <th>193</th>\n",
       "      <th>194</th>\n",
       "      <th>195</th>\n",
       "      <th>196</th>\n",
       "      <th>197</th>\n",
       "      <th>198</th>\n",
       "      <th>199</th>\n",
       "    </tr>\n",
       "  </thead>\n",
       "  <tbody>\n",
       "    <tr>\n",
       "      <th>K00001</th>\n",
       "      <td>0.041618</td>\n",
       "      <td>0.027738</td>\n",
       "      <td>0.062853</td>\n",
       "      <td>0.054567</td>\n",
       "      <td>0.079847</td>\n",
       "      <td>0.052201</td>\n",
       "      <td>0.062993</td>\n",
       "      <td>0.057508</td>\n",
       "      <td>0.073356</td>\n",
       "      <td>0.080512</td>\n",
       "      <td>...</td>\n",
       "      <td>0.082199</td>\n",
       "      <td>0.077561</td>\n",
       "      <td>0.039359</td>\n",
       "      <td>0.028968</td>\n",
       "      <td>0.032127</td>\n",
       "      <td>0.079097</td>\n",
       "      <td>0.106422</td>\n",
       "      <td>0.047783</td>\n",
       "      <td>0.071198</td>\n",
       "      <td>0.037712</td>\n",
       "    </tr>\n",
       "    <tr>\n",
       "      <th>K00002</th>\n",
       "      <td>0.024109</td>\n",
       "      <td>0.040595</td>\n",
       "      <td>0.043656</td>\n",
       "      <td>0.072267</td>\n",
       "      <td>0.047260</td>\n",
       "      <td>0.039724</td>\n",
       "      <td>0.060884</td>\n",
       "      <td>0.053526</td>\n",
       "      <td>0.014442</td>\n",
       "      <td>0.066500</td>\n",
       "      <td>...</td>\n",
       "      <td>0.037290</td>\n",
       "      <td>0.075898</td>\n",
       "      <td>0.028614</td>\n",
       "      <td>0.021588</td>\n",
       "      <td>0.053445</td>\n",
       "      <td>0.053040</td>\n",
       "      <td>0.083773</td>\n",
       "      <td>0.039025</td>\n",
       "      <td>0.044336</td>\n",
       "      <td>0.025290</td>\n",
       "    </tr>\n",
       "    <tr>\n",
       "      <th>K00003</th>\n",
       "      <td>0.024804</td>\n",
       "      <td>0.041229</td>\n",
       "      <td>0.062343</td>\n",
       "      <td>0.088343</td>\n",
       "      <td>0.078259</td>\n",
       "      <td>0.049345</td>\n",
       "      <td>0.073533</td>\n",
       "      <td>0.061653</td>\n",
       "      <td>0.061242</td>\n",
       "      <td>0.073755</td>\n",
       "      <td>...</td>\n",
       "      <td>0.054103</td>\n",
       "      <td>0.087848</td>\n",
       "      <td>0.043575</td>\n",
       "      <td>0.033148</td>\n",
       "      <td>0.050954</td>\n",
       "      <td>0.077986</td>\n",
       "      <td>0.130880</td>\n",
       "      <td>0.050023</td>\n",
       "      <td>0.098743</td>\n",
       "      <td>0.031559</td>\n",
       "    </tr>\n",
       "    <tr>\n",
       "      <th>K00004</th>\n",
       "      <td>0.020530</td>\n",
       "      <td>0.056462</td>\n",
       "      <td>0.024806</td>\n",
       "      <td>0.031579</td>\n",
       "      <td>0.020138</td>\n",
       "      <td>0.021989</td>\n",
       "      <td>0.021194</td>\n",
       "      <td>0.023453</td>\n",
       "      <td>0.015061</td>\n",
       "      <td>0.027721</td>\n",
       "      <td>...</td>\n",
       "      <td>0.022742</td>\n",
       "      <td>0.019296</td>\n",
       "      <td>0.006092</td>\n",
       "      <td>0.008209</td>\n",
       "      <td>0.029835</td>\n",
       "      <td>0.024051</td>\n",
       "      <td>0.042715</td>\n",
       "      <td>0.015420</td>\n",
       "      <td>0.055725</td>\n",
       "      <td>0.024159</td>\n",
       "    </tr>\n",
       "    <tr>\n",
       "      <th>K00005</th>\n",
       "      <td>0.022182</td>\n",
       "      <td>0.018633</td>\n",
       "      <td>0.053989</td>\n",
       "      <td>0.017067</td>\n",
       "      <td>0.034285</td>\n",
       "      <td>0.035288</td>\n",
       "      <td>0.030586</td>\n",
       "      <td>0.021449</td>\n",
       "      <td>0.021672</td>\n",
       "      <td>0.031762</td>\n",
       "      <td>...</td>\n",
       "      <td>0.029985</td>\n",
       "      <td>0.047790</td>\n",
       "      <td>0.018840</td>\n",
       "      <td>0.012505</td>\n",
       "      <td>0.031872</td>\n",
       "      <td>0.024567</td>\n",
       "      <td>0.035555</td>\n",
       "      <td>0.017641</td>\n",
       "      <td>0.033144</td>\n",
       "      <td>0.011951</td>\n",
       "    </tr>\n",
       "    <tr>\n",
       "      <th>...</th>\n",
       "      <td>...</td>\n",
       "      <td>...</td>\n",
       "      <td>...</td>\n",
       "      <td>...</td>\n",
       "      <td>...</td>\n",
       "      <td>...</td>\n",
       "      <td>...</td>\n",
       "      <td>...</td>\n",
       "      <td>...</td>\n",
       "      <td>...</td>\n",
       "      <td>...</td>\n",
       "      <td>...</td>\n",
       "      <td>...</td>\n",
       "      <td>...</td>\n",
       "      <td>...</td>\n",
       "      <td>...</td>\n",
       "      <td>...</td>\n",
       "      <td>...</td>\n",
       "      <td>...</td>\n",
       "      <td>...</td>\n",
       "      <td>...</td>\n",
       "    </tr>\n",
       "    <tr>\n",
       "      <th>K20108</th>\n",
       "      <td>0.045420</td>\n",
       "      <td>0.043178</td>\n",
       "      <td>0.000000</td>\n",
       "      <td>0.000000</td>\n",
       "      <td>0.066317</td>\n",
       "      <td>0.000000</td>\n",
       "      <td>0.000000</td>\n",
       "      <td>0.000000</td>\n",
       "      <td>0.000000</td>\n",
       "      <td>0.000000</td>\n",
       "      <td>...</td>\n",
       "      <td>0.000000</td>\n",
       "      <td>0.084848</td>\n",
       "      <td>0.000000</td>\n",
       "      <td>0.000000</td>\n",
       "      <td>0.000000</td>\n",
       "      <td>0.000000</td>\n",
       "      <td>0.000000</td>\n",
       "      <td>0.039722</td>\n",
       "      <td>0.040338</td>\n",
       "      <td>0.000000</td>\n",
       "    </tr>\n",
       "    <tr>\n",
       "      <th>K20109</th>\n",
       "      <td>0.000000</td>\n",
       "      <td>0.000000</td>\n",
       "      <td>0.000000</td>\n",
       "      <td>0.000000</td>\n",
       "      <td>0.000000</td>\n",
       "      <td>0.000000</td>\n",
       "      <td>0.000000</td>\n",
       "      <td>0.000000</td>\n",
       "      <td>0.000000</td>\n",
       "      <td>0.000000</td>\n",
       "      <td>...</td>\n",
       "      <td>0.000000</td>\n",
       "      <td>0.000000</td>\n",
       "      <td>0.000000</td>\n",
       "      <td>0.000000</td>\n",
       "      <td>0.000000</td>\n",
       "      <td>0.000000</td>\n",
       "      <td>0.000000</td>\n",
       "      <td>0.000000</td>\n",
       "      <td>0.000000</td>\n",
       "      <td>0.000000</td>\n",
       "    </tr>\n",
       "    <tr>\n",
       "      <th>K20112</th>\n",
       "      <td>0.000000</td>\n",
       "      <td>0.000000</td>\n",
       "      <td>0.000000</td>\n",
       "      <td>0.000000</td>\n",
       "      <td>0.000000</td>\n",
       "      <td>0.000000</td>\n",
       "      <td>0.000000</td>\n",
       "      <td>0.000000</td>\n",
       "      <td>0.000000</td>\n",
       "      <td>0.000000</td>\n",
       "      <td>...</td>\n",
       "      <td>0.000000</td>\n",
       "      <td>0.000000</td>\n",
       "      <td>0.000000</td>\n",
       "      <td>0.000000</td>\n",
       "      <td>0.000000</td>\n",
       "      <td>0.000000</td>\n",
       "      <td>0.000000</td>\n",
       "      <td>0.000000</td>\n",
       "      <td>0.000000</td>\n",
       "      <td>0.000000</td>\n",
       "    </tr>\n",
       "    <tr>\n",
       "      <th>K20113</th>\n",
       "      <td>0.025929</td>\n",
       "      <td>0.032771</td>\n",
       "      <td>0.041090</td>\n",
       "      <td>0.051053</td>\n",
       "      <td>0.057477</td>\n",
       "      <td>0.029311</td>\n",
       "      <td>0.037916</td>\n",
       "      <td>0.024849</td>\n",
       "      <td>0.028327</td>\n",
       "      <td>0.059713</td>\n",
       "      <td>...</td>\n",
       "      <td>0.000000</td>\n",
       "      <td>0.049486</td>\n",
       "      <td>0.020173</td>\n",
       "      <td>0.012797</td>\n",
       "      <td>0.048203</td>\n",
       "      <td>0.042121</td>\n",
       "      <td>0.064309</td>\n",
       "      <td>0.012468</td>\n",
       "      <td>0.057900</td>\n",
       "      <td>0.026810</td>\n",
       "    </tr>\n",
       "    <tr>\n",
       "      <th>K20114</th>\n",
       "      <td>0.000000</td>\n",
       "      <td>0.000000</td>\n",
       "      <td>0.000000</td>\n",
       "      <td>0.000000</td>\n",
       "      <td>0.000000</td>\n",
       "      <td>0.000000</td>\n",
       "      <td>0.000000</td>\n",
       "      <td>0.000000</td>\n",
       "      <td>0.000000</td>\n",
       "      <td>0.000000</td>\n",
       "      <td>...</td>\n",
       "      <td>0.000000</td>\n",
       "      <td>0.000000</td>\n",
       "      <td>0.000000</td>\n",
       "      <td>0.000000</td>\n",
       "      <td>0.000000</td>\n",
       "      <td>0.000000</td>\n",
       "      <td>0.000000</td>\n",
       "      <td>0.000000</td>\n",
       "      <td>0.000000</td>\n",
       "      <td>0.000000</td>\n",
       "    </tr>\n",
       "  </tbody>\n",
       "</table>\n",
       "<p>10098 rows × 200 columns</p>\n",
       "</div>"
      ],
      "text/plain": [
       "             0         1         2         3         4         5         6    \\\n",
       "K00001  0.041618  0.027738  0.062853  0.054567  0.079847  0.052201  0.062993   \n",
       "K00002  0.024109  0.040595  0.043656  0.072267  0.047260  0.039724  0.060884   \n",
       "K00003  0.024804  0.041229  0.062343  0.088343  0.078259  0.049345  0.073533   \n",
       "K00004  0.020530  0.056462  0.024806  0.031579  0.020138  0.021989  0.021194   \n",
       "K00005  0.022182  0.018633  0.053989  0.017067  0.034285  0.035288  0.030586   \n",
       "...          ...       ...       ...       ...       ...       ...       ...   \n",
       "K20108  0.045420  0.043178  0.000000  0.000000  0.066317  0.000000  0.000000   \n",
       "K20109  0.000000  0.000000  0.000000  0.000000  0.000000  0.000000  0.000000   \n",
       "K20112  0.000000  0.000000  0.000000  0.000000  0.000000  0.000000  0.000000   \n",
       "K20113  0.025929  0.032771  0.041090  0.051053  0.057477  0.029311  0.037916   \n",
       "K20114  0.000000  0.000000  0.000000  0.000000  0.000000  0.000000  0.000000   \n",
       "\n",
       "             7         8         9    ...       190       191       192  \\\n",
       "K00001  0.057508  0.073356  0.080512  ...  0.082199  0.077561  0.039359   \n",
       "K00002  0.053526  0.014442  0.066500  ...  0.037290  0.075898  0.028614   \n",
       "K00003  0.061653  0.061242  0.073755  ...  0.054103  0.087848  0.043575   \n",
       "K00004  0.023453  0.015061  0.027721  ...  0.022742  0.019296  0.006092   \n",
       "K00005  0.021449  0.021672  0.031762  ...  0.029985  0.047790  0.018840   \n",
       "...          ...       ...       ...  ...       ...       ...       ...   \n",
       "K20108  0.000000  0.000000  0.000000  ...  0.000000  0.084848  0.000000   \n",
       "K20109  0.000000  0.000000  0.000000  ...  0.000000  0.000000  0.000000   \n",
       "K20112  0.000000  0.000000  0.000000  ...  0.000000  0.000000  0.000000   \n",
       "K20113  0.024849  0.028327  0.059713  ...  0.000000  0.049486  0.020173   \n",
       "K20114  0.000000  0.000000  0.000000  ...  0.000000  0.000000  0.000000   \n",
       "\n",
       "             193       194       195       196       197       198       199  \n",
       "K00001  0.028968  0.032127  0.079097  0.106422  0.047783  0.071198  0.037712  \n",
       "K00002  0.021588  0.053445  0.053040  0.083773  0.039025  0.044336  0.025290  \n",
       "K00003  0.033148  0.050954  0.077986  0.130880  0.050023  0.098743  0.031559  \n",
       "K00004  0.008209  0.029835  0.024051  0.042715  0.015420  0.055725  0.024159  \n",
       "K00005  0.012505  0.031872  0.024567  0.035555  0.017641  0.033144  0.011951  \n",
       "...          ...       ...       ...       ...       ...       ...       ...  \n",
       "K20108  0.000000  0.000000  0.000000  0.000000  0.039722  0.040338  0.000000  \n",
       "K20109  0.000000  0.000000  0.000000  0.000000  0.000000  0.000000  0.000000  \n",
       "K20112  0.000000  0.000000  0.000000  0.000000  0.000000  0.000000  0.000000  \n",
       "K20113  0.012797  0.048203  0.042121  0.064309  0.012468  0.057900  0.026810  \n",
       "K20114  0.000000  0.000000  0.000000  0.000000  0.000000  0.000000  0.000000  \n",
       "\n",
       "[10098 rows x 200 columns]"
      ]
     },
     "execution_count": 749,
     "metadata": {},
     "output_type": "execute_result"
    }
   ],
   "source": [
    "from scipy.stats import weightedtau\n",
    "explanations[project]"
   ]
  },
  {
   "cell_type": "code",
   "execution_count": 767,
   "metadata": {},
   "outputs": [
    {
     "data": {
      "text/plain": [
       "['Feng', 'Hannigan', 'Thomas0', 'Thomas1', 'Vogtmann', 'Yu', 'Zeller']"
      ]
     },
     "execution_count": 767,
     "metadata": {},
     "output_type": "execute_result"
    }
   ],
   "source": [
    "PROJECT_ORDER"
   ]
  },
  {
   "cell_type": "code",
   "execution_count": 768,
   "metadata": {},
   "outputs": [],
   "source": [
    "explanations = kegg_explanations\n",
    "wtau_df = pd.DataFrame(columns=PROJECT_ORDER)\n",
    "for project in PROJECT_ORDER:\n",
    "    wtau = []\n",
    "    for i in range(explanations[project].shape[1]):\n",
    "        for j in range(i+1, explanations[project].shape[1]):\n",
    "            wtau.append(weightedtau(explanations[project].iloc[:, i], explanations[project].iloc[:, j])[0])\n",
    "    wtau_df[project] = wtau"
   ]
  },
  {
   "cell_type": "code",
   "execution_count": 770,
   "metadata": {},
   "outputs": [
    {
     "data": {
      "text/plain": [
       "<matplotlib.axes._subplots.AxesSubplot at 0x2ba72ffa7c90>"
      ]
     },
     "execution_count": 770,
     "metadata": {},
     "output_type": "execute_result"
    },
    {
     "data": {
      "image/png": "[encoded data removed]",
      "text/plain": [
       "<Figure size 576x324 with 1 Axes>"
      ]
     },
     "metadata": {},
     "output_type": "display_data"
    }
   ],
   "source": [
    "kegg_wtau = wtau_df\n",
    "kegg_wtau[\"Profile\"] = \"Kegg\"\n",
    "kegg_wtau.plot(kind=\"box\", figsize=(16/2, 9/2))"
   ]
  },
  {
   "cell_type": "code",
   "execution_count": null,
   "metadata": {},
   "outputs": [],
   "source": [
    "explanations = ogs_explanations\n",
    "wtau_df = pd.DataFrame(columns=PROJECT_ORDER)\n",
    "for project in [\"Zeller\"]:\n",
    "    wtau = []\n",
    "    for i in range(explanations[project].shape[1]):\n",
    "        for j in range(i+1, explanations[project].shape[1]):\n",
    "            wtau.append(weightedtau(explanations[project].iloc[:, i], explanations[project].iloc[:, j])[0])\n",
    "    wtau_df[project] = wtau"
   ]
  },
  {
   "cell_type": "code",
   "execution_count": 784,
   "metadata": {},
   "outputs": [
    {
     "data": {
      "text/plain": [
       "<matplotlib.axes._subplots.AxesSubplot at 0x2ba7332e27d0>"
      ]
     },
     "execution_count": 784,
     "metadata": {},
     "output_type": "execute_result"
    },
    {
     "data": {
      "image/png": "[encoded data removed]",
      "text/plain": [
       "<Figure size 576x324 with 1 Axes>"
      ]
     },
     "metadata": {},
     "output_type": "display_data"
    }
   ],
   "source": [
    "egg_wtau = wtau_df\n",
    "egg_wtau[\"Profile\"] = \"eNog\"\n",
    "egg_wtau.plot(kind=\"box\", figsize=(16/2, 9/2))"
   ]
  },
  {
   "cell_type": "code",
   "execution_count": null,
   "metadata": {},
   "outputs": [],
   "source": [
    "for pr"
   ]
  },
  {
   "cell_type": "code",
   "execution_count": 786,
   "metadata": {},
   "outputs": [],
   "source": [
    "explanations = taxo_explanations\n",
    "wtau_df = pd.DataFrame(columns=PROJECT_ORDER)\n",
    "for project in PROJECT_ORDER:\n",
    "    wtau = []\n",
    "    for i in range(explanations[project].shape[1]):\n",
    "        for j in range(i+1, explanations[project].shape[1]):\n",
    "            wtau.append(weightedtau(explanations[project].iloc[:, i], explanations[project].iloc[:, j])[0])\n",
    "    wtau_df[project] = wtau"
   ]
  },
  {
   "cell_type": "code",
   "execution_count": 787,
   "metadata": {},
   "outputs": [
    {
     "data": {
      "text/plain": [
       "<matplotlib.axes._subplots.AxesSubplot at 0x2ba732586ed0>"
      ]
     },
     "execution_count": 787,
     "metadata": {},
     "output_type": "execute_result"
    },
    {
     "data": {
      "image/png": "[encoded data removed]",
      "text/plain": [
       "<Figure size 576x324 with 1 Axes>"
      ]
     },
     "metadata": {},
     "output_type": "display_data"
    }
   ],
   "source": [
    "taxo_wtau = wtau_df\n",
    "taxo_wtau[\"Profile\"] = \"Taxo\"\n",
    "taxo_wtau.plot(kind=\"box\", figsize=(16/2, 9/2))"
   ]
  },
  {
   "cell_type": "code",
   "execution_count": 794,
   "metadata": {},
   "outputs": [],
   "source": [
    "wtau_df = pd.concat((kegg_wtau, egg_wtau, taxo_wtau), axis=0)\n",
    "wtau_df = wtau_df.melt(id_vars=[\"Profile\"], var_name=\"Project\", value_name=\"Score\")"
   ]
  },
  {
   "cell_type": "code",
   "execution_count": 795,
   "metadata": {},
   "outputs": [],
   "source": [
    "wtau_df = wtau_df.replace({\"Kegg\": \"Kegg\", \"Taxo\": \"Taxonomic\", \"eNog\": \"eggNog\"})"
   ]
  },
  {
   "cell_type": "code",
   "execution_count": 796,
   "metadata": {},
   "outputs": [
    {
     "data": {
      "text/plain": [
       "<matplotlib.axes._subplots.AxesSubplot at 0x2ba7360c2790>"
      ]
     },
     "execution_count": 796,
     "metadata": {},
     "output_type": "execute_result"
    },
    {
     "data": {
      "image/png": "[encoded data removed]",
      "text/plain": [
       "<Figure size 576x324 with 1 Axes>"
      ]
     },
     "metadata": {},
     "output_type": "display_data"
    }
   ],
   "source": [
    "fac = 2\n",
    "plt.figure(figsize=(16/fac, 9/fac))\n",
    "sns.boxplot(data=wtau_df, x=\"Project\", y=\"Score\", hue=\"Profile\", palette=\"colorblind\")"
   ]
  },
  {
   "cell_type": "code",
   "execution_count": 786,
   "metadata": {},
   "outputs": [],
   "source": [
    "explanations = taxo_explanations\n",
    "wtau_df = pd.DataFrame(columns=PROJECT_ORDER)\n",
    "for project_x in PROJECT_ORDER:\n",
    "    for i in range(explanations[project].shape[1])\n",
    "    for project_y in PROJECT_ORDER:\n",
    "        wtau = []\n",
    "        for i in range(explanations[project].shape[1]):\n",
    "        for j in range(i+1, explanations[project].shape[1]):\n",
    "            wtau.append(weightedtau(explanations[project].iloc[:, i], explanations[project].iloc[:, j])[0])\n",
    "    wtau_df[project] = wtau"
   ]
  },
  {
   "cell_type": "code",
   "execution_count": 797,
   "metadata": {},
   "outputs": [],
   "source": [
    "from sklearn.metrics import pairwise_distances\n"
   ]
  },
  {
   "cell_type": "code",
   "execution_count": 799,
   "metadata": {},
   "outputs": [],
   "source": [
    "distance = lambda x, y: weightedtau(x, y)[0]"
   ]
  },
  {
   "cell_type": "code",
   "execution_count": 802,
   "metadata": {},
   "outputs": [
    {
     "data": {
      "text/plain": [
       "['Feng', 'Hannigan', 'Thomas0', 'Thomas1', 'Vogtmann', 'Yu', 'Zeller']"
      ]
     },
     "execution_count": 802,
     "metadata": {},
     "output_type": "execute_result"
    }
   ],
   "source": [
    "PROJECT_ORDER"
   ]
  },
  {
   "cell_type": "code",
   "execution_count": 805,
   "metadata": {},
   "outputs": [],
   "source": [
    "project_x = PROJECT_ORDER[2]\n",
    "project_y = PROJECT_ORDER[3]"
   ]
  },
  {
   "cell_type": "code",
   "execution_count": 806,
   "metadata": {},
   "outputs": [],
   "source": [
    "kegg_pairwise = {}"
   ]
  },
  {
   "cell_type": "code",
   "execution_count": 809,
   "metadata": {},
   "outputs": [],
   "source": [
    "kegg_pairwise[(project_x, project_y)] = pairwise_distances(\n",
    "    kegg_explanations[project_x].T.iloc[:100, :], \n",
    "    kegg_explanations[project_y].T.iloc[:100, :],\n",
    "    metric=distance,\n",
    "    n_jobs=-1)"
   ]
  },
  {
   "cell_type": "code",
   "execution_count": 815,
   "metadata": {},
   "outputs": [
    {
     "data": {
      "text/plain": [
       "<matplotlib.axes._subplots.AxesSubplot at 0x2ba737bc7d50>"
      ]
     },
     "execution_count": 815,
     "metadata": {},
     "output_type": "execute_result"
    },
    {
     "data": {
      "image/png": "[encoded data removed]",
      "text/plain": [
       "<Figure size 432x288 with 1 Axes>"
      ]
     },
     "metadata": {},
     "output_type": "display_data"
    }
   ],
   "source": [
    "pd.Series(kegg_pairwise[(project_x, project_y)].ravel(), name=f\"({project_x}, {project_y})\").plot(kind=\"box\")"
   ]
  },
  {
   "cell_type": "code",
   "execution_count": null,
   "metadata": {},
   "outputs": [],
   "source": []
  },
  {
   "cell_type": "raw",
   "metadata": {},
   "source": [
    "stab_df = pd.DataFrame()\n",
    "results_stab_dict = {}\n",
    "results_cp_dict = {}\n",
    "\n",
    "for profile in [\"centrifuge\", \"KEGG_KOs\", \"OGs\"]:\n",
    "    print(profile)\n",
    "    path = results_folder.joinpath(condition.lower(), f\"{condition.lower()}_{profile.lower()}_results\")\n",
    "    \n",
    "    results_stab = load_stability(condition, profile, path)\n",
    "    results_stab_dict[profile] = results_stab\n",
    "    \n",
    "    results_cp = load_crossproject(condition, profile, path)\n",
    "    results_cp_dict[profile] = results_cp"
   ]
  },
  {
   "cell_type": "code",
   "execution_count": 858,
   "metadata": {},
   "outputs": [],
   "source": [
    "condition = \"CRC\"\n",
    "profile = \"centrifuge\""
   ]
  },
  {
   "cell_type": "code",
   "execution_count": 879,
   "metadata": {},
   "outputs": [
    {
     "data": {
      "text/plain": [
       "Index(['33033', '469607', '879243', '29391', '1841863', '294', '2718',\n",
       "       '1160721', '76857', '39950', '1122984', '143387', '525283', '582',\n",
       "       '539', '457405', '1156431', '28135', '1447716', '546269', '1750',\n",
       "       '172042', '1104322', '712122', '566552', '2584943', '2564099', '44742',\n",
       "       '295405', '1304', '1785995', '1582259', '76859', '536231', '562',\n",
       "       '2109692', '862971', '1384484', '1048332', '1509', '155615', '264199',\n",
       "       '1335', '40324', '1150460', '1839799', '1912856', '2487118', '388919',\n",
       "       '515620', '649756', '1744', '706439', '1680', '28131', '28025',\n",
       "       '537007', '2109691', '585394', '767031', '1385942', '1307443',\n",
       "       '1759399', '2509456', '1305', '469604', '182773', '767463', '1340',\n",
       "       '2479767', '1229621', '1042156', '34105', '515619', '39488', '28038',\n",
       "       '1870984', '1308', '853', '361101', '1685', '817', '469615', '856',\n",
       "       '712357', '272559', '469602', '190304'],\n",
       "      dtype='object')"
      ]
     },
     "execution_count": 879,
     "metadata": {},
     "output_type": "execute_result"
    }
   ],
   "source": [
    "rpath = results_folder.joinpath(condition.lower(), f\"{condition.lower()}_{profile.lower()}_results\")\n",
    "fpath = rpath.joinpath(f\"{condition}_{profile}_lopo_with _oracle_support.tsv\")\n",
    "features_used = pd.read_csv(fpath, sep=\"\\t\", index_col=0).index.astype(str)\n",
    "features_used"
   ]
  },
  {
   "cell_type": "code",
   "execution_count": 838,
   "metadata": {},
   "outputs": [
    {
     "data": {
      "text/plain": [
       "(13514,)"
      ]
     },
     "execution_count": 838,
     "metadata": {},
     "output_type": "execute_result"
    }
   ],
   "source": [
    "features_used.shape"
   ]
  },
  {
   "cell_type": "code",
   "execution_count": 839,
   "metadata": {},
   "outputs": [
    {
     "data": {
      "text/plain": [
       "(864, 20253)"
      ]
     },
     "execution_count": 839,
     "metadata": {},
     "output_type": "execute_result"
    }
   ],
   "source": [
    "features.shape"
   ]
  },
  {
   "cell_type": "code",
   "execution_count": 840,
   "metadata": {},
   "outputs": [
    {
     "data": {
      "text/plain": [
       "(864, 161)"
      ]
     },
     "execution_count": 840,
     "metadata": {},
     "output_type": "execute_result"
    }
   ],
   "source": [
    "metadata.shape"
   ]
  },
  {
   "cell_type": "code",
   "execution_count": 898,
   "metadata": {},
   "outputs": [],
   "source": [
    "y = metadata.DISEASE.str.lower() == \"crc\""
   ]
  },
  {
   "cell_type": "code",
   "execution_count": 851,
   "metadata": {},
   "outputs": [],
   "source": [
    "projects = metadata.PROJECT.copy()\n",
    "projects = projects.replace(PROJECT_NAMES_DICT)"
   ]
  },
  {
   "cell_type": "code",
   "execution_count": 867,
   "metadata": {},
   "outputs": [],
   "source": [
    "from sklearn.model_selection import LeaveOneGroupOut, cross_validate"
   ]
  },
  {
   "cell_type": "code",
   "execution_count": 853,
   "metadata": {},
   "outputs": [],
   "source": [
    "lopo = LeaveOneGroupOut().split(features, y, projects)"
   ]
  },
  {
   "cell_type": "code",
   "execution_count": 860,
   "metadata": {},
   "outputs": [],
   "source": [
    "from sklearn.feature_selection import SelectKBest\n",
    "from mlgut.models import get_taxonomic_model"
   ]
  },
  {
   "cell_type": "code",
   "execution_count": 856,
   "metadata": {},
   "outputs": [
    {
     "data": {
      "text/plain": [
       "2025.3"
      ]
     },
     "execution_count": 856,
     "metadata": {},
     "output_type": "execute_result"
    }
   ],
   "source": [
    "features.shape[1] / 10"
   ]
  },
  {
   "cell_type": "code",
   "execution_count": 857,
   "metadata": {},
   "outputs": [
    {
     "data": {
      "text/plain": [
       "20253"
      ]
     },
     "execution_count": 857,
     "metadata": {},
     "output_type": "execute_result"
    }
   ],
   "source": [
    "features.shape[1]"
   ]
  },
  {
   "cell_type": "code",
   "execution_count": 873,
   "metadata": {},
   "outputs": [],
   "source": [
    "import numpy as np\n",
    "import pandas as pd\n",
    "from interpret.glassbox import ExplainableBoostingClassifier\n",
    "from scipy.spatial.distance import pdist\n",
    "from sklearn import metrics\n",
    "from sklearn.feature_selection import SelectFdr, SelectFpr, SelectPercentile\n",
    "from sklearn.pipeline import Pipeline\n",
    "from sklearn.preprocessing import FunctionTransformer, KBinsDiscretizer"
   ]
  },
  {
   "cell_type": "code",
   "execution_count": 902,
   "metadata": {},
   "outputs": [],
   "source": [
    "model = Pipeline(\n",
    "    [\n",
    "        (\"transformer\", FunctionTransformer(np.log1p)),\n",
    "        (\"discretizer\", KBinsDiscretizer(n_bins=4, encode=\"ordinal\")),\n",
    "        (\n",
    "            \"estimator\",\n",
    "            ExplainableBoostingClassifier(\n",
    "                n_estimators=24, n_jobs=-1, random_state=42\n",
    "            ),\n",
    "        ),\n",
    "    ]\n",
    ")"
   ]
  },
  {
   "cell_type": "code",
   "execution_count": 899,
   "metadata": {
    "collapsed": true,
    "jupyter": {
     "outputs_hidden": true
    }
   },
   "outputs": [
    {
     "ename": "KeyboardInterrupt",
     "evalue": "",
     "output_type": "error",
     "traceback": [
      "\u001b[0;31m---------------------------------------------------------------------------\u001b[0m",
      "\u001b[0;31mKeyboardInterrupt\u001b[0m                         Traceback (most recent call last)",
      "\u001b[0;32m<ipython-input-899-9208ba19d5b3>\u001b[0m in \u001b[0;36m<module>\u001b[0;34m\u001b[0m\n\u001b[1;32m      1\u001b[0m \u001b[0mlopo\u001b[0m \u001b[0;34m=\u001b[0m \u001b[0mLeaveOneGroupOut\u001b[0m\u001b[0;34m(\u001b[0m\u001b[0;34m)\u001b[0m\u001b[0;34m.\u001b[0m\u001b[0msplit\u001b[0m\u001b[0;34m(\u001b[0m\u001b[0mfeatures\u001b[0m\u001b[0;34m,\u001b[0m \u001b[0my\u001b[0m\u001b[0;34m,\u001b[0m \u001b[0mprojects\u001b[0m\u001b[0;34m)\u001b[0m\u001b[0;34m\u001b[0m\u001b[0;34m\u001b[0m\u001b[0m\n\u001b[0;32m----> 2\u001b[0;31m \u001b[0mcvres\u001b[0m \u001b[0;34m=\u001b[0m \u001b[0mcross_validate\u001b[0m\u001b[0;34m(\u001b[0m\u001b[0mmodel\u001b[0m\u001b[0;34m,\u001b[0m \u001b[0mfeatures\u001b[0m\u001b[0;34m,\u001b[0m \u001b[0my\u001b[0m\u001b[0;34m,\u001b[0m \u001b[0mcv\u001b[0m\u001b[0;34m=\u001b[0m\u001b[0mlopo\u001b[0m\u001b[0;34m,\u001b[0m \u001b[0mreturn_estimator\u001b[0m\u001b[0;34m=\u001b[0m\u001b[0;32mTrue\u001b[0m\u001b[0;34m)\u001b[0m\u001b[0;34m\u001b[0m\u001b[0;34m\u001b[0m\u001b[0m\n\u001b[0m",
      "\u001b[0;32m/mnt/lustre/scratch/home/cloucera/projects/mlgut/.venv/lib/python3.7/site-packages/sklearn/utils/validation.py\u001b[0m in \u001b[0;36minner_f\u001b[0;34m(*args, **kwargs)\u001b[0m\n\u001b[1;32m     71\u001b[0m                           FutureWarning)\n\u001b[1;32m     72\u001b[0m         \u001b[0mkwargs\u001b[0m\u001b[0;34m.\u001b[0m\u001b[0mupdate\u001b[0m\u001b[0;34m(\u001b[0m\u001b[0;34m{\u001b[0m\u001b[0mk\u001b[0m\u001b[0;34m:\u001b[0m \u001b[0marg\u001b[0m \u001b[0;32mfor\u001b[0m \u001b[0mk\u001b[0m\u001b[0;34m,\u001b[0m \u001b[0marg\u001b[0m \u001b[0;32min\u001b[0m \u001b[0mzip\u001b[0m\u001b[0;34m(\u001b[0m\u001b[0msig\u001b[0m\u001b[0;34m.\u001b[0m\u001b[0mparameters\u001b[0m\u001b[0;34m,\u001b[0m \u001b[0margs\u001b[0m\u001b[0;34m)\u001b[0m\u001b[0;34m}\u001b[0m\u001b[0;34m)\u001b[0m\u001b[0;34m\u001b[0m\u001b[0;34m\u001b[0m\u001b[0m\n\u001b[0;32m---> 73\u001b[0;31m         \u001b[0;32mreturn\u001b[0m \u001b[0mf\u001b[0m\u001b[0;34m(\u001b[0m\u001b[0;34m**\u001b[0m\u001b[0mkwargs\u001b[0m\u001b[0;34m)\u001b[0m\u001b[0;34m\u001b[0m\u001b[0;34m\u001b[0m\u001b[0m\n\u001b[0m\u001b[1;32m     74\u001b[0m     \u001b[0;32mreturn\u001b[0m \u001b[0minner_f\u001b[0m\u001b[0;34m\u001b[0m\u001b[0;34m\u001b[0m\u001b[0m\n\u001b[1;32m     75\u001b[0m \u001b[0;34m\u001b[0m\u001b[0m\n",
      "\u001b[0;32m/mnt/lustre/scratch/home/cloucera/projects/mlgut/.venv/lib/python3.7/site-packages/sklearn/model_selection/_validation.py\u001b[0m in \u001b[0;36mcross_validate\u001b[0;34m(estimator, X, y, groups, scoring, cv, n_jobs, verbose, fit_params, pre_dispatch, return_train_score, return_estimator, error_score)\u001b[0m\n\u001b[1;32m    246\u001b[0m             \u001b[0mreturn_times\u001b[0m\u001b[0;34m=\u001b[0m\u001b[0;32mTrue\u001b[0m\u001b[0;34m,\u001b[0m \u001b[0mreturn_estimator\u001b[0m\u001b[0;34m=\u001b[0m\u001b[0mreturn_estimator\u001b[0m\u001b[0;34m,\u001b[0m\u001b[0;34m\u001b[0m\u001b[0;34m\u001b[0m\u001b[0m\n\u001b[1;32m    247\u001b[0m             error_score=error_score)\n\u001b[0;32m--> 248\u001b[0;31m         for train, test in cv.split(X, y, groups))\n\u001b[0m\u001b[1;32m    249\u001b[0m \u001b[0;34m\u001b[0m\u001b[0m\n\u001b[1;32m    250\u001b[0m     \u001b[0mzipped_scores\u001b[0m \u001b[0;34m=\u001b[0m \u001b[0mlist\u001b[0m\u001b[0;34m(\u001b[0m\u001b[0mzip\u001b[0m\u001b[0;34m(\u001b[0m\u001b[0;34m*\u001b[0m\u001b[0mscores\u001b[0m\u001b[0;34m)\u001b[0m\u001b[0;34m)\u001b[0m\u001b[0;34m\u001b[0m\u001b[0;34m\u001b[0m\u001b[0m\n",
      "\u001b[0;32m/mnt/lustre/scratch/home/cloucera/projects/mlgut/.venv/lib/python3.7/site-packages/joblib/parallel.py\u001b[0m in \u001b[0;36m__call__\u001b[0;34m(self, iterable)\u001b[0m\n\u001b[1;32m   1030\u001b[0m                 \u001b[0mself\u001b[0m\u001b[0;34m.\u001b[0m\u001b[0m_iterating\u001b[0m \u001b[0;34m=\u001b[0m \u001b[0mself\u001b[0m\u001b[0;34m.\u001b[0m\u001b[0m_original_iterator\u001b[0m \u001b[0;32mis\u001b[0m \u001b[0;32mnot\u001b[0m \u001b[0;32mNone\u001b[0m\u001b[0;34m\u001b[0m\u001b[0;34m\u001b[0m\u001b[0m\n\u001b[1;32m   1031\u001b[0m \u001b[0;34m\u001b[0m\u001b[0m\n\u001b[0;32m-> 1032\u001b[0;31m             \u001b[0;32mwhile\u001b[0m \u001b[0mself\u001b[0m\u001b[0;34m.\u001b[0m\u001b[0mdispatch_one_batch\u001b[0m\u001b[0;34m(\u001b[0m\u001b[0miterator\u001b[0m\u001b[0;34m)\u001b[0m\u001b[0;34m:\u001b[0m\u001b[0;34m\u001b[0m\u001b[0;34m\u001b[0m\u001b[0m\n\u001b[0m\u001b[1;32m   1033\u001b[0m                 \u001b[0;32mpass\u001b[0m\u001b[0;34m\u001b[0m\u001b[0;34m\u001b[0m\u001b[0m\n\u001b[1;32m   1034\u001b[0m \u001b[0;34m\u001b[0m\u001b[0m\n",
      "\u001b[0;32m/mnt/lustre/scratch/home/cloucera/projects/mlgut/.venv/lib/python3.7/site-packages/joblib/parallel.py\u001b[0m in \u001b[0;36mdispatch_one_batch\u001b[0;34m(self, iterator)\u001b[0m\n\u001b[1;32m    845\u001b[0m                 \u001b[0;32mreturn\u001b[0m \u001b[0;32mFalse\u001b[0m\u001b[0;34m\u001b[0m\u001b[0;34m\u001b[0m\u001b[0m\n\u001b[1;32m    846\u001b[0m             \u001b[0;32melse\u001b[0m\u001b[0;34m:\u001b[0m\u001b[0;34m\u001b[0m\u001b[0;34m\u001b[0m\u001b[0m\n\u001b[0;32m--> 847\u001b[0;31m                 \u001b[0mself\u001b[0m\u001b[0;34m.\u001b[0m\u001b[0m_dispatch\u001b[0m\u001b[0;34m(\u001b[0m\u001b[0mtasks\u001b[0m\u001b[0;34m)\u001b[0m\u001b[0;34m\u001b[0m\u001b[0;34m\u001b[0m\u001b[0m\n\u001b[0m\u001b[1;32m    848\u001b[0m                 \u001b[0;32mreturn\u001b[0m \u001b[0;32mTrue\u001b[0m\u001b[0;34m\u001b[0m\u001b[0;34m\u001b[0m\u001b[0m\n\u001b[1;32m    849\u001b[0m \u001b[0;34m\u001b[0m\u001b[0m\n",
      "\u001b[0;32m/mnt/lustre/scratch/home/cloucera/projects/mlgut/.venv/lib/python3.7/site-packages/joblib/parallel.py\u001b[0m in \u001b[0;36m_dispatch\u001b[0;34m(self, batch)\u001b[0m\n\u001b[1;32m    763\u001b[0m         \u001b[0;32mwith\u001b[0m \u001b[0mself\u001b[0m\u001b[0;34m.\u001b[0m\u001b[0m_lock\u001b[0m\u001b[0;34m:\u001b[0m\u001b[0;34m\u001b[0m\u001b[0;34m\u001b[0m\u001b[0m\n\u001b[1;32m    764\u001b[0m             \u001b[0mjob_idx\u001b[0m \u001b[0;34m=\u001b[0m \u001b[0mlen\u001b[0m\u001b[0;34m(\u001b[0m\u001b[0mself\u001b[0m\u001b[0;34m.\u001b[0m\u001b[0m_jobs\u001b[0m\u001b[0;34m)\u001b[0m\u001b[0;34m\u001b[0m\u001b[0;34m\u001b[0m\u001b[0m\n\u001b[0;32m--> 765\u001b[0;31m             \u001b[0mjob\u001b[0m \u001b[0;34m=\u001b[0m \u001b[0mself\u001b[0m\u001b[0;34m.\u001b[0m\u001b[0m_backend\u001b[0m\u001b[0;34m.\u001b[0m\u001b[0mapply_async\u001b[0m\u001b[0;34m(\u001b[0m\u001b[0mbatch\u001b[0m\u001b[0;34m,\u001b[0m \u001b[0mcallback\u001b[0m\u001b[0;34m=\u001b[0m\u001b[0mcb\u001b[0m\u001b[0;34m)\u001b[0m\u001b[0;34m\u001b[0m\u001b[0;34m\u001b[0m\u001b[0m\n\u001b[0m\u001b[1;32m    766\u001b[0m             \u001b[0;31m# A job can complete so quickly than its callback is\u001b[0m\u001b[0;34m\u001b[0m\u001b[0;34m\u001b[0m\u001b[0;34m\u001b[0m\u001b[0m\n\u001b[1;32m    767\u001b[0m             \u001b[0;31m# called before we get here, causing self._jobs to\u001b[0m\u001b[0;34m\u001b[0m\u001b[0;34m\u001b[0m\u001b[0;34m\u001b[0m\u001b[0m\n",
      "\u001b[0;32m/mnt/lustre/scratch/home/cloucera/projects/mlgut/.venv/lib/python3.7/site-packages/joblib/_parallel_backends.py\u001b[0m in \u001b[0;36mapply_async\u001b[0;34m(self, func, callback)\u001b[0m\n\u001b[1;32m    204\u001b[0m     \u001b[0;32mdef\u001b[0m \u001b[0mapply_async\u001b[0m\u001b[0;34m(\u001b[0m\u001b[0mself\u001b[0m\u001b[0;34m,\u001b[0m \u001b[0mfunc\u001b[0m\u001b[0;34m,\u001b[0m \u001b[0mcallback\u001b[0m\u001b[0;34m=\u001b[0m\u001b[0;32mNone\u001b[0m\u001b[0;34m)\u001b[0m\u001b[0;34m:\u001b[0m\u001b[0;34m\u001b[0m\u001b[0;34m\u001b[0m\u001b[0m\n\u001b[1;32m    205\u001b[0m         \u001b[0;34m\"\"\"Schedule a func to be run\"\"\"\u001b[0m\u001b[0;34m\u001b[0m\u001b[0;34m\u001b[0m\u001b[0m\n\u001b[0;32m--> 206\u001b[0;31m         \u001b[0mresult\u001b[0m \u001b[0;34m=\u001b[0m \u001b[0mImmediateResult\u001b[0m\u001b[0;34m(\u001b[0m\u001b[0mfunc\u001b[0m\u001b[0;34m)\u001b[0m\u001b[0;34m\u001b[0m\u001b[0;34m\u001b[0m\u001b[0m\n\u001b[0m\u001b[1;32m    207\u001b[0m         \u001b[0;32mif\u001b[0m \u001b[0mcallback\u001b[0m\u001b[0;34m:\u001b[0m\u001b[0;34m\u001b[0m\u001b[0;34m\u001b[0m\u001b[0m\n\u001b[1;32m    208\u001b[0m             \u001b[0mcallback\u001b[0m\u001b[0;34m(\u001b[0m\u001b[0mresult\u001b[0m\u001b[0;34m)\u001b[0m\u001b[0;34m\u001b[0m\u001b[0;34m\u001b[0m\u001b[0m\n",
      "\u001b[0;32m/mnt/lustre/scratch/home/cloucera/projects/mlgut/.venv/lib/python3.7/site-packages/joblib/_parallel_backends.py\u001b[0m in \u001b[0;36m__init__\u001b[0;34m(self, batch)\u001b[0m\n\u001b[1;32m    568\u001b[0m         \u001b[0;31m# Don't delay the application, to avoid keeping the input\u001b[0m\u001b[0;34m\u001b[0m\u001b[0;34m\u001b[0m\u001b[0;34m\u001b[0m\u001b[0m\n\u001b[1;32m    569\u001b[0m         \u001b[0;31m# arguments in memory\u001b[0m\u001b[0;34m\u001b[0m\u001b[0;34m\u001b[0m\u001b[0;34m\u001b[0m\u001b[0m\n\u001b[0;32m--> 570\u001b[0;31m         \u001b[0mself\u001b[0m\u001b[0;34m.\u001b[0m\u001b[0mresults\u001b[0m \u001b[0;34m=\u001b[0m \u001b[0mbatch\u001b[0m\u001b[0;34m(\u001b[0m\u001b[0;34m)\u001b[0m\u001b[0;34m\u001b[0m\u001b[0;34m\u001b[0m\u001b[0m\n\u001b[0m\u001b[1;32m    571\u001b[0m \u001b[0;34m\u001b[0m\u001b[0m\n\u001b[1;32m    572\u001b[0m     \u001b[0;32mdef\u001b[0m \u001b[0mget\u001b[0m\u001b[0;34m(\u001b[0m\u001b[0mself\u001b[0m\u001b[0;34m)\u001b[0m\u001b[0;34m:\u001b[0m\u001b[0;34m\u001b[0m\u001b[0;34m\u001b[0m\u001b[0m\n",
      "\u001b[0;32m/mnt/lustre/scratch/home/cloucera/projects/mlgut/.venv/lib/python3.7/site-packages/joblib/parallel.py\u001b[0m in \u001b[0;36m__call__\u001b[0;34m(self)\u001b[0m\n\u001b[1;32m    251\u001b[0m         \u001b[0;32mwith\u001b[0m \u001b[0mparallel_backend\u001b[0m\u001b[0;34m(\u001b[0m\u001b[0mself\u001b[0m\u001b[0;34m.\u001b[0m\u001b[0m_backend\u001b[0m\u001b[0;34m,\u001b[0m \u001b[0mn_jobs\u001b[0m\u001b[0;34m=\u001b[0m\u001b[0mself\u001b[0m\u001b[0;34m.\u001b[0m\u001b[0m_n_jobs\u001b[0m\u001b[0;34m)\u001b[0m\u001b[0;34m:\u001b[0m\u001b[0;34m\u001b[0m\u001b[0;34m\u001b[0m\u001b[0m\n\u001b[1;32m    252\u001b[0m             return [func(*args, **kwargs)\n\u001b[0;32m--> 253\u001b[0;31m                     for func, args, kwargs in self.items]\n\u001b[0m\u001b[1;32m    254\u001b[0m \u001b[0;34m\u001b[0m\u001b[0m\n\u001b[1;32m    255\u001b[0m     \u001b[0;32mdef\u001b[0m \u001b[0m__reduce__\u001b[0m\u001b[0;34m(\u001b[0m\u001b[0mself\u001b[0m\u001b[0;34m)\u001b[0m\u001b[0;34m:\u001b[0m\u001b[0;34m\u001b[0m\u001b[0;34m\u001b[0m\u001b[0m\n",
      "\u001b[0;32m/mnt/lustre/scratch/home/cloucera/projects/mlgut/.venv/lib/python3.7/site-packages/joblib/parallel.py\u001b[0m in \u001b[0;36m<listcomp>\u001b[0;34m(.0)\u001b[0m\n\u001b[1;32m    251\u001b[0m         \u001b[0;32mwith\u001b[0m \u001b[0mparallel_backend\u001b[0m\u001b[0;34m(\u001b[0m\u001b[0mself\u001b[0m\u001b[0;34m.\u001b[0m\u001b[0m_backend\u001b[0m\u001b[0;34m,\u001b[0m \u001b[0mn_jobs\u001b[0m\u001b[0;34m=\u001b[0m\u001b[0mself\u001b[0m\u001b[0;34m.\u001b[0m\u001b[0m_n_jobs\u001b[0m\u001b[0;34m)\u001b[0m\u001b[0;34m:\u001b[0m\u001b[0;34m\u001b[0m\u001b[0;34m\u001b[0m\u001b[0m\n\u001b[1;32m    252\u001b[0m             return [func(*args, **kwargs)\n\u001b[0;32m--> 253\u001b[0;31m                     for func, args, kwargs in self.items]\n\u001b[0m\u001b[1;32m    254\u001b[0m \u001b[0;34m\u001b[0m\u001b[0m\n\u001b[1;32m    255\u001b[0m     \u001b[0;32mdef\u001b[0m \u001b[0m__reduce__\u001b[0m\u001b[0;34m(\u001b[0m\u001b[0mself\u001b[0m\u001b[0;34m)\u001b[0m\u001b[0;34m:\u001b[0m\u001b[0;34m\u001b[0m\u001b[0;34m\u001b[0m\u001b[0m\n",
      "\u001b[0;32m/mnt/lustre/scratch/home/cloucera/projects/mlgut/.venv/lib/python3.7/site-packages/sklearn/model_selection/_validation.py\u001b[0m in \u001b[0;36m_fit_and_score\u001b[0;34m(estimator, X, y, scorer, train, test, verbose, parameters, fit_params, return_train_score, return_parameters, return_n_test_samples, return_times, return_estimator, error_score)\u001b[0m\n\u001b[1;32m    529\u001b[0m             \u001b[0mestimator\u001b[0m\u001b[0;34m.\u001b[0m\u001b[0mfit\u001b[0m\u001b[0;34m(\u001b[0m\u001b[0mX_train\u001b[0m\u001b[0;34m,\u001b[0m \u001b[0;34m**\u001b[0m\u001b[0mfit_params\u001b[0m\u001b[0;34m)\u001b[0m\u001b[0;34m\u001b[0m\u001b[0;34m\u001b[0m\u001b[0m\n\u001b[1;32m    530\u001b[0m         \u001b[0;32melse\u001b[0m\u001b[0;34m:\u001b[0m\u001b[0;34m\u001b[0m\u001b[0;34m\u001b[0m\u001b[0m\n\u001b[0;32m--> 531\u001b[0;31m             \u001b[0mestimator\u001b[0m\u001b[0;34m.\u001b[0m\u001b[0mfit\u001b[0m\u001b[0;34m(\u001b[0m\u001b[0mX_train\u001b[0m\u001b[0;34m,\u001b[0m \u001b[0my_train\u001b[0m\u001b[0;34m,\u001b[0m \u001b[0;34m**\u001b[0m\u001b[0mfit_params\u001b[0m\u001b[0;34m)\u001b[0m\u001b[0;34m\u001b[0m\u001b[0;34m\u001b[0m\u001b[0m\n\u001b[0m\u001b[1;32m    532\u001b[0m \u001b[0;34m\u001b[0m\u001b[0m\n\u001b[1;32m    533\u001b[0m     \u001b[0;32mexcept\u001b[0m \u001b[0mException\u001b[0m \u001b[0;32mas\u001b[0m \u001b[0me\u001b[0m\u001b[0;34m:\u001b[0m\u001b[0;34m\u001b[0m\u001b[0;34m\u001b[0m\u001b[0m\n",
      "\u001b[0;32m/mnt/lustre/scratch/home/cloucera/projects/mlgut/.venv/lib/python3.7/site-packages/sklearn/pipeline.py\u001b[0m in \u001b[0;36mfit\u001b[0;34m(self, X, y, **fit_params)\u001b[0m\n\u001b[1;32m    333\u001b[0m             \u001b[0;32mif\u001b[0m \u001b[0mself\u001b[0m\u001b[0;34m.\u001b[0m\u001b[0m_final_estimator\u001b[0m \u001b[0;34m!=\u001b[0m \u001b[0;34m'passthrough'\u001b[0m\u001b[0;34m:\u001b[0m\u001b[0;34m\u001b[0m\u001b[0;34m\u001b[0m\u001b[0m\n\u001b[1;32m    334\u001b[0m                 \u001b[0mfit_params_last_step\u001b[0m \u001b[0;34m=\u001b[0m \u001b[0mfit_params_steps\u001b[0m\u001b[0;34m[\u001b[0m\u001b[0mself\u001b[0m\u001b[0;34m.\u001b[0m\u001b[0msteps\u001b[0m\u001b[0;34m[\u001b[0m\u001b[0;34m-\u001b[0m\u001b[0;36m1\u001b[0m\u001b[0;34m]\u001b[0m\u001b[0;34m[\u001b[0m\u001b[0;36m0\u001b[0m\u001b[0;34m]\u001b[0m\u001b[0;34m]\u001b[0m\u001b[0;34m\u001b[0m\u001b[0;34m\u001b[0m\u001b[0m\n\u001b[0;32m--> 335\u001b[0;31m                 \u001b[0mself\u001b[0m\u001b[0;34m.\u001b[0m\u001b[0m_final_estimator\u001b[0m\u001b[0;34m.\u001b[0m\u001b[0mfit\u001b[0m\u001b[0;34m(\u001b[0m\u001b[0mXt\u001b[0m\u001b[0;34m,\u001b[0m \u001b[0my\u001b[0m\u001b[0;34m,\u001b[0m \u001b[0;34m**\u001b[0m\u001b[0mfit_params_last_step\u001b[0m\u001b[0;34m)\u001b[0m\u001b[0;34m\u001b[0m\u001b[0;34m\u001b[0m\u001b[0m\n\u001b[0m\u001b[1;32m    336\u001b[0m \u001b[0;34m\u001b[0m\u001b[0m\n\u001b[1;32m    337\u001b[0m         \u001b[0;32mreturn\u001b[0m \u001b[0mself\u001b[0m\u001b[0;34m\u001b[0m\u001b[0;34m\u001b[0m\u001b[0m\n",
      "\u001b[0;32m/mnt/lustre/scratch/home/cloucera/projects/mlgut/.venv/lib/python3.7/site-packages/interpret/glassbox/ebm/ebm.py\u001b[0m in \u001b[0;36mfit\u001b[0;34m(self, X, y)\u001b[0m\n\u001b[1;32m    858\u001b[0m         )\n\u001b[1;32m    859\u001b[0m \u001b[0;34m\u001b[0m\u001b[0m\n\u001b[0;32m--> 860\u001b[0;31m         \u001b[0mestimators\u001b[0m \u001b[0;34m=\u001b[0m \u001b[0mprovider\u001b[0m\u001b[0;34m.\u001b[0m\u001b[0mparallel\u001b[0m\u001b[0;34m(\u001b[0m\u001b[0mtrain_model\u001b[0m\u001b[0;34m,\u001b[0m \u001b[0mtrain_model_args_iter\u001b[0m\u001b[0;34m)\u001b[0m\u001b[0;34m\u001b[0m\u001b[0;34m\u001b[0m\u001b[0m\n\u001b[0m\u001b[1;32m    861\u001b[0m \u001b[0;34m\u001b[0m\u001b[0m\n\u001b[1;32m    862\u001b[0m         \u001b[0;32mif\u001b[0m \u001b[0misinstance\u001b[0m\u001b[0;34m(\u001b[0m\u001b[0mself\u001b[0m\u001b[0;34m.\u001b[0m\u001b[0minteractions\u001b[0m\u001b[0;34m,\u001b[0m \u001b[0mint\u001b[0m\u001b[0;34m)\u001b[0m \u001b[0;32mand\u001b[0m \u001b[0mself\u001b[0m\u001b[0;34m.\u001b[0m\u001b[0minteractions\u001b[0m \u001b[0;34m>\u001b[0m \u001b[0;36m0\u001b[0m\u001b[0;34m:\u001b[0m\u001b[0;34m\u001b[0m\u001b[0;34m\u001b[0m\u001b[0m\n",
      "\u001b[0;32m/mnt/lustre/scratch/home/cloucera/projects/mlgut/.venv/lib/python3.7/site-packages/interpret/provider/compute.py\u001b[0m in \u001b[0;36mparallel\u001b[0;34m(self, compute_fn, compute_args_iter)\u001b[0m\n\u001b[1;32m     19\u001b[0m     \u001b[0;32mdef\u001b[0m \u001b[0mparallel\u001b[0m\u001b[0;34m(\u001b[0m\u001b[0mself\u001b[0m\u001b[0;34m,\u001b[0m \u001b[0mcompute_fn\u001b[0m\u001b[0;34m,\u001b[0m \u001b[0mcompute_args_iter\u001b[0m\u001b[0;34m)\u001b[0m\u001b[0;34m:\u001b[0m\u001b[0;34m\u001b[0m\u001b[0;34m\u001b[0m\u001b[0m\n\u001b[1;32m     20\u001b[0m         results = Parallel(n_jobs=self.n_jobs)(\n\u001b[0;32m---> 21\u001b[0;31m             \u001b[0mdelayed\u001b[0m\u001b[0;34m(\u001b[0m\u001b[0mcompute_fn\u001b[0m\u001b[0;34m)\u001b[0m\u001b[0;34m(\u001b[0m\u001b[0;34m*\u001b[0m\u001b[0margs\u001b[0m\u001b[0;34m)\u001b[0m \u001b[0;32mfor\u001b[0m \u001b[0margs\u001b[0m \u001b[0;32min\u001b[0m \u001b[0mcompute_args_iter\u001b[0m\u001b[0;34m\u001b[0m\u001b[0;34m\u001b[0m\u001b[0m\n\u001b[0m\u001b[1;32m     22\u001b[0m         )\n\u001b[1;32m     23\u001b[0m         \u001b[0;31m# NOTE: Force gc, as Python does not free native memory easy.\u001b[0m\u001b[0;34m\u001b[0m\u001b[0;34m\u001b[0m\u001b[0;34m\u001b[0m\u001b[0m\n",
      "\u001b[0;32m/mnt/lustre/scratch/home/cloucera/projects/mlgut/.venv/lib/python3.7/site-packages/joblib/parallel.py\u001b[0m in \u001b[0;36m__call__\u001b[0;34m(self, iterable)\u001b[0m\n\u001b[1;32m   1030\u001b[0m                 \u001b[0mself\u001b[0m\u001b[0;34m.\u001b[0m\u001b[0m_iterating\u001b[0m \u001b[0;34m=\u001b[0m \u001b[0mself\u001b[0m\u001b[0;34m.\u001b[0m\u001b[0m_original_iterator\u001b[0m \u001b[0;32mis\u001b[0m \u001b[0;32mnot\u001b[0m \u001b[0;32mNone\u001b[0m\u001b[0;34m\u001b[0m\u001b[0;34m\u001b[0m\u001b[0m\n\u001b[1;32m   1031\u001b[0m \u001b[0;34m\u001b[0m\u001b[0m\n\u001b[0;32m-> 1032\u001b[0;31m             \u001b[0;32mwhile\u001b[0m \u001b[0mself\u001b[0m\u001b[0;34m.\u001b[0m\u001b[0mdispatch_one_batch\u001b[0m\u001b[0;34m(\u001b[0m\u001b[0miterator\u001b[0m\u001b[0;34m)\u001b[0m\u001b[0;34m:\u001b[0m\u001b[0;34m\u001b[0m\u001b[0;34m\u001b[0m\u001b[0m\n\u001b[0m\u001b[1;32m   1033\u001b[0m                 \u001b[0;32mpass\u001b[0m\u001b[0;34m\u001b[0m\u001b[0;34m\u001b[0m\u001b[0m\n\u001b[1;32m   1034\u001b[0m \u001b[0;34m\u001b[0m\u001b[0m\n",
      "\u001b[0;32m/mnt/lustre/scratch/home/cloucera/projects/mlgut/.venv/lib/python3.7/site-packages/joblib/parallel.py\u001b[0m in \u001b[0;36mdispatch_one_batch\u001b[0;34m(self, iterator)\u001b[0m\n\u001b[1;32m    845\u001b[0m                 \u001b[0;32mreturn\u001b[0m \u001b[0;32mFalse\u001b[0m\u001b[0;34m\u001b[0m\u001b[0;34m\u001b[0m\u001b[0m\n\u001b[1;32m    846\u001b[0m             \u001b[0;32melse\u001b[0m\u001b[0;34m:\u001b[0m\u001b[0;34m\u001b[0m\u001b[0;34m\u001b[0m\u001b[0m\n\u001b[0;32m--> 847\u001b[0;31m                 \u001b[0mself\u001b[0m\u001b[0;34m.\u001b[0m\u001b[0m_dispatch\u001b[0m\u001b[0;34m(\u001b[0m\u001b[0mtasks\u001b[0m\u001b[0;34m)\u001b[0m\u001b[0;34m\u001b[0m\u001b[0;34m\u001b[0m\u001b[0m\n\u001b[0m\u001b[1;32m    848\u001b[0m                 \u001b[0;32mreturn\u001b[0m \u001b[0;32mTrue\u001b[0m\u001b[0;34m\u001b[0m\u001b[0;34m\u001b[0m\u001b[0m\n\u001b[1;32m    849\u001b[0m \u001b[0;34m\u001b[0m\u001b[0m\n",
      "\u001b[0;32m/mnt/lustre/scratch/home/cloucera/projects/mlgut/.venv/lib/python3.7/site-packages/joblib/parallel.py\u001b[0m in \u001b[0;36m_dispatch\u001b[0;34m(self, batch)\u001b[0m\n\u001b[1;32m    763\u001b[0m         \u001b[0;32mwith\u001b[0m \u001b[0mself\u001b[0m\u001b[0;34m.\u001b[0m\u001b[0m_lock\u001b[0m\u001b[0;34m:\u001b[0m\u001b[0;34m\u001b[0m\u001b[0;34m\u001b[0m\u001b[0m\n\u001b[1;32m    764\u001b[0m             \u001b[0mjob_idx\u001b[0m \u001b[0;34m=\u001b[0m \u001b[0mlen\u001b[0m\u001b[0;34m(\u001b[0m\u001b[0mself\u001b[0m\u001b[0;34m.\u001b[0m\u001b[0m_jobs\u001b[0m\u001b[0;34m)\u001b[0m\u001b[0;34m\u001b[0m\u001b[0;34m\u001b[0m\u001b[0m\n\u001b[0;32m--> 765\u001b[0;31m             \u001b[0mjob\u001b[0m \u001b[0;34m=\u001b[0m \u001b[0mself\u001b[0m\u001b[0;34m.\u001b[0m\u001b[0m_backend\u001b[0m\u001b[0;34m.\u001b[0m\u001b[0mapply_async\u001b[0m\u001b[0;34m(\u001b[0m\u001b[0mbatch\u001b[0m\u001b[0;34m,\u001b[0m \u001b[0mcallback\u001b[0m\u001b[0;34m=\u001b[0m\u001b[0mcb\u001b[0m\u001b[0;34m)\u001b[0m\u001b[0;34m\u001b[0m\u001b[0;34m\u001b[0m\u001b[0m\n\u001b[0m\u001b[1;32m    766\u001b[0m             \u001b[0;31m# A job can complete so quickly than its callback is\u001b[0m\u001b[0;34m\u001b[0m\u001b[0;34m\u001b[0m\u001b[0;34m\u001b[0m\u001b[0m\n\u001b[1;32m    767\u001b[0m             \u001b[0;31m# called before we get here, causing self._jobs to\u001b[0m\u001b[0;34m\u001b[0m\u001b[0;34m\u001b[0m\u001b[0;34m\u001b[0m\u001b[0m\n",
      "\u001b[0;32m/mnt/lustre/scratch/home/cloucera/projects/mlgut/.venv/lib/python3.7/site-packages/joblib/_parallel_backends.py\u001b[0m in \u001b[0;36mapply_async\u001b[0;34m(self, func, callback)\u001b[0m\n\u001b[1;32m    204\u001b[0m     \u001b[0;32mdef\u001b[0m \u001b[0mapply_async\u001b[0m\u001b[0;34m(\u001b[0m\u001b[0mself\u001b[0m\u001b[0;34m,\u001b[0m \u001b[0mfunc\u001b[0m\u001b[0;34m,\u001b[0m \u001b[0mcallback\u001b[0m\u001b[0;34m=\u001b[0m\u001b[0;32mNone\u001b[0m\u001b[0;34m)\u001b[0m\u001b[0;34m:\u001b[0m\u001b[0;34m\u001b[0m\u001b[0;34m\u001b[0m\u001b[0m\n\u001b[1;32m    205\u001b[0m         \u001b[0;34m\"\"\"Schedule a func to be run\"\"\"\u001b[0m\u001b[0;34m\u001b[0m\u001b[0;34m\u001b[0m\u001b[0m\n\u001b[0;32m--> 206\u001b[0;31m         \u001b[0mresult\u001b[0m \u001b[0;34m=\u001b[0m \u001b[0mImmediateResult\u001b[0m\u001b[0;34m(\u001b[0m\u001b[0mfunc\u001b[0m\u001b[0;34m)\u001b[0m\u001b[0;34m\u001b[0m\u001b[0;34m\u001b[0m\u001b[0m\n\u001b[0m\u001b[1;32m    207\u001b[0m         \u001b[0;32mif\u001b[0m \u001b[0mcallback\u001b[0m\u001b[0;34m:\u001b[0m\u001b[0;34m\u001b[0m\u001b[0;34m\u001b[0m\u001b[0m\n\u001b[1;32m    208\u001b[0m             \u001b[0mcallback\u001b[0m\u001b[0;34m(\u001b[0m\u001b[0mresult\u001b[0m\u001b[0;34m)\u001b[0m\u001b[0;34m\u001b[0m\u001b[0;34m\u001b[0m\u001b[0m\n",
      "\u001b[0;32m/mnt/lustre/scratch/home/cloucera/projects/mlgut/.venv/lib/python3.7/site-packages/joblib/_parallel_backends.py\u001b[0m in \u001b[0;36m__init__\u001b[0;34m(self, batch)\u001b[0m\n\u001b[1;32m    568\u001b[0m         \u001b[0;31m# Don't delay the application, to avoid keeping the input\u001b[0m\u001b[0;34m\u001b[0m\u001b[0;34m\u001b[0m\u001b[0;34m\u001b[0m\u001b[0m\n\u001b[1;32m    569\u001b[0m         \u001b[0;31m# arguments in memory\u001b[0m\u001b[0;34m\u001b[0m\u001b[0;34m\u001b[0m\u001b[0;34m\u001b[0m\u001b[0m\n\u001b[0;32m--> 570\u001b[0;31m         \u001b[0mself\u001b[0m\u001b[0;34m.\u001b[0m\u001b[0mresults\u001b[0m \u001b[0;34m=\u001b[0m \u001b[0mbatch\u001b[0m\u001b[0;34m(\u001b[0m\u001b[0;34m)\u001b[0m\u001b[0;34m\u001b[0m\u001b[0;34m\u001b[0m\u001b[0m\n\u001b[0m\u001b[1;32m    571\u001b[0m \u001b[0;34m\u001b[0m\u001b[0m\n\u001b[1;32m    572\u001b[0m     \u001b[0;32mdef\u001b[0m \u001b[0mget\u001b[0m\u001b[0;34m(\u001b[0m\u001b[0mself\u001b[0m\u001b[0;34m)\u001b[0m\u001b[0;34m:\u001b[0m\u001b[0;34m\u001b[0m\u001b[0;34m\u001b[0m\u001b[0m\n",
      "\u001b[0;32m/mnt/lustre/scratch/home/cloucera/projects/mlgut/.venv/lib/python3.7/site-packages/joblib/parallel.py\u001b[0m in \u001b[0;36m__call__\u001b[0;34m(self)\u001b[0m\n\u001b[1;32m    251\u001b[0m         \u001b[0;32mwith\u001b[0m \u001b[0mparallel_backend\u001b[0m\u001b[0;34m(\u001b[0m\u001b[0mself\u001b[0m\u001b[0;34m.\u001b[0m\u001b[0m_backend\u001b[0m\u001b[0;34m,\u001b[0m \u001b[0mn_jobs\u001b[0m\u001b[0;34m=\u001b[0m\u001b[0mself\u001b[0m\u001b[0;34m.\u001b[0m\u001b[0m_n_jobs\u001b[0m\u001b[0;34m)\u001b[0m\u001b[0;34m:\u001b[0m\u001b[0;34m\u001b[0m\u001b[0;34m\u001b[0m\u001b[0m\n\u001b[1;32m    252\u001b[0m             return [func(*args, **kwargs)\n\u001b[0;32m--> 253\u001b[0;31m                     for func, args, kwargs in self.items]\n\u001b[0m\u001b[1;32m    254\u001b[0m \u001b[0;34m\u001b[0m\u001b[0m\n\u001b[1;32m    255\u001b[0m     \u001b[0;32mdef\u001b[0m \u001b[0m__reduce__\u001b[0m\u001b[0;34m(\u001b[0m\u001b[0mself\u001b[0m\u001b[0;34m)\u001b[0m\u001b[0;34m:\u001b[0m\u001b[0;34m\u001b[0m\u001b[0;34m\u001b[0m\u001b[0m\n",
      "\u001b[0;32m/mnt/lustre/scratch/home/cloucera/projects/mlgut/.venv/lib/python3.7/site-packages/joblib/parallel.py\u001b[0m in \u001b[0;36m<listcomp>\u001b[0;34m(.0)\u001b[0m\n\u001b[1;32m    251\u001b[0m         \u001b[0;32mwith\u001b[0m \u001b[0mparallel_backend\u001b[0m\u001b[0;34m(\u001b[0m\u001b[0mself\u001b[0m\u001b[0;34m.\u001b[0m\u001b[0m_backend\u001b[0m\u001b[0;34m,\u001b[0m \u001b[0mn_jobs\u001b[0m\u001b[0;34m=\u001b[0m\u001b[0mself\u001b[0m\u001b[0;34m.\u001b[0m\u001b[0m_n_jobs\u001b[0m\u001b[0;34m)\u001b[0m\u001b[0;34m:\u001b[0m\u001b[0;34m\u001b[0m\u001b[0;34m\u001b[0m\u001b[0m\n\u001b[1;32m    252\u001b[0m             return [func(*args, **kwargs)\n\u001b[0;32m--> 253\u001b[0;31m                     for func, args, kwargs in self.items]\n\u001b[0m\u001b[1;32m    254\u001b[0m \u001b[0;34m\u001b[0m\u001b[0m\n\u001b[1;32m    255\u001b[0m     \u001b[0;32mdef\u001b[0m \u001b[0m__reduce__\u001b[0m\u001b[0;34m(\u001b[0m\u001b[0mself\u001b[0m\u001b[0;34m)\u001b[0m\u001b[0;34m:\u001b[0m\u001b[0;34m\u001b[0m\u001b[0;34m\u001b[0m\u001b[0m\n",
      "\u001b[0;32m/mnt/lustre/scratch/home/cloucera/projects/mlgut/.venv/lib/python3.7/site-packages/interpret/glassbox/ebm/ebm.py\u001b[0m in \u001b[0;36mtrain_model\u001b[0;34m(estimator, X, y, n_classes)\u001b[0m\n\u001b[1;32m    852\u001b[0m \u001b[0;34m\u001b[0m\u001b[0m\n\u001b[1;32m    853\u001b[0m         \u001b[0;32mdef\u001b[0m \u001b[0mtrain_model\u001b[0m\u001b[0;34m(\u001b[0m\u001b[0mestimator\u001b[0m\u001b[0;34m,\u001b[0m \u001b[0mX\u001b[0m\u001b[0;34m,\u001b[0m \u001b[0my\u001b[0m\u001b[0;34m,\u001b[0m \u001b[0mn_classes\u001b[0m\u001b[0;34m)\u001b[0m\u001b[0;34m:\u001b[0m\u001b[0;34m\u001b[0m\u001b[0;34m\u001b[0m\u001b[0m\n\u001b[0;32m--> 854\u001b[0;31m             \u001b[0;32mreturn\u001b[0m \u001b[0mestimator\u001b[0m\u001b[0;34m.\u001b[0m\u001b[0mfit_parallel\u001b[0m\u001b[0;34m(\u001b[0m\u001b[0mX\u001b[0m\u001b[0;34m,\u001b[0m \u001b[0my\u001b[0m\u001b[0;34m,\u001b[0m \u001b[0mn_classes\u001b[0m\u001b[0;34m)\u001b[0m\u001b[0;34m\u001b[0m\u001b[0;34m\u001b[0m\u001b[0m\n\u001b[0m\u001b[1;32m    855\u001b[0m \u001b[0;34m\u001b[0m\u001b[0m\n\u001b[1;32m    856\u001b[0m         train_model_args_iter = (\n",
      "\u001b[0;32m/mnt/lustre/scratch/home/cloucera/projects/mlgut/.venv/lib/python3.7/site-packages/interpret/glassbox/ebm/ebm.py\u001b[0m in \u001b[0;36mfit_parallel\u001b[0;34m(self, X, y, n_classes)\u001b[0m\n\u001b[1;32m    441\u001b[0m \u001b[0;34m\u001b[0m\u001b[0m\n\u001b[1;32m    442\u001b[0m         \u001b[0;31m# Train main effects\u001b[0m\u001b[0;34m\u001b[0m\u001b[0;34m\u001b[0m\u001b[0;34m\u001b[0m\u001b[0m\n\u001b[0;32m--> 443\u001b[0;31m         \u001b[0mself\u001b[0m\u001b[0;34m.\u001b[0m\u001b[0m_fit_main\u001b[0m\u001b[0;34m(\u001b[0m\u001b[0mmain_feature_combinations\u001b[0m\u001b[0;34m,\u001b[0m \u001b[0mX_train\u001b[0m\u001b[0;34m,\u001b[0m \u001b[0my_train\u001b[0m\u001b[0;34m,\u001b[0m \u001b[0mX_val\u001b[0m\u001b[0;34m,\u001b[0m \u001b[0my_val\u001b[0m\u001b[0;34m)\u001b[0m\u001b[0;34m\u001b[0m\u001b[0;34m\u001b[0m\u001b[0m\n\u001b[0m\u001b[1;32m    444\u001b[0m \u001b[0;34m\u001b[0m\u001b[0m\n\u001b[1;32m    445\u001b[0m         \u001b[0;31m# Build interaction terms, if required\u001b[0m\u001b[0;34m\u001b[0m\u001b[0;34m\u001b[0m\u001b[0;34m\u001b[0m\u001b[0m\n",
      "\u001b[0;32m/mnt/lustre/scratch/home/cloucera/projects/mlgut/.venv/lib/python3.7/site-packages/interpret/glassbox/ebm/ebm.py\u001b[0m in \u001b[0;36m_fit_main\u001b[0;34m(self, main_feature_combinations, X_train, y_train, X_val, y_val)\u001b[0m\n\u001b[1;32m    483\u001b[0m             \u001b[0mearly_stopping_tolerance\u001b[0m\u001b[0;34m=\u001b[0m\u001b[0mself\u001b[0m\u001b[0;34m.\u001b[0m\u001b[0mearly_stopping_tolerance\u001b[0m\u001b[0;34m,\u001b[0m\u001b[0;34m\u001b[0m\u001b[0;34m\u001b[0m\u001b[0m\n\u001b[1;32m    484\u001b[0m             \u001b[0mearly_stopping_run_length\u001b[0m\u001b[0;34m=\u001b[0m\u001b[0mself\u001b[0m\u001b[0;34m.\u001b[0m\u001b[0mearly_stopping_run_length\u001b[0m\u001b[0;34m,\u001b[0m\u001b[0;34m\u001b[0m\u001b[0;34m\u001b[0m\u001b[0m\n\u001b[0;32m--> 485\u001b[0;31m             \u001b[0mname\u001b[0m\u001b[0;34m=\u001b[0m\u001b[0;34m\"Main\"\u001b[0m\u001b[0;34m,\u001b[0m\u001b[0;34m\u001b[0m\u001b[0;34m\u001b[0m\u001b[0m\n\u001b[0m\u001b[1;32m    486\u001b[0m         )\n\u001b[1;32m    487\u001b[0m \u001b[0;34m\u001b[0m\u001b[0m\n",
      "\u001b[0;32m/mnt/lustre/scratch/home/cloucera/projects/mlgut/.venv/lib/python3.7/site-packages/interpret/glassbox/ebm/internal.py\u001b[0m in \u001b[0;36mcyclic_gradient_boost\u001b[0;34m(model_type, n_classes, features, feature_combinations, X_train, y_train, scores_train, X_val, y_val, scores_val, n_inner_bags, random_state, learning_rate, max_tree_splits, min_cases_for_splits, boosting_step_episodes, data_n_episodes, early_stopping_tolerance, early_stopping_run_length, name, optional_temp_params)\u001b[0m\n\u001b[1;32m   1030\u001b[0m                         \u001b[0mmax_tree_splits\u001b[0m\u001b[0;34m=\u001b[0m\u001b[0mmax_tree_splits\u001b[0m\u001b[0;34m,\u001b[0m\u001b[0;34m\u001b[0m\u001b[0;34m\u001b[0m\u001b[0m\n\u001b[1;32m   1031\u001b[0m                         \u001b[0mmin_cases_for_split\u001b[0m\u001b[0;34m=\u001b[0m\u001b[0mmin_cases_for_splits\u001b[0m\u001b[0;34m,\u001b[0m\u001b[0;34m\u001b[0m\u001b[0;34m\u001b[0m\u001b[0m\n\u001b[0;32m-> 1032\u001b[0;31m                         \u001b[0mboosting_step_episodes\u001b[0m\u001b[0;34m=\u001b[0m\u001b[0mboosting_step_episodes\u001b[0m\u001b[0;34m,\u001b[0m\u001b[0;34m\u001b[0m\u001b[0;34m\u001b[0m\u001b[0m\n\u001b[0m\u001b[1;32m   1033\u001b[0m                     )\n\u001b[1;32m   1034\u001b[0m \u001b[0;34m\u001b[0m\u001b[0m\n",
      "\u001b[0;32m/mnt/lustre/scratch/home/cloucera/projects/mlgut/.venv/lib/python3.7/site-packages/interpret/glassbox/ebm/internal.py\u001b[0m in \u001b[0;36mboosting_step\u001b[0;34m(self, feature_combination_index, learning_rate, max_tree_splits, min_cases_for_split, boosting_step_episodes)\u001b[0m\n\u001b[1;32m    692\u001b[0m                 \u001b[0;31m# TODO PK verify that we aren't copying data while making the view and/or passing to ApplyModelFeatureCombinationUpdate\u001b[0m\u001b[0;34m\u001b[0m\u001b[0;34m\u001b[0m\u001b[0;34m\u001b[0m\u001b[0m\n\u001b[1;32m    693\u001b[0m                 model_update_tensor = Native.make_ndarray(\n\u001b[0;32m--> 694\u001b[0;31m                     \u001b[0mmodel_update_tensor_pointer\u001b[0m\u001b[0;34m,\u001b[0m \u001b[0mshape\u001b[0m\u001b[0;34m,\u001b[0m \u001b[0mdtype\u001b[0m\u001b[0;34m=\u001b[0m\u001b[0mnp\u001b[0m\u001b[0;34m.\u001b[0m\u001b[0mdouble\u001b[0m\u001b[0;34m,\u001b[0m \u001b[0mcopy_data\u001b[0m\u001b[0;34m=\u001b[0m\u001b[0;32mFalse\u001b[0m\u001b[0;34m\u001b[0m\u001b[0;34m\u001b[0m\u001b[0m\n\u001b[0m\u001b[1;32m    695\u001b[0m                 )\n\u001b[1;32m    696\u001b[0m \u001b[0;34m\u001b[0m\u001b[0m\n",
      "\u001b[0;32m/mnt/lustre/scratch/home/cloucera/projects/mlgut/.venv/lib/python3.7/site-packages/interpret/glassbox/ebm/internal.py\u001b[0m in \u001b[0;36mmake_ndarray\u001b[0;34m(c_pointer, shape, dtype, writable, copy_data)\u001b[0m\n\u001b[1;32m    373\u001b[0m         \"\"\"\n\u001b[1;32m    374\u001b[0m \u001b[0;34m\u001b[0m\u001b[0m\n\u001b[0;32m--> 375\u001b[0;31m         \u001b[0marr_size\u001b[0m \u001b[0;34m=\u001b[0m \u001b[0mnp\u001b[0m\u001b[0;34m.\u001b[0m\u001b[0mprod\u001b[0m\u001b[0;34m(\u001b[0m\u001b[0mshape\u001b[0m\u001b[0;34m[\u001b[0m\u001b[0;34m:\u001b[0m\u001b[0;34m]\u001b[0m\u001b[0;34m)\u001b[0m \u001b[0;34m*\u001b[0m \u001b[0mnp\u001b[0m\u001b[0;34m.\u001b[0m\u001b[0mdtype\u001b[0m\u001b[0;34m(\u001b[0m\u001b[0mdtype\u001b[0m\u001b[0;34m)\u001b[0m\u001b[0;34m.\u001b[0m\u001b[0mitemsize\u001b[0m\u001b[0;34m\u001b[0m\u001b[0;34m\u001b[0m\u001b[0m\n\u001b[0m\u001b[1;32m    376\u001b[0m         \u001b[0mbuf_from_mem\u001b[0m \u001b[0;34m=\u001b[0m \u001b[0mct\u001b[0m\u001b[0;34m.\u001b[0m\u001b[0mpythonapi\u001b[0m\u001b[0;34m.\u001b[0m\u001b[0mPyMemoryView_FromMemory\u001b[0m\u001b[0;34m\u001b[0m\u001b[0;34m\u001b[0m\u001b[0m\n\u001b[1;32m    377\u001b[0m         \u001b[0mbuf_from_mem\u001b[0m\u001b[0;34m.\u001b[0m\u001b[0mrestype\u001b[0m \u001b[0;34m=\u001b[0m \u001b[0mct\u001b[0m\u001b[0;34m.\u001b[0m\u001b[0mpy_object\u001b[0m\u001b[0;34m\u001b[0m\u001b[0;34m\u001b[0m\u001b[0m\n",
      "\u001b[0;32m<__array_function__ internals>\u001b[0m in \u001b[0;36mprod\u001b[0;34m(*args, **kwargs)\u001b[0m\n",
      "\u001b[0;31mKeyboardInterrupt\u001b[0m: "
     ]
    }
   ],
   "source": [
    "%%capture cap\n",
    "lopo = LeaveOneGroupOut().split(features, y, projects)\n",
    "cvres = cross_validate(model, features, y, cv=lopo, return_estimator=True)"
   ]
  },
  {
   "cell_type": "code",
   "execution_count": 900,
   "metadata": {},
   "outputs": [
    {
     "data": {
      "text/plain": [
       "0.7433276200024664"
      ]
     },
     "execution_count": 900,
     "metadata": {},
     "output_type": "execute_result"
    }
   ],
   "source": [
    "cvres[\"test_score\"].mean()"
   ]
  },
  {
   "cell_type": "code",
   "execution_count": 901,
   "metadata": {},
   "outputs": [],
   "source": [
    "n_repeats = 22"
   ]
  },
  {
   "cell_type": "code",
   "execution_count": null,
   "metadata": {},
   "outputs": [],
   "source": []
  },
  {
   "cell_type": "code",
   "execution_count": 904,
   "metadata": {
    "collapsed": true,
    "jupyter": {
     "outputs_hidden": true
    }
   },
   "outputs": [
    {
     "ename": "KeyboardInterrupt",
     "evalue": "",
     "output_type": "error",
     "traceback": [
      "\u001b[0;31m---------------------------------------------------------------------------\u001b[0m",
      "\u001b[0;31mKeyboardInterrupt\u001b[0m                         Traceback (most recent call last)",
      "\u001b[0;32m<ipython-input-904-a4bf162b0b76>\u001b[0m in \u001b[0;36m<module>\u001b[0;34m\u001b[0m\n\u001b[0;32m----> 1\u001b[0;31m \u001b[0mcvres\u001b[0m \u001b[0;34m=\u001b[0m \u001b[0;34m[\u001b[0m\u001b[0mcross_validate\u001b[0m\u001b[0;34m(\u001b[0m\u001b[0mmodel\u001b[0m\u001b[0;34m,\u001b[0m \u001b[0mfeatures\u001b[0m\u001b[0;34m[\u001b[0m\u001b[0mfeatures_used\u001b[0m\u001b[0;34m]\u001b[0m\u001b[0;34m,\u001b[0m \u001b[0my\u001b[0m\u001b[0;34m,\u001b[0m \u001b[0mcv\u001b[0m\u001b[0;34m=\u001b[0m\u001b[0mLeaveOneGroupOut\u001b[0m\u001b[0;34m(\u001b[0m\u001b[0;34m)\u001b[0m\u001b[0;34m.\u001b[0m\u001b[0msplit\u001b[0m\u001b[0;34m(\u001b[0m\u001b[0mfeatures\u001b[0m\u001b[0;34m,\u001b[0m \u001b[0my\u001b[0m\u001b[0;34m,\u001b[0m \u001b[0mprojects\u001b[0m\u001b[0;34m)\u001b[0m\u001b[0;34m,\u001b[0m \u001b[0mreturn_estimator\u001b[0m\u001b[0;34m=\u001b[0m\u001b[0;32mTrue\u001b[0m\u001b[0;34m)\u001b[0m \u001b[0;32mfor\u001b[0m \u001b[0m_\u001b[0m \u001b[0;32min\u001b[0m \u001b[0mrange\u001b[0m\u001b[0;34m(\u001b[0m\u001b[0mn_repeats\u001b[0m\u001b[0;34m)\u001b[0m\u001b[0;34m]\u001b[0m\u001b[0;34m\u001b[0m\u001b[0;34m\u001b[0m\u001b[0m\n\u001b[0m",
      "\u001b[0;32m<ipython-input-904-a4bf162b0b76>\u001b[0m in \u001b[0;36m<listcomp>\u001b[0;34m(.0)\u001b[0m\n\u001b[0;32m----> 1\u001b[0;31m \u001b[0mcvres\u001b[0m \u001b[0;34m=\u001b[0m \u001b[0;34m[\u001b[0m\u001b[0mcross_validate\u001b[0m\u001b[0;34m(\u001b[0m\u001b[0mmodel\u001b[0m\u001b[0;34m,\u001b[0m \u001b[0mfeatures\u001b[0m\u001b[0;34m[\u001b[0m\u001b[0mfeatures_used\u001b[0m\u001b[0;34m]\u001b[0m\u001b[0;34m,\u001b[0m \u001b[0my\u001b[0m\u001b[0;34m,\u001b[0m \u001b[0mcv\u001b[0m\u001b[0;34m=\u001b[0m\u001b[0mLeaveOneGroupOut\u001b[0m\u001b[0;34m(\u001b[0m\u001b[0;34m)\u001b[0m\u001b[0;34m.\u001b[0m\u001b[0msplit\u001b[0m\u001b[0;34m(\u001b[0m\u001b[0mfeatures\u001b[0m\u001b[0;34m,\u001b[0m \u001b[0my\u001b[0m\u001b[0;34m,\u001b[0m \u001b[0mprojects\u001b[0m\u001b[0;34m)\u001b[0m\u001b[0;34m,\u001b[0m \u001b[0mreturn_estimator\u001b[0m\u001b[0;34m=\u001b[0m\u001b[0;32mTrue\u001b[0m\u001b[0;34m)\u001b[0m \u001b[0;32mfor\u001b[0m \u001b[0m_\u001b[0m \u001b[0;32min\u001b[0m \u001b[0mrange\u001b[0m\u001b[0;34m(\u001b[0m\u001b[0mn_repeats\u001b[0m\u001b[0;34m)\u001b[0m\u001b[0;34m]\u001b[0m\u001b[0;34m\u001b[0m\u001b[0;34m\u001b[0m\u001b[0m\n\u001b[0m",
      "\u001b[0;32m/mnt/lustre/scratch/home/cloucera/projects/mlgut/.venv/lib/python3.7/site-packages/sklearn/utils/validation.py\u001b[0m in \u001b[0;36minner_f\u001b[0;34m(*args, **kwargs)\u001b[0m\n\u001b[1;32m     71\u001b[0m                           FutureWarning)\n\u001b[1;32m     72\u001b[0m         \u001b[0mkwargs\u001b[0m\u001b[0;34m.\u001b[0m\u001b[0mupdate\u001b[0m\u001b[0;34m(\u001b[0m\u001b[0;34m{\u001b[0m\u001b[0mk\u001b[0m\u001b[0;34m:\u001b[0m \u001b[0marg\u001b[0m \u001b[0;32mfor\u001b[0m \u001b[0mk\u001b[0m\u001b[0;34m,\u001b[0m \u001b[0marg\u001b[0m \u001b[0;32min\u001b[0m \u001b[0mzip\u001b[0m\u001b[0;34m(\u001b[0m\u001b[0msig\u001b[0m\u001b[0;34m.\u001b[0m\u001b[0mparameters\u001b[0m\u001b[0;34m,\u001b[0m \u001b[0margs\u001b[0m\u001b[0;34m)\u001b[0m\u001b[0;34m}\u001b[0m\u001b[0;34m)\u001b[0m\u001b[0;34m\u001b[0m\u001b[0;34m\u001b[0m\u001b[0m\n\u001b[0;32m---> 73\u001b[0;31m         \u001b[0;32mreturn\u001b[0m \u001b[0mf\u001b[0m\u001b[0;34m(\u001b[0m\u001b[0;34m**\u001b[0m\u001b[0mkwargs\u001b[0m\u001b[0;34m)\u001b[0m\u001b[0;34m\u001b[0m\u001b[0;34m\u001b[0m\u001b[0m\n\u001b[0m\u001b[1;32m     74\u001b[0m     \u001b[0;32mreturn\u001b[0m \u001b[0minner_f\u001b[0m\u001b[0;34m\u001b[0m\u001b[0;34m\u001b[0m\u001b[0m\n\u001b[1;32m     75\u001b[0m \u001b[0;34m\u001b[0m\u001b[0m\n",
      "\u001b[0;32m/mnt/lustre/scratch/home/cloucera/projects/mlgut/.venv/lib/python3.7/site-packages/sklearn/model_selection/_validation.py\u001b[0m in \u001b[0;36mcross_validate\u001b[0;34m(estimator, X, y, groups, scoring, cv, n_jobs, verbose, fit_params, pre_dispatch, return_train_score, return_estimator, error_score)\u001b[0m\n\u001b[1;32m    246\u001b[0m             \u001b[0mreturn_times\u001b[0m\u001b[0;34m=\u001b[0m\u001b[0;32mTrue\u001b[0m\u001b[0;34m,\u001b[0m \u001b[0mreturn_estimator\u001b[0m\u001b[0;34m=\u001b[0m\u001b[0mreturn_estimator\u001b[0m\u001b[0;34m,\u001b[0m\u001b[0;34m\u001b[0m\u001b[0;34m\u001b[0m\u001b[0m\n\u001b[1;32m    247\u001b[0m             error_score=error_score)\n\u001b[0;32m--> 248\u001b[0;31m         for train, test in cv.split(X, y, groups))\n\u001b[0m\u001b[1;32m    249\u001b[0m \u001b[0;34m\u001b[0m\u001b[0m\n\u001b[1;32m    250\u001b[0m     \u001b[0mzipped_scores\u001b[0m \u001b[0;34m=\u001b[0m \u001b[0mlist\u001b[0m\u001b[0;34m(\u001b[0m\u001b[0mzip\u001b[0m\u001b[0;34m(\u001b[0m\u001b[0;34m*\u001b[0m\u001b[0mscores\u001b[0m\u001b[0;34m)\u001b[0m\u001b[0;34m)\u001b[0m\u001b[0;34m\u001b[0m\u001b[0;34m\u001b[0m\u001b[0m\n",
      "\u001b[0;32m/mnt/lustre/scratch/home/cloucera/projects/mlgut/.venv/lib/python3.7/site-packages/joblib/parallel.py\u001b[0m in \u001b[0;36m__call__\u001b[0;34m(self, iterable)\u001b[0m\n\u001b[1;32m   1030\u001b[0m                 \u001b[0mself\u001b[0m\u001b[0;34m.\u001b[0m\u001b[0m_iterating\u001b[0m \u001b[0;34m=\u001b[0m \u001b[0mself\u001b[0m\u001b[0;34m.\u001b[0m\u001b[0m_original_iterator\u001b[0m \u001b[0;32mis\u001b[0m \u001b[0;32mnot\u001b[0m \u001b[0;32mNone\u001b[0m\u001b[0;34m\u001b[0m\u001b[0;34m\u001b[0m\u001b[0m\n\u001b[1;32m   1031\u001b[0m \u001b[0;34m\u001b[0m\u001b[0m\n\u001b[0;32m-> 1032\u001b[0;31m             \u001b[0;32mwhile\u001b[0m \u001b[0mself\u001b[0m\u001b[0;34m.\u001b[0m\u001b[0mdispatch_one_batch\u001b[0m\u001b[0;34m(\u001b[0m\u001b[0miterator\u001b[0m\u001b[0;34m)\u001b[0m\u001b[0;34m:\u001b[0m\u001b[0;34m\u001b[0m\u001b[0;34m\u001b[0m\u001b[0m\n\u001b[0m\u001b[1;32m   1033\u001b[0m                 \u001b[0;32mpass\u001b[0m\u001b[0;34m\u001b[0m\u001b[0;34m\u001b[0m\u001b[0m\n\u001b[1;32m   1034\u001b[0m \u001b[0;34m\u001b[0m\u001b[0m\n",
      "\u001b[0;32m/mnt/lustre/scratch/home/cloucera/projects/mlgut/.venv/lib/python3.7/site-packages/joblib/parallel.py\u001b[0m in \u001b[0;36mdispatch_one_batch\u001b[0;34m(self, iterator)\u001b[0m\n\u001b[1;32m    845\u001b[0m                 \u001b[0;32mreturn\u001b[0m \u001b[0;32mFalse\u001b[0m\u001b[0;34m\u001b[0m\u001b[0;34m\u001b[0m\u001b[0m\n\u001b[1;32m    846\u001b[0m             \u001b[0;32melse\u001b[0m\u001b[0;34m:\u001b[0m\u001b[0;34m\u001b[0m\u001b[0;34m\u001b[0m\u001b[0m\n\u001b[0;32m--> 847\u001b[0;31m                 \u001b[0mself\u001b[0m\u001b[0;34m.\u001b[0m\u001b[0m_dispatch\u001b[0m\u001b[0;34m(\u001b[0m\u001b[0mtasks\u001b[0m\u001b[0;34m)\u001b[0m\u001b[0;34m\u001b[0m\u001b[0;34m\u001b[0m\u001b[0m\n\u001b[0m\u001b[1;32m    848\u001b[0m                 \u001b[0;32mreturn\u001b[0m \u001b[0;32mTrue\u001b[0m\u001b[0;34m\u001b[0m\u001b[0;34m\u001b[0m\u001b[0m\n\u001b[1;32m    849\u001b[0m \u001b[0;34m\u001b[0m\u001b[0m\n",
      "\u001b[0;32m/mnt/lustre/scratch/home/cloucera/projects/mlgut/.venv/lib/python3.7/site-packages/joblib/parallel.py\u001b[0m in \u001b[0;36m_dispatch\u001b[0;34m(self, batch)\u001b[0m\n\u001b[1;32m    763\u001b[0m         \u001b[0;32mwith\u001b[0m \u001b[0mself\u001b[0m\u001b[0;34m.\u001b[0m\u001b[0m_lock\u001b[0m\u001b[0;34m:\u001b[0m\u001b[0;34m\u001b[0m\u001b[0;34m\u001b[0m\u001b[0m\n\u001b[1;32m    764\u001b[0m             \u001b[0mjob_idx\u001b[0m \u001b[0;34m=\u001b[0m \u001b[0mlen\u001b[0m\u001b[0;34m(\u001b[0m\u001b[0mself\u001b[0m\u001b[0;34m.\u001b[0m\u001b[0m_jobs\u001b[0m\u001b[0;34m)\u001b[0m\u001b[0;34m\u001b[0m\u001b[0;34m\u001b[0m\u001b[0m\n\u001b[0;32m--> 765\u001b[0;31m             \u001b[0mjob\u001b[0m \u001b[0;34m=\u001b[0m \u001b[0mself\u001b[0m\u001b[0;34m.\u001b[0m\u001b[0m_backend\u001b[0m\u001b[0;34m.\u001b[0m\u001b[0mapply_async\u001b[0m\u001b[0;34m(\u001b[0m\u001b[0mbatch\u001b[0m\u001b[0;34m,\u001b[0m \u001b[0mcallback\u001b[0m\u001b[0;34m=\u001b[0m\u001b[0mcb\u001b[0m\u001b[0;34m)\u001b[0m\u001b[0;34m\u001b[0m\u001b[0;34m\u001b[0m\u001b[0m\n\u001b[0m\u001b[1;32m    766\u001b[0m             \u001b[0;31m# A job can complete so quickly than its callback is\u001b[0m\u001b[0;34m\u001b[0m\u001b[0;34m\u001b[0m\u001b[0;34m\u001b[0m\u001b[0m\n\u001b[1;32m    767\u001b[0m             \u001b[0;31m# called before we get here, causing self._jobs to\u001b[0m\u001b[0;34m\u001b[0m\u001b[0;34m\u001b[0m\u001b[0;34m\u001b[0m\u001b[0m\n",
      "\u001b[0;32m/mnt/lustre/scratch/home/cloucera/projects/mlgut/.venv/lib/python3.7/site-packages/joblib/_parallel_backends.py\u001b[0m in \u001b[0;36mapply_async\u001b[0;34m(self, func, callback)\u001b[0m\n\u001b[1;32m    204\u001b[0m     \u001b[0;32mdef\u001b[0m \u001b[0mapply_async\u001b[0m\u001b[0;34m(\u001b[0m\u001b[0mself\u001b[0m\u001b[0;34m,\u001b[0m \u001b[0mfunc\u001b[0m\u001b[0;34m,\u001b[0m \u001b[0mcallback\u001b[0m\u001b[0;34m=\u001b[0m\u001b[0;32mNone\u001b[0m\u001b[0;34m)\u001b[0m\u001b[0;34m:\u001b[0m\u001b[0;34m\u001b[0m\u001b[0;34m\u001b[0m\u001b[0m\n\u001b[1;32m    205\u001b[0m         \u001b[0;34m\"\"\"Schedule a func to be run\"\"\"\u001b[0m\u001b[0;34m\u001b[0m\u001b[0;34m\u001b[0m\u001b[0m\n\u001b[0;32m--> 206\u001b[0;31m         \u001b[0mresult\u001b[0m \u001b[0;34m=\u001b[0m \u001b[0mImmediateResult\u001b[0m\u001b[0;34m(\u001b[0m\u001b[0mfunc\u001b[0m\u001b[0;34m)\u001b[0m\u001b[0;34m\u001b[0m\u001b[0;34m\u001b[0m\u001b[0m\n\u001b[0m\u001b[1;32m    207\u001b[0m         \u001b[0;32mif\u001b[0m \u001b[0mcallback\u001b[0m\u001b[0;34m:\u001b[0m\u001b[0;34m\u001b[0m\u001b[0;34m\u001b[0m\u001b[0m\n\u001b[1;32m    208\u001b[0m             \u001b[0mcallback\u001b[0m\u001b[0;34m(\u001b[0m\u001b[0mresult\u001b[0m\u001b[0;34m)\u001b[0m\u001b[0;34m\u001b[0m\u001b[0;34m\u001b[0m\u001b[0m\n",
      "\u001b[0;32m/mnt/lustre/scratch/home/cloucera/projects/mlgut/.venv/lib/python3.7/site-packages/joblib/_parallel_backends.py\u001b[0m in \u001b[0;36m__init__\u001b[0;34m(self, batch)\u001b[0m\n\u001b[1;32m    568\u001b[0m         \u001b[0;31m# Don't delay the application, to avoid keeping the input\u001b[0m\u001b[0;34m\u001b[0m\u001b[0;34m\u001b[0m\u001b[0;34m\u001b[0m\u001b[0m\n\u001b[1;32m    569\u001b[0m         \u001b[0;31m# arguments in memory\u001b[0m\u001b[0;34m\u001b[0m\u001b[0;34m\u001b[0m\u001b[0;34m\u001b[0m\u001b[0m\n\u001b[0;32m--> 570\u001b[0;31m         \u001b[0mself\u001b[0m\u001b[0;34m.\u001b[0m\u001b[0mresults\u001b[0m \u001b[0;34m=\u001b[0m \u001b[0mbatch\u001b[0m\u001b[0;34m(\u001b[0m\u001b[0;34m)\u001b[0m\u001b[0;34m\u001b[0m\u001b[0;34m\u001b[0m\u001b[0m\n\u001b[0m\u001b[1;32m    571\u001b[0m \u001b[0;34m\u001b[0m\u001b[0m\n\u001b[1;32m    572\u001b[0m     \u001b[0;32mdef\u001b[0m \u001b[0mget\u001b[0m\u001b[0;34m(\u001b[0m\u001b[0mself\u001b[0m\u001b[0;34m)\u001b[0m\u001b[0;34m:\u001b[0m\u001b[0;34m\u001b[0m\u001b[0;34m\u001b[0m\u001b[0m\n",
      "\u001b[0;32m/mnt/lustre/scratch/home/cloucera/projects/mlgut/.venv/lib/python3.7/site-packages/joblib/parallel.py\u001b[0m in \u001b[0;36m__call__\u001b[0;34m(self)\u001b[0m\n\u001b[1;32m    251\u001b[0m         \u001b[0;32mwith\u001b[0m \u001b[0mparallel_backend\u001b[0m\u001b[0;34m(\u001b[0m\u001b[0mself\u001b[0m\u001b[0;34m.\u001b[0m\u001b[0m_backend\u001b[0m\u001b[0;34m,\u001b[0m \u001b[0mn_jobs\u001b[0m\u001b[0;34m=\u001b[0m\u001b[0mself\u001b[0m\u001b[0;34m.\u001b[0m\u001b[0m_n_jobs\u001b[0m\u001b[0;34m)\u001b[0m\u001b[0;34m:\u001b[0m\u001b[0;34m\u001b[0m\u001b[0;34m\u001b[0m\u001b[0m\n\u001b[1;32m    252\u001b[0m             return [func(*args, **kwargs)\n\u001b[0;32m--> 253\u001b[0;31m                     for func, args, kwargs in self.items]\n\u001b[0m\u001b[1;32m    254\u001b[0m \u001b[0;34m\u001b[0m\u001b[0m\n\u001b[1;32m    255\u001b[0m     \u001b[0;32mdef\u001b[0m \u001b[0m__reduce__\u001b[0m\u001b[0;34m(\u001b[0m\u001b[0mself\u001b[0m\u001b[0;34m)\u001b[0m\u001b[0;34m:\u001b[0m\u001b[0;34m\u001b[0m\u001b[0;34m\u001b[0m\u001b[0m\n",
      "\u001b[0;32m/mnt/lustre/scratch/home/cloucera/projects/mlgut/.venv/lib/python3.7/site-packages/joblib/parallel.py\u001b[0m in \u001b[0;36m<listcomp>\u001b[0;34m(.0)\u001b[0m\n\u001b[1;32m    251\u001b[0m         \u001b[0;32mwith\u001b[0m \u001b[0mparallel_backend\u001b[0m\u001b[0;34m(\u001b[0m\u001b[0mself\u001b[0m\u001b[0;34m.\u001b[0m\u001b[0m_backend\u001b[0m\u001b[0;34m,\u001b[0m \u001b[0mn_jobs\u001b[0m\u001b[0;34m=\u001b[0m\u001b[0mself\u001b[0m\u001b[0;34m.\u001b[0m\u001b[0m_n_jobs\u001b[0m\u001b[0;34m)\u001b[0m\u001b[0;34m:\u001b[0m\u001b[0;34m\u001b[0m\u001b[0;34m\u001b[0m\u001b[0m\n\u001b[1;32m    252\u001b[0m             return [func(*args, **kwargs)\n\u001b[0;32m--> 253\u001b[0;31m                     for func, args, kwargs in self.items]\n\u001b[0m\u001b[1;32m    254\u001b[0m \u001b[0;34m\u001b[0m\u001b[0m\n\u001b[1;32m    255\u001b[0m     \u001b[0;32mdef\u001b[0m \u001b[0m__reduce__\u001b[0m\u001b[0;34m(\u001b[0m\u001b[0mself\u001b[0m\u001b[0;34m)\u001b[0m\u001b[0;34m:\u001b[0m\u001b[0;34m\u001b[0m\u001b[0;34m\u001b[0m\u001b[0m\n",
      "\u001b[0;32m/mnt/lustre/scratch/home/cloucera/projects/mlgut/.venv/lib/python3.7/site-packages/sklearn/model_selection/_validation.py\u001b[0m in \u001b[0;36m_fit_and_score\u001b[0;34m(estimator, X, y, scorer, train, test, verbose, parameters, fit_params, return_train_score, return_parameters, return_n_test_samples, return_times, return_estimator, error_score)\u001b[0m\n\u001b[1;32m    529\u001b[0m             \u001b[0mestimator\u001b[0m\u001b[0;34m.\u001b[0m\u001b[0mfit\u001b[0m\u001b[0;34m(\u001b[0m\u001b[0mX_train\u001b[0m\u001b[0;34m,\u001b[0m \u001b[0;34m**\u001b[0m\u001b[0mfit_params\u001b[0m\u001b[0;34m)\u001b[0m\u001b[0;34m\u001b[0m\u001b[0;34m\u001b[0m\u001b[0m\n\u001b[1;32m    530\u001b[0m         \u001b[0;32melse\u001b[0m\u001b[0;34m:\u001b[0m\u001b[0;34m\u001b[0m\u001b[0;34m\u001b[0m\u001b[0m\n\u001b[0;32m--> 531\u001b[0;31m             \u001b[0mestimator\u001b[0m\u001b[0;34m.\u001b[0m\u001b[0mfit\u001b[0m\u001b[0;34m(\u001b[0m\u001b[0mX_train\u001b[0m\u001b[0;34m,\u001b[0m \u001b[0my_train\u001b[0m\u001b[0;34m,\u001b[0m \u001b[0;34m**\u001b[0m\u001b[0mfit_params\u001b[0m\u001b[0;34m)\u001b[0m\u001b[0;34m\u001b[0m\u001b[0;34m\u001b[0m\u001b[0m\n\u001b[0m\u001b[1;32m    532\u001b[0m \u001b[0;34m\u001b[0m\u001b[0m\n\u001b[1;32m    533\u001b[0m     \u001b[0;32mexcept\u001b[0m \u001b[0mException\u001b[0m \u001b[0;32mas\u001b[0m \u001b[0me\u001b[0m\u001b[0;34m:\u001b[0m\u001b[0;34m\u001b[0m\u001b[0;34m\u001b[0m\u001b[0m\n",
      "\u001b[0;32m/mnt/lustre/scratch/home/cloucera/projects/mlgut/.venv/lib/python3.7/site-packages/sklearn/pipeline.py\u001b[0m in \u001b[0;36mfit\u001b[0;34m(self, X, y, **fit_params)\u001b[0m\n\u001b[1;32m    333\u001b[0m             \u001b[0;32mif\u001b[0m \u001b[0mself\u001b[0m\u001b[0;34m.\u001b[0m\u001b[0m_final_estimator\u001b[0m \u001b[0;34m!=\u001b[0m \u001b[0;34m'passthrough'\u001b[0m\u001b[0;34m:\u001b[0m\u001b[0;34m\u001b[0m\u001b[0;34m\u001b[0m\u001b[0m\n\u001b[1;32m    334\u001b[0m                 \u001b[0mfit_params_last_step\u001b[0m \u001b[0;34m=\u001b[0m \u001b[0mfit_params_steps\u001b[0m\u001b[0;34m[\u001b[0m\u001b[0mself\u001b[0m\u001b[0;34m.\u001b[0m\u001b[0msteps\u001b[0m\u001b[0;34m[\u001b[0m\u001b[0;34m-\u001b[0m\u001b[0;36m1\u001b[0m\u001b[0;34m]\u001b[0m\u001b[0;34m[\u001b[0m\u001b[0;36m0\u001b[0m\u001b[0;34m]\u001b[0m\u001b[0;34m]\u001b[0m\u001b[0;34m\u001b[0m\u001b[0;34m\u001b[0m\u001b[0m\n\u001b[0;32m--> 335\u001b[0;31m                 \u001b[0mself\u001b[0m\u001b[0;34m.\u001b[0m\u001b[0m_final_estimator\u001b[0m\u001b[0;34m.\u001b[0m\u001b[0mfit\u001b[0m\u001b[0;34m(\u001b[0m\u001b[0mXt\u001b[0m\u001b[0;34m,\u001b[0m \u001b[0my\u001b[0m\u001b[0;34m,\u001b[0m \u001b[0;34m**\u001b[0m\u001b[0mfit_params_last_step\u001b[0m\u001b[0;34m)\u001b[0m\u001b[0;34m\u001b[0m\u001b[0;34m\u001b[0m\u001b[0m\n\u001b[0m\u001b[1;32m    336\u001b[0m \u001b[0;34m\u001b[0m\u001b[0m\n\u001b[1;32m    337\u001b[0m         \u001b[0;32mreturn\u001b[0m \u001b[0mself\u001b[0m\u001b[0;34m\u001b[0m\u001b[0;34m\u001b[0m\u001b[0m\n",
      "\u001b[0;32m/mnt/lustre/scratch/home/cloucera/projects/mlgut/.venv/lib/python3.7/site-packages/interpret/glassbox/ebm/ebm.py\u001b[0m in \u001b[0;36mfit\u001b[0;34m(self, X, y)\u001b[0m\n\u001b[1;32m    858\u001b[0m         )\n\u001b[1;32m    859\u001b[0m \u001b[0;34m\u001b[0m\u001b[0m\n\u001b[0;32m--> 860\u001b[0;31m         \u001b[0mestimators\u001b[0m \u001b[0;34m=\u001b[0m \u001b[0mprovider\u001b[0m\u001b[0;34m.\u001b[0m\u001b[0mparallel\u001b[0m\u001b[0;34m(\u001b[0m\u001b[0mtrain_model\u001b[0m\u001b[0;34m,\u001b[0m \u001b[0mtrain_model_args_iter\u001b[0m\u001b[0;34m)\u001b[0m\u001b[0;34m\u001b[0m\u001b[0;34m\u001b[0m\u001b[0m\n\u001b[0m\u001b[1;32m    861\u001b[0m \u001b[0;34m\u001b[0m\u001b[0m\n\u001b[1;32m    862\u001b[0m         \u001b[0;32mif\u001b[0m \u001b[0misinstance\u001b[0m\u001b[0;34m(\u001b[0m\u001b[0mself\u001b[0m\u001b[0;34m.\u001b[0m\u001b[0minteractions\u001b[0m\u001b[0;34m,\u001b[0m \u001b[0mint\u001b[0m\u001b[0;34m)\u001b[0m \u001b[0;32mand\u001b[0m \u001b[0mself\u001b[0m\u001b[0;34m.\u001b[0m\u001b[0minteractions\u001b[0m \u001b[0;34m>\u001b[0m \u001b[0;36m0\u001b[0m\u001b[0;34m:\u001b[0m\u001b[0;34m\u001b[0m\u001b[0;34m\u001b[0m\u001b[0m\n",
      "\u001b[0;32m/mnt/lustre/scratch/home/cloucera/projects/mlgut/.venv/lib/python3.7/site-packages/interpret/provider/compute.py\u001b[0m in \u001b[0;36mparallel\u001b[0;34m(self, compute_fn, compute_args_iter)\u001b[0m\n\u001b[1;32m     22\u001b[0m         )\n\u001b[1;32m     23\u001b[0m         \u001b[0;31m# NOTE: Force gc, as Python does not free native memory easy.\u001b[0m\u001b[0;34m\u001b[0m\u001b[0;34m\u001b[0m\u001b[0;34m\u001b[0m\u001b[0m\n\u001b[0;32m---> 24\u001b[0;31m         \u001b[0mgc\u001b[0m\u001b[0;34m.\u001b[0m\u001b[0mcollect\u001b[0m\u001b[0;34m(\u001b[0m\u001b[0;34m)\u001b[0m\u001b[0;34m\u001b[0m\u001b[0;34m\u001b[0m\u001b[0m\n\u001b[0m\u001b[1;32m     25\u001b[0m         \u001b[0;32mreturn\u001b[0m \u001b[0mresults\u001b[0m\u001b[0;34m\u001b[0m\u001b[0;34m\u001b[0m\u001b[0m\n\u001b[1;32m     26\u001b[0m \u001b[0;34m\u001b[0m\u001b[0m\n",
      "\u001b[0;31mKeyboardInterrupt\u001b[0m: "
     ]
    }
   ],
   "source": [
    "%%capture cap\n",
    "cvres = [cross_validate(model, features[features_used], y, cv=LeaveOneGroupOut().split(features, y, projects), return_estimator=True) for _ in range(n_repeats)]"
   ]
  },
  {
   "cell_type": "code",
   "execution_count": 905,
   "metadata": {
    "collapsed": true,
    "jupyter": {
     "outputs_hidden": true
    }
   },
   "outputs": [
    {
     "ename": "TypeError",
     "evalue": "string indices must be integers",
     "output_type": "error",
     "traceback": [
      "\u001b[0;31m---------------------------------------------------------------------------\u001b[0m",
      "\u001b[0;31mTypeError\u001b[0m                                 Traceback (most recent call last)",
      "\u001b[0;32m<ipython-input-905-4159a43fac91>\u001b[0m in \u001b[0;36m<module>\u001b[0;34m\u001b[0m\n\u001b[0;32m----> 1\u001b[0;31m \u001b[0mcvscore\u001b[0m \u001b[0;34m=\u001b[0m \u001b[0;34m[\u001b[0m\u001b[0mx\u001b[0m\u001b[0;34m[\u001b[0m\u001b[0;34m\"test_score\"\u001b[0m\u001b[0;34m]\u001b[0m\u001b[0;34m.\u001b[0m\u001b[0mmean\u001b[0m\u001b[0;34m(\u001b[0m\u001b[0;34m)\u001b[0m \u001b[0;32mfor\u001b[0m \u001b[0mx\u001b[0m \u001b[0;32min\u001b[0m \u001b[0mcvres\u001b[0m\u001b[0;34m]\u001b[0m\u001b[0;34m\u001b[0m\u001b[0;34m\u001b[0m\u001b[0m\n\u001b[0m\u001b[1;32m      2\u001b[0m \u001b[0mcvscore\u001b[0m\u001b[0;34m\u001b[0m\u001b[0;34m\u001b[0m\u001b[0m\n",
      "\u001b[0;32m<ipython-input-905-4159a43fac91>\u001b[0m in \u001b[0;36m<listcomp>\u001b[0;34m(.0)\u001b[0m\n\u001b[0;32m----> 1\u001b[0;31m \u001b[0mcvscore\u001b[0m \u001b[0;34m=\u001b[0m \u001b[0;34m[\u001b[0m\u001b[0mx\u001b[0m\u001b[0;34m[\u001b[0m\u001b[0;34m\"test_score\"\u001b[0m\u001b[0;34m]\u001b[0m\u001b[0;34m.\u001b[0m\u001b[0mmean\u001b[0m\u001b[0;34m(\u001b[0m\u001b[0;34m)\u001b[0m \u001b[0;32mfor\u001b[0m \u001b[0mx\u001b[0m \u001b[0;32min\u001b[0m \u001b[0mcvres\u001b[0m\u001b[0;34m]\u001b[0m\u001b[0;34m\u001b[0m\u001b[0;34m\u001b[0m\u001b[0m\n\u001b[0m\u001b[1;32m      2\u001b[0m \u001b[0mcvscore\u001b[0m\u001b[0;34m\u001b[0m\u001b[0;34m\u001b[0m\u001b[0m\n",
      "\u001b[0;31mTypeError\u001b[0m: string indices must be integers"
     ]
    }
   ],
   "source": [
    "cvscore = [x[\"test_score\"].mean() for x in cvres]\n",
    "cvscore"
   ]
  },
  {
   "cell_type": "code",
   "execution_count": null,
   "metadata": {},
   "outputs": [],
   "source": [
    "projects_unique = np.unique_(projects)\n",
    "for i, res in enumerate(cvres):\n",
    "    project_out = projects_unique[i]\n",
    "    pd.concat([pd.Series(compute_support_ebm(m), index=features_used) for m in res['estimator']])        "
   ]
  },
  {
   "cell_type": "code",
   "execution_count": 919,
   "metadata": {},
   "outputs": [
    {
     "data": {
      "text/plain": [
       "'hola'"
      ]
     },
     "execution_count": 919,
     "metadata": {},
     "output_type": "execute_result"
    }
   ],
   "source": [
    "\"hola\"\n"
   ]
  },
  {
   "cell_type": "code",
   "execution_count": 922,
   "metadata": {},
   "outputs": [
    {
     "name": "stdout",
     "output_type": "stream",
     "text": [
      "True\n",
      "start Hannigan\n",
      "finished Hannigan\n",
      "start Vogtmann\n"
     ]
    },
    {
     "name": "stderr",
     "output_type": "stream",
     "text": [
      "/mnt/lustre/scratch/home/cloucera/projects/mlgut/.venv/lib/python3.7/site-packages/sklearn/feature_selection/_univariate_selection.py:602: RuntimeWarning: invalid value encountered in less\n"
     ]
    },
    {
     "name": "stdout",
     "output_type": "stream",
     "text": [
      "finished Vogtmann\n",
      "start Zeller\n",
      "finished Zeller\n",
      "start Feng\n",
      "finished Feng\n",
      "start Yu\n",
      "finished Yu\n",
      "start Thomas0\n",
      "finished Thomas0\n",
      "start Thomas1\n",
      "finished Thomas1\n"
     ]
    },
    {
     "data": {
      "text/plain": [
       "['taxo_stab_explanation.jbl']"
      ]
     },
     "execution_count": 922,
     "metadata": {},
     "output_type": "execute_result"
    }
   ],
   "source": [
    "taxo_explanations_stab = {}\n",
    "profile=\"centrifuge\"\n",
    "features, metadata = datasets.build_condition_dataset(\n",
    "    condition=\"CRC\", profile_name=profile, ext=\"jbl\"\n",
    ")\n",
    "tax_id = \"9606\"\n",
    "print(tax_id in features.columns)\n",
    "features = features.drop(tax_id, axis=1)\n",
    "for project in PROJECT_NAMES_DICT.values():\n",
    "    print(f\"start {project}\")\n",
    "    explanations = [pd.Series(compute_support_ebm(pipe)[1], index=features.columns) for pipe in results_stab_dict[profile][project][\"estimator\"]]\n",
    "    explanations = pd.concat(explanations, axis=1)\n",
    "    taxo_explanations_stab[project] = explanations\n",
    "    print(f\"finished {project}\")\n",
    "joblib.dump(taxo_explanations_stab, \"taxo_stab_explanation.jbl\")"
   ]
  },
  {
   "cell_type": "code",
   "execution_count": 925,
   "metadata": {},
   "outputs": [
    {
     "name": "stdout",
     "output_type": "stream",
     "text": [
      "start Hannigan\n",
      "finished Hannigan\n",
      "start Vogtmann\n"
     ]
    },
    {
     "name": "stderr",
     "output_type": "stream",
     "text": [
      "/mnt/lustre/scratch/home/cloucera/projects/mlgut/.venv/lib/python3.7/site-packages/sklearn/feature_selection/_univariate_selection.py:602: RuntimeWarning: invalid value encountered in less\n"
     ]
    },
    {
     "name": "stdout",
     "output_type": "stream",
     "text": [
      "finished Vogtmann\n",
      "start Zeller\n",
      "finished Zeller\n",
      "start Feng\n",
      "finished Feng\n",
      "start Yu\n",
      "finished Yu\n",
      "start Thomas0\n",
      "finished Thomas0\n",
      "start Thomas1\n",
      "finished Thomas1\n"
     ]
    },
    {
     "data": {
      "text/plain": [
       "['kegg_stab_explanation.jbl']"
      ]
     },
     "execution_count": 925,
     "metadata": {},
     "output_type": "execute_result"
    }
   ],
   "source": [
    "kegg_explanations_stab = {}\n",
    "profile=\"KEGG_KOs\"\n",
    "features, metadata = datasets.build_condition_dataset(\n",
    "    condition=\"CRC\", profile_name=profile, ext=\"jbl\"\n",
    ")\n",
    "features = datasets.filter_egg(features)\n",
    "for project in PROJECT_NAMES_DICT.values():\n",
    "    print(f\"start {project}\")\n",
    "    explanations = [pd.Series(compute_support_ebm(pipe)[1], index=features.columns) for pipe in results_stab_dict[profile][project][\"estimator\"]]\n",
    "    explanations = pd.concat(explanations, axis=1)\n",
    "    kegg_explanations_stab[project] = explanations\n",
    "    print(f\"finished {project}\")\n",
    "joblib.dump(kegg_explanations_stab, \"kegg_stab_explanation.jbl\")"
   ]
  },
  {
   "cell_type": "code",
   "execution_count": 926,
   "metadata": {},
   "outputs": [
    {
     "name": "stdout",
     "output_type": "stream",
     "text": [
      "start Hannigan\n"
     ]
    },
    {
     "name": "stderr",
     "output_type": "stream",
     "text": [
      "/mnt/lustre/scratch/home/cloucera/projects/mlgut/.venv/lib/python3.7/site-packages/sklearn/feature_selection/_univariate_selection.py:602: RuntimeWarning: invalid value encountered in less\n"
     ]
    },
    {
     "name": "stdout",
     "output_type": "stream",
     "text": [
      "finished Hannigan\n",
      "start Vogtmann\n",
      "finished Vogtmann\n",
      "start Zeller\n",
      "finished Zeller\n",
      "start Feng\n",
      "finished Feng\n",
      "start Yu\n",
      "finished Yu\n",
      "start Thomas0\n",
      "finished Thomas0\n",
      "start Thomas1\n",
      "finished Thomas1\n"
     ]
    },
    {
     "data": {
      "text/plain": [
       "['ogs_stab_explanation.jbl']"
      ]
     },
     "execution_count": 926,
     "metadata": {},
     "output_type": "execute_result"
    }
   ],
   "source": [
    "ogs_explanations_stab = {}\n",
    "profile=\"OGs\"\n",
    "features, metadata = datasets.build_condition_dataset(\n",
    "    condition=\"CRC\", profile_name=profile, ext=\"jbl\"\n",
    ")\n",
    "features = datasets.filter_egg(features)\n",
    "for project in PROJECT_NAMES_DICT.values():\n",
    "    print(f\"start {project}\")\n",
    "    explanations = [pd.Series(compute_support_ebm(pipe)[1], index=features.columns) for pipe in results_stab_dict[profile][project][\"estimator\"]]\n",
    "    explanations = pd.concat(explanations, axis=1)\n",
    "    ogs_explanations_stab[project] = explanations\n",
    "    print(f\"finished {project}\")\n",
    "joblib.dump(ogs_explanations_stab, \"ogs_stab_explanation.jbl\")"
   ]
  },
  {
   "cell_type": "code",
   "execution_count": null,
   "metadata": {},
   "outputs": [
    {
     "name": "stdout",
     "output_type": "stream",
     "text": [
      "start profile Taxonomic\n",
      "start project Feng\n",
      "end project Feng\n",
      "start project Hannigan\n",
      "end project Hannigan\n",
      "start project Thomas0\n",
      "end project Thomas0\n",
      "start project Thomas1\n",
      "end project Thomas1\n",
      "start project Vogtmann\n",
      "end project Vogtmann\n",
      "start project Yu\n",
      "end project Yu\n",
      "start project Zeller\n",
      "end project Zeller\n",
      "end profile Taxonomic\n",
      "\n",
      "start profile eggNog\n",
      "start project Feng\n",
      "end project Feng\n",
      "start project Hannigan\n",
      "end project Hannigan\n",
      "start project Thomas0\n",
      "end project Thomas0\n",
      "start project Thomas1\n",
      "end project Thomas1\n",
      "start project Vogtmann\n",
      "end project Vogtmann\n",
      "start project Yu\n",
      "end project Yu\n",
      "start project Zeller\n"
     ]
    }
   ],
   "source": [
    "profiles = [\"Taxonomic\", \"eggNog\", \"Kegg\"]\n",
    "\n",
    "df = pd.DataFrame(columns=PROJECT_ORDER + [\"Profile\"])\n",
    "\n",
    "for profile in profiles:\n",
    "    print(f\"start profile {profile}\")\n",
    "    if profile == \"Taxonomic\":\n",
    "        explanations = taxo_explanations_stab\n",
    "    elif profile == \"Kegg\":\n",
    "        explanations = kegg_explanations_stab\n",
    "    elif profile == \"eggNog\":\n",
    "        explanations = ogs_explanations_stab\n",
    "    df_i = pd.DataFrame(columns=PROJECT_ORDER)\n",
    "    for project in PROJECT_ORDER:\n",
    "        print(f\"start project {project}\")\n",
    "        wtau = []\n",
    "        for i in range(explanations[project].shape[1]):\n",
    "            for j in range(i+1, explanations[project].shape[1]):\n",
    "                wtau.append(weightedtau(explanations[project].iloc[:, i], explanations[project].iloc[:, j])[0])\n",
    "        df_i[project] = wtau\n",
    "        print(f\"end project {project}\")\n",
    "    df_i[\"Profile\"] = profile\n",
    "    df = pd.concat((df, df_i), axis=0)\n",
    "    print(f\"end profile {profile}\")\n",
    "    print(\"\")\n",
    "df[\"Analysis\"] = \"RSSS-test\"\n",
    "stab_rank = df.copy()"
   ]
  },
  {
   "cell_type": "code",
   "execution_count": 937,
   "metadata": {},
   "outputs": [],
   "source": [
    "cv_rank = pd.concat((kegg_wtau, egg_wtau, taxo_wtau), axis=0).copy().replace({\"Kegg\": \"Kegg\", \"Taxo\": \"Taxonomic\", \"eNog\": \"eggNog\"})\n",
    "cv_rank[\"Analysis\"] = \"CV-test\""
   ]
  },
  {
   "cell_type": "code",
   "execution_count": 938,
   "metadata": {},
   "outputs": [],
   "source": [
    "wtau_df = stab_rank.melt(id_vars=[\"Profile\", \"Analysis\"], var_name=\"Project\", value_name=\"Score\")"
   ]
  },
  {
   "cell_type": "code",
   "execution_count": 939,
   "metadata": {},
   "outputs": [
    {
     "data": {
      "text/plain": [
       "<matplotlib.axes._subplots.AxesSubplot at 0x2ba81b6d1e50>"
      ]
     },
     "execution_count": 939,
     "metadata": {},
     "output_type": "execute_result"
    },
    {
     "data": {
      "image/png": "[encoded data removed]",
      "text/plain": [
       "<Figure size 576x324 with 1 Axes>"
      ]
     },
     "metadata": {},
     "output_type": "display_data"
    }
   ],
   "source": [
    "fac = 2\n",
    "plt.figure(figsize=(16/fac, 9/fac))\n",
    "sns.boxplot(data=wtau_df, x=\"Project\", y=\"Score\", hue=\"Profile\", palette=\"colorblind\")"
   ]
  },
  {
   "cell_type": "code",
   "execution_count": 940,
   "metadata": {},
   "outputs": [],
   "source": [
    "rank_df = pd.concat((cv_rank, stab_rank), axis=0)\n",
    "rank_df.to_csv(\"rank.tsv\", sep=\"\\t\", index=False)"
   ]
  },
  {
   "cell_type": "code",
   "execution_count": 942,
   "metadata": {},
   "outputs": [],
   "source": [
    "df = rank_df.melt(id_vars=[\"Profile\", \"Analysis\"], var_name=\"Project\", value_name=\"Score\")"
   ]
  },
  {
   "cell_type": "code",
   "execution_count": 977,
   "metadata": {},
   "outputs": [
    {
     "name": "stderr",
     "output_type": "stream",
     "text": [
      "/mnt/lustre/scratch/home/cloucera/projects/mlgut/.venv/lib/python3.7/site-packages/plotnine/ggplot.py:729: PlotnineWarning: Saving 6.4 x 4.8 in image.\n",
      "/mnt/lustre/scratch/home/cloucera/projects/mlgut/.venv/lib/python3.7/site-packages/plotnine/ggplot.py:730: PlotnineWarning: Filename: rank_analysis.pdf\n",
      "/mnt/lustre/scratch/home/cloucera/projects/mlgut/.venv/lib/python3.7/site-packages/plotnine/ggplot.py:729: PlotnineWarning: Saving 6.4 x 4.8 in image.\n",
      "/mnt/lustre/scratch/home/cloucera/projects/mlgut/.venv/lib/python3.7/site-packages/plotnine/ggplot.py:730: PlotnineWarning: Filename: rank_analysis.svg\n",
      "/mnt/lustre/scratch/home/cloucera/projects/mlgut/.venv/lib/python3.7/site-packages/plotnine/ggplot.py:729: PlotnineWarning: Saving 6.4 x 4.8 in image.\n",
      "/mnt/lustre/scratch/home/cloucera/projects/mlgut/.venv/lib/python3.7/site-packages/plotnine/ggplot.py:730: PlotnineWarning: Filename: rank_analysis.png\n"
     ]
    },
    {
     "data": {
      "image/png": "[encoded data removed]",
      "text/plain": [
       "<Figure size 640x480 with 3 Axes>"
      ]
     },
     "metadata": {},
     "output_type": "display_data"
    },
    {
     "data": {
      "text/plain": [
       "<ggplot: (2999713873901)>"
      ]
     },
     "execution_count": 977,
     "metadata": {},
     "output_type": "execute_result"
    }
   ],
   "source": [
    "panel_col = \"antiquewhite\"\n",
    "\n",
    "score_name = \"mean\"\n",
    "fname = \"rank\"\n",
    "xlab_str = \"Rank stability estimate\"\n",
    "\n",
    "X = df.groupby([\"Profile\", \"Analysis\", \"Project\"])[\"Score\"].describe()[[\"mean\", \"25%\", \"75%\"]].reset_index()\n",
    "\n",
    "g = (\n",
    "    ggplot(X)\n",
    "    + gg.facet_wrap(\"~Profile\")\n",
    "    + aes(x=score_name, y=\"Project\", color=\"Analysis\")\n",
    "    + labs(\n",
    "        x=xlab_str,\n",
    "        y=\"Project\"    )\n",
    "    #+ geom_point(size=0.8)\n",
    "    #+ scale_x_continuous(breaks=[0.5, 0.7, 0.9])\n",
    "    + geom_errorbarh(aes(xmin=\"25%\", xmax=\"75%\"), height=0.2)\n",
    "    + gg.geom_boxplot()\n",
    "    #+ geom_vline(xintercept=0.5, linetype=\"dashed\", color=\"red\")\n",
    "#     + geom_vline(xintercept=0.7, linetype=\"dashed\", color=\"blue\")\n",
    "    + gg.theme_gray(base_size=12)\n",
    "    + theme(legend_position=\"top\", legend_direction=\"horizontal\", \n",
    "            legend_title=gg.element_blank(),\n",
    "            #panel_background=gg.element_rect(fill=panel_col, color=panel_col),\n",
    "            #strip_background=gg.element_rect(fill=panel_col, color=panel_col),\n",
    "            #plot_background=gg.element_rect(fill=\"w\", color=\"w\"),\n",
    "           legend_box_margin=-1,\n",
    "           legend_margin=-1)\n",
    "    #+ gg.guide_legend(nrow=1)\n",
    "    + theme(axis_text_x=element_text(size=10, rotation=30, hjust=-1))\n",
    "    #+ gg.scale_color_brewer(type=\"qual\", palette=2)\n",
    "    + gg.scale_color_manual(COLOR_BLIND_PALETTE)\n",
    ")\n",
    "\n",
    "g.save(f\"{fname}_analysis.pdf\")\n",
    "g.save(f\"{fname}_analysis.svg\")\n",
    "g.save(f\"{fname}_analysis.png\", dpi=300)\n",
    "g"
   ]
  },
  {
   "cell_type": "code",
   "execution_count": 979,
   "metadata": {},
   "outputs": [],
   "source": [
    "err_df.to_csv(\"error_summary.tsv\", sep=\"\\t\", index=False)"
   ]
  },
  {
   "cell_type": "code",
   "execution_count": 982,
   "metadata": {},
   "outputs": [],
   "source": [
    "stab_df.to_csv(\"stability_summary.tsv\", sep=\"\\t\", index=False)"
   ]
  },
  {
   "cell_type": "code",
   "execution_count": 983,
   "metadata": {},
   "outputs": [],
   "source": [
    "X.to_csv(\"rank_summary.tsv\", sep=\"\\t\", index=False)"
   ]
  },
  {
   "cell_type": "code",
   "execution_count": null,
   "metadata": {},
   "outputs": [],
   "source": []
  }
 ],
 "metadata": {
  "kernelspec": {
   "name": "python3",
   "display_name": "Python 3.7.6 64-bit (conda)"
  },
  "language_info": {
   "codemirror_mode": {
    "name": "ipython",
    "version": 3
   },
   "file_extension": ".py",
   "mimetype": "text/x-python",
   "name": "python",
   "nbconvert_exporter": "python",
   "pygments_lexer": "ipython3",
   "version": "3.7.6"
  },
  "interpreter": {
   "hash": "f25ce5d0d343d5b1ec1513853ae4c345f1f77c71d71bf9fe577e0c542db8b122"
  }
 },
 "nbformat": 4,
 "nbformat_minor": 4
}