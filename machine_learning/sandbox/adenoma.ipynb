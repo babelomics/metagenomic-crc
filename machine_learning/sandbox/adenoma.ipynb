{
 "cells": [
  {
   "cell_type": "code",
   "execution_count": 1,
   "metadata": {
    "tags": []
   },
   "outputs": [
    {
     "name": "stdout",
     "output_type": "stream",
     "text": [
      "/mnt/lustre/scratch/home/cloucera/projects/babelomics/mlgut/.venv/bin/python\n"
     ]
    }
   ],
   "source": [
    "!which python"
   ]
  },
  {
   "cell_type": "code",
   "execution_count": 2,
   "metadata": {
    "tags": []
   },
   "outputs": [
    {
     "name": "stdout",
     "output_type": "stream",
     "text": [
      "/mnt/lustre/scratch/home/cloucera/projects/babelomics/mlgut/noteboooks_old\n"
     ]
    }
   ],
   "source": [
    "!pwd"
   ]
  },
  {
   "cell_type": "code",
   "execution_count": 3,
   "metadata": {
    "tags": []
   },
   "outputs": [],
   "source": [
    "# OPTIONAL: Load the \"autoreload\" extension so that code can change\n",
    "%load_ext autoreload\n",
    "\n",
    "# OPTIONAL: always reload modules so that as you change code in src, it gets loaded\n",
    "%autoreload 2\n",
    "\n",
    "import sys\n",
    "sys.path.append('..')"
   ]
  },
  {
   "cell_type": "code",
   "execution_count": 4,
   "metadata": {},
   "outputs": [],
   "source": [
    "import numpy as np\n",
    "import random\n",
    "from mlgut import datasets\n",
    "from mlgut import train\n",
    "from mlgut import models\n",
    "from mlgut import analysis\n",
    "from mlgut import utils\n",
    "import subprocess\n",
    "import warnings\n",
    "from sklearn.exceptions import ConvergenceWarning\n",
    "import pandas as pd\n",
    "import joblib\n",
    "import matplotlib.pyplot as plt\n",
    "import seaborn as sns\n",
    "\n",
    "plt.style.use(\"ggplot\")\n",
    "sns.set_context(\"talk\")\n",
    "\n",
    "#f = pd.read_csv(\"../data/processed/OGs.tsv\", sep=\"\\t\", engine=\"c\", nrows=10)\n",
    "#d = {x: (str if x==\"ENA-SAMPLE\" else np.float32) for x in f.columns}\n",
    "#f = pd.read_csv(\"../data/processed/OGs.tsv\", sep=\"\\t\", dtype=d, index_col=0, engine=\"c\")\n",
    "\n",
    "condition = \"CRC\"\n",
    "profile_name = \"OGs\"\n",
    "profile = profile_name\n",
    "path = utils.get_path(\"results\")\n",
    "\n"
   ]
  },
  {
   "cell_type": "code",
   "execution_count": 5,
   "metadata": {
    "tags": []
   },
   "outputs": [
    {
     "name": "stdout",
     "output_type": "stream",
     "text": [
      "CPU times: user 5.08 s, sys: 13.3 s, total: 18.4 s\n",
      "Wall time: 18.4 s\n"
     ]
    }
   ],
   "source": [
    "%%time\n",
    "features, metadata = datasets.build_condition_dataset(condition, profile_name, ext=\"jbl\")"
   ]
  },
  {
   "cell_type": "code",
   "execution_count": 6,
   "metadata": {},
   "outputs": [],
   "source": [
    "features_adenoma, metadata_adenoma = datasets.build_condition_dataset(\"adenoma\", profile_name, ext=\"jbl\")"
   ]
  },
  {
   "cell_type": "code",
   "execution_count": 7,
   "metadata": {},
   "outputs": [],
   "source": [
    "features = datasets.filter_egg(features)\n",
    "features_adenoma = datasets.filter_egg(features_adenoma)"
   ]
  },
  {
   "cell_type": "code",
   "execution_count": 5,
   "metadata": {},
   "outputs": [],
   "source": [
    "PROJECT_NAMES_DICT = {\n",
    "    \"PRJNA389927\": \"Hannigan\",\n",
    "    \"PRJEB12449\": \"Vogtmann\",\n",
    "    \"PRJEB6070\": \"Zeller\",\n",
    "    \"PRJEB7774\": \"Feng\",\n",
    "    \"PRJEB10878\": \"Yu\",\n",
    "    \"PRJNA447983\": \"Thomas0\",\n",
    "    \"PRJEB27928\": \"Thomas1\",\n",
    "}\n",
    "\n",
    "PROJECT_ORDER = sorted(PROJECT_NAMES_DICT.values())\n",
    "DISEASE_COLUMN_NAME = \"DISEASE\"\n",
    "PROJECT_COLUMN_NAME = \"SECONDARY_STUDY_ID\""
   ]
  },
  {
   "cell_type": "code",
   "execution_count": 286,
   "metadata": {},
   "outputs": [],
   "source": [
    "metadata[PROJECT_COLUMN_NAME] = metadata[PROJECT_COLUMN_NAME].replace(\n",
    "        PROJECT_NAMES_DICT\n",
    "    )"
   ]
  },
  {
   "cell_type": "code",
   "execution_count": 287,
   "metadata": {},
   "outputs": [],
   "source": [
    "metadata_adenoma[PROJECT_COLUMN_NAME] = metadata_adenoma[PROJECT_COLUMN_NAME].replace(\n",
    "        PROJECT_NAMES_DICT\n",
    "    )"
   ]
  },
  {
   "cell_type": "code",
   "execution_count": 5,
   "metadata": {},
   "outputs": [],
   "source": [
    "SCORE_LIST = [\n",
    "    \"roc_auc\",\n",
    "    \"average_precision\",\n",
    "    \"accuracy\",\n",
    "    \"f1\",\n",
    "    \"precision\",\n",
    "    \"recall\",\n",
    "]"
   ]
  },
  {
   "cell_type": "code",
   "execution_count": 12,
   "metadata": {},
   "outputs": [],
   "source": [
    "project_path = utils.get_project_path()\n",
    "\n",
    "if profile_name == \"centrifuge\":\n",
    "    best_path = project_path.joinpath(\"data/paper/CRC_centrifuge/CRC_centrifuge_cp_support_merge.tsv\")\n",
    "elif 'kegg' in profile_name.lower():\n",
    "    best_path = project_path.joinpath(\"data/paper/CRC_KEGG_KOs/CRC_KEGG_KOs_cp_support_merge.tsv\")\n",
    "else:\n",
    "    best_path = project_path.joinpath(\"data/paper/CRC_OGs/CRC_OGs_cp_support_merge.tsv\")\n",
    "\n",
    "d = pd.read_csv(best_path, sep=\"\\t\", index_col=0)\n",
    "d = d.iloc[:, 0]"
   ]
  },
  {
   "cell_type": "code",
   "execution_count": 13,
   "metadata": {},
   "outputs": [
    {
     "data": {
      "text/plain": [
       "(864, 252257)"
      ]
     },
     "execution_count": 13,
     "metadata": {},
     "output_type": "execute_result"
    }
   ],
   "source": [
    "features = features.apply(np.log1p)\n",
    "features.shape"
   ]
  },
  {
   "cell_type": "code",
   "execution_count": 14,
   "metadata": {},
   "outputs": [
    {
     "data": {
      "text/plain": [
       "healthy                                         334\n",
       "CRC                                             321\n",
       "adenoma                                          43\n",
       "Small adenoma                                    26\n",
       "CRC;hypertension                                 20\n",
       "Large adenoma                                    15\n",
       "advancedadenoma;fatty_liver;hypertension         14\n",
       "CRC;fatty_liver;hypertension                     12\n",
       "advancedadenoma;fatty_liver                      12\n",
       "fatty_liver;T2D;hypertension                      9\n",
       "advancedadenoma                                   8\n",
       "advancedadenoma;hypertension                      8\n",
       "hypercholesterolemia                              5\n",
       "CRC;fatty_liver;T2D;hypertension                  4\n",
       "adenoma;hypercholesterolemia                      4\n",
       "adenoma;hypertension                              4\n",
       "CRC;hypercholesterolemia                          3\n",
       "fatty_liver;T2D                                   3\n",
       "hypertension                                      3\n",
       "CRC;fatty_liver                                   3\n",
       "advancedadenoma;T2D;hypertension                  2\n",
       "CRC;T2D;hypertension                              2\n",
       "CRC;metastases                                    1\n",
       "hypertension;metastases                           1\n",
       "T2D;hypertension                                  1\n",
       "adenoma;metastases                                1\n",
       "adenoma;hypercholesterolemia;metastases           1\n",
       "CRC;hypertension;hypercholesterolemia             1\n",
       "advancedadenoma;fatty_liver;T2D;hypertension      1\n",
       "CRC;cholesterolemia                               1\n",
       "advancedadenoma;fatty_liver;T2D                   1\n",
       "Name: DISEASE, dtype: int64"
      ]
     },
     "execution_count": 14,
     "metadata": {},
     "output_type": "execute_result"
    }
   ],
   "source": [
    "y = metadata[\"DISEASE\"]\n",
    "y.value_counts()"
   ]
  },
  {
   "cell_type": "code",
   "execution_count": 19,
   "metadata": {},
   "outputs": [
    {
     "data": {
      "text/plain": [
       "(108056,)"
      ]
     },
     "execution_count": 19,
     "metadata": {},
     "output_type": "execute_result"
    }
   ],
   "source": [
    "columns = d[d > 0.0].index.astype(str)\n",
    "columns.shape"
   ]
  },
  {
   "cell_type": "code",
   "execution_count": 281,
   "metadata": {},
   "outputs": [],
   "source": [
    "%%capture cap_out\n",
    "from sklearn.model_selection import train_test_split\n",
    "from interpret.glassbox import ExplainableBoostingClassifier\n",
    "\n",
    "#columns = features.columns\n",
    "\n",
    "query = metadata.DISEASE.isin([condition, \"healthy\"])\n",
    "disease_train = metadata.DISEASE[query]\n",
    "y_train = metadata.DISEASE[query] == condition\n",
    "X_train = features.loc[query, columns]\n",
    "\n",
    "X_train, X_val, y_train, y_val = train_test_split(X_train, disease_train, test_size=0.30, random_state=0, stratify=y_train)\n",
    "y_train = y_train == condition\n",
    "\n",
    "model = models.get_ogs_model(selector=True)\n",
    "n_bins = 2 if profile_name == \"centrifuge\" else 20\n",
    "print(n_bins)\n",
    "#model = ExplainableBoostingClassifier(n_jobs=-2, max_n_bins=n_bins, n_estimators=24)\n",
    "model.fit(X_train, y_train)"
   ]
  },
  {
   "cell_type": "code",
   "execution_count": 290,
   "metadata": {},
   "outputs": [],
   "source": [
    "query = metadata.DISEASE.isin([condition, \"healthy\"])\n",
    "X_test = features.loc[~query, columns]\n",
    "y_test = metadata.DISEASE[~query]"
   ]
  },
  {
   "cell_type": "code",
   "execution_count": 291,
   "metadata": {},
   "outputs": [],
   "source": [
    "new_metadata = pd.concat((metadata, metadata_adenoma), axis=0)\n",
    "#new_metadata = new_metadata.loc[new_metadata.index.drop_duplicates(keep=\"first\"), :]\n",
    "new_metadata.drop_duplicates(inplace=True)"
   ]
  },
  {
   "cell_type": "code",
   "execution_count": 292,
   "metadata": {},
   "outputs": [
    {
     "data": {
      "text/plain": [
       "(864, (864, 161))"
      ]
     },
     "execution_count": 292,
     "metadata": {},
     "output_type": "execute_result"
    }
   ],
   "source": [
    "new_metadata.index.unique().size, new_metadata.shape"
   ]
  },
  {
   "cell_type": "code",
   "execution_count": 403,
   "metadata": {},
   "outputs": [
    {
     "name": "stderr",
     "output_type": "stream",
     "text": [
      "/mnt/lustre/scratch/home/cloucera/projects/babelomics/mlgut/.venv/lib/python3.7/site-packages/sklearn/feature_selection/_univariate_selection.py:602: RuntimeWarning: invalid value encountered in less\n",
      "  return self.pvalues_ < self.alpha\n"
     ]
    },
    {
     "ename": "KeyboardInterrupt",
     "evalue": "",
     "output_type": "error",
     "traceback": [
      "\u001b[0;31m---------------------------------------------------------------------------\u001b[0m",
      "\u001b[0;31mKeyboardInterrupt\u001b[0m                         Traceback (most recent call last)",
      "\u001b[0;32m<ipython-input-403-5a9e00eba1b8>\u001b[0m in \u001b[0;36m<module>\u001b[0;34m\u001b[0m\n\u001b[0;32m----> 1\u001b[0;31m \u001b[0mprobas_test\u001b[0m \u001b[0;34m=\u001b[0m \u001b[0mmodel\u001b[0m\u001b[0;34m.\u001b[0m\u001b[0mpredict_proba\u001b[0m\u001b[0;34m(\u001b[0m\u001b[0mX_test\u001b[0m\u001b[0;34m)\u001b[0m\u001b[0;34m[\u001b[0m\u001b[0;34m:\u001b[0m\u001b[0;34m,\u001b[0m \u001b[0;36m1\u001b[0m\u001b[0;34m]\u001b[0m\u001b[0;34m\u001b[0m\u001b[0;34m\u001b[0m\u001b[0m\n\u001b[0m\u001b[1;32m      2\u001b[0m \u001b[0mprobas_test\u001b[0m \u001b[0;34m=\u001b[0m \u001b[0mpd\u001b[0m\u001b[0;34m.\u001b[0m\u001b[0mSeries\u001b[0m\u001b[0;34m(\u001b[0m\u001b[0mprobas_test\u001b[0m\u001b[0;34m,\u001b[0m \u001b[0mindex\u001b[0m\u001b[0;34m=\u001b[0m\u001b[0my_test\u001b[0m\u001b[0;34m.\u001b[0m\u001b[0mindex\u001b[0m\u001b[0;34m,\u001b[0m \u001b[0mname\u001b[0m\u001b[0;34m=\u001b[0m\u001b[0;34m\"proba\"\u001b[0m\u001b[0;34m)\u001b[0m\u001b[0;34m\u001b[0m\u001b[0;34m\u001b[0m\u001b[0m\n\u001b[1;32m      3\u001b[0m \u001b[0mdata_test\u001b[0m \u001b[0;34m=\u001b[0m \u001b[0mpd\u001b[0m\u001b[0;34m.\u001b[0m\u001b[0mconcat\u001b[0m\u001b[0;34m(\u001b[0m\u001b[0;34m(\u001b[0m\u001b[0mprobas_test\u001b[0m\u001b[0;34m,\u001b[0m \u001b[0my_test\u001b[0m\u001b[0;34m)\u001b[0m\u001b[0;34m,\u001b[0m \u001b[0maxis\u001b[0m\u001b[0;34m=\u001b[0m\u001b[0;36m1\u001b[0m\u001b[0;34m)\u001b[0m\u001b[0;34m\u001b[0m\u001b[0;34m\u001b[0m\u001b[0m\n\u001b[1;32m      4\u001b[0m \u001b[0;34m\u001b[0m\u001b[0m\n\u001b[1;32m      5\u001b[0m \u001b[0mprobas_val\u001b[0m \u001b[0;34m=\u001b[0m \u001b[0mmodel\u001b[0m\u001b[0;34m.\u001b[0m\u001b[0mpredict_proba\u001b[0m\u001b[0;34m(\u001b[0m\u001b[0mX_val\u001b[0m\u001b[0;34m)\u001b[0m\u001b[0;34m[\u001b[0m\u001b[0;34m:\u001b[0m\u001b[0;34m,\u001b[0m \u001b[0;36m1\u001b[0m\u001b[0;34m]\u001b[0m\u001b[0;34m\u001b[0m\u001b[0;34m\u001b[0m\u001b[0m\n",
      "\u001b[0;32m/mnt/lustre/scratch/home/cloucera/projects/babelomics/mlgut/.venv/lib/python3.7/site-packages/sklearn/utils/metaestimators.py\u001b[0m in \u001b[0;36m<lambda>\u001b[0;34m(*args, **kwargs)\u001b[0m\n\u001b[1;32m    117\u001b[0m \u001b[0;34m\u001b[0m\u001b[0m\n\u001b[1;32m    118\u001b[0m         \u001b[0;31m# lambda, but not partial, allows help() to work with update_wrapper\u001b[0m\u001b[0;34m\u001b[0m\u001b[0;34m\u001b[0m\u001b[0;34m\u001b[0m\u001b[0m\n\u001b[0;32m--> 119\u001b[0;31m         \u001b[0mout\u001b[0m \u001b[0;34m=\u001b[0m \u001b[0;32mlambda\u001b[0m \u001b[0;34m*\u001b[0m\u001b[0margs\u001b[0m\u001b[0;34m,\u001b[0m \u001b[0;34m**\u001b[0m\u001b[0mkwargs\u001b[0m\u001b[0;34m:\u001b[0m \u001b[0mself\u001b[0m\u001b[0;34m.\u001b[0m\u001b[0mfn\u001b[0m\u001b[0;34m(\u001b[0m\u001b[0mobj\u001b[0m\u001b[0;34m,\u001b[0m \u001b[0;34m*\u001b[0m\u001b[0margs\u001b[0m\u001b[0;34m,\u001b[0m \u001b[0;34m**\u001b[0m\u001b[0mkwargs\u001b[0m\u001b[0;34m)\u001b[0m\u001b[0;34m\u001b[0m\u001b[0;34m\u001b[0m\u001b[0m\n\u001b[0m\u001b[1;32m    120\u001b[0m         \u001b[0;31m# update the docstring of the returned function\u001b[0m\u001b[0;34m\u001b[0m\u001b[0;34m\u001b[0m\u001b[0;34m\u001b[0m\u001b[0m\n\u001b[1;32m    121\u001b[0m         \u001b[0mupdate_wrapper\u001b[0m\u001b[0;34m(\u001b[0m\u001b[0mout\u001b[0m\u001b[0;34m,\u001b[0m \u001b[0mself\u001b[0m\u001b[0;34m.\u001b[0m\u001b[0mfn\u001b[0m\u001b[0;34m)\u001b[0m\u001b[0;34m\u001b[0m\u001b[0;34m\u001b[0m\u001b[0m\n",
      "\u001b[0;32m/mnt/lustre/scratch/home/cloucera/projects/babelomics/mlgut/.venv/lib/python3.7/site-packages/sklearn/pipeline.py\u001b[0m in \u001b[0;36mpredict_proba\u001b[0;34m(self, X)\u001b[0m\n\u001b[1;32m    462\u001b[0m         \u001b[0;32mfor\u001b[0m \u001b[0m_\u001b[0m\u001b[0;34m,\u001b[0m \u001b[0mname\u001b[0m\u001b[0;34m,\u001b[0m \u001b[0mtransform\u001b[0m \u001b[0;32min\u001b[0m \u001b[0mself\u001b[0m\u001b[0;34m.\u001b[0m\u001b[0m_iter\u001b[0m\u001b[0;34m(\u001b[0m\u001b[0mwith_final\u001b[0m\u001b[0;34m=\u001b[0m\u001b[0;32mFalse\u001b[0m\u001b[0;34m)\u001b[0m\u001b[0;34m:\u001b[0m\u001b[0;34m\u001b[0m\u001b[0;34m\u001b[0m\u001b[0m\n\u001b[1;32m    463\u001b[0m             \u001b[0mXt\u001b[0m \u001b[0;34m=\u001b[0m \u001b[0mtransform\u001b[0m\u001b[0;34m.\u001b[0m\u001b[0mtransform\u001b[0m\u001b[0;34m(\u001b[0m\u001b[0mXt\u001b[0m\u001b[0;34m)\u001b[0m\u001b[0;34m\u001b[0m\u001b[0;34m\u001b[0m\u001b[0m\n\u001b[0;32m--> 464\u001b[0;31m         \u001b[0;32mreturn\u001b[0m \u001b[0mself\u001b[0m\u001b[0;34m.\u001b[0m\u001b[0msteps\u001b[0m\u001b[0;34m[\u001b[0m\u001b[0;34m-\u001b[0m\u001b[0;36m1\u001b[0m\u001b[0;34m]\u001b[0m\u001b[0;34m[\u001b[0m\u001b[0;34m-\u001b[0m\u001b[0;36m1\u001b[0m\u001b[0;34m]\u001b[0m\u001b[0;34m.\u001b[0m\u001b[0mpredict_proba\u001b[0m\u001b[0;34m(\u001b[0m\u001b[0mXt\u001b[0m\u001b[0;34m)\u001b[0m\u001b[0;34m\u001b[0m\u001b[0;34m\u001b[0m\u001b[0m\n\u001b[0m\u001b[1;32m    465\u001b[0m \u001b[0;34m\u001b[0m\u001b[0m\n\u001b[1;32m    466\u001b[0m     \u001b[0;34m@\u001b[0m\u001b[0mif_delegate_has_method\u001b[0m\u001b[0;34m(\u001b[0m\u001b[0mdelegate\u001b[0m\u001b[0;34m=\u001b[0m\u001b[0;34m'_final_estimator'\u001b[0m\u001b[0;34m)\u001b[0m\u001b[0;34m\u001b[0m\u001b[0;34m\u001b[0m\u001b[0m\n",
      "\u001b[0;32m/mnt/lustre/scratch/home/cloucera/projects/babelomics/mlgut/.venv/lib/python3.7/site-packages/interpret/glassbox/ebm/ebm.py\u001b[0m in \u001b[0;36mpredict_proba\u001b[0;34m(self, X)\u001b[0m\n\u001b[1;32m   1527\u001b[0m         \u001b[0mcheck_is_fitted\u001b[0m\u001b[0;34m(\u001b[0m\u001b[0mself\u001b[0m\u001b[0;34m,\u001b[0m \u001b[0;34m\"has_fitted_\"\u001b[0m\u001b[0;34m)\u001b[0m\u001b[0;34m\u001b[0m\u001b[0;34m\u001b[0m\u001b[0m\n\u001b[1;32m   1528\u001b[0m         \u001b[0mX\u001b[0m\u001b[0;34m,\u001b[0m \u001b[0m_\u001b[0m\u001b[0;34m,\u001b[0m \u001b[0m_\u001b[0m\u001b[0;34m,\u001b[0m \u001b[0m_\u001b[0m \u001b[0;34m=\u001b[0m \u001b[0munify_data\u001b[0m\u001b[0;34m(\u001b[0m\u001b[0mX\u001b[0m\u001b[0;34m,\u001b[0m \u001b[0;32mNone\u001b[0m\u001b[0;34m,\u001b[0m \u001b[0mself\u001b[0m\u001b[0;34m.\u001b[0m\u001b[0mfeature_names\u001b[0m\u001b[0;34m,\u001b[0m \u001b[0mself\u001b[0m\u001b[0;34m.\u001b[0m\u001b[0mfeature_types\u001b[0m\u001b[0;34m)\u001b[0m\u001b[0;34m\u001b[0m\u001b[0;34m\u001b[0m\u001b[0m\n\u001b[0;32m-> 1529\u001b[0;31m         \u001b[0mX\u001b[0m \u001b[0;34m=\u001b[0m \u001b[0mself\u001b[0m\u001b[0;34m.\u001b[0m\u001b[0mpreprocessor_\u001b[0m\u001b[0;34m.\u001b[0m\u001b[0mtransform\u001b[0m\u001b[0;34m(\u001b[0m\u001b[0mX\u001b[0m\u001b[0;34m)\u001b[0m\u001b[0;34m\u001b[0m\u001b[0;34m\u001b[0m\u001b[0m\n\u001b[0m\u001b[1;32m   1530\u001b[0m \u001b[0;34m\u001b[0m\u001b[0m\n\u001b[1;32m   1531\u001b[0m         \u001b[0;31m# TODO PK add a test to see if we handle X.ndim == 1 (or should we throw ValueError)\u001b[0m\u001b[0;34m\u001b[0m\u001b[0;34m\u001b[0m\u001b[0;34m\u001b[0m\u001b[0m\n",
      "\u001b[0;32m/mnt/lustre/scratch/home/cloucera/projects/babelomics/mlgut/.venv/lib/python3.7/site-packages/interpret/glassbox/ebm/ebm.py\u001b[0m in \u001b[0;36mtransform\u001b[0;34m(self, X)\u001b[0m\n\u001b[1;32m    260\u001b[0m         \u001b[0mX_new\u001b[0m \u001b[0;34m=\u001b[0m \u001b[0mnp\u001b[0m\u001b[0;34m.\u001b[0m\u001b[0mcopy\u001b[0m\u001b[0;34m(\u001b[0m\u001b[0mX\u001b[0m\u001b[0;34m)\u001b[0m\u001b[0;34m\u001b[0m\u001b[0;34m\u001b[0m\u001b[0m\n\u001b[1;32m    261\u001b[0m         \u001b[0;32mfor\u001b[0m \u001b[0mcol_idx\u001b[0m \u001b[0;32min\u001b[0m \u001b[0mrange\u001b[0m\u001b[0;34m(\u001b[0m\u001b[0mX\u001b[0m\u001b[0;34m.\u001b[0m\u001b[0mshape\u001b[0m\u001b[0;34m[\u001b[0m\u001b[0;36m1\u001b[0m\u001b[0;34m]\u001b[0m\u001b[0;34m)\u001b[0m\u001b[0;34m:\u001b[0m\u001b[0;34m\u001b[0m\u001b[0;34m\u001b[0m\u001b[0m\n\u001b[0;32m--> 262\u001b[0;31m             \u001b[0mcol_info\u001b[0m \u001b[0;34m=\u001b[0m \u001b[0mschema\u001b[0m\u001b[0;34m[\u001b[0m\u001b[0mlist\u001b[0m\u001b[0;34m(\u001b[0m\u001b[0mschema\u001b[0m\u001b[0;34m.\u001b[0m\u001b[0mkeys\u001b[0m\u001b[0;34m(\u001b[0m\u001b[0;34m)\u001b[0m\u001b[0;34m)\u001b[0m\u001b[0;34m[\u001b[0m\u001b[0mcol_idx\u001b[0m\u001b[0;34m]\u001b[0m\u001b[0;34m]\u001b[0m\u001b[0;34m\u001b[0m\u001b[0;34m\u001b[0m\u001b[0m\n\u001b[0m\u001b[1;32m    263\u001b[0m             \u001b[0;32massert\u001b[0m \u001b[0mcol_info\u001b[0m\u001b[0;34m[\u001b[0m\u001b[0;34m\"column_number\"\u001b[0m\u001b[0;34m]\u001b[0m \u001b[0;34m==\u001b[0m \u001b[0mcol_idx\u001b[0m\u001b[0;34m\u001b[0m\u001b[0;34m\u001b[0m\u001b[0m\n\u001b[1;32m    264\u001b[0m             \u001b[0mcol_data\u001b[0m \u001b[0;34m=\u001b[0m \u001b[0mX\u001b[0m\u001b[0;34m[\u001b[0m\u001b[0;34m:\u001b[0m\u001b[0;34m,\u001b[0m \u001b[0mcol_idx\u001b[0m\u001b[0;34m]\u001b[0m\u001b[0;34m\u001b[0m\u001b[0;34m\u001b[0m\u001b[0m\n",
      "\u001b[0;31mKeyboardInterrupt\u001b[0m: "
     ]
    }
   ],
   "source": [
    "probas_test = model.predict_proba(X_test)[:, 1]\n",
    "probas_test = pd.Series(probas_test, index=y_test.index, name=\"proba\")\n",
    "data_test = pd.concat((probas_test, y_test), axis=1)\n",
    "\n",
    "probas_val = model.predict_proba(X_val)[:, 1]\n",
    "probas_val = pd.Series(probas_val, index=y_val.index, name=\"proba\")\n",
    "data_val = pd.concat((probas_val, y_val), axis=1)\n",
    "\n",
    "data = pd.concat((data_val, data_test), axis=0)\n",
    "#data = pd.concat((data, new_metadata[PROJECT_COLUMN_NAME]), axis=1, join=\"inner\")\n",
    "data[\"Project\"] = new_metadata.loc[data.index, PROJECT_COLUMN_NAME]\n",
    "\n",
    "# query = data.DISEASE.str.lower().str.contains(\"metastases\")\n",
    "# data.DISEASE[query] = \"Metastases\"\n",
    "\n",
    "# query = data.DISEASE.str.contains(\"CRC;\")\n",
    "# data.DISEASE[query] = \"CRC + Others\"\n",
    "\n",
    "# query = data.DISEASE.str.contains(\"adenoma;\")\n",
    "# data.DISEASE[query] = \"Adenoma + Others\"\n",
    "\n",
    "# query = data.DISEASE.str.lower().str.contains(\"small\")\n",
    "# data.DISEASE[query] = \"Small Adenoma\"\n",
    "\n",
    "# query = data.DISEASE.str.lower().str.contains(\"adenoma\") & ~data.DISEASE.str.lower().str.contains(\"small|others\")\n",
    "# data.DISEASE[query] = \"Adenoma\"\n",
    "\n",
    "# query = data.DISEASE.str.contains(\"T2D\")\n",
    "# data.DISEASE[query] = \"T2D + Others (non CRC)\"\n",
    "\n"
   ]
  },
  {
   "cell_type": "code",
   "execution_count": null,
   "metadata": {},
   "outputs": [],
   "source": [
    "order = data.groupby(\"DISEASE\").agg(\"median\").sort_values(by=\"proba\", ascending=True).index"
   ]
  },
  {
   "cell_type": "code",
   "execution_count": null,
   "metadata": {},
   "outputs": [],
   "source": [
    "cut_point = data.loc[data.DISEASE == \"healthy\", \"proba\"].quantile(0.75)"
   ]
  },
  {
   "cell_type": "code",
   "execution_count": null,
   "metadata": {},
   "outputs": [],
   "source": [
    "import seaborn as sns\n",
    "import matplotlib.pyplot as plt\n",
    "\n",
    "#plt.style.use(\"ggplot\")\n",
    "sns.set(style=\"whitegrid\")\n",
    "sns.set_context(\"talk\")\n",
    "\n",
    "\n",
    "name = \"proba\"\n",
    "query = data.DISEASE.str.contains(\"advancedadenoma;\")\n",
    "data.DISEASE[query] = \"ComAd\"\n",
    "\n",
    "query = data.DISEASE.str.lower().str.contains(\"adenoma;\")\n",
    "\n",
    "\n",
    "\n",
    "\n",
    "_, ax = plt.subplots(1, 1, figsize=(9, 9))\n",
    "sns.boxplot(y=DISEASE_COLUMN_NAME, x=name, data=data, ax=ax, order=order, color=\"0.9\")#, inner=\"quartile\", scale=\"width\")\n",
    "sns.stripplot(y=DISEASE_COLUMN_NAME, x=name, data=data, ax=ax, jitter=True, zorder=1, order=order, color=\"0.5\", size=3, )\n",
    "plt.axvline(cut_point, linestyle=\"--\", color=\"0.1\")\n",
    "#ax.set_xticklabels(ax.get_xticklabels(), rotation=90)\n",
    "plt.ylabel(\"Condition\")\n",
    "plt.xlabel(\"Risk\")\n",
    "plt.tight_layout()\n",
    "#plt.savefig(f\"{profile_name}_adenoma.pdf\")\n",
    "plt.show()\n",
    "plt.close()"
   ]
  },
  {
   "cell_type": "code",
   "execution_count": 303,
   "metadata": {},
   "outputs": [
    {
     "data": {
      "text/html": [
       "<div>\n",
       "<style scoped>\n",
       "    .dataframe tbody tr th:only-of-type {\n",
       "        vertical-align: middle;\n",
       "    }\n",
       "\n",
       "    .dataframe tbody tr th {\n",
       "        vertical-align: top;\n",
       "    }\n",
       "\n",
       "    .dataframe thead th {\n",
       "        text-align: right;\n",
       "    }\n",
       "</style>\n",
       "<table border=\"1\" class=\"dataframe\">\n",
       "  <thead>\n",
       "    <tr style=\"text-align: right;\">\n",
       "      <th>proba</th>\n",
       "      <th>False</th>\n",
       "      <th>True</th>\n",
       "    </tr>\n",
       "    <tr>\n",
       "      <th>DISEASE</th>\n",
       "      <th></th>\n",
       "      <th></th>\n",
       "    </tr>\n",
       "  </thead>\n",
       "  <tbody>\n",
       "    <tr>\n",
       "      <th>CRC</th>\n",
       "      <td>18</td>\n",
       "      <td>79</td>\n",
       "    </tr>\n",
       "    <tr>\n",
       "      <th>CRC;T2D;hypertension</th>\n",
       "      <td>0</td>\n",
       "      <td>2</td>\n",
       "    </tr>\n",
       "    <tr>\n",
       "      <th>CRC;cholesterolemia</th>\n",
       "      <td>0</td>\n",
       "      <td>1</td>\n",
       "    </tr>\n",
       "    <tr>\n",
       "      <th>CRC;fatty_liver</th>\n",
       "      <td>1</td>\n",
       "      <td>2</td>\n",
       "    </tr>\n",
       "    <tr>\n",
       "      <th>CRC;fatty_liver;T2D;hypertension</th>\n",
       "      <td>2</td>\n",
       "      <td>2</td>\n",
       "    </tr>\n",
       "    <tr>\n",
       "      <th>CRC;fatty_liver;hypertension</th>\n",
       "      <td>10</td>\n",
       "      <td>2</td>\n",
       "    </tr>\n",
       "    <tr>\n",
       "      <th>CRC;hypercholesterolemia</th>\n",
       "      <td>0</td>\n",
       "      <td>3</td>\n",
       "    </tr>\n",
       "    <tr>\n",
       "      <th>CRC;hypertension</th>\n",
       "      <td>5</td>\n",
       "      <td>15</td>\n",
       "    </tr>\n",
       "    <tr>\n",
       "      <th>CRC;hypertension;hypercholesterolemia</th>\n",
       "      <td>0</td>\n",
       "      <td>1</td>\n",
       "    </tr>\n",
       "    <tr>\n",
       "      <th>CRC;metastases</th>\n",
       "      <td>0</td>\n",
       "      <td>1</td>\n",
       "    </tr>\n",
       "    <tr>\n",
       "      <th>Large adenoma</th>\n",
       "      <td>12</td>\n",
       "      <td>3</td>\n",
       "    </tr>\n",
       "    <tr>\n",
       "      <th>Small adenoma</th>\n",
       "      <td>17</td>\n",
       "      <td>9</td>\n",
       "    </tr>\n",
       "    <tr>\n",
       "      <th>T2D;hypertension</th>\n",
       "      <td>1</td>\n",
       "      <td>0</td>\n",
       "    </tr>\n",
       "    <tr>\n",
       "      <th>adenoma</th>\n",
       "      <td>9</td>\n",
       "      <td>34</td>\n",
       "    </tr>\n",
       "    <tr>\n",
       "      <th>adenoma;hypercholesterolemia</th>\n",
       "      <td>0</td>\n",
       "      <td>4</td>\n",
       "    </tr>\n",
       "    <tr>\n",
       "      <th>adenoma;hypercholesterolemia;metastases</th>\n",
       "      <td>0</td>\n",
       "      <td>1</td>\n",
       "    </tr>\n",
       "    <tr>\n",
       "      <th>adenoma;hypertension</th>\n",
       "      <td>0</td>\n",
       "      <td>4</td>\n",
       "    </tr>\n",
       "    <tr>\n",
       "      <th>adenoma;metastases</th>\n",
       "      <td>0</td>\n",
       "      <td>1</td>\n",
       "    </tr>\n",
       "    <tr>\n",
       "      <th>advancedadenoma</th>\n",
       "      <td>7</td>\n",
       "      <td>1</td>\n",
       "    </tr>\n",
       "    <tr>\n",
       "      <th>advancedadenoma;T2D;hypertension</th>\n",
       "      <td>2</td>\n",
       "      <td>0</td>\n",
       "    </tr>\n",
       "    <tr>\n",
       "      <th>advancedadenoma;fatty_liver</th>\n",
       "      <td>10</td>\n",
       "      <td>2</td>\n",
       "    </tr>\n",
       "    <tr>\n",
       "      <th>advancedadenoma;fatty_liver;T2D</th>\n",
       "      <td>0</td>\n",
       "      <td>1</td>\n",
       "    </tr>\n",
       "    <tr>\n",
       "      <th>advancedadenoma;fatty_liver;T2D;hypertension</th>\n",
       "      <td>1</td>\n",
       "      <td>0</td>\n",
       "    </tr>\n",
       "    <tr>\n",
       "      <th>advancedadenoma;fatty_liver;hypertension</th>\n",
       "      <td>11</td>\n",
       "      <td>3</td>\n",
       "    </tr>\n",
       "    <tr>\n",
       "      <th>advancedadenoma;hypertension</th>\n",
       "      <td>8</td>\n",
       "      <td>0</td>\n",
       "    </tr>\n",
       "    <tr>\n",
       "      <th>fatty_liver;T2D</th>\n",
       "      <td>2</td>\n",
       "      <td>1</td>\n",
       "    </tr>\n",
       "    <tr>\n",
       "      <th>fatty_liver;T2D;hypertension</th>\n",
       "      <td>9</td>\n",
       "      <td>0</td>\n",
       "    </tr>\n",
       "    <tr>\n",
       "      <th>healthy</th>\n",
       "      <td>75</td>\n",
       "      <td>25</td>\n",
       "    </tr>\n",
       "    <tr>\n",
       "      <th>hypercholesterolemia</th>\n",
       "      <td>1</td>\n",
       "      <td>4</td>\n",
       "    </tr>\n",
       "    <tr>\n",
       "      <th>hypertension</th>\n",
       "      <td>0</td>\n",
       "      <td>3</td>\n",
       "    </tr>\n",
       "    <tr>\n",
       "      <th>hypertension;metastases</th>\n",
       "      <td>0</td>\n",
       "      <td>1</td>\n",
       "    </tr>\n",
       "  </tbody>\n",
       "</table>\n",
       "</div>"
      ],
      "text/plain": [
       "proba                                         False  True \n",
       "DISEASE                                                   \n",
       "CRC                                              18     79\n",
       "CRC;T2D;hypertension                              0      2\n",
       "CRC;cholesterolemia                               0      1\n",
       "CRC;fatty_liver                                   1      2\n",
       "CRC;fatty_liver;T2D;hypertension                  2      2\n",
       "CRC;fatty_liver;hypertension                     10      2\n",
       "CRC;hypercholesterolemia                          0      3\n",
       "CRC;hypertension                                  5     15\n",
       "CRC;hypertension;hypercholesterolemia             0      1\n",
       "CRC;metastases                                    0      1\n",
       "Large adenoma                                    12      3\n",
       "Small adenoma                                    17      9\n",
       "T2D;hypertension                                  1      0\n",
       "adenoma                                           9     34\n",
       "adenoma;hypercholesterolemia                      0      4\n",
       "adenoma;hypercholesterolemia;metastases           0      1\n",
       "adenoma;hypertension                              0      4\n",
       "adenoma;metastases                                0      1\n",
       "advancedadenoma                                   7      1\n",
       "advancedadenoma;T2D;hypertension                  2      0\n",
       "advancedadenoma;fatty_liver                      10      2\n",
       "advancedadenoma;fatty_liver;T2D                   0      1\n",
       "advancedadenoma;fatty_liver;T2D;hypertension      1      0\n",
       "advancedadenoma;fatty_liver;hypertension         11      3\n",
       "advancedadenoma;hypertension                      8      0\n",
       "fatty_liver;T2D                                   2      1\n",
       "fatty_liver;T2D;hypertension                      9      0\n",
       "healthy                                          75     25\n",
       "hypercholesterolemia                              1      4\n",
       "hypertension                                      0      3\n",
       "hypertension;metastases                           0      1"
      ]
     },
     "execution_count": 303,
     "metadata": {},
     "output_type": "execute_result"
    }
   ],
   "source": [
    "r = pd.crosstab(data.DISEASE, data.proba>cut_point)\n",
    "r"
   ]
  },
  {
   "cell_type": "code",
   "execution_count": 304,
   "metadata": {},
   "outputs": [
    {
     "data": {
      "text/plain": [
       "DISEASE\n",
       "CRC                                             0.814433\n",
       "CRC;T2D;hypertension                            1.000000\n",
       "CRC;cholesterolemia                             1.000000\n",
       "CRC;fatty_liver                                 0.666667\n",
       "CRC;fatty_liver;T2D;hypertension                0.500000\n",
       "CRC;fatty_liver;hypertension                    0.166667\n",
       "CRC;hypercholesterolemia                        1.000000\n",
       "CRC;hypertension                                0.750000\n",
       "CRC;hypertension;hypercholesterolemia           1.000000\n",
       "CRC;metastases                                  1.000000\n",
       "Large adenoma                                   0.200000\n",
       "Small adenoma                                   0.346154\n",
       "T2D;hypertension                                0.000000\n",
       "adenoma                                         0.790698\n",
       "adenoma;hypercholesterolemia                    1.000000\n",
       "adenoma;hypercholesterolemia;metastases         1.000000\n",
       "adenoma;hypertension                            1.000000\n",
       "adenoma;metastases                              1.000000\n",
       "advancedadenoma                                 0.125000\n",
       "advancedadenoma;T2D;hypertension                0.000000\n",
       "advancedadenoma;fatty_liver                     0.166667\n",
       "advancedadenoma;fatty_liver;T2D                 1.000000\n",
       "advancedadenoma;fatty_liver;T2D;hypertension    0.000000\n",
       "advancedadenoma;fatty_liver;hypertension        0.214286\n",
       "advancedadenoma;hypertension                    0.000000\n",
       "fatty_liver;T2D                                 0.333333\n",
       "fatty_liver;T2D;hypertension                    0.000000\n",
       "healthy                                         0.250000\n",
       "hypercholesterolemia                            0.800000\n",
       "hypertension                                    1.000000\n",
       "hypertension;metastases                         1.000000\n",
       "dtype: float64"
      ]
     },
     "execution_count": 304,
     "metadata": {},
     "output_type": "execute_result"
    }
   ],
   "source": [
    "r.iloc[:, -1] / r.sum(axis=1)"
   ]
  },
  {
   "cell_type": "code",
   "execution_count": 30,
   "metadata": {},
   "outputs": [],
   "source": [
    "adenoma_interpret_query = data.index[data[DISEASE_COLUMN_NAME] == \"Adenoma\"]"
   ]
  },
  {
   "cell_type": "code",
   "execution_count": 31,
   "metadata": {},
   "outputs": [],
   "source": [
    "X_adenoma = features.loc[adenoma_interpret_query, columns]\n",
    "y_adenoma = pd.Series(index=adenoma_interpret_query, name=\"Condition\", dtype=bool)\n",
    "y_adenoma.values[:] =  True"
   ]
  },
  {
   "cell_type": "code",
   "execution_count": 32,
   "metadata": {},
   "outputs": [
    {
     "data": {
      "text/plain": [
       "((66, 108056), (66,))"
      ]
     },
     "execution_count": 32,
     "metadata": {},
     "output_type": "execute_result"
    }
   ],
   "source": [
    "X_adenoma.shape, y_adenoma.shape"
   ]
  },
  {
   "cell_type": "code",
   "execution_count": 35,
   "metadata": {},
   "outputs": [],
   "source": [
    "ebm_local = model[-1].explain_local(X_adenoma)"
   ]
  },
  {
   "cell_type": "code",
   "execution_count": 36,
   "metadata": {},
   "outputs": [
    {
     "data": {
      "text/html": [
       "<div>\n",
       "<style scoped>\n",
       "    .dataframe tbody tr th:only-of-type {\n",
       "        vertical-align: middle;\n",
       "    }\n",
       "\n",
       "    .dataframe tbody tr th {\n",
       "        vertical-align: top;\n",
       "    }\n",
       "\n",
       "    .dataframe thead th {\n",
       "        text-align: right;\n",
       "    }\n",
       "</style>\n",
       "<table border=\"1\" class=\"dataframe\">\n",
       "  <thead>\n",
       "    <tr style=\"text-align: right;\">\n",
       "      <th></th>\n",
       "      <th>feature_0</th>\n",
       "      <th>feature_1</th>\n",
       "      <th>feature_2</th>\n",
       "      <th>feature_3</th>\n",
       "      <th>feature_4</th>\n",
       "      <th>feature_5</th>\n",
       "      <th>feature_6</th>\n",
       "      <th>feature_7</th>\n",
       "      <th>feature_8</th>\n",
       "      <th>feature_9</th>\n",
       "      <th>...</th>\n",
       "      <th>feature_108046</th>\n",
       "      <th>feature_108047</th>\n",
       "      <th>feature_108048</th>\n",
       "      <th>feature_108049</th>\n",
       "      <th>feature_108050</th>\n",
       "      <th>feature_108051</th>\n",
       "      <th>feature_108052</th>\n",
       "      <th>feature_108053</th>\n",
       "      <th>feature_108054</th>\n",
       "      <th>feature_108055</th>\n",
       "    </tr>\n",
       "  </thead>\n",
       "  <tbody>\n",
       "    <tr>\n",
       "      <th>ERS436650</th>\n",
       "      <td>-0.003843</td>\n",
       "      <td>-0.003392</td>\n",
       "      <td>-0.003786</td>\n",
       "      <td>0.008323</td>\n",
       "      <td>-0.003338</td>\n",
       "      <td>-0.003306</td>\n",
       "      <td>-0.004583</td>\n",
       "      <td>-0.006793</td>\n",
       "      <td>-0.003004</td>\n",
       "      <td>-0.00335</td>\n",
       "      <td>...</td>\n",
       "      <td>0.0</td>\n",
       "      <td>0.0</td>\n",
       "      <td>0.0</td>\n",
       "      <td>0.0</td>\n",
       "      <td>0.0</td>\n",
       "      <td>0.0</td>\n",
       "      <td>0.0</td>\n",
       "      <td>0.0</td>\n",
       "      <td>0.0</td>\n",
       "      <td>0.0</td>\n",
       "    </tr>\n",
       "    <tr>\n",
       "      <th>ERS436652</th>\n",
       "      <td>-0.003843</td>\n",
       "      <td>-0.003392</td>\n",
       "      <td>-0.003786</td>\n",
       "      <td>0.008323</td>\n",
       "      <td>-0.003338</td>\n",
       "      <td>-0.003306</td>\n",
       "      <td>-0.004583</td>\n",
       "      <td>0.002581</td>\n",
       "      <td>-0.003004</td>\n",
       "      <td>-0.00335</td>\n",
       "      <td>...</td>\n",
       "      <td>0.0</td>\n",
       "      <td>0.0</td>\n",
       "      <td>0.0</td>\n",
       "      <td>0.0</td>\n",
       "      <td>0.0</td>\n",
       "      <td>0.0</td>\n",
       "      <td>0.0</td>\n",
       "      <td>0.0</td>\n",
       "      <td>0.0</td>\n",
       "      <td>0.0</td>\n",
       "    </tr>\n",
       "    <tr>\n",
       "      <th>ERS436663</th>\n",
       "      <td>-0.003843</td>\n",
       "      <td>-0.003392</td>\n",
       "      <td>-0.003786</td>\n",
       "      <td>0.008323</td>\n",
       "      <td>-0.003338</td>\n",
       "      <td>-0.003306</td>\n",
       "      <td>-0.004583</td>\n",
       "      <td>-0.001533</td>\n",
       "      <td>-0.003004</td>\n",
       "      <td>-0.00335</td>\n",
       "      <td>...</td>\n",
       "      <td>0.0</td>\n",
       "      <td>0.0</td>\n",
       "      <td>0.0</td>\n",
       "      <td>0.0</td>\n",
       "      <td>0.0</td>\n",
       "      <td>0.0</td>\n",
       "      <td>0.0</td>\n",
       "      <td>0.0</td>\n",
       "      <td>0.0</td>\n",
       "      <td>0.0</td>\n",
       "    </tr>\n",
       "    <tr>\n",
       "      <th>ERS436667</th>\n",
       "      <td>-0.003843</td>\n",
       "      <td>-0.003392</td>\n",
       "      <td>-0.003786</td>\n",
       "      <td>-0.003360</td>\n",
       "      <td>-0.003338</td>\n",
       "      <td>-0.003306</td>\n",
       "      <td>-0.004583</td>\n",
       "      <td>-0.006793</td>\n",
       "      <td>-0.003004</td>\n",
       "      <td>-0.00335</td>\n",
       "      <td>...</td>\n",
       "      <td>0.0</td>\n",
       "      <td>0.0</td>\n",
       "      <td>0.0</td>\n",
       "      <td>0.0</td>\n",
       "      <td>0.0</td>\n",
       "      <td>0.0</td>\n",
       "      <td>0.0</td>\n",
       "      <td>0.0</td>\n",
       "      <td>0.0</td>\n",
       "      <td>0.0</td>\n",
       "    </tr>\n",
       "    <tr>\n",
       "      <th>ERS436671</th>\n",
       "      <td>-0.003843</td>\n",
       "      <td>-0.003392</td>\n",
       "      <td>-0.003786</td>\n",
       "      <td>-0.003360</td>\n",
       "      <td>-0.003338</td>\n",
       "      <td>-0.003306</td>\n",
       "      <td>-0.004583</td>\n",
       "      <td>0.002581</td>\n",
       "      <td>-0.003004</td>\n",
       "      <td>-0.00335</td>\n",
       "      <td>...</td>\n",
       "      <td>0.0</td>\n",
       "      <td>0.0</td>\n",
       "      <td>0.0</td>\n",
       "      <td>0.0</td>\n",
       "      <td>0.0</td>\n",
       "      <td>0.0</td>\n",
       "      <td>0.0</td>\n",
       "      <td>0.0</td>\n",
       "      <td>0.0</td>\n",
       "      <td>0.0</td>\n",
       "    </tr>\n",
       "  </tbody>\n",
       "</table>\n",
       "<p>5 rows × 108056 columns</p>\n",
       "</div>"
      ],
      "text/plain": [
       "           feature_0  feature_1  feature_2  feature_3  feature_4  feature_5  \\\n",
       "ERS436650  -0.003843  -0.003392  -0.003786   0.008323  -0.003338  -0.003306   \n",
       "ERS436652  -0.003843  -0.003392  -0.003786   0.008323  -0.003338  -0.003306   \n",
       "ERS436663  -0.003843  -0.003392  -0.003786   0.008323  -0.003338  -0.003306   \n",
       "ERS436667  -0.003843  -0.003392  -0.003786  -0.003360  -0.003338  -0.003306   \n",
       "ERS436671  -0.003843  -0.003392  -0.003786  -0.003360  -0.003338  -0.003306   \n",
       "\n",
       "           feature_6  feature_7  feature_8  feature_9  ...  feature_108046  \\\n",
       "ERS436650  -0.004583  -0.006793  -0.003004   -0.00335  ...             0.0   \n",
       "ERS436652  -0.004583   0.002581  -0.003004   -0.00335  ...             0.0   \n",
       "ERS436663  -0.004583  -0.001533  -0.003004   -0.00335  ...             0.0   \n",
       "ERS436667  -0.004583  -0.006793  -0.003004   -0.00335  ...             0.0   \n",
       "ERS436671  -0.004583   0.002581  -0.003004   -0.00335  ...             0.0   \n",
       "\n",
       "           feature_108047  feature_108048  feature_108049  feature_108050  \\\n",
       "ERS436650             0.0             0.0             0.0             0.0   \n",
       "ERS436652             0.0             0.0             0.0             0.0   \n",
       "ERS436663             0.0             0.0             0.0             0.0   \n",
       "ERS436667             0.0             0.0             0.0             0.0   \n",
       "ERS436671             0.0             0.0             0.0             0.0   \n",
       "\n",
       "           feature_108051  feature_108052  feature_108053  feature_108054  \\\n",
       "ERS436650             0.0             0.0             0.0             0.0   \n",
       "ERS436652             0.0             0.0             0.0             0.0   \n",
       "ERS436663             0.0             0.0             0.0             0.0   \n",
       "ERS436667             0.0             0.0             0.0             0.0   \n",
       "ERS436671             0.0             0.0             0.0             0.0   \n",
       "\n",
       "           feature_108055  \n",
       "ERS436650             0.0  \n",
       "ERS436652             0.0  \n",
       "ERS436663             0.0  \n",
       "ERS436667             0.0  \n",
       "ERS436671             0.0  \n",
       "\n",
       "[5 rows x 108056 columns]"
      ]
     },
     "execution_count": 36,
     "metadata": {},
     "output_type": "execute_result"
    }
   ],
   "source": [
    "explanations = [ebm_local.data(irow) for irow in range(X_adenoma.shape[0])]\n",
    "explanation_df = pd.concat([pd.Series(x[\"scores\"], index=x[\"names\"], name=\"score\") for x in explanations], axis=1)\n",
    "explanation_df.columns = adenoma_interpret_query\n",
    "explanation_df = explanation_df.T\n",
    "explanation_df.head()"
   ]
  },
  {
   "cell_type": "code",
   "execution_count": 37,
   "metadata": {},
   "outputs": [],
   "source": [
    "def fdr(p_vals):\n",
    "\n",
    "    from scipy.stats import rankdata\n",
    "    ranked_p_values = rankdata(p_vals)\n",
    "    fdr = p_vals * len(p_vals) / ranked_p_values\n",
    "    fdr[fdr > 1] = 1\n",
    "\n",
    "    return fdr"
   ]
  },
  {
   "cell_type": "code",
   "execution_count": 38,
   "metadata": {},
   "outputs": [
    {
     "ename": "KeyError",
     "evalue": "'08XIZ@bactNOG'",
     "output_type": "error",
     "traceback": [
      "\u001b[0;31m---------------------------------------------------------------------------\u001b[0m",
      "\u001b[0;31mKeyError\u001b[0m                                  Traceback (most recent call last)",
      "\u001b[0;32m/mnt/lustre/scratch/home/cloucera/projects/babelomics/mlgut/.venv/lib/python3.7/site-packages/pandas/core/indexes/base.py\u001b[0m in \u001b[0;36mget_loc\u001b[0;34m(self, key, method, tolerance)\u001b[0m\n\u001b[1;32m   2645\u001b[0m             \u001b[0;32mtry\u001b[0m\u001b[0;34m:\u001b[0m\u001b[0;34m\u001b[0m\u001b[0;34m\u001b[0m\u001b[0m\n\u001b[0;32m-> 2646\u001b[0;31m                 \u001b[0;32mreturn\u001b[0m \u001b[0mself\u001b[0m\u001b[0;34m.\u001b[0m\u001b[0m_engine\u001b[0m\u001b[0;34m.\u001b[0m\u001b[0mget_loc\u001b[0m\u001b[0;34m(\u001b[0m\u001b[0mkey\u001b[0m\u001b[0;34m)\u001b[0m\u001b[0;34m\u001b[0m\u001b[0;34m\u001b[0m\u001b[0m\n\u001b[0m\u001b[1;32m   2647\u001b[0m             \u001b[0;32mexcept\u001b[0m \u001b[0mKeyError\u001b[0m\u001b[0;34m:\u001b[0m\u001b[0;34m\u001b[0m\u001b[0;34m\u001b[0m\u001b[0m\n",
      "\u001b[0;32mpandas/_libs/index.pyx\u001b[0m in \u001b[0;36mpandas._libs.index.IndexEngine.get_loc\u001b[0;34m()\u001b[0m\n",
      "\u001b[0;32mpandas/_libs/index.pyx\u001b[0m in \u001b[0;36mpandas._libs.index.IndexEngine.get_loc\u001b[0;34m()\u001b[0m\n",
      "\u001b[0;32mpandas/_libs/hashtable_class_helper.pxi\u001b[0m in \u001b[0;36mpandas._libs.hashtable.PyObjectHashTable.get_item\u001b[0;34m()\u001b[0m\n",
      "\u001b[0;32mpandas/_libs/hashtable_class_helper.pxi\u001b[0m in \u001b[0;36mpandas._libs.hashtable.PyObjectHashTable.get_item\u001b[0;34m()\u001b[0m\n",
      "\u001b[0;31mKeyError\u001b[0m: '08XIZ@bactNOG'",
      "\nDuring handling of the above exception, another exception occurred:\n",
      "\u001b[0;31mKeyError\u001b[0m                                  Traceback (most recent call last)",
      "\u001b[0;32m<ipython-input-38-9136d9d06830>\u001b[0m in \u001b[0;36m<module>\u001b[0;34m\u001b[0m\n\u001b[1;32m      1\u001b[0m \u001b[0;32mfrom\u001b[0m \u001b[0mscipy\u001b[0m\u001b[0;34m.\u001b[0m\u001b[0mstats\u001b[0m \u001b[0;32mimport\u001b[0m \u001b[0mlinregress\u001b[0m\u001b[0;34m\u001b[0m\u001b[0;34m\u001b[0m\u001b[0m\n\u001b[0;32m----> 2\u001b[0;31m \u001b[0madenoma_reg\u001b[0m \u001b[0;34m=\u001b[0m \u001b[0;34m[\u001b[0m\u001b[0mlinregress\u001b[0m\u001b[0;34m(\u001b[0m\u001b[0mX_adenoma\u001b[0m\u001b[0;34m[\u001b[0m\u001b[0mcol\u001b[0m\u001b[0;34m]\u001b[0m\u001b[0;34m,\u001b[0m \u001b[0mexplanation_df\u001b[0m\u001b[0;34m[\u001b[0m\u001b[0mcol\u001b[0m\u001b[0;34m]\u001b[0m\u001b[0;34m)\u001b[0m \u001b[0;32mfor\u001b[0m \u001b[0mcol\u001b[0m \u001b[0;32min\u001b[0m \u001b[0mX_adenoma\u001b[0m\u001b[0;34m.\u001b[0m\u001b[0mcolumns\u001b[0m\u001b[0;34m]\u001b[0m\u001b[0;34m\u001b[0m\u001b[0;34m\u001b[0m\u001b[0m\n\u001b[0m\u001b[1;32m      3\u001b[0m \u001b[0madenoma_coef\u001b[0m \u001b[0;34m=\u001b[0m \u001b[0mpd\u001b[0m\u001b[0;34m.\u001b[0m\u001b[0mSeries\u001b[0m\u001b[0;34m(\u001b[0m\u001b[0;34m[\u001b[0m\u001b[0mreg\u001b[0m\u001b[0;34m[\u001b[0m\u001b[0;36m0\u001b[0m\u001b[0;34m]\u001b[0m \u001b[0;32mfor\u001b[0m \u001b[0mreg\u001b[0m \u001b[0;32min\u001b[0m \u001b[0madenoma_reg\u001b[0m\u001b[0;34m]\u001b[0m\u001b[0;34m,\u001b[0m \u001b[0mindex\u001b[0m\u001b[0;34m=\u001b[0m\u001b[0mX_adenoma\u001b[0m\u001b[0;34m.\u001b[0m\u001b[0mcolumns\u001b[0m\u001b[0;34m,\u001b[0m \u001b[0mname\u001b[0m\u001b[0;34m=\u001b[0m\u001b[0;34m\"r_coeff\"\u001b[0m\u001b[0;34m)\u001b[0m\u001b[0;34m\u001b[0m\u001b[0;34m\u001b[0m\u001b[0m\n\u001b[1;32m      4\u001b[0m \u001b[0madenoma_sig\u001b[0m \u001b[0;34m=\u001b[0m \u001b[0mpd\u001b[0m\u001b[0;34m.\u001b[0m\u001b[0mSeries\u001b[0m\u001b[0;34m(\u001b[0m\u001b[0;34m[\u001b[0m\u001b[0mcoef\u001b[0m \u001b[0;34m>\u001b[0m \u001b[0;36m0\u001b[0m \u001b[0;32mfor\u001b[0m \u001b[0mcoef\u001b[0m \u001b[0;32min\u001b[0m \u001b[0madenoma_coef\u001b[0m\u001b[0;34m]\u001b[0m\u001b[0;34m,\u001b[0m \u001b[0mindex\u001b[0m\u001b[0;34m=\u001b[0m\u001b[0mX_adenoma\u001b[0m\u001b[0;34m.\u001b[0m\u001b[0mcolumns\u001b[0m\u001b[0;34m,\u001b[0m \u001b[0mname\u001b[0m\u001b[0;34m=\u001b[0m\u001b[0;34m\"r_sign\"\u001b[0m\u001b[0;34m)\u001b[0m\u001b[0;34m\u001b[0m\u001b[0;34m\u001b[0m\u001b[0m\n\u001b[1;32m      5\u001b[0m \u001b[0madenoma_pval\u001b[0m \u001b[0;34m=\u001b[0m \u001b[0mpd\u001b[0m\u001b[0;34m.\u001b[0m\u001b[0mSeries\u001b[0m\u001b[0;34m(\u001b[0m\u001b[0;34m[\u001b[0m\u001b[0mreg\u001b[0m\u001b[0;34m[\u001b[0m\u001b[0;36m3\u001b[0m\u001b[0;34m]\u001b[0m \u001b[0;32mfor\u001b[0m \u001b[0mreg\u001b[0m \u001b[0;32min\u001b[0m \u001b[0madenoma_reg\u001b[0m\u001b[0;34m]\u001b[0m\u001b[0;34m,\u001b[0m \u001b[0mindex\u001b[0m\u001b[0;34m=\u001b[0m\u001b[0mX_adenoma\u001b[0m\u001b[0;34m.\u001b[0m\u001b[0mcolumns\u001b[0m\u001b[0;34m,\u001b[0m \u001b[0mname\u001b[0m\u001b[0;34m=\u001b[0m\u001b[0;34m\"r_pvalue\"\u001b[0m\u001b[0;34m)\u001b[0m\u001b[0;34m\u001b[0m\u001b[0;34m\u001b[0m\u001b[0m\n",
      "\u001b[0;32m<ipython-input-38-9136d9d06830>\u001b[0m in \u001b[0;36m<listcomp>\u001b[0;34m(.0)\u001b[0m\n\u001b[1;32m      1\u001b[0m \u001b[0;32mfrom\u001b[0m \u001b[0mscipy\u001b[0m\u001b[0;34m.\u001b[0m\u001b[0mstats\u001b[0m \u001b[0;32mimport\u001b[0m \u001b[0mlinregress\u001b[0m\u001b[0;34m\u001b[0m\u001b[0;34m\u001b[0m\u001b[0m\n\u001b[0;32m----> 2\u001b[0;31m \u001b[0madenoma_reg\u001b[0m \u001b[0;34m=\u001b[0m \u001b[0;34m[\u001b[0m\u001b[0mlinregress\u001b[0m\u001b[0;34m(\u001b[0m\u001b[0mX_adenoma\u001b[0m\u001b[0;34m[\u001b[0m\u001b[0mcol\u001b[0m\u001b[0;34m]\u001b[0m\u001b[0;34m,\u001b[0m \u001b[0mexplanation_df\u001b[0m\u001b[0;34m[\u001b[0m\u001b[0mcol\u001b[0m\u001b[0;34m]\u001b[0m\u001b[0;34m)\u001b[0m \u001b[0;32mfor\u001b[0m \u001b[0mcol\u001b[0m \u001b[0;32min\u001b[0m \u001b[0mX_adenoma\u001b[0m\u001b[0;34m.\u001b[0m\u001b[0mcolumns\u001b[0m\u001b[0;34m]\u001b[0m\u001b[0;34m\u001b[0m\u001b[0;34m\u001b[0m\u001b[0m\n\u001b[0m\u001b[1;32m      3\u001b[0m \u001b[0madenoma_coef\u001b[0m \u001b[0;34m=\u001b[0m \u001b[0mpd\u001b[0m\u001b[0;34m.\u001b[0m\u001b[0mSeries\u001b[0m\u001b[0;34m(\u001b[0m\u001b[0;34m[\u001b[0m\u001b[0mreg\u001b[0m\u001b[0;34m[\u001b[0m\u001b[0;36m0\u001b[0m\u001b[0;34m]\u001b[0m \u001b[0;32mfor\u001b[0m \u001b[0mreg\u001b[0m \u001b[0;32min\u001b[0m \u001b[0madenoma_reg\u001b[0m\u001b[0;34m]\u001b[0m\u001b[0;34m,\u001b[0m \u001b[0mindex\u001b[0m\u001b[0;34m=\u001b[0m\u001b[0mX_adenoma\u001b[0m\u001b[0;34m.\u001b[0m\u001b[0mcolumns\u001b[0m\u001b[0;34m,\u001b[0m \u001b[0mname\u001b[0m\u001b[0;34m=\u001b[0m\u001b[0;34m\"r_coeff\"\u001b[0m\u001b[0;34m)\u001b[0m\u001b[0;34m\u001b[0m\u001b[0;34m\u001b[0m\u001b[0m\n\u001b[1;32m      4\u001b[0m \u001b[0madenoma_sig\u001b[0m \u001b[0;34m=\u001b[0m \u001b[0mpd\u001b[0m\u001b[0;34m.\u001b[0m\u001b[0mSeries\u001b[0m\u001b[0;34m(\u001b[0m\u001b[0;34m[\u001b[0m\u001b[0mcoef\u001b[0m \u001b[0;34m>\u001b[0m \u001b[0;36m0\u001b[0m \u001b[0;32mfor\u001b[0m \u001b[0mcoef\u001b[0m \u001b[0;32min\u001b[0m \u001b[0madenoma_coef\u001b[0m\u001b[0;34m]\u001b[0m\u001b[0;34m,\u001b[0m \u001b[0mindex\u001b[0m\u001b[0;34m=\u001b[0m\u001b[0mX_adenoma\u001b[0m\u001b[0;34m.\u001b[0m\u001b[0mcolumns\u001b[0m\u001b[0;34m,\u001b[0m \u001b[0mname\u001b[0m\u001b[0;34m=\u001b[0m\u001b[0;34m\"r_sign\"\u001b[0m\u001b[0;34m)\u001b[0m\u001b[0;34m\u001b[0m\u001b[0;34m\u001b[0m\u001b[0m\n\u001b[1;32m      5\u001b[0m \u001b[0madenoma_pval\u001b[0m \u001b[0;34m=\u001b[0m \u001b[0mpd\u001b[0m\u001b[0;34m.\u001b[0m\u001b[0mSeries\u001b[0m\u001b[0;34m(\u001b[0m\u001b[0;34m[\u001b[0m\u001b[0mreg\u001b[0m\u001b[0;34m[\u001b[0m\u001b[0;36m3\u001b[0m\u001b[0;34m]\u001b[0m \u001b[0;32mfor\u001b[0m \u001b[0mreg\u001b[0m \u001b[0;32min\u001b[0m \u001b[0madenoma_reg\u001b[0m\u001b[0;34m]\u001b[0m\u001b[0;34m,\u001b[0m \u001b[0mindex\u001b[0m\u001b[0;34m=\u001b[0m\u001b[0mX_adenoma\u001b[0m\u001b[0;34m.\u001b[0m\u001b[0mcolumns\u001b[0m\u001b[0;34m,\u001b[0m \u001b[0mname\u001b[0m\u001b[0;34m=\u001b[0m\u001b[0;34m\"r_pvalue\"\u001b[0m\u001b[0;34m)\u001b[0m\u001b[0;34m\u001b[0m\u001b[0;34m\u001b[0m\u001b[0m\n",
      "\u001b[0;32m/mnt/lustre/scratch/home/cloucera/projects/babelomics/mlgut/.venv/lib/python3.7/site-packages/pandas/core/frame.py\u001b[0m in \u001b[0;36m__getitem__\u001b[0;34m(self, key)\u001b[0m\n\u001b[1;32m   2798\u001b[0m             \u001b[0;32mif\u001b[0m \u001b[0mself\u001b[0m\u001b[0;34m.\u001b[0m\u001b[0mcolumns\u001b[0m\u001b[0;34m.\u001b[0m\u001b[0mnlevels\u001b[0m \u001b[0;34m>\u001b[0m \u001b[0;36m1\u001b[0m\u001b[0;34m:\u001b[0m\u001b[0;34m\u001b[0m\u001b[0;34m\u001b[0m\u001b[0m\n\u001b[1;32m   2799\u001b[0m                 \u001b[0;32mreturn\u001b[0m \u001b[0mself\u001b[0m\u001b[0;34m.\u001b[0m\u001b[0m_getitem_multilevel\u001b[0m\u001b[0;34m(\u001b[0m\u001b[0mkey\u001b[0m\u001b[0;34m)\u001b[0m\u001b[0;34m\u001b[0m\u001b[0;34m\u001b[0m\u001b[0m\n\u001b[0;32m-> 2800\u001b[0;31m             \u001b[0mindexer\u001b[0m \u001b[0;34m=\u001b[0m \u001b[0mself\u001b[0m\u001b[0;34m.\u001b[0m\u001b[0mcolumns\u001b[0m\u001b[0;34m.\u001b[0m\u001b[0mget_loc\u001b[0m\u001b[0;34m(\u001b[0m\u001b[0mkey\u001b[0m\u001b[0;34m)\u001b[0m\u001b[0;34m\u001b[0m\u001b[0;34m\u001b[0m\u001b[0m\n\u001b[0m\u001b[1;32m   2801\u001b[0m             \u001b[0;32mif\u001b[0m \u001b[0mis_integer\u001b[0m\u001b[0;34m(\u001b[0m\u001b[0mindexer\u001b[0m\u001b[0;34m)\u001b[0m\u001b[0;34m:\u001b[0m\u001b[0;34m\u001b[0m\u001b[0;34m\u001b[0m\u001b[0m\n\u001b[1;32m   2802\u001b[0m                 \u001b[0mindexer\u001b[0m \u001b[0;34m=\u001b[0m \u001b[0;34m[\u001b[0m\u001b[0mindexer\u001b[0m\u001b[0;34m]\u001b[0m\u001b[0;34m\u001b[0m\u001b[0;34m\u001b[0m\u001b[0m\n",
      "\u001b[0;32m/mnt/lustre/scratch/home/cloucera/projects/babelomics/mlgut/.venv/lib/python3.7/site-packages/pandas/core/indexes/base.py\u001b[0m in \u001b[0;36mget_loc\u001b[0;34m(self, key, method, tolerance)\u001b[0m\n\u001b[1;32m   2646\u001b[0m                 \u001b[0;32mreturn\u001b[0m \u001b[0mself\u001b[0m\u001b[0;34m.\u001b[0m\u001b[0m_engine\u001b[0m\u001b[0;34m.\u001b[0m\u001b[0mget_loc\u001b[0m\u001b[0;34m(\u001b[0m\u001b[0mkey\u001b[0m\u001b[0;34m)\u001b[0m\u001b[0;34m\u001b[0m\u001b[0;34m\u001b[0m\u001b[0m\n\u001b[1;32m   2647\u001b[0m             \u001b[0;32mexcept\u001b[0m \u001b[0mKeyError\u001b[0m\u001b[0;34m:\u001b[0m\u001b[0;34m\u001b[0m\u001b[0;34m\u001b[0m\u001b[0m\n\u001b[0;32m-> 2648\u001b[0;31m                 \u001b[0;32mreturn\u001b[0m \u001b[0mself\u001b[0m\u001b[0;34m.\u001b[0m\u001b[0m_engine\u001b[0m\u001b[0;34m.\u001b[0m\u001b[0mget_loc\u001b[0m\u001b[0;34m(\u001b[0m\u001b[0mself\u001b[0m\u001b[0;34m.\u001b[0m\u001b[0m_maybe_cast_indexer\u001b[0m\u001b[0;34m(\u001b[0m\u001b[0mkey\u001b[0m\u001b[0;34m)\u001b[0m\u001b[0;34m)\u001b[0m\u001b[0;34m\u001b[0m\u001b[0;34m\u001b[0m\u001b[0m\n\u001b[0m\u001b[1;32m   2649\u001b[0m         \u001b[0mindexer\u001b[0m \u001b[0;34m=\u001b[0m \u001b[0mself\u001b[0m\u001b[0;34m.\u001b[0m\u001b[0mget_indexer\u001b[0m\u001b[0;34m(\u001b[0m\u001b[0;34m[\u001b[0m\u001b[0mkey\u001b[0m\u001b[0;34m]\u001b[0m\u001b[0;34m,\u001b[0m \u001b[0mmethod\u001b[0m\u001b[0;34m=\u001b[0m\u001b[0mmethod\u001b[0m\u001b[0;34m,\u001b[0m \u001b[0mtolerance\u001b[0m\u001b[0;34m=\u001b[0m\u001b[0mtolerance\u001b[0m\u001b[0;34m)\u001b[0m\u001b[0;34m\u001b[0m\u001b[0;34m\u001b[0m\u001b[0m\n\u001b[1;32m   2650\u001b[0m         \u001b[0;32mif\u001b[0m \u001b[0mindexer\u001b[0m\u001b[0;34m.\u001b[0m\u001b[0mndim\u001b[0m \u001b[0;34m>\u001b[0m \u001b[0;36m1\u001b[0m \u001b[0;32mor\u001b[0m \u001b[0mindexer\u001b[0m\u001b[0;34m.\u001b[0m\u001b[0msize\u001b[0m \u001b[0;34m>\u001b[0m \u001b[0;36m1\u001b[0m\u001b[0;34m:\u001b[0m\u001b[0;34m\u001b[0m\u001b[0;34m\u001b[0m\u001b[0m\n",
      "\u001b[0;32mpandas/_libs/index.pyx\u001b[0m in \u001b[0;36mpandas._libs.index.IndexEngine.get_loc\u001b[0;34m()\u001b[0m\n",
      "\u001b[0;32mpandas/_libs/index.pyx\u001b[0m in \u001b[0;36mpandas._libs.index.IndexEngine.get_loc\u001b[0;34m()\u001b[0m\n",
      "\u001b[0;32mpandas/_libs/hashtable_class_helper.pxi\u001b[0m in \u001b[0;36mpandas._libs.hashtable.PyObjectHashTable.get_item\u001b[0;34m()\u001b[0m\n",
      "\u001b[0;32mpandas/_libs/hashtable_class_helper.pxi\u001b[0m in \u001b[0;36mpandas._libs.hashtable.PyObjectHashTable.get_item\u001b[0;34m()\u001b[0m\n",
      "\u001b[0;31mKeyError\u001b[0m: '08XIZ@bactNOG'"
     ]
    }
   ],
   "source": [
    "from scipy.stats import linregress\n",
    "adenoma_reg = [linregress(X_adenoma[col], explanation_df[col]) for col in X_adenoma.columns]\n",
    "adenoma_coef = pd.Series([reg[0] for reg in adenoma_reg], index=X_adenoma.columns, name=\"r_coeff\")\n",
    "adenoma_sig = pd.Series([coef > 0 for coef in adenoma_coef], index=X_adenoma.columns, name=\"r_sign\")\n",
    "adenoma_pval = pd.Series([reg[3] for reg in adenoma_reg], index=X_adenoma.columns, name=\"r_pvalue\")"
   ]
  },
  {
   "cell_type": "code",
   "execution_count": null,
   "metadata": {},
   "outputs": [],
   "source": [
    "adenoma_pval_fdr = pd.Series(fdr(adenoma_pval), index=X_adenoma.columns, name=\"r_pvalue_fdr\")"
   ]
  },
  {
   "cell_type": "code",
   "execution_count": null,
   "metadata": {},
   "outputs": [],
   "source": [
    "adenoma_rank = explanation_df.abs().sum().sort_values(ascending=False)\n",
    "adenoma_rank.name = \"score\"\n",
    "adenoma_analysis = pd.concat((adenoma_rank, adenoma_coef, adenoma_sig, adenoma_pval, adenoma_pval_fdr), axis=1)\n",
    "adenoma_analysis"
   ]
  },
  {
   "cell_type": "code",
   "execution_count": 41,
   "metadata": {},
   "outputs": [],
   "source": [
    "adenoma_analysis.to_csv(\"borrame.tsv\", sep=\"\\t\", index_label=\"feature_id\")"
   ]
  },
  {
   "cell_type": "code",
   "execution_count": 36,
   "metadata": {},
   "outputs": [
    {
     "data": {
      "text/plain": [
       "12191"
      ]
     },
     "execution_count": 36,
     "metadata": {},
     "output_type": "execute_result"
    }
   ],
   "source": [
    "cut = 0.05\n",
    "(adenoma_analysis[\"r_pvalue_fdr\"] < cut).sum()"
   ]
  },
  {
   "cell_type": "code",
   "execution_count": 37,
   "metadata": {},
   "outputs": [
    {
     "data": {
      "text/plain": [
       "False    6155\n",
       "True     6036\n",
       "Name: r_sign, dtype: int64"
      ]
     },
     "execution_count": 37,
     "metadata": {},
     "output_type": "execute_result"
    }
   ],
   "source": [
    "adenoma_analysis[\"r_sign\"][adenoma_analysis[\"r_pvalue_fdr\"] < cut].value_counts()"
   ]
  },
  {
   "cell_type": "code",
   "execution_count": 38,
   "metadata": {},
   "outputs": [
    {
     "data": {
      "text/plain": [
       "Text(0.5, 1.0, '05CMH@bactNOG coef: -0.002386624980441138')"
      ]
     },
     "execution_count": 38,
     "metadata": {},
     "output_type": "execute_result"
    },
    {
     "data": {
      "image/png": "[encoded data removed]",
      "text/plain": [
       "<Figure size 432x288 with 1 Axes>"
      ]
     },
     "metadata": {},
     "output_type": "display_data"
    }
   ],
   "source": [
    "i = 0\n",
    "col = adenoma_analysis.index[i]\n",
    "plt.scatter(X_adenoma[col], explanation_df[col])\n",
    "plt.title(f\"{col} coef: {linregress(X_adenoma[col], explanation_df[col])[0]}\")"
   ]
  },
  {
   "cell_type": "code",
   "execution_count": 89,
   "metadata": {
    "tags": []
   },
   "outputs": [
    {
     "name": "stdout",
     "output_type": "stream",
     "text": [
      "H < SA\n",
      "MannwhitneyuResult(statistic=1145.0, pvalue=0.17582648449770855)\n",
      "H < A\n",
      "MannwhitneyuResult(statistic=2251.0, pvalue=0.00027046544933937637)\n",
      "SA < A\n",
      "MannwhitneyuResult(statistic=681.0, pvalue=0.06294568618480112)\n"
     ]
    },
    {
     "data": {
      "text/plain": [
       "(26, 100, 66)"
      ]
     },
     "execution_count": 89,
     "metadata": {},
     "output_type": "execute_result"
    }
   ],
   "source": [
    "from scipy import stats\n",
    "\n",
    "small = data.loc[data.DISEASE == \"Small Adenoma\", \"proba\"]\n",
    "healthy = data.loc[data.DISEASE == \"healthy\", \"proba\"]\n",
    "adenoma = data.loc[data.DISEASE == \"Adenoma\", \"proba\"]\n",
    "\n",
    "#print(stats.ttest_ind(small, healthy, equal_var=False))\n",
    "#print(stats.ttest_ind(adenoma, healthy, equal_var=False))\n",
    "#print(stats.ttest_ind(small, adenoma, equal_var=False))\n",
    "\n",
    "print(\"H < SA\")\n",
    "print(stats.mannwhitneyu(healthy, small, use_continuity=True, alternative=\"less\"))\n",
    "print(\"H < A\")\n",
    "print(stats.mannwhitneyu(healthy, adenoma, use_continuity=True, alternative=\"less\"))\n",
    "print(\"SA < A\")\n",
    "print(stats.mannwhitneyu(small, adenoma, use_continuity=True, alternative=\"less\"))\n",
    "\n",
    "small.size, healthy.size, adenoma.size"
   ]
  },
  {
   "cell_type": "code",
   "execution_count": 43,
   "metadata": {},
   "outputs": [],
   "source": [
    "import sklearn.feature_selection as skfs\n",
    "from sklearn.base import clone\n",
    "\n",
    "def remove_healthy_batch(features, y, g, selector=skfs.SelectFdr()):\n",
    "    selector = clone(selector)\n",
    "    healthy_query = y == False\n",
    "    features_healthy = features.loc[healthy_query, :]\n",
    "    label = g[healthy_query]\n",
    "\n",
    "    selector.fit(features_healthy, label)\n",
    "    support = selector.get_support()\n",
    "\n",
    "    features_filt = features.loc[:, ~support]\n",
    "\n",
    "    return features_filt\n",
    "\n",
    "\n",
    "def remove_iqr(features, threshold=0.0):\n",
    "    from scipy.stats import iqr\n",
    "\n",
    "    support = features.apply(iqr) > threshold\n",
    "\n",
    "    return features.loc[:, support]"
   ]
  },
  {
   "cell_type": "code",
   "execution_count": 41,
   "metadata": {},
   "outputs": [],
   "source": [
    "condition = \"CRC\"\n",
    "profile_name = \"OGs\"\n",
    "\n",
    "features, metadata = datasets.build_condition_dataset(condition, profile_name, ext=\"jbl\")\n",
    "features = datasets.filter_egg(features)\n"
   ]
  },
  {
   "cell_type": "code",
   "execution_count": 59,
   "metadata": {},
   "outputs": [],
   "source": [
    "columns = features.columns"
   ]
  },
  {
   "cell_type": "code",
   "execution_count": 158,
   "metadata": {},
   "outputs": [
    {
     "data": {
      "text/plain": [
       "20000"
      ]
     },
     "execution_count": 158,
     "metadata": {},
     "output_type": "execute_result"
    }
   ],
   "source": [
    "20_000"
   ]
  },
  {
   "cell_type": "code",
   "execution_count": 165,
   "metadata": {
    "tags": []
   },
   "outputs": [],
   "source": [
    "%%capture cap_out\n",
    "\n",
    "from sklearn.model_selection import train_test_split, StratifiedShuffleSplit\n",
    "from interpret.glassbox import ExplainableBoostingClassifier\n",
    "from scipy import stats\n",
    "\n",
    "query_ = metadata.DISEASE.isin([condition, \"healthy\"])\n",
    "disease_train = metadata.DISEASE[query_]\n",
    "y_ = metadata.DISEASE[query_] == condition\n",
    "X_ = features.loc[query_, :]\n",
    "g = metadata.loc[query_, PROJECT_COLUMN_NAME]\n",
    "metadata_adenoma = metadata.loc[~query_, :].copy()\n",
    "\n",
    "n_sel = 1_000\n",
    "\n",
    "if profile_name != \"centrifuge\":\n",
    "    X_ = remove_iqr(X_)\n",
    "    X_ = remove_healthy_batch(X_, y_, g)\n",
    "k = n_sel if n_sel < (X_.shape[1]) else X_.shape[1]\n",
    "selector = skfs.SelectKBest(k=k).fit(X_, y_)\n",
    "kbest = selector.get_support()\n",
    "\n",
    "X_ = X_.loc[:, kbest].apply(np.log1p)\n",
    "# X_ = features.loc[query_, columns].apply(np.log1p)\n",
    "print(X_.shape)\n",
    "\n",
    "healthy_l_small = []\n",
    "healthy_l_adenoma = []\n",
    "small_l_adenoma = []\n",
    "\n",
    "n_split = 2\n",
    "\n",
    "for i in range(n_split):\n",
    "    X_train, X_val, y_train, y_val = train_test_split(X_, disease_train, test_size=0.30, random_state=i, stratify=y_)\n",
    "    y_train = y_train == condition\n",
    "\n",
    "    model = models.get_taxonomic_model(lopo=True, selector=True)\n",
    "    model = ExplainableBoostingClassifier(n_estimators=32, n_jobs=-1, max_n_bins=20)\n",
    "    model.fit(X_train, y_train)\n",
    "\n",
    "    X_test = features.loc[~query_, X_.columns].apply(np.log1p)\n",
    "    y_test = metadata.DISEASE[~query_]\n",
    "\n",
    "    new_metadata = pd.concat((metadata, metadata_adenoma), axis=0)\n",
    "    #new_metadata = new_metadata.loc[new_metadata.index.drop_duplicates(keep=\"first\"), :]\n",
    "    new_metadata.drop_duplicates(inplace=True)\n",
    "\n",
    "    probas_test = model.predict_proba(X_test)[:, 1]\n",
    "    probas_test = pd.Series(probas_test, index=y_test.index, name=\"proba\")\n",
    "    data_test = pd.concat((probas_test, y_test), axis=1)\n",
    "\n",
    "    probas_val = model.predict_proba(X_val)[:, 1]\n",
    "    probas_val = pd.Series(probas_val, index=y_val.index, name=\"proba\")\n",
    "    data_val = pd.concat((probas_val, y_val), axis=1)\n",
    "\n",
    "    data = pd.concat((data_val, data_test), axis=0)\n",
    "    #data = pd.concat((data, new_metadata[PROJECT_COLUMN_NAME]), axis=1, join=\"inner\")\n",
    "    data[\"Project\"] = new_metadata.loc[data.index, PROJECT_COLUMN_NAME]\n",
    "\n",
    "    query = data.DISEASE.str.lower().str.contains(\"metastases\")\n",
    "    data.DISEASE[query] = \"Metastases\"\n",
    "\n",
    "    query = data.DISEASE.str.contains(\"CRC;\")\n",
    "    data.DISEASE[query] = \"CRC + Others\"\n",
    "\n",
    "    query = data.DISEASE.str.contains(\"adenoma;\")\n",
    "    data.DISEASE[query] = \"Adenoma + Others\"\n",
    "\n",
    "    query = data.DISEASE.str.lower().str.contains(\"small\")\n",
    "    data.DISEASE[query] = \"Small Adenoma\"\n",
    "\n",
    "    query = data.DISEASE.str.lower().str.contains(\"adenoma\") & ~data.DISEASE.str.lower().str.contains(\"small\")\n",
    "    data.DISEASE[query] = \"Adenoma\"\n",
    "\n",
    "    query = data.DISEASE.str.contains(\"T2D\")\n",
    "    data.DISEASE[query] = \"T2D + Others (non CRC)\"\n",
    "\n",
    "\n",
    "    small = data.loc[data.DISEASE == \"Small Adenoma\", \"proba\"]\n",
    "    healthy = data.loc[data.DISEASE == \"healthy\", \"proba\"]\n",
    "    adenoma = data.loc[data.DISEASE == \"Adenoma\", \"proba\"]\n",
    "\n",
    "    #print(stats.ttest_ind(small, healthy, equal_var=False))\n",
    "    #print(stats.ttest_ind(adenoma, healthy, equal_var=False))\n",
    "    #print(stats.ttest_ind(small, adenoma, equal_var=False))\n",
    "\n",
    "    healthy_l_small.append(stats.mannwhitneyu(healthy, small, use_continuity=True, alternative=\"less\"))\n",
    "    healthy_l_adenoma.append(stats.mannwhitneyu(healthy, adenoma, use_continuity=True, alternative=\"less\"))\n",
    "    small_l_adenoma.append(stats.mannwhitneyu(small, adenoma, use_continuity=True, alternative=\"less\"))"
   ]
  },
  {
   "cell_type": "code",
   "execution_count": 166,
   "metadata": {},
   "outputs": [
    {
     "data": {
      "text/plain": [
       "<matplotlib.axes._subplots.AxesSubplot at 0x2b694fe37c50>"
      ]
     },
     "execution_count": 166,
     "metadata": {},
     "output_type": "execute_result"
    },
    {
     "data": {
      "image/png": "[encoded data removed]",
      "text/plain": [
       "<Figure size 432x288 with 1 Axes>"
      ]
     },
     "metadata": {},
     "output_type": "display_data"
    }
   ],
   "source": [
    "sns.boxplot(x=\"proba\", y=DISEASE_COLUMN_NAME, data=data)"
   ]
  },
  {
   "cell_type": "code",
   "execution_count": 161,
   "metadata": {},
   "outputs": [
    {
     "name": "stdout",
     "output_type": "stream",
     "text": [
      "0.7927972027972028\n",
      "0.8569072164948452\n"
     ]
    }
   ],
   "source": [
    "from sklearn import metrics\n",
    "\n",
    "query = data.DISEASE.str.lower().str.contains(\"crc|healthy\") & (~data.DISEASE.str.lower().str.contains(\"t2d\"))\n",
    "truth = data.loc[query, DISEASE_COLUMN_NAME].str.lower().str.contains(\"crc\")\n",
    "preds = data.loc[query, \"proba\"]\n",
    "print(metrics.roc_auc_score(truth, preds))\n",
    "\n",
    "\n",
    "query = data.DISEASE.str.lower().str.contains(\"crc|healthy\") & (~data.DISEASE.str.lower().str.contains(\"t2d|other\"))\n",
    "truth = data.loc[query, DISEASE_COLUMN_NAME].str.lower().str.contains(\"crc\")\n",
    "preds = data.loc[query, \"proba\"]\n",
    "print(metrics.roc_auc_score(truth, preds))\n",
    "\n"
   ]
  },
  {
   "cell_type": "code",
   "execution_count": 162,
   "metadata": {},
   "outputs": [],
   "source": [
    "adenoma_mwtest = {\n",
    "    \"healthy_l_small\": healthy_l_small,\n",
    "    \"healthy_l_adenoma\": healthy_l_adenoma,\n",
    "    \"small_l_adenoma\": small_l_adenoma\n",
    "}"
   ]
  },
  {
   "cell_type": "code",
   "execution_count": 164,
   "metadata": {},
   "outputs": [
    {
     "data": {
      "text/plain": [
       "{'healthy_l_small': [MannwhitneyuResult(statistic=1111.0, pvalue=0.1279043301651181),\n",
       "  MannwhitneyuResult(statistic=1098.0, pvalue=0.11223594031364431)],\n",
       " 'healthy_l_adenoma': [MannwhitneyuResult(statistic=1918.0, pvalue=2.577384455987483e-06),\n",
       "  MannwhitneyuResult(statistic=2370.0, pvalue=0.0010811954902407834)],\n",
       " 'small_l_adenoma': [MannwhitneyuResult(statistic=631.0, pvalue=0.024760528186784706),\n",
       "  MannwhitneyuResult(statistic=763.0, pvalue=0.2062649364512189)]}"
      ]
     },
     "execution_count": 164,
     "metadata": {},
     "output_type": "execute_result"
    }
   ],
   "source": [
    "adenoma_mwtest"
   ]
  },
  {
   "cell_type": "code",
   "execution_count": 81,
   "metadata": {},
   "outputs": [
    {
     "data": {
      "text/plain": [
       "Text(0.5, 1.0, 'OGs_small_l_adenoma')"
      ]
     },
     "execution_count": 81,
     "metadata": {},
     "output_type": "execute_result"
    },
    {
     "data": {
      "image/png": "[encoded data removed]",
      "text/plain": [
       "<Figure size 1152x648 with 1 Axes>"
      ]
     },
     "metadata": {},
     "output_type": "display_data"
    },
    {
     "data": {
      "image/png": "[encoded data removed]",
      "text/plain": [
       "<Figure size 1152x648 with 1 Axes>"
      ]
     },
     "metadata": {},
     "output_type": "display_data"
    }
   ],
   "source": [
    "pvals = np.array([x[-1] for x in healthy_l_adenoma])\n",
    "alpha = 0.05\n",
    "plt.figure(figsize=(16,9))\n",
    "plt.hist(pvals)\n",
    "plt.xlabel(\"p-value\")\n",
    "plt.axvline(alpha, linestyle=\"--\", color=\"k\")\n",
    "plt.title(f\"{profile_name}_healthy_l_adenoma\")\n",
    "\n",
    "pvals = np.array([x[-1] for x in small_l_adenoma])\n",
    "alpha = 0.05\n",
    "plt.figure(figsize=(16,9))\n",
    "plt.hist(pvals)\n",
    "plt.xlabel(\"p-value\")\n",
    "plt.axvline(alpha, linestyle=\"--\", color=\"k\")\n",
    "plt.title(f\"{profile_name}_small_l_adenoma\")\n",
    "\n",
    "#plt.savefig(f\"{profile_name}_pval.pdf\")"
   ]
  },
  {
   "cell_type": "code",
   "execution_count": 406,
   "metadata": {},
   "outputs": [],
   "source": [
    "import pathlib\n",
    "import dotenv\n",
    "\n",
    "env_file = dotenv.find_dotenv()\n",
    "project_path = pathlib.Path(env_file).parent\n",
    "data_path = project_path.joinpath(\"data\")\n",
    "paper_path = data_path.joinpath(\"paper\")"
   ]
  },
  {
   "cell_type": "code",
   "execution_count": 407,
   "metadata": {},
   "outputs": [],
   "source": [
    "results = {}\n",
    "\n",
    "for profile_name in [\"KEGG_KOs\", \"centrifuge\", \"OGs\"]:\n",
    "    name = f\"{condition}_{profile_name}_adenoma_mwtest.jbl\"\n",
    "    path = paper_path.joinpath(f\"{condition}_{profile_name}\", name)\n",
    "    if profile_name == \"kcentrifuge\":\n",
    "        results[profile_name] = adenoma_mwtest\n",
    "    else:\n",
    "        results[profile_name] = joblib.load(path)\n",
    "        "
   ]
  },
  {
   "cell_type": "code",
   "execution_count": 408,
   "metadata": {},
   "outputs": [
    {
     "data": {
      "text/plain": [
       "Index(['healthy_l_small', 'healthy_l_adenoma', 'small_l_adenoma',\n",
       "       'adenoma_l_crc'],\n",
       "      dtype='object')"
      ]
     },
     "execution_count": 408,
     "metadata": {},
     "output_type": "execute_result"
    }
   ],
   "source": [
    "pd.DataFrame(results).index"
   ]
  },
  {
   "cell_type": "code",
   "execution_count": 409,
   "metadata": {},
   "outputs": [
    {
     "data": {
      "text/html": [
       "<div>\n",
       "<style scoped>\n",
       "    .dataframe tbody tr th:only-of-type {\n",
       "        vertical-align: middle;\n",
       "    }\n",
       "\n",
       "    .dataframe tbody tr th {\n",
       "        vertical-align: top;\n",
       "    }\n",
       "\n",
       "    .dataframe thead th {\n",
       "        text-align: right;\n",
       "    }\n",
       "</style>\n",
       "<table border=\"1\" class=\"dataframe\">\n",
       "  <thead>\n",
       "    <tr style=\"text-align: right;\">\n",
       "      <th></th>\n",
       "      <th>KEGG_KOs</th>\n",
       "      <th>centrifuge</th>\n",
       "      <th>OGs</th>\n",
       "      <th>test</th>\n",
       "    </tr>\n",
       "  </thead>\n",
       "  <tbody>\n",
       "    <tr>\n",
       "      <th>0</th>\n",
       "      <td>False</td>\n",
       "      <td>True</td>\n",
       "      <td>False</td>\n",
       "      <td>healthy_l_small</td>\n",
       "    </tr>\n",
       "    <tr>\n",
       "      <th>1</th>\n",
       "      <td>False</td>\n",
       "      <td>False</td>\n",
       "      <td>False</td>\n",
       "      <td>healthy_l_small</td>\n",
       "    </tr>\n",
       "    <tr>\n",
       "      <th>2</th>\n",
       "      <td>False</td>\n",
       "      <td>False</td>\n",
       "      <td>False</td>\n",
       "      <td>healthy_l_small</td>\n",
       "    </tr>\n",
       "    <tr>\n",
       "      <th>3</th>\n",
       "      <td>False</td>\n",
       "      <td>False</td>\n",
       "      <td>False</td>\n",
       "      <td>healthy_l_small</td>\n",
       "    </tr>\n",
       "    <tr>\n",
       "      <th>4</th>\n",
       "      <td>False</td>\n",
       "      <td>False</td>\n",
       "      <td>False</td>\n",
       "      <td>healthy_l_small</td>\n",
       "    </tr>\n",
       "    <tr>\n",
       "      <th>...</th>\n",
       "      <td>...</td>\n",
       "      <td>...</td>\n",
       "      <td>...</td>\n",
       "      <td>...</td>\n",
       "    </tr>\n",
       "    <tr>\n",
       "      <th>95</th>\n",
       "      <td>True</td>\n",
       "      <td>True</td>\n",
       "      <td>True</td>\n",
       "      <td>adenoma_l_crc</td>\n",
       "    </tr>\n",
       "    <tr>\n",
       "      <th>96</th>\n",
       "      <td>True</td>\n",
       "      <td>True</td>\n",
       "      <td>True</td>\n",
       "      <td>adenoma_l_crc</td>\n",
       "    </tr>\n",
       "    <tr>\n",
       "      <th>97</th>\n",
       "      <td>False</td>\n",
       "      <td>True</td>\n",
       "      <td>True</td>\n",
       "      <td>adenoma_l_crc</td>\n",
       "    </tr>\n",
       "    <tr>\n",
       "      <th>98</th>\n",
       "      <td>True</td>\n",
       "      <td>True</td>\n",
       "      <td>True</td>\n",
       "      <td>adenoma_l_crc</td>\n",
       "    </tr>\n",
       "    <tr>\n",
       "      <th>99</th>\n",
       "      <td>False</td>\n",
       "      <td>True</td>\n",
       "      <td>True</td>\n",
       "      <td>adenoma_l_crc</td>\n",
       "    </tr>\n",
       "  </tbody>\n",
       "</table>\n",
       "<p>400 rows × 4 columns</p>\n",
       "</div>"
      ],
      "text/plain": [
       "    KEGG_KOs  centrifuge    OGs             test\n",
       "0      False        True  False  healthy_l_small\n",
       "1      False       False  False  healthy_l_small\n",
       "2      False       False  False  healthy_l_small\n",
       "3      False       False  False  healthy_l_small\n",
       "4      False       False  False  healthy_l_small\n",
       "..       ...         ...    ...              ...\n",
       "95      True        True   True    adenoma_l_crc\n",
       "96      True        True   True    adenoma_l_crc\n",
       "97     False        True   True    adenoma_l_crc\n",
       "98      True        True   True    adenoma_l_crc\n",
       "99     False        True   True    adenoma_l_crc\n",
       "\n",
       "[400 rows x 4 columns]"
      ]
     },
     "execution_count": 409,
     "metadata": {},
     "output_type": "execute_result"
    }
   ],
   "source": [
    "test = \"healthy_l_adenoma\"\n",
    "dfs = []\n",
    "alpha_sig = 0.05\n",
    "\n",
    "for test in results[list(results.keys())[0]].keys():\n",
    "    if test == \"small_l_healthy\":\n",
    "        continue\n",
    "    df = pd.DataFrame()\n",
    "    for profile_name in results.keys():\n",
    "        try:\n",
    "            df[profile_name] = [x[-1] for x in results[profile_name][test]]\n",
    "            df[profile_name]  = df[profile_name] < alpha_sig\n",
    "        except:\n",
    "            df[profile_name] = np.nan\n",
    "    df[\"test\"] = test\n",
    "    dfs.append(df)\n",
    "\n",
    "df = pd.concat(dfs, axis=0)\n",
    "df"
   ]
  },
  {
   "cell_type": "code",
   "execution_count": 410,
   "metadata": {},
   "outputs": [
    {
     "data": {
      "text/html": [
       "<div>\n",
       "<style scoped>\n",
       "    .dataframe tbody tr th:only-of-type {\n",
       "        vertical-align: middle;\n",
       "    }\n",
       "\n",
       "    .dataframe tbody tr th {\n",
       "        vertical-align: top;\n",
       "    }\n",
       "\n",
       "    .dataframe thead th {\n",
       "        text-align: right;\n",
       "    }\n",
       "</style>\n",
       "<table border=\"1\" class=\"dataframe\">\n",
       "  <thead>\n",
       "    <tr style=\"text-align: right;\">\n",
       "      <th>test</th>\n",
       "      <th>index</th>\n",
       "      <th>adenoma_l_crc</th>\n",
       "      <th>healthy_l_adenoma</th>\n",
       "      <th>healthy_l_small</th>\n",
       "      <th>small_l_adenoma</th>\n",
       "      <th>healthy_l_crc</th>\n",
       "    </tr>\n",
       "  </thead>\n",
       "  <tbody>\n",
       "    <tr>\n",
       "      <th>0</th>\n",
       "      <td>KEGG_KOs</td>\n",
       "      <td>68.0</td>\n",
       "      <td>100.0</td>\n",
       "      <td>0.0</td>\n",
       "      <td>85.0</td>\n",
       "      <td>100.0</td>\n",
       "    </tr>\n",
       "    <tr>\n",
       "      <th>1</th>\n",
       "      <td>centrifuge</td>\n",
       "      <td>100.0</td>\n",
       "      <td>47.0</td>\n",
       "      <td>52.0</td>\n",
       "      <td>0.0</td>\n",
       "      <td>100.0</td>\n",
       "    </tr>\n",
       "    <tr>\n",
       "      <th>2</th>\n",
       "      <td>OGs</td>\n",
       "      <td>100.0</td>\n",
       "      <td>100.0</td>\n",
       "      <td>5.0</td>\n",
       "      <td>100.0</td>\n",
       "      <td>100.0</td>\n",
       "    </tr>\n",
       "  </tbody>\n",
       "</table>\n",
       "</div>"
      ],
      "text/plain": [
       "test       index  adenoma_l_crc  healthy_l_adenoma  healthy_l_small  \\\n",
       "0       KEGG_KOs           68.0              100.0              0.0   \n",
       "1     centrifuge          100.0               47.0             52.0   \n",
       "2            OGs          100.0              100.0              5.0   \n",
       "\n",
       "test  small_l_adenoma  healthy_l_crc  \n",
       "0                85.0          100.0  \n",
       "1                 0.0          100.0  \n",
       "2               100.0          100.0  "
      ]
     },
     "execution_count": 410,
     "metadata": {},
     "output_type": "execute_result"
    }
   ],
   "source": [
    "df = df.groupby(\"test\").agg(sum).T.reset_index()\n",
    "df[\"healthy_l_crc\"] = 100.0\n",
    "df"
   ]
  },
  {
   "cell_type": "code",
   "execution_count": 411,
   "metadata": {},
   "outputs": [],
   "source": [
    "df = df.rename(\n",
    "    columns={\"healthy_l_adenoma\": \"H < A\",\n",
    "             \"adenoma_l_crc\": \"A < T\",\n",
    "             \"small_l_adenoma\": \"S < A\",\n",
    "             \"healthy_l_small\": \"H < S\",\n",
    "             \"healthy_l_crc\": \"H < T\"\n",
    "            })\n",
    "\n",
    "df = df.replace({\"KEGG_KOs\": \"Kegg\", \"centrifuge\": \"Taxo\"})\n",
    "\n",
    "# df[\"%AUC\"] = [79, 87, 85]\n",
    "df = df.rename(columns={\"index\": \"Profile\"})\n",
    "df[\"Profile\"] = df[\"Profile\"].replace({\"OGs\": \"eNog\"})\n",
    "df = df.sort_values(by=\"Profile\")\n",
    "df = df.reset_index()\n",
    "df = df.drop(\"index\", axis=1)\n",
    "# df"
   ]
  },
  {
   "cell_type": "raw",
   "metadata": {},
   "source": [
    "df = df.drop(\"H < A\", axis=1)"
   ]
  },
  {
   "cell_type": "code",
   "execution_count": 412,
   "metadata": {},
   "outputs": [
    {
     "data": {
      "text/html": [
       "<div>\n",
       "<style scoped>\n",
       "    .dataframe tbody tr th:only-of-type {\n",
       "        vertical-align: middle;\n",
       "    }\n",
       "\n",
       "    .dataframe tbody tr th {\n",
       "        vertical-align: top;\n",
       "    }\n",
       "\n",
       "    .dataframe thead th {\n",
       "        text-align: right;\n",
       "    }\n",
       "</style>\n",
       "<table border=\"1\" class=\"dataframe\">\n",
       "  <thead>\n",
       "    <tr style=\"text-align: right;\">\n",
       "      <th>test</th>\n",
       "      <th>Profile</th>\n",
       "      <th>A &lt; T</th>\n",
       "      <th>H &lt; A</th>\n",
       "      <th>H &lt; S</th>\n",
       "      <th>S &lt; A</th>\n",
       "      <th>H &lt; T</th>\n",
       "    </tr>\n",
       "  </thead>\n",
       "  <tbody>\n",
       "    <tr>\n",
       "      <th>0</th>\n",
       "      <td>Kegg</td>\n",
       "      <td>68.0</td>\n",
       "      <td>100.0</td>\n",
       "      <td>0.0</td>\n",
       "      <td>85.0</td>\n",
       "      <td>100.0</td>\n",
       "    </tr>\n",
       "    <tr>\n",
       "      <th>1</th>\n",
       "      <td>Taxo</td>\n",
       "      <td>100.0</td>\n",
       "      <td>47.0</td>\n",
       "      <td>52.0</td>\n",
       "      <td>0.0</td>\n",
       "      <td>100.0</td>\n",
       "    </tr>\n",
       "    <tr>\n",
       "      <th>2</th>\n",
       "      <td>eNog</td>\n",
       "      <td>100.0</td>\n",
       "      <td>100.0</td>\n",
       "      <td>5.0</td>\n",
       "      <td>100.0</td>\n",
       "      <td>100.0</td>\n",
       "    </tr>\n",
       "  </tbody>\n",
       "</table>\n",
       "</div>"
      ],
      "text/plain": [
       "test Profile  A < T  H < A  H < S  S < A  H < T\n",
       "0       Kegg   68.0  100.0    0.0   85.0  100.0\n",
       "1       Taxo  100.0   47.0   52.0    0.0  100.0\n",
       "2       eNog  100.0  100.0    5.0  100.0  100.0"
      ]
     },
     "execution_count": 412,
     "metadata": {},
     "output_type": "execute_result"
    }
   ],
   "source": [
    "df"
   ]
  },
  {
   "cell_type": "code",
   "execution_count": 423,
   "metadata": {},
   "outputs": [
    {
     "name": "stdout",
     "output_type": "stream",
     "text": [
      "[68.0, 100.0, 0.0, 85.0, 100.0, 68.0]\n",
      "[100.0, 47.0, 52.0, 0.0, 100.0, 100.0]\n",
      "[100.0, 100.0, 5.0, 100.0, 100.0, 100.0]\n"
     ]
    },
    {
     "data": {
      "image/png": "[encoded data removed]",
      "text/plain": [
       "<Figure size 432x432 with 1 Axes>"
      ]
     },
     "metadata": {},
     "output_type": "display_data"
    }
   ],
   "source": [
    "# Libraries\n",
    "import matplotlib.pyplot as plt\n",
    "import pandas as pd\n",
    "from math import pi\n",
    "import itertools\n",
    "import matplotlib._color_data as mcd\n",
    "\n",
    "xkcd = [mcd.XKCD_COLORS[\"xkcd:\" + n] for n in [\"lavender\", \"khaki\", \"purple\"]]\n",
    "tab = [mcd.TABLEAU_COLORS[\"tab:\" + n] for n in [\"blue\", \"green\", \"orange\"]]\n",
    "\n",
    "\n",
    "plt.style.use(\"ggplot\")\n",
    "sns.set_context(\"talk\")\n",
    "sns.set_palette(\"tab10\")\n",
    "palette = itertools.cycle(sns.color_palette(\"tab10\"))\n",
    "\n",
    "# Set data\n",
    " \n",
    "# number of variable\n",
    "categories=df.columns[1:]\n",
    "N = len(categories)\n",
    " \n",
    "# What will be the angle of each axis in the plot? (we divide the plot / number of variable)\n",
    "angles = [n / float(N) * 2 * pi for n in range(N)]\n",
    "angles += angles[:1]\n",
    " \n",
    "# Initialise the spider plot\n",
    "fig = plt.figure(figsize=(6, 6))\n",
    "ax = plt.subplot(111, polar=True)\n",
    " \n",
    "# If you want the first axis to be on top:\n",
    "ax.set_theta_offset(pi / 2)\n",
    "ax.set_theta_direction(-1)\n",
    " \n",
    "# Draw one axe per variable + add labels labels yet\n",
    "plt.xticks(angles[:-1], categories, size=11)\n",
    " \n",
    "# Draw ylabels\n",
    "ax.set_rlabel_position(0)\n",
    "plt.yticks([30, 60, 90], [\"30\",\"60\",\"90\"], color=\"grey\", size=11)\n",
    "plt.ylim(0, 100)\n",
    " \n",
    " \n",
    "# ------- PART 2: Add plots\n",
    " \n",
    "# Plot each individual = each line of the data\n",
    "# I don't do a loop, because plotting more than 3 groups makes the chart unreadable\n",
    "\n",
    "for i in range(df.shape[0]):\n",
    "    values=df.loc[i].drop('Profile').values.flatten().tolist()\n",
    "    values += values[:1]\n",
    "    print(values)\n",
    "    color = next(palette)\n",
    "    color = tab[i]\n",
    "    ax.plot(angles, values, linewidth=1, linestyle='solid', label=df.iloc[i, 0], color=color)\n",
    "    ax.fill(angles, values, alpha=0.1, color=color)\n",
    "    \n",
    "# Add legend\n",
    "leg = plt.legend(loc=8, ncol=3,  bbox_to_anchor=(0.5, -0.22))\n",
    "# leg = plt.legend(loc=\"upper right\", bbox_to_anchor=(1.5, 1.5))\n",
    "# set the linewidth of each legend object\n",
    "# plt.legend()\n",
    "for legobj in leg.legendHandles:\n",
    "    legobj.set_linewidth(2.0)\n",
    "plt.tight_layout()\n",
    "\n",
    "EXTENSIONS = [\"pdf\", \"png\", \"svg\"]\n",
    "fig_folder_path = project_path.joinpath(\"data/paper/figs\")\n",
    "for ext in EXTENSIONS:\n",
    "    fig_path = fig_folder_path.joinpath(\n",
    "        f\"{condition}_adenoma_radar.{ext}\"\n",
    "    )\n",
    "    plt.savefig(fig_path, dpi=300, bbox_inches=\"tight\", pad_inches=0)\n",
    "plt.show()\n",
    "plt.close()"
   ]
  },
  {
   "cell_type": "markdown",
   "metadata": {},
   "source": [
    "# Stability"
   ]
  },
  {
   "cell_type": "code",
   "execution_count": 81,
   "metadata": {},
   "outputs": [
    {
     "data": {
      "text/plain": [
       "PosixPath('/mnt/lustre/scratch/home/cloucera/projects/babelomics/mlgut/data/paper/CRC_centrifuge/CRC_centrifuge_stability.jbl')"
      ]
     },
     "execution_count": 81,
     "metadata": {},
     "output_type": "execute_result"
    }
   ],
   "source": [
    "import pathlib\n",
    "import dotenv\n",
    "\n",
    "env_file = dotenv.find_dotenv()\n",
    "project_path = pathlib.Path(env_file).parent\n",
    "data_path = project_path.joinpath(\"data\")\n",
    "paper_path = data_path.joinpath(\"paper\")\n",
    "\n",
    "profile_name = \"centrifuge\"\n",
    "profile_folder_name = f\"{condition}_{profile_name}\"\n",
    "fname = f\"{condition}_{profile_name}_stability.jbl\"\n",
    "fpath = paper_path.joinpath(profile_folder_name, fname)\n",
    "fpath"
   ]
  },
  {
   "cell_type": "code",
   "execution_count": 82,
   "metadata": {},
   "outputs": [],
   "source": [
    "results = joblib.load(fpath)"
   ]
  },
  {
   "cell_type": "code",
   "execution_count": 8,
   "metadata": {},
   "outputs": [
    {
     "data": {
      "text/plain": [
       "'PRJEB27928'"
      ]
     },
     "execution_count": 8,
     "metadata": {},
     "output_type": "execute_result"
    }
   ],
   "source": [
    "project_name = list(results.keys())[1]\n",
    "project_name"
   ]
  },
  {
   "cell_type": "code",
   "execution_count": 9,
   "metadata": {},
   "outputs": [
    {
     "name": "stderr",
     "output_type": "stream",
     "text": [
      "/mnt/lustre/scratch/home/cloucera/projects/babelomics/mlgut/.venv/lib/python3.7/site-packages/sklearn/feature_selection/_univariate_selection.py:602: RuntimeWarning: invalid value encountered in less\n",
      "  return self.pvalues_ < self.alpha\n"
     ]
    },
    {
     "data": {
      "text/plain": [
       "(20253,)"
      ]
     },
     "execution_count": 9,
     "metadata": {},
     "output_type": "execute_result"
    }
   ],
   "source": [
    "from mlgut.models import compute_support_ebm\n",
    "\n",
    "coef = compute_support_ebm(results[project_name][\"estimator\"][0])[1]\n",
    "coef.shape"
   ]
  },
  {
   "cell_type": "code",
   "execution_count": 10,
   "metadata": {},
   "outputs": [],
   "source": [
    "features, metadata = datasets.build_condition_dataset(condition, profile_name, ext=\"jbl\")"
   ]
  },
  {
   "cell_type": "code",
   "execution_count": 11,
   "metadata": {},
   "outputs": [],
   "source": [
    "tax_id = \"9606\"\n",
    "features = features.drop(tax_id, axis=1)"
   ]
  },
  {
   "cell_type": "code",
   "execution_count": 12,
   "metadata": {},
   "outputs": [
    {
     "data": {
      "text/plain": [
       "(864, 20253)"
      ]
     },
     "execution_count": 12,
     "metadata": {},
     "output_type": "execute_result"
    }
   ],
   "source": [
    "features.shape"
   ]
  },
  {
   "cell_type": "code",
   "execution_count": 13,
   "metadata": {},
   "outputs": [],
   "source": [
    "coef = pd.Series(coef, index=features.columns)"
   ]
  },
  {
   "cell_type": "code",
   "execution_count": 14,
   "metadata": {},
   "outputs": [],
   "source": [
    "coefs = [pd.Series(compute_support_ebm(r)[1], index=features.columns) for r in results[project_name][\"estimator\"]]"
   ]
  },
  {
   "cell_type": "code",
   "execution_count": 15,
   "metadata": {},
   "outputs": [],
   "source": [
    "coefs = pd.concat(coefs, axis=1)"
   ]
  },
  {
   "cell_type": "code",
   "execution_count": 16,
   "metadata": {},
   "outputs": [],
   "source": [
    "from sklearn import metrics"
   ]
  },
  {
   "cell_type": "code",
   "execution_count": 17,
   "metadata": {},
   "outputs": [],
   "source": [
    "coef_filt = coefs.loc[coefs.any(axis=1), :]"
   ]
  },
  {
   "cell_type": "code",
   "execution_count": 18,
   "metadata": {},
   "outputs": [
    {
     "data": {
      "text/html": [
       "<div>\n",
       "<style scoped>\n",
       "    .dataframe tbody tr th:only-of-type {\n",
       "        vertical-align: middle;\n",
       "    }\n",
       "\n",
       "    .dataframe tbody tr th {\n",
       "        vertical-align: top;\n",
       "    }\n",
       "\n",
       "    .dataframe thead th {\n",
       "        text-align: right;\n",
       "    }\n",
       "</style>\n",
       "<table border=\"1\" class=\"dataframe\">\n",
       "  <thead>\n",
       "    <tr style=\"text-align: right;\">\n",
       "      <th></th>\n",
       "      <th>0</th>\n",
       "      <th>1</th>\n",
       "      <th>2</th>\n",
       "      <th>3</th>\n",
       "      <th>4</th>\n",
       "      <th>5</th>\n",
       "      <th>6</th>\n",
       "      <th>7</th>\n",
       "      <th>8</th>\n",
       "      <th>9</th>\n",
       "      <th>...</th>\n",
       "      <th>90</th>\n",
       "      <th>91</th>\n",
       "      <th>92</th>\n",
       "      <th>93</th>\n",
       "      <th>94</th>\n",
       "      <th>95</th>\n",
       "      <th>96</th>\n",
       "      <th>97</th>\n",
       "      <th>98</th>\n",
       "      <th>99</th>\n",
       "    </tr>\n",
       "  </thead>\n",
       "  <tbody>\n",
       "    <tr>\n",
       "      <th>195</th>\n",
       "      <td>0.000000</td>\n",
       "      <td>0.0</td>\n",
       "      <td>0.000000</td>\n",
       "      <td>0.000000</td>\n",
       "      <td>0.000000</td>\n",
       "      <td>0.000000</td>\n",
       "      <td>0.000000</td>\n",
       "      <td>0.000000</td>\n",
       "      <td>0.0000</td>\n",
       "      <td>0.000000</td>\n",
       "      <td>...</td>\n",
       "      <td>0.000000</td>\n",
       "      <td>0.000000</td>\n",
       "      <td>0.000000</td>\n",
       "      <td>0.000000</td>\n",
       "      <td>0.000000</td>\n",
       "      <td>0.000000</td>\n",
       "      <td>0.000000</td>\n",
       "      <td>0.000000</td>\n",
       "      <td>0.000000</td>\n",
       "      <td>0.000000</td>\n",
       "    </tr>\n",
       "    <tr>\n",
       "      <th>287</th>\n",
       "      <td>0.000000</td>\n",
       "      <td>0.0</td>\n",
       "      <td>0.000000</td>\n",
       "      <td>0.000000</td>\n",
       "      <td>0.000000</td>\n",
       "      <td>0.000000</td>\n",
       "      <td>0.000000</td>\n",
       "      <td>0.000000</td>\n",
       "      <td>0.0000</td>\n",
       "      <td>1.003146</td>\n",
       "      <td>...</td>\n",
       "      <td>0.000000</td>\n",
       "      <td>0.000000</td>\n",
       "      <td>0.498406</td>\n",
       "      <td>0.000000</td>\n",
       "      <td>0.000000</td>\n",
       "      <td>0.000000</td>\n",
       "      <td>0.000000</td>\n",
       "      <td>0.000000</td>\n",
       "      <td>0.000000</td>\n",
       "      <td>0.000000</td>\n",
       "    </tr>\n",
       "    <tr>\n",
       "      <th>294</th>\n",
       "      <td>1.115922</td>\n",
       "      <td>0.0</td>\n",
       "      <td>0.700361</td>\n",
       "      <td>2.162137</td>\n",
       "      <td>0.948939</td>\n",
       "      <td>0.000000</td>\n",
       "      <td>2.813272</td>\n",
       "      <td>1.072878</td>\n",
       "      <td>0.5659</td>\n",
       "      <td>0.764364</td>\n",
       "      <td>...</td>\n",
       "      <td>1.199647</td>\n",
       "      <td>2.125333</td>\n",
       "      <td>0.000000</td>\n",
       "      <td>0.546458</td>\n",
       "      <td>0.954483</td>\n",
       "      <td>1.030339</td>\n",
       "      <td>1.554112</td>\n",
       "      <td>0.938535</td>\n",
       "      <td>1.070358</td>\n",
       "      <td>0.652388</td>\n",
       "    </tr>\n",
       "    <tr>\n",
       "      <th>358</th>\n",
       "      <td>0.000000</td>\n",
       "      <td>0.0</td>\n",
       "      <td>0.000000</td>\n",
       "      <td>0.000000</td>\n",
       "      <td>0.000000</td>\n",
       "      <td>0.508178</td>\n",
       "      <td>0.000000</td>\n",
       "      <td>0.000000</td>\n",
       "      <td>0.0000</td>\n",
       "      <td>0.000000</td>\n",
       "      <td>...</td>\n",
       "      <td>0.000000</td>\n",
       "      <td>0.000000</td>\n",
       "      <td>0.000000</td>\n",
       "      <td>0.000000</td>\n",
       "      <td>0.000000</td>\n",
       "      <td>0.000000</td>\n",
       "      <td>0.000000</td>\n",
       "      <td>0.000000</td>\n",
       "      <td>0.000000</td>\n",
       "      <td>0.000000</td>\n",
       "    </tr>\n",
       "    <tr>\n",
       "      <th>487</th>\n",
       "      <td>0.000000</td>\n",
       "      <td>0.0</td>\n",
       "      <td>0.000000</td>\n",
       "      <td>0.000000</td>\n",
       "      <td>0.000000</td>\n",
       "      <td>0.000000</td>\n",
       "      <td>0.000000</td>\n",
       "      <td>0.000000</td>\n",
       "      <td>0.0000</td>\n",
       "      <td>0.000000</td>\n",
       "      <td>...</td>\n",
       "      <td>0.000000</td>\n",
       "      <td>0.000000</td>\n",
       "      <td>0.000000</td>\n",
       "      <td>0.000000</td>\n",
       "      <td>0.000000</td>\n",
       "      <td>0.000000</td>\n",
       "      <td>0.000000</td>\n",
       "      <td>0.000000</td>\n",
       "      <td>0.000000</td>\n",
       "      <td>0.000000</td>\n",
       "    </tr>\n",
       "    <tr>\n",
       "      <th>...</th>\n",
       "      <td>...</td>\n",
       "      <td>...</td>\n",
       "      <td>...</td>\n",
       "      <td>...</td>\n",
       "      <td>...</td>\n",
       "      <td>...</td>\n",
       "      <td>...</td>\n",
       "      <td>...</td>\n",
       "      <td>...</td>\n",
       "      <td>...</td>\n",
       "      <td>...</td>\n",
       "      <td>...</td>\n",
       "      <td>...</td>\n",
       "      <td>...</td>\n",
       "      <td>...</td>\n",
       "      <td>...</td>\n",
       "      <td>...</td>\n",
       "      <td>...</td>\n",
       "      <td>...</td>\n",
       "      <td>...</td>\n",
       "      <td>...</td>\n",
       "    </tr>\n",
       "    <tr>\n",
       "      <th>2585119</th>\n",
       "      <td>0.000000</td>\n",
       "      <td>0.0</td>\n",
       "      <td>0.000000</td>\n",
       "      <td>0.000000</td>\n",
       "      <td>0.000000</td>\n",
       "      <td>0.000000</td>\n",
       "      <td>0.000000</td>\n",
       "      <td>0.000000</td>\n",
       "      <td>0.0000</td>\n",
       "      <td>0.000000</td>\n",
       "      <td>...</td>\n",
       "      <td>0.000000</td>\n",
       "      <td>0.000000</td>\n",
       "      <td>0.000000</td>\n",
       "      <td>0.000000</td>\n",
       "      <td>0.000000</td>\n",
       "      <td>0.000000</td>\n",
       "      <td>0.000000</td>\n",
       "      <td>0.000000</td>\n",
       "      <td>0.000000</td>\n",
       "      <td>0.000000</td>\n",
       "    </tr>\n",
       "    <tr>\n",
       "      <th>2585754</th>\n",
       "      <td>0.000000</td>\n",
       "      <td>0.0</td>\n",
       "      <td>0.000000</td>\n",
       "      <td>0.000000</td>\n",
       "      <td>0.000000</td>\n",
       "      <td>0.000000</td>\n",
       "      <td>0.000000</td>\n",
       "      <td>0.000000</td>\n",
       "      <td>0.0000</td>\n",
       "      <td>0.000000</td>\n",
       "      <td>...</td>\n",
       "      <td>0.000000</td>\n",
       "      <td>0.000000</td>\n",
       "      <td>0.000000</td>\n",
       "      <td>0.000000</td>\n",
       "      <td>0.000000</td>\n",
       "      <td>0.000000</td>\n",
       "      <td>0.000000</td>\n",
       "      <td>0.000000</td>\n",
       "      <td>0.000000</td>\n",
       "      <td>0.000000</td>\n",
       "    </tr>\n",
       "    <tr>\n",
       "      <th>2585755</th>\n",
       "      <td>0.887574</td>\n",
       "      <td>0.0</td>\n",
       "      <td>0.000000</td>\n",
       "      <td>0.000000</td>\n",
       "      <td>0.000000</td>\n",
       "      <td>0.000000</td>\n",
       "      <td>0.000000</td>\n",
       "      <td>0.000000</td>\n",
       "      <td>0.0000</td>\n",
       "      <td>0.000000</td>\n",
       "      <td>...</td>\n",
       "      <td>0.000000</td>\n",
       "      <td>0.000000</td>\n",
       "      <td>0.000000</td>\n",
       "      <td>0.000000</td>\n",
       "      <td>0.000000</td>\n",
       "      <td>0.000000</td>\n",
       "      <td>0.000000</td>\n",
       "      <td>0.000000</td>\n",
       "      <td>0.000000</td>\n",
       "      <td>0.000000</td>\n",
       "    </tr>\n",
       "    <tr>\n",
       "      <th>2585756</th>\n",
       "      <td>0.000000</td>\n",
       "      <td>0.0</td>\n",
       "      <td>0.000000</td>\n",
       "      <td>0.000000</td>\n",
       "      <td>0.000000</td>\n",
       "      <td>0.000000</td>\n",
       "      <td>2.770918</td>\n",
       "      <td>0.000000</td>\n",
       "      <td>0.0000</td>\n",
       "      <td>0.000000</td>\n",
       "      <td>...</td>\n",
       "      <td>0.000000</td>\n",
       "      <td>0.000000</td>\n",
       "      <td>0.729712</td>\n",
       "      <td>0.000000</td>\n",
       "      <td>0.000000</td>\n",
       "      <td>0.000000</td>\n",
       "      <td>0.000000</td>\n",
       "      <td>0.000000</td>\n",
       "      <td>0.000000</td>\n",
       "      <td>0.000000</td>\n",
       "    </tr>\n",
       "    <tr>\n",
       "      <th>2587161</th>\n",
       "      <td>0.000000</td>\n",
       "      <td>0.0</td>\n",
       "      <td>0.000000</td>\n",
       "      <td>1.243859</td>\n",
       "      <td>0.000000</td>\n",
       "      <td>0.000000</td>\n",
       "      <td>0.000000</td>\n",
       "      <td>0.000000</td>\n",
       "      <td>0.0000</td>\n",
       "      <td>0.000000</td>\n",
       "      <td>...</td>\n",
       "      <td>0.000000</td>\n",
       "      <td>0.000000</td>\n",
       "      <td>0.000000</td>\n",
       "      <td>0.000000</td>\n",
       "      <td>0.000000</td>\n",
       "      <td>0.000000</td>\n",
       "      <td>0.000000</td>\n",
       "      <td>0.000000</td>\n",
       "      <td>0.000000</td>\n",
       "      <td>0.000000</td>\n",
       "    </tr>\n",
       "  </tbody>\n",
       "</table>\n",
       "<p>517 rows × 100 columns</p>\n",
       "</div>"
      ],
      "text/plain": [
       "               0    1         2         3         4         5         6   \\\n",
       "195      0.000000  0.0  0.000000  0.000000  0.000000  0.000000  0.000000   \n",
       "287      0.000000  0.0  0.000000  0.000000  0.000000  0.000000  0.000000   \n",
       "294      1.115922  0.0  0.700361  2.162137  0.948939  0.000000  2.813272   \n",
       "358      0.000000  0.0  0.000000  0.000000  0.000000  0.508178  0.000000   \n",
       "487      0.000000  0.0  0.000000  0.000000  0.000000  0.000000  0.000000   \n",
       "...           ...  ...       ...       ...       ...       ...       ...   \n",
       "2585119  0.000000  0.0  0.000000  0.000000  0.000000  0.000000  0.000000   \n",
       "2585754  0.000000  0.0  0.000000  0.000000  0.000000  0.000000  0.000000   \n",
       "2585755  0.887574  0.0  0.000000  0.000000  0.000000  0.000000  0.000000   \n",
       "2585756  0.000000  0.0  0.000000  0.000000  0.000000  0.000000  2.770918   \n",
       "2587161  0.000000  0.0  0.000000  1.243859  0.000000  0.000000  0.000000   \n",
       "\n",
       "               7       8         9   ...        90        91        92  \\\n",
       "195      0.000000  0.0000  0.000000  ...  0.000000  0.000000  0.000000   \n",
       "287      0.000000  0.0000  1.003146  ...  0.000000  0.000000  0.498406   \n",
       "294      1.072878  0.5659  0.764364  ...  1.199647  2.125333  0.000000   \n",
       "358      0.000000  0.0000  0.000000  ...  0.000000  0.000000  0.000000   \n",
       "487      0.000000  0.0000  0.000000  ...  0.000000  0.000000  0.000000   \n",
       "...           ...     ...       ...  ...       ...       ...       ...   \n",
       "2585119  0.000000  0.0000  0.000000  ...  0.000000  0.000000  0.000000   \n",
       "2585754  0.000000  0.0000  0.000000  ...  0.000000  0.000000  0.000000   \n",
       "2585755  0.000000  0.0000  0.000000  ...  0.000000  0.000000  0.000000   \n",
       "2585756  0.000000  0.0000  0.000000  ...  0.000000  0.000000  0.729712   \n",
       "2587161  0.000000  0.0000  0.000000  ...  0.000000  0.000000  0.000000   \n",
       "\n",
       "               93        94        95        96        97        98        99  \n",
       "195      0.000000  0.000000  0.000000  0.000000  0.000000  0.000000  0.000000  \n",
       "287      0.000000  0.000000  0.000000  0.000000  0.000000  0.000000  0.000000  \n",
       "294      0.546458  0.954483  1.030339  1.554112  0.938535  1.070358  0.652388  \n",
       "358      0.000000  0.000000  0.000000  0.000000  0.000000  0.000000  0.000000  \n",
       "487      0.000000  0.000000  0.000000  0.000000  0.000000  0.000000  0.000000  \n",
       "...           ...       ...       ...       ...       ...       ...       ...  \n",
       "2585119  0.000000  0.000000  0.000000  0.000000  0.000000  0.000000  0.000000  \n",
       "2585754  0.000000  0.000000  0.000000  0.000000  0.000000  0.000000  0.000000  \n",
       "2585755  0.000000  0.000000  0.000000  0.000000  0.000000  0.000000  0.000000  \n",
       "2585756  0.000000  0.000000  0.000000  0.000000  0.000000  0.000000  0.000000  \n",
       "2587161  0.000000  0.000000  0.000000  0.000000  0.000000  0.000000  0.000000  \n",
       "\n",
       "[517 rows x 100 columns]"
      ]
     },
     "execution_count": 18,
     "metadata": {},
     "output_type": "execute_result"
    }
   ],
   "source": [
    "coef_filt"
   ]
  },
  {
   "cell_type": "code",
   "execution_count": 19,
   "metadata": {},
   "outputs": [],
   "source": [
    "from mlgut.models import rbo_dist\n",
    "\n",
    "p=0.999\n",
    "dmat = metrics.pairwise_distances(X=coef_filt.T, n_jobs=-1, metric=rbo_dist, p=p)"
   ]
  },
  {
   "cell_type": "code",
   "execution_count": 20,
   "metadata": {},
   "outputs": [
    {
     "data": {
      "text/plain": [
       "(100, 100)"
      ]
     },
     "execution_count": 20,
     "metadata": {},
     "output_type": "execute_result"
    }
   ],
   "source": [
    "dmat.shape"
   ]
  },
  {
   "cell_type": "code",
   "execution_count": 21,
   "metadata": {},
   "outputs": [
    {
     "data": {
      "text/plain": [
       "Text(0, 0.5, '$RBO_{d}$')"
      ]
     },
     "execution_count": 21,
     "metadata": {},
     "output_type": "execute_result"
    },
    {
     "data": {
      "image/png": "[encoded data removed]",
      "text/plain": [
       "<Figure size 432x288 with 1 Axes>"
      ]
     },
     "metadata": {},
     "output_type": "display_data"
    }
   ],
   "source": [
    "pd.Series(dmat.ravel(), name=project_name).plot(kind=\"box\")\n",
    "plt.title(\"Ranking stability\")\n",
    "plt.ylabel(\"$RBO_{d}$\")"
   ]
  },
  {
   "cell_type": "code",
   "execution_count": 22,
   "metadata": {},
   "outputs": [
    {
     "data": {
      "text/plain": [
       "<matplotlib.lines.Line2D at 0x2b03285dc950>"
      ]
     },
     "execution_count": 22,
     "metadata": {},
     "output_type": "execute_result"
    },
    {
     "data": {
      "image/png": "[encoded data removed]",
      "text/plain": [
       "<Figure size 432x288 with 1 Axes>"
      ]
     },
     "metadata": {},
     "output_type": "display_data"
    }
   ],
   "source": [
    "p = 0.99\n",
    "n_features = features.shape[1]\n",
    "x = np.random.permutation(n_features)\n",
    "y = np.random.permutation(n_features)\n",
    "baseline = rbo_dist(x, y, p=p)\n",
    "\n",
    "dmat = metrics.pairwise_distances(X=coef_filt.T, n_jobs=-1, metric=rbo_dist, p=p)\n",
    "\n",
    "pd.Series(dmat.ravel(), name=project_name).plot(kind=\"box\")\n",
    "plt.title(\"Ranking stability\")\n",
    "plt.ylabel(\"$RBO_{d}$\")\n",
    "plt.axhline(baseline)\n"
   ]
  },
  {
   "cell_type": "code",
   "execution_count": 2,
   "metadata": {},
   "outputs": [
    {
     "ename": "NameError",
     "evalue": "name 'coef_filt' is not defined",
     "output_type": "error",
     "traceback": [
      "\u001b[0;31m---------------------------------------------------------------------------\u001b[0m",
      "\u001b[0;31mNameError\u001b[0m                                 Traceback (most recent call last)",
      "\u001b[0;32m<ipython-input-2-389c579b3864>\u001b[0m in \u001b[0;36m<module>\u001b[0;34m\u001b[0m\n\u001b[1;32m      1\u001b[0m \u001b[0;32mfrom\u001b[0m \u001b[0mscipy\u001b[0m \u001b[0;32mimport\u001b[0m \u001b[0mstats\u001b[0m \u001b[0;32mas\u001b[0m \u001b[0msps\u001b[0m\u001b[0;34m\u001b[0m\u001b[0;34m\u001b[0m\u001b[0m\n\u001b[0;32m----> 2\u001b[0;31m \u001b[0mn_features\u001b[0m \u001b[0;34m=\u001b[0m \u001b[0mcoef_filt\u001b[0m\u001b[0;34m.\u001b[0m\u001b[0mshape\u001b[0m\u001b[0;34m[\u001b[0m\u001b[0;36m0\u001b[0m\u001b[0;34m]\u001b[0m\u001b[0;34m\u001b[0m\u001b[0;34m\u001b[0m\u001b[0m\n\u001b[0m\u001b[1;32m      3\u001b[0m \u001b[0mx\u001b[0m \u001b[0;34m=\u001b[0m \u001b[0mnp\u001b[0m\u001b[0;34m.\u001b[0m\u001b[0mrandom\u001b[0m\u001b[0;34m.\u001b[0m\u001b[0mpermutation\u001b[0m\u001b[0;34m(\u001b[0m\u001b[0mn_features\u001b[0m\u001b[0;34m)\u001b[0m\u001b[0;34m\u001b[0m\u001b[0;34m\u001b[0m\u001b[0m\n\u001b[1;32m      4\u001b[0m \u001b[0my\u001b[0m \u001b[0;34m=\u001b[0m \u001b[0mnp\u001b[0m\u001b[0;34m.\u001b[0m\u001b[0mrandom\u001b[0m\u001b[0;34m.\u001b[0m\u001b[0mpermutation\u001b[0m\u001b[0;34m(\u001b[0m\u001b[0mn_features\u001b[0m\u001b[0;34m)\u001b[0m\u001b[0;34m\u001b[0m\u001b[0;34m\u001b[0m\u001b[0m\n\u001b[1;32m      5\u001b[0m \u001b[0;34m\u001b[0m\u001b[0m\n",
      "\u001b[0;31mNameError\u001b[0m: name 'coef_filt' is not defined"
     ]
    }
   ],
   "source": [
    "from scipy import stats as sps\n",
    "n_features = coef_filt.shape[0]\n",
    "x = np.random.permutation(n_features)\n",
    "y = np.random.permutation(n_features)\n",
    "\n",
    "x = [1, 1, 0]\n",
    "y = [2, 1, 1]\n",
    "\n",
    "sps.spearmanr(x, y), sps.spearmanr(coef_filt.iloc[:, 1], coef_filt.iloc[:, 2])"
   ]
  },
  {
   "cell_type": "code",
   "execution_count": 36,
   "metadata": {},
   "outputs": [],
   "source": [
    "def spearman_dist(x, y): \n",
    "    return 1 - sps.spearmanr(x.argsort(), y.argsort())[0]"
   ]
  },
  {
   "cell_type": "code",
   "execution_count": 37,
   "metadata": {},
   "outputs": [
    {
     "data": {
      "text/plain": [
       "0.9901861700534207"
      ]
     },
     "execution_count": 37,
     "metadata": {},
     "output_type": "execute_result"
    }
   ],
   "source": [
    "spearman_dist(x, y)"
   ]
  },
  {
   "cell_type": "code",
   "execution_count": 56,
   "metadata": {},
   "outputs": [
    {
     "data": {
      "text/plain": [
       "<matplotlib.lines.Line2D at 0x2b0325883b50>"
      ]
     },
     "execution_count": 56,
     "metadata": {},
     "output_type": "execute_result"
    },
    {
     "data": {
      "image/png": "[encoded data removed]",
      "text/plain": [
       "<Figure size 432x288 with 1 Axes>"
      ]
     },
     "metadata": {},
     "output_type": "display_data"
    }
   ],
   "source": [
    "n_features = coef_filt.shape[0]\n",
    "x = np.random.permutation(n_features)\n",
    "y = np.random.permutation(n_features)\n",
    "baseline = spearman_dist(x, y)\n",
    "\n",
    "dmat_r = metrics.pairwise_distances(X=coefs.T, n_jobs=1, metric=spearman_dist)\n",
    "\n",
    "pd.Series(dmat_r.ravel(), name=project_name).apply(lambda x: -np.log10(x)).plot(kind=\"box\")\n",
    "plt.title(\"Ranking stability\")\n",
    "plt.ylabel(\"$RBO_{d}$\")\n",
    "plt.axhline(-np.log10(baseline))"
   ]
  },
  {
   "cell_type": "code",
   "execution_count": 53,
   "metadata": {},
   "outputs": [
    {
     "data": {
      "text/plain": [
       "array([1.11022302e-16, 3.71973226e-03, 3.81023296e-03, ...,\n",
       "       4.18702943e-03, 4.17802144e-03, 1.11022302e-16])"
      ]
     },
     "execution_count": 53,
     "metadata": {},
     "output_type": "execute_result"
    }
   ],
   "source": [
    "dmat_r.ravel()"
   ]
  },
  {
   "cell_type": "code",
   "execution_count": 43,
   "metadata": {},
   "outputs": [],
   "source": [
    "PROJECT_NAMES_DICT = {\n",
    "    \"PRJNA389927\": \"Hannigan\",\n",
    "    \"PRJEB12449\": \"Vogtmann\",\n",
    "    \"PRJEB6070\": \"Zeller\",\n",
    "    \"PRJEB7774\": \"Feng\",\n",
    "    \"PRJEB10878\": \"Yu\",\n",
    "    \"PRJNA447983\": \"Thomas0\",\n",
    "    \"PRJEB27928\": \"Thomas1\",\n",
    "}"
   ]
  },
  {
   "cell_type": "code",
   "execution_count": 85,
   "metadata": {},
   "outputs": [],
   "source": [
    "coefs_project = {PROJECT_NAMES_DICT[project_name]: [pd.Series(compute_support_ebm(r)[1], index=features.columns) for r in results[project_name][\"estimator\"]] for project_name in results.keys()}"
   ]
  },
  {
   "cell_type": "code",
   "execution_count": 86,
   "metadata": {},
   "outputs": [],
   "source": [
    "coefs_project = {key: pd.concat(values, axis=1).T for key, values in coefs_project.items()}"
   ]
  },
  {
   "cell_type": "code",
   "execution_count": 46,
   "metadata": {},
   "outputs": [],
   "source": [
    "coefs_project = {key: values.loc[values.any(axis=1), :] for key, values in coefs_project.items()}"
   ]
  },
  {
   "cell_type": "code",
   "execution_count": null,
   "metadata": {},
   "outputs": [],
   "source": [
    "import itertools\n",
    "\n",
    "r = {f\"{x}x{y}\": metrics.pairwise_distances(X=coefs_project[x], Y=coefs_project[y], n_jobs=-1, metric=spearman_dist)  for x, y in itertools.product(coefs_project.keys(), coefs_project.keys())}"
   ]
  },
  {
   "cell_type": "code",
   "execution_count": 93,
   "metadata": {},
   "outputs": [],
   "source": [
    "df = {key: val.ravel() for key, val in r.items()}"
   ]
  },
  {
   "cell_type": "code",
   "execution_count": 94,
   "metadata": {},
   "outputs": [],
   "source": [
    "df_plot = pd.DataFrame(df)"
   ]
  },
  {
   "cell_type": "code",
   "execution_count": 97,
   "metadata": {},
   "outputs": [
    {
     "data": {
      "text/plain": [
       "<matplotlib.axes._subplots.AxesSubplot at 0x2b02ed7c1f90>"
      ]
     },
     "execution_count": 97,
     "metadata": {},
     "output_type": "execute_result"
    },
    {
     "data": {
      "image/png": "[encoded data removed]",
      "text/plain": [
       "<Figure size 1152x648 with 1 Axes>"
      ]
     },
     "metadata": {},
     "output_type": "display_data"
    }
   ],
   "source": [
    "df_plot.plot(kind=\"box\", rot=90, figsize=(16, 9))"
   ]
  },
  {
   "cell_type": "code",
   "execution_count": 63,
   "metadata": {},
   "outputs": [],
   "source": [
    "def w_rbo(p=0.9, d=10):\n",
    "    \"\"\"Calculate weight of first d rankings with parameter p\"\"\"\n",
    "    w = 1 - p**(d - 1) + ((1 - p) / p) * d * (np.log(1 / (1 - p)) - sum(p**i / i for i in range(1, d)))\n",
    "    return w"
   ]
  },
  {
   "cell_type": "code",
   "execution_count": 65,
   "metadata": {},
   "outputs": [
    {
     "data": {
      "text/plain": [
       "[<matplotlib.lines.Line2D at 0x2b0327063e50>]"
      ]
     },
     "execution_count": 65,
     "metadata": {},
     "output_type": "execute_result"
    },
    {
     "data": {
      "image/png": "[encoded data removed]",
      "text/plain": [
       "<Figure size 432x288 with 1 Axes>"
      ]
     },
     "metadata": {},
     "output_type": "display_data"
    }
   ],
   "source": [
    "d = np.arange(1000)\n",
    "plt.plot(d, [w_rbo(p=0.999, d=x) for x in d])"
   ]
  },
  {
   "cell_type": "code",
   "execution_count": 73,
   "metadata": {},
   "outputs": [
    {
     "data": {
      "text/plain": [
       "[<matplotlib.lines.Line2D at 0x2b0319f5dd50>]"
      ]
     },
     "execution_count": 73,
     "metadata": {},
     "output_type": "execute_result"
    },
    {
     "data": {
      "image/png": "[encoded data removed]",
      "text/plain": [
       "<Figure size 432x288 with 1 Axes>"
      ]
     },
     "metadata": {},
     "output_type": "display_data"
    }
   ],
   "source": [
    "p = np.linspace(0.9, 1-1e-6, 100)\n",
    "plt.plot(p, [w_rbo(p=x, d=100) for x in p])"
   ]
  },
  {
   "cell_type": "code",
   "execution_count": null,
   "metadata": {},
   "outputs": [],
   "source": []
  }
 ],
 "metadata": {
  "kernelspec": {
   "display_name": "Python 3",
   "language": "python",
   "name": "python3"
  },
  "language_info": {
   "codemirror_mode": {
    "name": "ipython",
    "version": 3
   },
   "file_extension": ".py",
   "mimetype": "text/x-python",
   "name": "python",
   "nbconvert_exporter": "python",
   "pygments_lexer": "ipython3",
   "version": "3.7.6"
  }
 },
 "nbformat": 4,
 "nbformat_minor": 4
}
