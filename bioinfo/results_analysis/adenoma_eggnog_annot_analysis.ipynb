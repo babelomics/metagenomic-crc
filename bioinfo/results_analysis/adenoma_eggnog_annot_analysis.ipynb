{
 "cells": [
  {
   "cell_type": "code",
   "execution_count": 68,
   "metadata": {},
   "outputs": [],
   "source": [
    "import pandas as pd\n",
    "import re\n",
    "import seaborn as sns"
   ]
  },
  {
   "cell_type": "code",
   "execution_count": 69,
   "metadata": {},
   "outputs": [],
   "source": [
    "# load model eggnog tag and scores\n",
    "model = pd.read_csv('CRC_OGs_adenoma_explanations.tsv', sep='\\t')\n",
    "model.columns = ['OG+', 'score', 'r_coeff', 'r_sing', 'r_pvalue', 'r_pvalue_fdr']\n",
    "model = model.loc[model['score'] > 0]\n",
    "model[['OG', 'TaxonomicLevel']] = model['OG+'].str.split('@', expand=True)\n",
    "model.drop('OG+', axis=1, inplace=True)\n",
    "\n",
    "# load eggnod 4.5 annotations\n",
    "ann = pd.read_csv('all_OG_annotations.tsv', sep='\\t', header=None)\n",
    "ann.columns = ['OG', 'TaxonomicLevel', 'ProteinCount', 'Description', 'COGFunctionalCategory', 'GO', 'kegg_pathways', 'Domains', 'ProteinIDs']\n",
    "ann = ann.loc[ann['OG'].isin(model['OG'])]\n",
    "ann['COGFunctionalCategory'] = ann['COGFunctionalCategory'].apply(lambda x: x[3])\n",
    "\n",
    "# merge model and annots\n",
    "model = model.merge(ann[['OG', 'ProteinCount', 'Description', 'COGFunctionalCategory', 'GO', 'kegg_pathways', 'Domains', 'ProteinIDs']], left_on='OG', right_on='OG')\n",
    "model['GO'] = model['GO'].apply(lambda x: re.findall(r'GO:\\d{7}', x))\n",
    "model.sort_values('score', ascending=False, inplace=True)"
   ]
  },
  {
   "cell_type": "code",
   "execution_count": null,
   "metadata": {},
   "outputs": [],
   "source": []
  },
  {
   "cell_type": "code",
   "execution_count": 70,
   "metadata": {},
   "outputs": [
    {
     "data": {
      "text/plain": [
       "['GO:0003824',\n",
       " 'GO:0016829',\n",
       " 'GO:0016491',\n",
       " 'GO:0008152',\n",
       " 'GO:0044710',\n",
       " 'GO:0055114']"
      ]
     },
     "execution_count": 70,
     "metadata": {},
     "output_type": "execute_result"
    }
   ],
   "source": [
    "model['GO'][0]\n"
   ]
  },
  {
   "cell_type": "code",
   "execution_count": null,
   "metadata": {},
   "outputs": [],
   "source": []
  },
  {
   "cell_type": "code",
   "execution_count": 25,
   "metadata": {},
   "outputs": [],
   "source": [
    "# print(model[['score', 'OG', 'TaxonomicLevel', 'Description']].head(20).to_markdown())"
   ]
  },
  {
   "cell_type": "code",
   "execution_count": 51,
   "metadata": {},
   "outputs": [
    {
     "name": "stderr",
     "output_type": "stream",
     "text": [
      "/home/csanchez/.conda/envs/python3.8/lib/python3.8/site-packages/pandas/core/frame.py:3990: SettingWithCopyWarning: \n",
      "A value is trying to be set on a copy of a slice from a DataFrame\n",
      "\n",
      "See the caveats in the documentation: https://pandas.pydata.org/pandas-docs/stable/user_guide/indexing.html#returning-a-view-versus-a-copy\n",
      "  return super().drop(\n"
     ]
    }
   ],
   "source": [
    "# GO analysis and results\n",
    "\n",
    "go = model[['score', 'GO']]\n",
    "go.index = go.score\n",
    "go.drop('score', axis=1, inplace=True)\n",
    "go = go['GO'].apply(pd.Series)\n",
    "go = go.reset_index().melt(id_vars='score')\n",
    "go = go.groupby('value').mean()\n",
    "go.sort_values('score', ascending=False, inplace=True)\n",
    "\n",
    "# parse OBO file\n",
    "obo_dict = {}\n",
    "with open('go-basic.obo') as file:\n",
    "    lines = file.read().splitlines()\n",
    "    key = \"\"\n",
    "    for l in lines:\n",
    "        if l.startswith('id:') :\n",
    "            ss = l.split(': ')\n",
    "            key = ss[1]\n",
    "            obo_dict[key] = {}\n",
    "        if l.startswith('name:'):\n",
    "            ss = l.split(': ')\n",
    "            obo_dict[key]['name'] = ss[1]\n",
    "        if l.startswith('namespace:'):\n",
    "            ss = l.split(': ')\n",
    "            obo_dict[key]['namespace'] = ss[1]\n",
    "        if l.startswith('def:'):\n",
    "            ss = l.split('def: ')\n",
    "            obo_dict[key]['def'] = ss[1]\n",
    "\n",
    "for i in go.index:\n",
    "    if i not in obo_dict.keys():\n",
    "        continue\n",
    "    go.loc[i, 'name'] = obo_dict[i]['name']\n",
    "    go.loc[i, 'namespace'] = obo_dict[i]['namespace']\n",
    "    go.loc[i, 'def'] = obo_dict[i]['def']\n",
    "\n"
   ]
  },
  {
   "cell_type": "code",
   "execution_count": 52,
   "metadata": {},
   "outputs": [],
   "source": [
    "go_sum = model[['score', 'GO']]\n",
    "go_sum.index = go_sum.score\n",
    "go_sum.drop('score', axis=1, inplace=True)\n",
    "go_sum = go_sum['GO'].apply(pd.Series)\n",
    "go_sum = go_sum.reset_index().melt(id_vars='score')\n",
    "go_sum = go_sum.groupby('value').sum()\n",
    "go_sum.sort_values('score', ascending=False, inplace=True)\n",
    "go_sum.columns = ['score_sum']"
   ]
  },
  {
   "cell_type": "code",
   "execution_count": 53,
   "metadata": {},
   "outputs": [],
   "source": [
    "go.rename(columns={'score':'score_mean'}, inplace=True)\n",
    "go = go.merge(go_sum, left_index=True, right_index=True).sort_values('score_mean', ascending=False)"
   ]
  },
  {
   "cell_type": "code",
   "execution_count": null,
   "metadata": {},
   "outputs": [],
   "source": []
  },
  {
   "cell_type": "code",
   "execution_count": 54,
   "metadata": {},
   "outputs": [
    {
     "data": {
      "text/plain": [
       "biological_process    2299\n",
       "molecular_function    1713\n",
       "cellular_component     320\n",
       "Name: namespace, dtype: int64"
      ]
     },
     "execution_count": 54,
     "metadata": {},
     "output_type": "execute_result"
    }
   ],
   "source": [
    "go['namespace'].value_counts()"
   ]
  },
  {
   "cell_type": "code",
   "execution_count": 55,
   "metadata": {},
   "outputs": [],
   "source": [
    "# print(go.loc[go['namespace'] == 'biological_process'].head(20).to_markdown())"
   ]
  },
  {
   "cell_type": "code",
   "execution_count": 56,
   "metadata": {},
   "outputs": [],
   "source": [
    "# print(go.loc[go['namespace'] == 'molecular_function'].head(20).to_markdown())"
   ]
  },
  {
   "cell_type": "code",
   "execution_count": 57,
   "metadata": {},
   "outputs": [],
   "source": [
    "# print(go.loc[go['namespace'] == 'cellular_component'].sort_values('score_mean', ascending=False).head(20).to_markdown())"
   ]
  },
  {
   "cell_type": "code",
   "execution_count": 58,
   "metadata": {},
   "outputs": [],
   "source": [
    "# save go table with scores summatory\n",
    "go.to_csv('eggnog_go_term_adenoma_scores.tsv', sep='\\t')"
   ]
  },
  {
   "cell_type": "code",
   "execution_count": null,
   "metadata": {},
   "outputs": [],
   "source": []
  },
  {
   "cell_type": "code",
   "execution_count": 14,
   "metadata": {},
   "outputs": [
    {
     "name": "stderr",
     "output_type": "stream",
     "text": [
      "<ipython-input-14-2635084a6c6e>:4: SettingWithCopyWarning: \n",
      "A value is trying to be set on a copy of a slice from a DataFrame.\n",
      "Try using .loc[row_indexer,col_indexer] = value instead\n",
      "\n",
      "See the caveats in the documentation: https://pandas.pydata.org/pandas-docs/stable/user_guide/indexing.html#returning-a-view-versus-a-copy\n",
      "  dom['pfam'] = dom['Domains'].apply(lambda x: re.findall(r'\"PFAM\":\\[\\[(.+)\\]\\],\"SMART\"', x))\n",
      "<ipython-input-14-2635084a6c6e>:5: SettingWithCopyWarning: \n",
      "A value is trying to be set on a copy of a slice from a DataFrame.\n",
      "Try using .loc[row_indexer,col_indexer] = value instead\n",
      "\n",
      "See the caveats in the documentation: https://pandas.pydata.org/pandas-docs/stable/user_guide/indexing.html#returning-a-view-versus-a-copy\n",
      "  dom['pfam'] = dom['pfam'].astype(str)\n",
      "<ipython-input-14-2635084a6c6e>:6: SettingWithCopyWarning: \n",
      "A value is trying to be set on a copy of a slice from a DataFrame.\n",
      "Try using .loc[row_indexer,col_indexer] = value instead\n",
      "\n",
      "See the caveats in the documentation: https://pandas.pydata.org/pandas-docs/stable/user_guide/indexing.html#returning-a-view-versus-a-copy\n",
      "  dom['pfam'] = dom['pfam'].apply(lambda x: re.findall(r'\"[^\\d,]+\"', x))\n"
     ]
    }
   ],
   "source": [
    "# Domains analysis PFAM\n",
    "dom = model[['score', 'Domains']]\n",
    "dom.index = dom['score']\n",
    "dom['pfam'] = dom['Domains'].apply(lambda x: re.findall(r'\"PFAM\":\\[\\[(.+)\\]\\],\"SMART\"', x))\n",
    "dom['pfam'] = dom['pfam'].astype(str)\n",
    "dom['pfam'] = dom['pfam'].apply(lambda x: re.findall(r'\"[^\\d,]+\"', x))\n",
    "pfam = dom['pfam'].apply(pd.Series)\n",
    "pfam = pfam.reset_index().melt(id_vars='score')\n",
    "pfam['value'] = pfam['value'].str.replace('\"', '')\n",
    "###\n",
    "pfam_mean = pfam.groupby('value').mean()\n",
    "pfam_mean.sort_values('score', ascending=False, inplace=True)\n",
    "pfam_mean.columns = ['score_mean']\n",
    "pfam_sum = pfam.groupby('value').sum()\n",
    "pfam_sum.sort_values('score', ascending=False, inplace=True)\n",
    "pfam_sum.columns = ['score_sum']\n",
    "pfam = pfam_mean.merge(pfam_sum, left_index=True, right_index=True)"
   ]
  },
  {
   "cell_type": "code",
   "execution_count": null,
   "metadata": {},
   "outputs": [],
   "source": []
  },
  {
   "cell_type": "code",
   "execution_count": 50,
   "metadata": {},
   "outputs": [],
   "source": [
    "# print(pfam.sort_values('score_mean', ascending=False).head(20).to_markdown())"
   ]
  },
  {
   "cell_type": "code",
   "execution_count": 16,
   "metadata": {},
   "outputs": [],
   "source": [
    "pfam.to_csv('eggnog_pfam_adenoma_scores.tsv', sep='\\t')"
   ]
  },
  {
   "cell_type": "code",
   "execution_count": 21,
   "metadata": {},
   "outputs": [
    {
     "data": {
      "text/plain": [
       "(1462, 2)"
      ]
     },
     "execution_count": 21,
     "metadata": {},
     "output_type": "execute_result"
    }
   ],
   "source": [
    "pfam.shape"
   ]
  },
  {
   "cell_type": "code",
   "execution_count": null,
   "metadata": {},
   "outputs": [],
   "source": []
  },
  {
   "cell_type": "code",
   "execution_count": 17,
   "metadata": {},
   "outputs": [
    {
     "name": "stderr",
     "output_type": "stream",
     "text": [
      "<ipython-input-17-c5640afcef37>:5: SettingWithCopyWarning: \n",
      "A value is trying to be set on a copy of a slice from a DataFrame.\n",
      "Try using .loc[row_indexer,col_indexer] = value instead\n",
      "\n",
      "See the caveats in the documentation: https://pandas.pydata.org/pandas-docs/stable/user_guide/indexing.html#returning-a-view-versus-a-copy\n",
      "  kegg['kegg_pathways'] = kegg['kegg_pathways'].str.replace(r'[\\[\\]\"]', '').str.replace(r'[\\d+.,]', '').str.split(' \\(\\)')\n"
     ]
    }
   ],
   "source": [
    "# kegg pathways\n",
    "kegg = model[['score', 'kegg_pathways']]\n",
    "kegg.index = kegg['score']\n",
    "kegg.drop('score', axis=1, inplace=True)\n",
    "kegg['kegg_pathways'] = kegg['kegg_pathways'].str.replace(r'[\\[\\]\"]', '').str.replace(r'[\\d+.,]', '').str.split(' \\(\\)')\n",
    "kegg = kegg['kegg_pathways'].apply(pd.Series)\n",
    "kegg = kegg.reset_index().melt(id_vars='score')"
   ]
  },
  {
   "cell_type": "code",
   "execution_count": 18,
   "metadata": {},
   "outputs": [],
   "source": [
    "kegg = kegg.loc[(kegg['value'] != '')]"
   ]
  },
  {
   "cell_type": "code",
   "execution_count": null,
   "metadata": {},
   "outputs": [],
   "source": []
  },
  {
   "cell_type": "code",
   "execution_count": null,
   "metadata": {},
   "outputs": [],
   "source": []
  },
  {
   "cell_type": "code",
   "execution_count": 19,
   "metadata": {},
   "outputs": [],
   "source": [
    "kegg_mean = kegg.groupby('value').mean().sort_values('score', ascending=False)\n",
    "kegg_mean.columns = ['score_mean']\n",
    "kegg_sum = kegg.groupby('value').sum().sort_values('score', ascending=False)\n",
    "kegg_sum.columns = ['score_sum']\n",
    "kegg = kegg_mean.merge(kegg_sum, left_index=True, right_index=True)"
   ]
  },
  {
   "cell_type": "code",
   "execution_count": 20,
   "metadata": {},
   "outputs": [
    {
     "name": "stdout",
     "output_type": "stream",
     "text": [
      "| value                                        |   score_mean |   score_sum |\n",
      "|:---------------------------------------------|-------------:|------------:|\n",
      "| Metabolic pathways                           |    0.0393981 |    59.5305  |\n",
      "| Biosynthesis of secondary metabolites        |    0.0377066 |    22.1715  |\n",
      "| Microbial metabolism in diverse environments |    0.0394563 |    17.5186  |\n",
      "| ABC transporters                             |    0.0413033 |    12.5562  |\n",
      "| Ribosome                                     |    0.0681589 |    12.2005  |\n",
      "| Biosynthesis of amino acids                  |    0.0437525 |    11.7257  |\n",
      "| Methane metabolism                           |    0.0491911 |     7.47705 |\n",
      "| Aminoacyl-tRNA biosynthesis                  |    0.0762654 |     6.86388 |\n",
      "| Oxidative phosphorylation                    |    0.0445903 |     5.75215 |\n",
      "| Two-component system                         |    0.0370511 |     5.44651 |\n",
      "| Purine metabolism                            |    0.0278511 |     4.73469 |\n",
      "| Porphyrin and chlorophyll metabolism         |    0.0399917 |     4.55905 |\n",
      "| Carbon fixation pathways in prokaryotes      |    0.03674   |     3.74748 |\n",
      "| Bacterial secretion system                   |    0.0372094 |     3.72094 |\n",
      "| Pyrimidine metabolism                        |    0.0270241 |     3.67527 |\n",
      "| Citrate cycle (TCA cycle)                    |    0.0423534 |     3.51533 |\n",
      "| Glycine serine and threonine metabolism      |    0.0436797 |     3.4507  |\n",
      "| Arginine and proline metabolism              |    0.0339067 |     3.39067 |\n",
      "| Butanoate metabolism                         |    0.0437243 |     3.32305 |\n",
      "| D-Glutamine and D-glutamate metabolism       |    0.14175   |     3.1185  |\n"
     ]
    }
   ],
   "source": [
    "print(kegg.sort_values('score_sum', ascending=False).head(20).to_markdown())"
   ]
  },
  {
   "cell_type": "code",
   "execution_count": 49,
   "metadata": {},
   "outputs": [],
   "source": [
    "kegg.to_csv('eggnog_kegg_pathways_scores.tsv', sep='\\t')"
   ]
  },
  {
   "cell_type": "code",
   "execution_count": 23,
   "metadata": {},
   "outputs": [],
   "source": [
    "# comparativa con los pathways procedentes del modelo de KEGG\n",
    "kegg_path = pd.read_csv('../kegg/krona/crc_kegg_hierarchy.tsv', sep='\\t')\n",
    "kegg_path.columns = ['score', 'brite1', 'brite2', 'pathways', 'module', 'ko']\n",
    "kegg_path = kegg_path[['score', 'pathways']].groupby('pathways').sum().reset_index().sort_values('score', ascending=False)"
   ]
  },
  {
   "cell_type": "code",
   "execution_count": 30,
   "metadata": {},
   "outputs": [
    {
     "name": "stdout",
     "output_type": "stream",
     "text": [
      "(336, 2)\n",
      "(356, 2)\n"
     ]
    },
    {
     "data": {
      "text/html": [
       "<div>\n",
       "<style scoped>\n",
       "    .dataframe tbody tr th:only-of-type {\n",
       "        vertical-align: middle;\n",
       "    }\n",
       "\n",
       "    .dataframe tbody tr th {\n",
       "        vertical-align: top;\n",
       "    }\n",
       "\n",
       "    .dataframe thead th {\n",
       "        text-align: right;\n",
       "    }\n",
       "</style>\n",
       "<table border=\"1\" class=\"dataframe\">\n",
       "  <thead>\n",
       "    <tr style=\"text-align: right;\">\n",
       "      <th></th>\n",
       "      <th>score_mean</th>\n",
       "      <th>score_sum</th>\n",
       "    </tr>\n",
       "    <tr>\n",
       "      <th>value</th>\n",
       "      <th></th>\n",
       "      <th></th>\n",
       "    </tr>\n",
       "  </thead>\n",
       "  <tbody>\n",
       "    <tr>\n",
       "      <th>D-Glutamine and D-glutamate metabolism</th>\n",
       "      <td>1.397234e-01</td>\n",
       "      <td>9.361470e+00</td>\n",
       "    </tr>\n",
       "    <tr>\n",
       "      <th>Nonribosomal peptide structures</th>\n",
       "      <td>1.184760e-01</td>\n",
       "      <td>2.369521e+00</td>\n",
       "    </tr>\n",
       "    <tr>\n",
       "      <th>Zeatin biosynthesis</th>\n",
       "      <td>1.175786e-01</td>\n",
       "      <td>1.998835e+00</td>\n",
       "    </tr>\n",
       "    <tr>\n",
       "      <th>Caprolactam degradation</th>\n",
       "      <td>1.150908e-01</td>\n",
       "      <td>2.647089e+00</td>\n",
       "    </tr>\n",
       "    <tr>\n",
       "      <th>Biosynthesis of type II polyketide products</th>\n",
       "      <td>1.129940e-01</td>\n",
       "      <td>2.259879e-01</td>\n",
       "    </tr>\n",
       "    <tr>\n",
       "      <th>...</th>\n",
       "      <td>...</td>\n",
       "      <td>...</td>\n",
       "    </tr>\n",
       "    <tr>\n",
       "      <th>Cytokine-cytokine receptor interaction</th>\n",
       "      <td>2.028238e-21</td>\n",
       "      <td>2.028238e-21</td>\n",
       "    </tr>\n",
       "    <tr>\n",
       "      <th>SNARE interactions in vesicular transport</th>\n",
       "      <td>1.134847e-21</td>\n",
       "      <td>7.943930e-21</td>\n",
       "    </tr>\n",
       "    <tr>\n",
       "      <th>Hematopoietic cell lineage</th>\n",
       "      <td>1.087371e-21</td>\n",
       "      <td>2.174742e-21</td>\n",
       "    </tr>\n",
       "    <tr>\n",
       "      <th>Olfactory transduction</th>\n",
       "      <td>7.697708e-22</td>\n",
       "      <td>1.539542e-21</td>\n",
       "    </tr>\n",
       "    <tr>\n",
       "      <th>Circadian rhythm - fly</th>\n",
       "      <td>3.802946e-22</td>\n",
       "      <td>7.605891e-22</td>\n",
       "    </tr>\n",
       "  </tbody>\n",
       "</table>\n",
       "<p>336 rows × 2 columns</p>\n",
       "</div>"
      ],
      "text/plain": [
       "                                               score_mean     score_sum\n",
       "value                                                                  \n",
       "D-Glutamine and D-glutamate metabolism       1.397234e-01  9.361470e+00\n",
       "Nonribosomal peptide structures              1.184760e-01  2.369521e+00\n",
       "Zeatin biosynthesis                          1.175786e-01  1.998835e+00\n",
       "Caprolactam degradation                      1.150908e-01  2.647089e+00\n",
       "Biosynthesis of type II polyketide products  1.129940e-01  2.259879e-01\n",
       "...                                                   ...           ...\n",
       "Cytokine-cytokine receptor interaction       2.028238e-21  2.028238e-21\n",
       "SNARE interactions in vesicular transport    1.134847e-21  7.943930e-21\n",
       "Hematopoietic cell lineage                   1.087371e-21  2.174742e-21\n",
       "Olfactory transduction                       7.697708e-22  1.539542e-21\n",
       "Circadian rhythm - fly                       3.802946e-22  7.605891e-22\n",
       "\n",
       "[336 rows x 2 columns]"
      ]
     },
     "execution_count": 30,
     "metadata": {},
     "output_type": "execute_result"
    }
   ],
   "source": [
    "print(kegg.shape)\n",
    "print(kegg_path.shape)"
   ]
  },
  {
   "cell_type": "code",
   "execution_count": 75,
   "metadata": {},
   "outputs": [
    {
     "data": {
      "text/html": [
       "<div>\n",
       "<style scoped>\n",
       "    .dataframe tbody tr th:only-of-type {\n",
       "        vertical-align: middle;\n",
       "    }\n",
       "\n",
       "    .dataframe tbody tr th {\n",
       "        vertical-align: top;\n",
       "    }\n",
       "\n",
       "    .dataframe thead th {\n",
       "        text-align: right;\n",
       "    }\n",
       "</style>\n",
       "<table border=\"1\" class=\"dataframe\">\n",
       "  <thead>\n",
       "    <tr style=\"text-align: right;\">\n",
       "      <th></th>\n",
       "      <th>pathways</th>\n",
       "      <th>score</th>\n",
       "      <th>inter</th>\n",
       "    </tr>\n",
       "  </thead>\n",
       "  <tbody>\n",
       "    <tr>\n",
       "      <th>267</th>\n",
       "      <td>Quorum sensing</td>\n",
       "      <td>9.992933</td>\n",
       "      <td>no</td>\n",
       "    </tr>\n",
       "    <tr>\n",
       "      <th>235</th>\n",
       "      <td>Phenylalanine, tyrosine and tryptophan biosynt...</td>\n",
       "      <td>9.106598</td>\n",
       "      <td>no</td>\n",
       "    </tr>\n",
       "    <tr>\n",
       "      <th>8</th>\n",
       "      <td>Alanine, aspartate and glutamate metabolism</td>\n",
       "      <td>8.939216</td>\n",
       "      <td>no</td>\n",
       "    </tr>\n",
       "    <tr>\n",
       "      <th>131</th>\n",
       "      <td>Glycine, serine and threonine metabolism</td>\n",
       "      <td>8.119296</td>\n",
       "      <td>no</td>\n",
       "    </tr>\n",
       "    <tr>\n",
       "      <th>25</th>\n",
       "      <td>Arginine biosynthesis</td>\n",
       "      <td>5.286660</td>\n",
       "      <td>no</td>\n",
       "    </tr>\n",
       "    <tr>\n",
       "      <th>...</th>\n",
       "      <td>...</td>\n",
       "      <td>...</td>\n",
       "      <td>...</td>\n",
       "    </tr>\n",
       "    <tr>\n",
       "      <th>313</th>\n",
       "      <td>Th1 and Th2 cell differentiation</td>\n",
       "      <td>0.038143</td>\n",
       "      <td>no</td>\n",
       "    </tr>\n",
       "    <tr>\n",
       "      <th>97</th>\n",
       "      <td>Endocrine resistance</td>\n",
       "      <td>0.038143</td>\n",
       "      <td>no</td>\n",
       "    </tr>\n",
       "    <tr>\n",
       "      <th>192</th>\n",
       "      <td>Mitophagy - animal</td>\n",
       "      <td>0.037658</td>\n",
       "      <td>no</td>\n",
       "    </tr>\n",
       "    <tr>\n",
       "      <th>10</th>\n",
       "      <td>Aldosterone synthesis and secretion</td>\n",
       "      <td>0.027959</td>\n",
       "      <td>no</td>\n",
       "    </tr>\n",
       "    <tr>\n",
       "      <th>96</th>\n",
       "      <td>EGFR tyrosine kinase inhibitor resistance</td>\n",
       "      <td>0.015325</td>\n",
       "      <td>no</td>\n",
       "    </tr>\n",
       "  </tbody>\n",
       "</table>\n",
       "<p>93 rows × 3 columns</p>\n",
       "</div>"
      ],
      "text/plain": [
       "                                              pathways     score inter\n",
       "267                                     Quorum sensing  9.992933    no\n",
       "235  Phenylalanine, tyrosine and tryptophan biosynt...  9.106598    no\n",
       "8          Alanine, aspartate and glutamate metabolism  8.939216    no\n",
       "131           Glycine, serine and threonine metabolism  8.119296    no\n",
       "25                               Arginine biosynthesis  5.286660    no\n",
       "..                                                 ...       ...   ...\n",
       "313                   Th1 and Th2 cell differentiation  0.038143    no\n",
       "97                                Endocrine resistance  0.038143    no\n",
       "192                                 Mitophagy - animal  0.037658    no\n",
       "10                 Aldosterone synthesis and secretion  0.027959    no\n",
       "96           EGFR tyrosine kinase inhibitor resistance  0.015325    no\n",
       "\n",
       "[93 rows x 3 columns]"
      ]
     },
     "execution_count": 75,
     "metadata": {},
     "output_type": "execute_result"
    }
   ],
   "source": [
    "kegg_path.loc[kegg_path['inter'] == 'no']"
   ]
  },
  {
   "cell_type": "code",
   "execution_count": 73,
   "metadata": {},
   "outputs": [
    {
     "data": {
      "image/png": "[encoded data removed]",
      "text/plain": [
       "<Figure size 432x288 with 1 Axes>"
      ]
     },
     "metadata": {
      "needs_background": "light"
     },
     "output_type": "display_data"
    }
   ],
   "source": [
    "inter = set(kegg_path['pathways']) & set(kegg.index)\n",
    "kegg_path['inter'] = 'no'\n",
    "kegg_path.loc[kegg_path['pathways'].isin(inter), 'inter'] = 'yes'\n",
    "ax = sns.boxplot(data=kegg_path, x='score', y='inter')\n",
    "ax.figure.savefig('../kegg/krona/pathways_intersec_with_eggnog.png')"
   ]
  },
  {
   "cell_type": "code",
   "execution_count": 70,
   "metadata": {},
   "outputs": [
    {
     "name": "stdout",
     "output_type": "stream",
     "text": [
      "|    | COGFunctionalCategory                                         |   score_mean |   score_sum |   ProteinCount |\n",
      "|---:|:--------------------------------------------------------------|-------------:|------------:|---------------:|\n",
      "|  1 | Function unknown                                              |    0.0667317 | 4599.35     |        2209675 |\n",
      "| 11 | Transcription                                                 |    0.0614815 |  317.982    |         485184 |\n",
      "|  0 | Cell wall/membrane/envelope biogenesis                        |    0.0671169 |  234.506    |         391876 |\n",
      "|  6 | Carbohydrate transport and metabolism                         |    0.0643051 |  218.316    |         490194 |\n",
      "| 14 | Replication, recombination and repair                         |    0.0588104 |  209.777    |         474757 |\n",
      "|  2 | Amino acid transport and metabolism                           |    0.0666461 |  208.002    |         681825 |\n",
      "|  9 | Energy production and conversion                              |    0.0624036 |  192.515    |         554115 |\n",
      "|  3 | Inorganic ion transport and metabolism                        |    0.065346  |  177.937    |         448848 |\n",
      "|  7 | Translation, ribosomal structure and biogenesis               |    0.0641984 |  171.281    |         654358 |\n",
      "|  5 | Coenzyme transport and metabolism                             |    0.0650386 |  118.24     |         302942 |\n",
      "| 15 | Posttranslational modification, protein turnover, chaperones  |    0.058697  |  104.539    |         399612 |\n",
      "| 12 | Signal transduction mechanisms                                |    0.0613674 |  103.159    |         429915 |\n",
      "|  8 | Defense mechanisms                                            |    0.0635588 |   69.5969   |         139528 |\n",
      "| 19 | Intracellular trafficking, secretion, and vesicular transport |    0.0519516 |   65.8746   |         171013 |\n",
      "| 18 | Nucleotide transport and metabolism                           |    0.0524987 |   58.5886   |         246910 |\n",
      "| 17 | Lipid transport and metabolism                                |    0.0571693 |   57.9125   |         265730 |\n",
      "| 16 | Secondary metabolites biosynthesis, transport and catabolism  |    0.0585854 |   40.0138   |         105820 |\n",
      "| 13 | Cell cycle control, cell division, chromosome partitioning    |    0.0610126 |   34.8382   |          94737 |\n",
      "| 10 | Cell motility                                                 |    0.0618149 |   29.7948   |          74145 |\n",
      "| 23 | RNA processing and modification                               |    0.0161889 |    3.61014  |          27737 |\n",
      "| 21 | Chromatin structure and dynamics                              |    0.0339063 |    2.6786   |          34043 |\n",
      "| 22 | Cytoskeleton                                                  |    0.0303927 |    2.0667   |          30947 |\n",
      "|  4 | Nuclear structure                                             |    0.0652399 |    1.04384  |            752 |\n",
      "| 20 | Extracellular structures                                      |    0.0379427 |    0.531198 |           5248 |\n"
     ]
    }
   ],
   "source": [
    "# eggnog functional categories\n",
    "func_cat_sum = model.groupby('COGFunctionalCategory').sum().sort_values('score', ascending=False)\n",
    "func_cat_sum.rename(columns={'score':'score_sum'}, inplace=True)\n",
    "func_cat_mean = model.groupby('COGFunctionalCategory').mean().sort_values('score', ascending=False)\n",
    "func_cat_mean.rename(columns={'score':'score_mean'}, inplace=True)\n",
    "func_cat_mean.drop('ProteinCount', inplace=True, axis=1)\n",
    "func_cat = func_cat_mean.merge(func_cat_sum, left_index=True, right_index=True).reset_index().sort_values('score_mean', ascending=False)\n",
    "\n",
    "dd = {\n",
    "'J' : 'Translation, ribosomal structure and biogenesis',\n",
    "'A' : 'RNA processing and modification',\n",
    "'K' : 'Transcription',\n",
    "'L' : 'Replication, recombination and repair',\n",
    "'B' : 'Chromatin structure and dynamics',\n",
    "'D' : 'Cell cycle control, cell division, chromosome partitioning',\n",
    "'Y' : 'Nuclear structure',\n",
    "'V' : 'Defense mechanisms',\n",
    "'T' : 'Signal transduction mechanisms',\n",
    "'M' : 'Cell wall/membrane/envelope biogenesis',\n",
    "'N' : 'Cell motility',\n",
    "'Z' : 'Cytoskeleton',\n",
    "'W' : 'Extracellular structures',\n",
    "'U' : 'Intracellular trafficking, secretion, and vesicular transport',\n",
    "'O' : 'Posttranslational modification, protein turnover, chaperones',\n",
    "'C' : 'Energy production and conversion',\n",
    "'G' : 'Carbohydrate transport and metabolism',\n",
    "'E' : 'Amino acid transport and metabolism',\n",
    "'F' : 'Nucleotide transport and metabolism',\n",
    "'H' : 'Coenzyme transport and metabolism',\n",
    "'I' : 'Lipid transport and metabolism',\n",
    "'P' : 'Inorganic ion transport and metabolism',\n",
    "'Q' : 'Secondary metabolites biosynthesis, transport and catabolism',\n",
    "'R' : 'General function prediction only',\n",
    "'S' : 'Function unknown'\n",
    "}\n",
    "func_cat['COGFunctionalCategory'] = func_cat['COGFunctionalCategory'].apply(lambda x: dd[x])\n",
    "print(func_cat.sort_values('score_sum', ascending=False).to_markdown())"
   ]
  },
  {
   "cell_type": "code",
   "execution_count": null,
   "metadata": {},
   "outputs": [],
   "source": []
  },
  {
   "cell_type": "code",
   "execution_count": 79,
   "metadata": {},
   "outputs": [],
   "source": [
    "func_cat.to_csv('eggnog_func_cat_scores.tsv', sep='\\t')"
   ]
  },
  {
   "cell_type": "code",
   "execution_count": 84,
   "metadata": {},
   "outputs": [
    {
     "data": {
      "text/plain": [
       "42"
      ]
     },
     "execution_count": 84,
     "metadata": {},
     "output_type": "execute_result"
    }
   ],
   "source": []
  },
  {
   "cell_type": "code",
   "execution_count": null,
   "metadata": {},
   "outputs": [],
   "source": []
  }
 ],
 "metadata": {
  "kernelspec": {
   "display_name": "Python 3",
   "language": "python",
   "name": "python3"
  },
  "language_info": {
   "codemirror_mode": {
    "name": "ipython",
    "version": 3
   },
   "file_extension": ".py",
   "mimetype": "text/x-python",
   "name": "python",
   "nbconvert_exporter": "python",
   "pygments_lexer": "ipython3",
   "version": "3.8.6"
  }
 },
 "nbformat": 4,
 "nbformat_minor": 4
}
