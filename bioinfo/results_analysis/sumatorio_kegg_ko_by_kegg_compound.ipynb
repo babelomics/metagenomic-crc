{
 "cells": [
  {
   "cell_type": "code",
   "execution_count": 154,
   "metadata": {},
   "outputs": [],
   "source": [
    "import pandas as pd\n",
    "from pathlib import Path\n",
    "import requests\n",
    "import re"
   ]
  },
  {
   "cell_type": "code",
   "execution_count": 155,
   "metadata": {},
   "outputs": [],
   "source": [
    "df = pd.read_csv('CRC_KEGG_KOs_cp_support_merge.tsv', sep='\\t')\n",
    "df.columns = ['kegg_ko', 'score', 'name']"
   ]
  },
  {
   "cell_type": "code",
   "execution_count": 156,
   "metadata": {},
   "outputs": [],
   "source": [
    "for i in df['kegg_ko']:\n",
    "    ko_file = f'/mnt/lustre/scratch/CBRA/research/projects/metagenomic/gut/metadata/data/raw/kegg/{i}.txt'\n",
    "    my_file = Path(ko_file)\n",
    "    if my_file.is_file():\n",
    "        with open(ko_file) as file:\n",
    "            for line in file:\n",
    "                line = line.rstrip()\n",
    "                if line.startswith('GENES'):\n",
    "                    break\n",
    "                if ' RN: ' in line:\n",
    "                    rn = line.split('RN:')[1]\n",
    "                    rn = rn.strip()\n",
    "                    df.loc[df['kegg_ko'] == i, 'kegg_reaction'] = rn\n",
    "                    \n",
    "    else:\n",
    "        print(f'error in {i}')"
   ]
  },
  {
   "cell_type": "code",
   "execution_count": 157,
   "metadata": {},
   "outputs": [
    {
     "data": {
      "text/plain": [
       "3287"
      ]
     },
     "execution_count": 157,
     "metadata": {},
     "output_type": "execute_result"
    }
   ],
   "source": [
    "array = []\n",
    "for i in df.loc[df['kegg_reaction'].notnull(), 'kegg_reaction']:\n",
    "    i = i.split(' ')\n",
    "    array.extend(i)\n",
    "\n",
    "len(array)"
   ]
  },
  {
   "cell_type": "code",
   "execution_count": 158,
   "metadata": {},
   "outputs": [
    {
     "data": {
      "text/plain": [
       "2314"
      ]
     },
     "execution_count": 158,
     "metadata": {},
     "output_type": "execute_result"
    }
   ],
   "source": [
    "len(set(array))"
   ]
  },
  {
   "cell_type": "code",
   "execution_count": 159,
   "metadata": {},
   "outputs": [
    {
     "name": "stdout",
     "output_type": "stream",
     "text": [
      " R09397\t"
     ]
    }
   ],
   "source": [
    "base = '/mnt/lustre/scratch/CBRA/research/projects/metagenomic/gut/'\n",
    "for i in array:\n",
    "    print('\\r', i, end='\\t')\n",
    "    \n",
    "    rn_file = Path(f'{base}metadata/data/raw/kegg/{i}.txt')\n",
    "    if rn_file.is_file():\n",
    "        continue\n",
    "        \n",
    "    url = 'http://rest.kegg.jp/get/' + i\n",
    "    r = requests.get(url)\n",
    "    \n",
    "    file = open(f\"{base}metadata/data/raw/kegg/{i}.txt\", \"w\")\n",
    "    file.write(r.text)\n",
    "    file.close()"
   ]
  },
  {
   "cell_type": "code",
   "execution_count": 160,
   "metadata": {},
   "outputs": [],
   "source": [
    "df['kegg_compound'] = ''\n",
    "df = df.fillna('NA')\n",
    "\n",
    "for i in list(set(array)):\n",
    "    rn_file = f'/mnt/lustre/scratch/CBRA/research/projects/metagenomic/gut/metadata/data/raw/kegg/{i}.txt'\n",
    "    with open(rn_file, 'r') as file:\n",
    "        for line in file:\n",
    "            line = line.rstrip()\n",
    "            if line.startswith('EQUATION'):\n",
    "                comp = re.findall(r'[CG]\\d+', line)\n",
    "                comp = ' '.join(comp)\n",
    "                df.loc[df['kegg_reaction'].str.contains(i), 'kegg_compound'] = df['kegg_compound'] + ' ' + comp\n",
    "\n"
   ]
  },
  {
   "cell_type": "code",
   "execution_count": null,
   "metadata": {},
   "outputs": [],
   "source": []
  },
  {
   "cell_type": "code",
   "execution_count": null,
   "metadata": {},
   "outputs": [],
   "source": []
  },
  {
   "cell_type": "code",
   "execution_count": null,
   "metadata": {},
   "outputs": [],
   "source": []
  },
  {
   "cell_type": "code",
   "execution_count": 161,
   "metadata": {},
   "outputs": [
    {
     "name": "stdout",
     "output_type": "stream",
     "text": [
      " C05761\t"
     ]
    },
    {
     "data": {
      "text/html": [
       "<div>\n",
       "<style scoped>\n",
       "    .dataframe tbody tr th:only-of-type {\n",
       "        vertical-align: middle;\n",
       "    }\n",
       "\n",
       "    .dataframe tbody tr th {\n",
       "        vertical-align: top;\n",
       "    }\n",
       "\n",
       "    .dataframe thead th {\n",
       "        text-align: right;\n",
       "    }\n",
       "</style>\n",
       "<table border=\"1\" class=\"dataframe\">\n",
       "  <thead>\n",
       "    <tr style=\"text-align: right;\">\n",
       "      <th></th>\n",
       "      <th>score</th>\n",
       "      <th>name</th>\n",
       "    </tr>\n",
       "    <tr>\n",
       "      <th>kegg_compound</th>\n",
       "      <th></th>\n",
       "      <th></th>\n",
       "    </tr>\n",
       "  </thead>\n",
       "  <tbody>\n",
       "    <tr>\n",
       "      <th>C00001</th>\n",
       "      <td>74.469208</td>\n",
       "      <td>H2O</td>\n",
       "    </tr>\n",
       "    <tr>\n",
       "      <th>C00080</th>\n",
       "      <td>44.892296</td>\n",
       "      <td>H+</td>\n",
       "    </tr>\n",
       "    <tr>\n",
       "      <th>C00002</th>\n",
       "      <td>35.383378</td>\n",
       "      <td>ATP</td>\n",
       "    </tr>\n",
       "    <tr>\n",
       "      <th>C00009</th>\n",
       "      <td>27.225732</td>\n",
       "      <td>Orthophosphate</td>\n",
       "    </tr>\n",
       "    <tr>\n",
       "      <th>C00003</th>\n",
       "      <td>26.484619</td>\n",
       "      <td>NAD+</td>\n",
       "    </tr>\n",
       "    <tr>\n",
       "      <th>C00004</th>\n",
       "      <td>25.293150</td>\n",
       "      <td>NADH</td>\n",
       "    </tr>\n",
       "    <tr>\n",
       "      <th>C00008</th>\n",
       "      <td>22.438070</td>\n",
       "      <td>ADP</td>\n",
       "    </tr>\n",
       "    <tr>\n",
       "      <th>C00013</th>\n",
       "      <td>19.339948</td>\n",
       "      <td>Diphosphate</td>\n",
       "    </tr>\n",
       "    <tr>\n",
       "      <th>C00011</th>\n",
       "      <td>16.325968</td>\n",
       "      <td>CO2</td>\n",
       "    </tr>\n",
       "    <tr>\n",
       "      <th>C00006</th>\n",
       "      <td>15.630796</td>\n",
       "      <td>NADP+</td>\n",
       "    </tr>\n",
       "    <tr>\n",
       "      <th>C00005</th>\n",
       "      <td>15.520221</td>\n",
       "      <td>NADPH</td>\n",
       "    </tr>\n",
       "    <tr>\n",
       "      <th>C00014</th>\n",
       "      <td>15.216465</td>\n",
       "      <td>Ammonia</td>\n",
       "    </tr>\n",
       "    <tr>\n",
       "      <th>C00020</th>\n",
       "      <td>14.038100</td>\n",
       "      <td>AMP</td>\n",
       "    </tr>\n",
       "    <tr>\n",
       "      <th>C00025</th>\n",
       "      <td>13.325349</td>\n",
       "      <td>L-Glutamate</td>\n",
       "    </tr>\n",
       "    <tr>\n",
       "      <th>C00010</th>\n",
       "      <td>10.686571</td>\n",
       "      <td>CoA</td>\n",
       "    </tr>\n",
       "    <tr>\n",
       "      <th>C00022</th>\n",
       "      <td>9.854809</td>\n",
       "      <td>Pyruvate</td>\n",
       "    </tr>\n",
       "    <tr>\n",
       "      <th>C00024</th>\n",
       "      <td>9.397983</td>\n",
       "      <td>Acetyl-CoA</td>\n",
       "    </tr>\n",
       "    <tr>\n",
       "      <th>C00019</th>\n",
       "      <td>7.727154</td>\n",
       "      <td>S-Adenosyl-L-methionine</td>\n",
       "    </tr>\n",
       "    <tr>\n",
       "      <th>C00007</th>\n",
       "      <td>7.178442</td>\n",
       "      <td>Oxygen</td>\n",
       "    </tr>\n",
       "    <tr>\n",
       "      <th>C00026</th>\n",
       "      <td>6.459632</td>\n",
       "      <td>2-Oxoglutarate</td>\n",
       "    </tr>\n",
       "  </tbody>\n",
       "</table>\n",
       "</div>"
      ],
      "text/plain": [
       "                   score                     name\n",
       "kegg_compound                                    \n",
       "C00001         74.469208                      H2O\n",
       "C00080         44.892296                       H+\n",
       "C00002         35.383378                      ATP\n",
       "C00009         27.225732           Orthophosphate\n",
       "C00003         26.484619                     NAD+\n",
       "C00004         25.293150                     NADH\n",
       "C00008         22.438070                      ADP\n",
       "C00013         19.339948              Diphosphate\n",
       "C00011         16.325968                      CO2\n",
       "C00006         15.630796                    NADP+\n",
       "C00005         15.520221                    NADPH\n",
       "C00014         15.216465                  Ammonia\n",
       "C00020         14.038100                      AMP\n",
       "C00025         13.325349              L-Glutamate\n",
       "C00010         10.686571                      CoA\n",
       "C00022          9.854809                 Pyruvate\n",
       "C00024          9.397983               Acetyl-CoA\n",
       "C00019          7.727154  S-Adenosyl-L-methionine\n",
       "C00007          7.178442                   Oxygen\n",
       "C00026          6.459632           2-Oxoglutarate"
      ]
     },
     "execution_count": 161,
     "metadata": {},
     "output_type": "execute_result"
    }
   ],
   "source": [
    "kegg_comp = df.copy()\n",
    "kegg_comp['kegg_compound'] = kegg_comp['kegg_compound'].str.strip().str.split().apply(lambda x: list(set(x)))\n",
    "kegg_comp = kegg_comp.explode('kegg_compound').groupby('kegg_compound').sum().sort_values('score', ascending=False).head(200)\n",
    "\n",
    "for i in kegg_comp.index:\n",
    "    print('\\r', i, end='\\t')\n",
    "    \n",
    "    c_file = Path(f'{base}metadata/data/raw/kegg/{i}.txt')\n",
    "    if c_file.is_file():\n",
    "        continue\n",
    "        \n",
    "    url = 'http://rest.kegg.jp/get/' + i\n",
    "    r = requests.get(url)\n",
    "    \n",
    "    file = open(c_file, \"w\")\n",
    "    file.write(r.text)\n",
    "    file.close()\n",
    "    \n",
    "for i in kegg_comp.index:\n",
    "    c_file = f'{base}metadata/data/raw/kegg/{i}.txt'\n",
    "    with open(c_file, 'r') as file:\n",
    "        for line in file:\n",
    "            line = line.rstrip()\n",
    "            if line.startswith('NAME'):\n",
    "                name = line.replace(';', '').split()[1]\n",
    "                kegg_comp.loc[i, 'name'] = name\n",
    "kegg_comp.head(20)"
   ]
  },
  {
   "cell_type": "code",
   "execution_count": 162,
   "metadata": {},
   "outputs": [
    {
     "name": "stdout",
     "output_type": "stream",
     "text": [
      " R04927\t"
     ]
    },
    {
     "data": {
      "text/html": [
       "<div>\n",
       "<style scoped>\n",
       "    .dataframe tbody tr th:only-of-type {\n",
       "        vertical-align: middle;\n",
       "    }\n",
       "\n",
       "    .dataframe tbody tr th {\n",
       "        vertical-align: top;\n",
       "    }\n",
       "\n",
       "    .dataframe thead th {\n",
       "        text-align: right;\n",
       "    }\n",
       "</style>\n",
       "<table border=\"1\" class=\"dataframe\">\n",
       "  <thead>\n",
       "    <tr style=\"text-align: right;\">\n",
       "      <th></th>\n",
       "      <th>score</th>\n",
       "      <th>name</th>\n",
       "    </tr>\n",
       "    <tr>\n",
       "      <th>kegg_reaction</th>\n",
       "      <th></th>\n",
       "      <th></th>\n",
       "    </tr>\n",
       "  </thead>\n",
       "  <tbody>\n",
       "    <tr>\n",
       "      <th>NA</th>\n",
       "      <td>368.683143</td>\n",
       "      <td>NaN</td>\n",
       "    </tr>\n",
       "    <tr>\n",
       "      <th>R11945</th>\n",
       "      <td>2.845164</td>\n",
       "      <td>NADH:ubiquinone</td>\n",
       "    </tr>\n",
       "    <tr>\n",
       "      <th>R00262</th>\n",
       "      <td>1.505437</td>\n",
       "      <td>L-threo-3-methylaspartate</td>\n",
       "    </tr>\n",
       "    <tr>\n",
       "      <th>R02111</th>\n",
       "      <td>1.387899</td>\n",
       "      <td>1,4-alpha-D-Glucan:orthophosphate</td>\n",
       "    </tr>\n",
       "    <tr>\n",
       "      <th>R01715</th>\n",
       "      <td>1.378665</td>\n",
       "      <td>Chorismate</td>\n",
       "    </tr>\n",
       "    <tr>\n",
       "      <th>R03696</th>\n",
       "      <td>1.349319</td>\n",
       "      <td>L-threo-3-Methylaspartate</td>\n",
       "    </tr>\n",
       "    <tr>\n",
       "      <th>R06927</th>\n",
       "      <td>1.196699</td>\n",
       "      <td>(2-naphthyl)methanol:NAD+</td>\n",
       "    </tr>\n",
       "    <tr>\n",
       "      <th>R00754</th>\n",
       "      <td>1.196699</td>\n",
       "      <td>ethanol:NAD+</td>\n",
       "    </tr>\n",
       "    <tr>\n",
       "      <th>R00623</th>\n",
       "      <td>1.196699</td>\n",
       "      <td>primary_alcohol:NAD+</td>\n",
       "    </tr>\n",
       "    <tr>\n",
       "      <th>R04880</th>\n",
       "      <td>1.196699</td>\n",
       "      <td>3,4-dihydroxyphenylethyleneglycol:NAD+</td>\n",
       "    </tr>\n",
       "    <tr>\n",
       "      <th>R05233</th>\n",
       "      <td>1.196699</td>\n",
       "      <td>trans-3-Chloro-2-propene-1-ol:NAD+</td>\n",
       "    </tr>\n",
       "    <tr>\n",
       "      <th>R05234</th>\n",
       "      <td>1.196699</td>\n",
       "      <td>cis-3-chloro-2-propene-1-ol:NAD+</td>\n",
       "    </tr>\n",
       "    <tr>\n",
       "      <th>R06917</th>\n",
       "      <td>1.196699</td>\n",
       "      <td>1-hydroxymethylnaphthalene:NAD+</td>\n",
       "    </tr>\n",
       "    <tr>\n",
       "      <th>R04112</th>\n",
       "      <td>1.180000</td>\n",
       "      <td>N-Acetylmuramoyl-Ala</td>\n",
       "    </tr>\n",
       "    <tr>\n",
       "      <th>R01221</th>\n",
       "      <td>1.159799</td>\n",
       "      <td>glycine:NAD+</td>\n",
       "    </tr>\n",
       "    <tr>\n",
       "      <th>R00742</th>\n",
       "      <td>1.147145</td>\n",
       "      <td>acetyl-CoA:carbon-dioxide</td>\n",
       "    </tr>\n",
       "    <tr>\n",
       "      <th>R00694</th>\n",
       "      <td>1.082487</td>\n",
       "      <td>L-Phenylalanine:2-oxoglutarate</td>\n",
       "    </tr>\n",
       "    <tr>\n",
       "      <th>R00734</th>\n",
       "      <td>1.082487</td>\n",
       "      <td>L-tyrosine:2-oxoglutarate</td>\n",
       "    </tr>\n",
       "    <tr>\n",
       "      <th>R03236</th>\n",
       "      <td>1.062404</td>\n",
       "      <td>ATP:D-tagatose-6-phosphate</td>\n",
       "    </tr>\n",
       "    <tr>\n",
       "      <th>R04780</th>\n",
       "      <td>1.055677</td>\n",
       "      <td>beta-D-Fructose</td>\n",
       "    </tr>\n",
       "  </tbody>\n",
       "</table>\n",
       "</div>"
      ],
      "text/plain": [
       "                    score                                    name\n",
       "kegg_reaction                                                    \n",
       "NA             368.683143                                     NaN\n",
       "R11945           2.845164                         NADH:ubiquinone\n",
       "R00262           1.505437               L-threo-3-methylaspartate\n",
       "R02111           1.387899       1,4-alpha-D-Glucan:orthophosphate\n",
       "R01715           1.378665                              Chorismate\n",
       "R03696           1.349319               L-threo-3-Methylaspartate\n",
       "R06927           1.196699               (2-naphthyl)methanol:NAD+\n",
       "R00754           1.196699                            ethanol:NAD+\n",
       "R00623           1.196699                    primary_alcohol:NAD+\n",
       "R04880           1.196699  3,4-dihydroxyphenylethyleneglycol:NAD+\n",
       "R05233           1.196699      trans-3-Chloro-2-propene-1-ol:NAD+\n",
       "R05234           1.196699        cis-3-chloro-2-propene-1-ol:NAD+\n",
       "R06917           1.196699         1-hydroxymethylnaphthalene:NAD+\n",
       "R04112           1.180000                    N-Acetylmuramoyl-Ala\n",
       "R01221           1.159799                            glycine:NAD+\n",
       "R00742           1.147145               acetyl-CoA:carbon-dioxide\n",
       "R00694           1.082487          L-Phenylalanine:2-oxoglutarate\n",
       "R00734           1.082487               L-tyrosine:2-oxoglutarate\n",
       "R03236           1.062404              ATP:D-tagatose-6-phosphate\n",
       "R04780           1.055677                         beta-D-Fructose"
      ]
     },
     "execution_count": 162,
     "metadata": {},
     "output_type": "execute_result"
    }
   ],
   "source": [
    "kegg_rn = df.copy()\n",
    "kegg_rn['kegg_reaction'] = kegg_rn['kegg_reaction'].str.strip().str.split().apply(lambda x: list(set(x)))\n",
    "kegg_rn = kegg_rn.explode('kegg_reaction').groupby('kegg_reaction').sum().sort_values('score', ascending=False).head(200)\n",
    "\n",
    "for i in kegg_rn.index:\n",
    "    print('\\r', i, end='\\t')\n",
    "    \n",
    "    rn_file = Path(f'{base}metadata/data/raw/kegg/{i}.txt')\n",
    "    if rn_file.is_file():\n",
    "        continue\n",
    "        \n",
    "    url = 'http://rest.kegg.jp/get/' + i\n",
    "    r = requests.get(url)\n",
    "    \n",
    "    file = open(rn_file, \"w\")\n",
    "    file.write(r.text)\n",
    "    file.close()\n",
    "    \n",
    "for i in kegg_rn.index:\n",
    "    rn_file = f'{base}metadata/data/raw/kegg/{i}.txt'\n",
    "    with open(rn_file, 'r') as file:\n",
    "        for line in file:\n",
    "            line = line.rstrip()\n",
    "            if line.startswith('NAME'):\n",
    "                name = line.replace(';', '').split()[1]\n",
    "                kegg_rn.loc[i, 'name'] = name\n",
    "kegg_rn.head(20)"
   ]
  },
  {
   "cell_type": "code",
   "execution_count": 163,
   "metadata": {},
   "outputs": [
    {
     "data": {
      "text/html": [
       "<div>\n",
       "<style scoped>\n",
       "    .dataframe tbody tr th:only-of-type {\n",
       "        vertical-align: middle;\n",
       "    }\n",
       "\n",
       "    .dataframe tbody tr th {\n",
       "        vertical-align: top;\n",
       "    }\n",
       "\n",
       "    .dataframe thead th {\n",
       "        text-align: right;\n",
       "    }\n",
       "</style>\n",
       "<table border=\"1\" class=\"dataframe\">\n",
       "  <thead>\n",
       "    <tr style=\"text-align: right;\">\n",
       "      <th></th>\n",
       "      <th>score</th>\n",
       "      <th>name</th>\n",
       "    </tr>\n",
       "    <tr>\n",
       "      <th>kegg_compound</th>\n",
       "      <th></th>\n",
       "      <th></th>\n",
       "    </tr>\n",
       "  </thead>\n",
       "  <tbody>\n",
       "    <tr>\n",
       "      <th>C00001</th>\n",
       "      <td>74.469208</td>\n",
       "      <td>H2O</td>\n",
       "    </tr>\n",
       "    <tr>\n",
       "      <th>C00080</th>\n",
       "      <td>44.892296</td>\n",
       "      <td>H+</td>\n",
       "    </tr>\n",
       "    <tr>\n",
       "      <th>C00002</th>\n",
       "      <td>35.383378</td>\n",
       "      <td>ATP</td>\n",
       "    </tr>\n",
       "    <tr>\n",
       "      <th>C00009</th>\n",
       "      <td>27.225732</td>\n",
       "      <td>Orthophosphate</td>\n",
       "    </tr>\n",
       "    <tr>\n",
       "      <th>C00003</th>\n",
       "      <td>26.484619</td>\n",
       "      <td>NAD+</td>\n",
       "    </tr>\n",
       "    <tr>\n",
       "      <th>...</th>\n",
       "      <td>...</td>\n",
       "      <td>...</td>\n",
       "    </tr>\n",
       "    <tr>\n",
       "      <th>C04574</th>\n",
       "      <td>1.114136</td>\n",
       "      <td>di-trans,poly-cis-Undecaprenyl</td>\n",
       "    </tr>\n",
       "    <tr>\n",
       "      <th>C01172</th>\n",
       "      <td>1.111377</td>\n",
       "      <td>beta-D-Glucose</td>\n",
       "    </tr>\n",
       "    <tr>\n",
       "      <th>C00857</th>\n",
       "      <td>1.107547</td>\n",
       "      <td>Deamino-NAD+</td>\n",
       "    </tr>\n",
       "    <tr>\n",
       "      <th>C17556</th>\n",
       "      <td>1.105534</td>\n",
       "      <td>di-trans,poly-cis-Undecaprenyl</td>\n",
       "    </tr>\n",
       "    <tr>\n",
       "      <th>C05761</th>\n",
       "      <td>1.102719</td>\n",
       "      <td>Tetradecanoyl-[acp]</td>\n",
       "    </tr>\n",
       "  </tbody>\n",
       "</table>\n",
       "<p>200 rows × 2 columns</p>\n",
       "</div>"
      ],
      "text/plain": [
       "                   score                            name\n",
       "kegg_compound                                           \n",
       "C00001         74.469208                             H2O\n",
       "C00080         44.892296                              H+\n",
       "C00002         35.383378                             ATP\n",
       "C00009         27.225732                  Orthophosphate\n",
       "C00003         26.484619                            NAD+\n",
       "...                  ...                             ...\n",
       "C04574          1.114136  di-trans,poly-cis-Undecaprenyl\n",
       "C01172          1.111377                  beta-D-Glucose\n",
       "C00857          1.107547                    Deamino-NAD+\n",
       "C17556          1.105534  di-trans,poly-cis-Undecaprenyl\n",
       "C05761          1.102719             Tetradecanoyl-[acp]\n",
       "\n",
       "[200 rows x 2 columns]"
      ]
     },
     "execution_count": 163,
     "metadata": {},
     "output_type": "execute_result"
    }
   ],
   "source": [
    "kegg_comp"
   ]
  },
  {
   "cell_type": "code",
   "execution_count": 125,
   "metadata": {},
   "outputs": [],
   "source": []
  },
  {
   "cell_type": "code",
   "execution_count": null,
   "metadata": {},
   "outputs": [],
   "source": [
    "print(df.head(20).to_markdown())"
   ]
  },
  {
   "cell_type": "code",
   "execution_count": 76,
   "metadata": {},
   "outputs": [
    {
     "data": {
      "text/plain": [
       "4.823568715305929"
      ]
     },
     "execution_count": 76,
     "metadata": {},
     "output_type": "execute_result"
    }
   ],
   "source": [
    "# glycine HMDB0000123\n",
    "df.loc[df['kegg_compound'].str.contains('C00037'), 'score'].sum()"
   ]
  },
  {
   "cell_type": "code",
   "execution_count": 77,
   "metadata": {},
   "outputs": [
    {
     "data": {
      "text/plain": [
       "0.693087898339176"
      ]
     },
     "execution_count": 77,
     "metadata": {},
     "output_type": "execute_result"
    }
   ],
   "source": [
    "# L-Valine HMDB0000883\n",
    "df.loc[df['kegg_compound'].str.contains('C00183'), 'score'].sum()"
   ]
  },
  {
   "cell_type": "code",
   "execution_count": 78,
   "metadata": {},
   "outputs": [
    {
     "data": {
      "text/plain": [
       "3.2273935100960536"
      ]
     },
     "execution_count": 78,
     "metadata": {},
     "output_type": "execute_result"
    }
   ],
   "source": [
    "# L-Alanine HMDB0000161\n",
    "df.loc[df['kegg_compound'].str.contains('C00041'), 'score'].sum()"
   ]
  },
  {
   "cell_type": "code",
   "execution_count": 79,
   "metadata": {},
   "outputs": [
    {
     "data": {
      "text/plain": [
       "0.527994435621725"
      ]
     },
     "execution_count": 79,
     "metadata": {},
     "output_type": "execute_result"
    }
   ],
   "source": [
    "# L-Lactic acid HMDB0000190 C00186\n",
    "df.loc[df['kegg_compound'].str.contains('C00186'), 'score'].sum()"
   ]
  },
  {
   "cell_type": "code",
   "execution_count": 80,
   "metadata": {},
   "outputs": [
    {
     "data": {
      "text/plain": [
       "2.117857375112338"
      ]
     },
     "execution_count": 80,
     "metadata": {},
     "output_type": "execute_result"
    }
   ],
   "source": [
    "# L-Phenylalanine HMDB0000159 C00079\n",
    "df.loc[df['kegg_compound'].str.contains('C00079'), 'score'].sum()"
   ]
  },
  {
   "cell_type": "code",
   "execution_count": 81,
   "metadata": {},
   "outputs": [
    {
     "data": {
      "text/plain": [
       "1.434113834907183"
      ]
     },
     "execution_count": 81,
     "metadata": {},
     "output_type": "execute_result"
    }
   ],
   "source": [
    "# L-Proline HMDB0000162\n",
    "df.loc[df['kegg_compound'].str.contains('C00148'), 'score'].sum()"
   ]
  },
  {
   "cell_type": "code",
   "execution_count": 82,
   "metadata": {},
   "outputs": [
    {
     "data": {
      "text/plain": [
       "0.300635423353933"
      ]
     },
     "execution_count": 82,
     "metadata": {},
     "output_type": "execute_result"
    }
   ],
   "source": [
    "# L-Leucine HMDB0000687\n",
    "df.loc[df['kegg_compound'].str.contains('C00123'), 'score'].sum()"
   ]
  },
  {
   "cell_type": "code",
   "execution_count": 83,
   "metadata": {},
   "outputs": [
    {
     "data": {
      "text/plain": [
       "13.325349025335168"
      ]
     },
     "execution_count": 83,
     "metadata": {},
     "output_type": "execute_result"
    }
   ],
   "source": [
    "# L-Glutamic acid  HMDB0000148\n",
    "df.loc[df['kegg_compound'].str.contains('C00025'), 'score'].sum()"
   ]
  },
  {
   "cell_type": "code",
   "execution_count": 20,
   "metadata": {},
   "outputs": [
    {
     "data": {
      "text/plain": [
       "0.910383303132282"
      ]
     },
     "execution_count": 20,
     "metadata": {},
     "output_type": "execute_result"
    }
   ],
   "source": [
    "# Taurine HMDB0000251\n",
    "df.loc[df['kegg_compound'].str.contains('C00245'), 'score'].sum()"
   ]
  },
  {
   "cell_type": "code",
   "execution_count": 21,
   "metadata": {},
   "outputs": [
    {
     "data": {
      "text/plain": [
       "0.320905344939598"
      ]
     },
     "execution_count": 21,
     "metadata": {},
     "output_type": "execute_result"
    }
   ],
   "source": [
    "# Palmitic acid HMDB0000220\n",
    "df.loc[df['kegg_compound'].str.contains('C00249'), 'score'].sum()"
   ]
  },
  {
   "cell_type": "code",
   "execution_count": 22,
   "metadata": {},
   "outputs": [
    {
     "data": {
      "text/plain": [
       "4.503947811668805"
      ]
     },
     "execution_count": 22,
     "metadata": {},
     "output_type": "execute_result"
    }
   ],
   "source": [
    "# L-Methionine HMDB0000696\n",
    "df.loc[df['kegg_compound'].str.contains('C00073'), 'score'].sum()"
   ]
  },
  {
   "cell_type": "code",
   "execution_count": 23,
   "metadata": {},
   "outputs": [
    {
     "data": {
      "text/plain": [
       "1.1257348575940849"
      ]
     },
     "execution_count": 23,
     "metadata": {},
     "output_type": "execute_result"
    }
   ],
   "source": [
    "# Glycerol HMDB0000131\n",
    "df.loc[df['kegg_compound'].str.contains('C00116'), 'score'].sum()"
   ]
  },
  {
   "cell_type": "code",
   "execution_count": 24,
   "metadata": {},
   "outputs": [
    {
     "data": {
      "text/plain": [
       "1.718910949113783"
      ]
     },
     "execution_count": 24,
     "metadata": {},
     "output_type": "execute_result"
    }
   ],
   "source": [
    "# L-Tyrosine HMDB0000158\n",
    "df.loc[df['kegg_compound'].str.contains('C00082'), 'score'].sum()"
   ]
  },
  {
   "cell_type": "code",
   "execution_count": 25,
   "metadata": {},
   "outputs": [
    {
     "data": {
      "text/plain": [
       "1.354361220722235"
      ]
     },
     "execution_count": 25,
     "metadata": {},
     "output_type": "execute_result"
    }
   ],
   "source": [
    "# L-Threonine HMDB0000167 C00188\n",
    "df.loc[df['kegg_compound'].str.contains('C00188'), 'score'].sum()"
   ]
  },
  {
   "cell_type": "code",
   "execution_count": 26,
   "metadata": {},
   "outputs": [
    {
     "data": {
      "text/plain": [
       "0.387302990567718"
      ]
     },
     "execution_count": 26,
     "metadata": {},
     "output_type": "execute_result"
    }
   ],
   "source": [
    "# L-Isoleucine HMDB0000172\n",
    "df.loc[df['kegg_compound'].str.contains('C00407'), 'score'].sum()"
   ]
  },
  {
   "cell_type": "code",
   "execution_count": 27,
   "metadata": {},
   "outputs": [
    {
     "data": {
      "text/plain": [
       "2.042185228951431"
      ]
     },
     "execution_count": 27,
     "metadata": {},
     "output_type": "execute_result"
    }
   ],
   "source": [
    "# L-Serine HMDB0000187\n",
    "df.loc[df['kegg_compound'].str.contains('C00065'), 'score'].sum()"
   ]
  },
  {
   "cell_type": "code",
   "execution_count": 28,
   "metadata": {},
   "outputs": [
    {
     "data": {
      "text/plain": [
       "3.7527606239752984"
      ]
     },
     "execution_count": 28,
     "metadata": {},
     "output_type": "execute_result"
    }
   ],
   "source": [
    "# L-Aspartic acid HMDB0000191\n",
    "df.loc[df['kegg_compound'].str.contains('C00049'), 'score'].sum()"
   ]
  },
  {
   "cell_type": "code",
   "execution_count": 29,
   "metadata": {},
   "outputs": [
    {
     "data": {
      "text/plain": [
       "0.9079622304938311"
      ]
     },
     "execution_count": 29,
     "metadata": {},
     "output_type": "execute_result"
    }
   ],
   "source": [
    "# Glucose HMDB0000122\n",
    "df.loc[df['kegg_compound'].str.contains('C00221'), 'score'].sum()"
   ]
  },
  {
   "cell_type": "code",
   "execution_count": 30,
   "metadata": {},
   "outputs": [
    {
     "data": {
      "text/plain": [
       "1.8451829187478062"
      ]
     },
     "execution_count": 30,
     "metadata": {},
     "output_type": "execute_result"
    }
   ],
   "source": [
    "# L-Lysine HMDB0000182\n",
    "df.loc[df['kegg_compound'].str.contains('C00047'), 'score'].sum()"
   ]
  },
  {
   "cell_type": "code",
   "execution_count": 31,
   "metadata": {},
   "outputs": [
    {
     "data": {
      "text/plain": [
       "1.818335228953883"
      ]
     },
     "execution_count": 31,
     "metadata": {},
     "output_type": "execute_result"
    }
   ],
   "source": [
    "# L-Arginine HMDB0000517\n",
    "df.loc[df['kegg_compound'].str.contains('C00062'), 'score'].sum()"
   ]
  },
  {
   "cell_type": "code",
   "execution_count": 32,
   "metadata": {},
   "outputs": [
    {
     "data": {
      "text/plain": [
       "5.074283424030617"
      ]
     },
     "execution_count": 32,
     "metadata": {},
     "output_type": "execute_result"
    }
   ],
   "source": [
    "# L-Glutamine HMDB0000641\n",
    "df.loc[df['kegg_compound'].str.contains('C00064'), 'score'].sum()"
   ]
  },
  {
   "cell_type": "code",
   "execution_count": 33,
   "metadata": {},
   "outputs": [
    {
     "data": {
      "text/plain": [
       "0.39105533279169796"
      ]
     },
     "execution_count": 33,
     "metadata": {},
     "output_type": "execute_result"
    }
   ],
   "source": [
    "# Choline HMDB0000097\n",
    "df.loc[df['kegg_compound'].str.contains('C00114'), 'score'].sum()"
   ]
  },
  {
   "cell_type": "code",
   "execution_count": 34,
   "metadata": {},
   "outputs": [
    {
     "data": {
      "text/plain": [
       "0.776498560163747"
      ]
     },
     "execution_count": 34,
     "metadata": {},
     "output_type": "execute_result"
    }
   ],
   "source": [
    "# L-Asparagine HMDB0000168\n",
    "df.loc[df['kegg_compound'].str.contains('C00152'), 'score'].sum()"
   ]
  },
  {
   "cell_type": "code",
   "execution_count": 35,
   "metadata": {},
   "outputs": [
    {
     "data": {
      "text/plain": [
       "0.384770591859444"
      ]
     },
     "execution_count": 35,
     "metadata": {},
     "output_type": "execute_result"
    }
   ],
   "source": [
    "# myo-Inositol HMDB0000211\n",
    "df.loc[df['kegg_compound'].str.contains('C00137'), 'score'].sum()"
   ]
  },
  {
   "cell_type": "code",
   "execution_count": 36,
   "metadata": {},
   "outputs": [
    {
     "data": {
      "text/plain": [
       "1.8190666717571156"
      ]
     },
     "execution_count": 36,
     "metadata": {},
     "output_type": "execute_result"
    }
   ],
   "source": [
    "# Succinic acid HMDB0000254\n",
    "df.loc[df['kegg_compound'].str.contains('C00042'), 'score'].sum()"
   ]
  },
  {
   "cell_type": "code",
   "execution_count": 37,
   "metadata": {},
   "outputs": [
    {
     "data": {
      "text/plain": [
       "1.0282954792227428"
      ]
     },
     "execution_count": 37,
     "metadata": {},
     "output_type": "execute_result"
    }
   ],
   "source": [
    "# L-Tryptophan HMDB0000929\n",
    "df.loc[df['kegg_compound'].str.contains('C00078'), 'score'].sum()"
   ]
  },
  {
   "cell_type": "code",
   "execution_count": 38,
   "metadata": {},
   "outputs": [
    {
     "data": {
      "text/plain": [
       "4.986949588675744"
      ]
     },
     "execution_count": 38,
     "metadata": {},
     "output_type": "execute_result"
    }
   ],
   "source": [
    "# Acetic acid HMDB0000042\n",
    "df.loc[df['kegg_compound'].str.contains('C00033'), 'score'].sum()"
   ]
  },
  {
   "cell_type": "code",
   "execution_count": 39,
   "metadata": {},
   "outputs": [
    {
     "data": {
      "text/plain": [
       "1.3765207677391091"
      ]
     },
     "execution_count": 39,
     "metadata": {},
     "output_type": "execute_result"
    }
   ],
   "source": [
    "# Uridine HMDB0000296\n",
    "df.loc[df['kegg_compound'].str.contains('C00299'), 'score'].sum()"
   ]
  },
  {
   "cell_type": "code",
   "execution_count": 40,
   "metadata": {},
   "outputs": [
    {
     "data": {
      "text/plain": [
       "0.0"
      ]
     },
     "execution_count": 40,
     "metadata": {},
     "output_type": "execute_result"
    }
   ],
   "source": [
    "# Myristic acid HMDB0000806\n",
    "df.loc[df['kegg_compound'].str.contains('C06424'), 'score'].sum()"
   ]
  },
  {
   "cell_type": "code",
   "execution_count": null,
   "metadata": {},
   "outputs": [],
   "source": []
  },
  {
   "cell_type": "code",
   "execution_count": null,
   "metadata": {},
   "outputs": [],
   "source": []
  },
  {
   "cell_type": "code",
   "execution_count": null,
   "metadata": {},
   "outputs": [],
   "source": []
  },
  {
   "cell_type": "code",
   "execution_count": null,
   "metadata": {},
   "outputs": [],
   "source": []
  },
  {
   "cell_type": "code",
   "execution_count": null,
   "metadata": {},
   "outputs": [],
   "source": []
  },
  {
   "cell_type": "code",
   "execution_count": null,
   "metadata": {},
   "outputs": [],
   "source": []
  },
  {
   "cell_type": "code",
   "execution_count": null,
   "metadata": {},
   "outputs": [],
   "source": []
  },
  {
   "cell_type": "code",
   "execution_count": null,
   "metadata": {},
   "outputs": [],
   "source": []
  },
  {
   "cell_type": "code",
   "execution_count": 169,
   "metadata": {},
   "outputs": [],
   "source": [
    "#1\n",
    "compound = ['glycine',\n",
    "            'Aminoacetic acid',\n",
    "            'Aminoethanoic acid'\n",
    "           ]\n",
    "regex = \"|\".join(compound)\n",
    "\n",
    "result = df.loc[df['name'].str.contains(regex, case=False)].copy()\n",
    "result['Metabolite_Name'] = 'Glycine'\n",
    "result['HMDB_ID'] = 'HMDB0000123'\n",
    "result['Frequency'] = 24\n",
    "# print(result.to_markdown())\n",
    "r1 = result"
   ]
  },
  {
   "cell_type": "code",
   "execution_count": 170,
   "metadata": {},
   "outputs": [],
   "source": [
    "compound = ['L-Valine',\n",
    "            'L-Valin',\n",
    "            '2-Amino-3-methylbutyric acid',\n",
    "            'valine'\n",
    "           ]\n",
    "regex = \"|\".join(compound)\n",
    "\n",
    "result = df.loc[df['name'].str.contains(regex, case=False)].copy()\n",
    "result['Metabolite_Name'] = 'L-Valine'\n",
    "result['HMDB_ID'] = 'HMDB0000883'\n",
    "result['Frequency'] = 23\n",
    "# print(result.to_markdown())\n",
    "r2 = result"
   ]
  },
  {
   "cell_type": "code",
   "execution_count": 171,
   "metadata": {},
   "outputs": [
    {
     "name": "stderr",
     "output_type": "stream",
     "text": [
      "/home/csanchez/.conda/envs/python3.8/lib/python3.8/site-packages/pandas/core/strings.py:2001: UserWarning: This pattern has match groups. To actually get the groups, use str.extract.\n",
      "  return func(self, *args, **kwargs)\n"
     ]
    }
   ],
   "source": [
    "compound = ['L-Alanine',\n",
    "            '(S)-Alanine',\n",
    "            'L-Alanin',\n",
    "            '2-Aminopropanoate',\n",
    "            'l alanine',\n",
    "            'a-Aminopropionate',\n",
    "            'a-Aminopropionic acid',\n",
    "            'Alanine'\n",
    "           ]\n",
    "regex = \"|\".join(compound)\n",
    "result = df.loc[df['name'].str.contains(regex, case=False)].copy()\n",
    "result['Metabolite_Name'] = 'L-Alanine'\n",
    "result['HMDB_ID'] = 'HMDB0000161'\n",
    "result['Frequency'] = 22\n",
    "# print(result.to_markdown())\n",
    "r3 = result"
   ]
  },
  {
   "cell_type": "code",
   "execution_count": 172,
   "metadata": {},
   "outputs": [],
   "source": [
    "compound = ['L-Lactic acid',\n",
    "            'L-Lactate',\n",
    "            '(S)-Lactate',\n",
    "            '(S)-Lactic acid',\n",
    "            '(S)-2-Hydroxypropanoic acid',\n",
    "            'Lactic acid',\n",
    "            'L-lactic'\n",
    "           ]\n",
    "regex = \"|\".join(compound)\n",
    "result = df.loc[df['name'].str.contains(regex, case=False)].copy()\n",
    "result['Metabolite_Name'] = 'L-Lactic acid'\n",
    "result['HMDB_ID'] = 'HMDB0000190'\n",
    "result['Frequency'] = 22\n",
    "# print(result)\n",
    "r4 = result"
   ]
  },
  {
   "cell_type": "code",
   "execution_count": 173,
   "metadata": {},
   "outputs": [],
   "source": [
    "compound = ['L-Phenylalanine',\n",
    "            '(S)-2-Amino-3-phenylpropionic acid',\n",
    "            '(S)-alpha-Amino-beta-phenylpropionic acid',\n",
    "            '3-Phenyl-L-alanine',\n",
    "            'beta-Phenyl-L-alanine',\n",
    "            'Phenylalanine',\n",
    "            'Phenyl-L-alanine'\n",
    "           ]\n",
    "regex = \"|\".join(compound)\n",
    "result = df.loc[df['name'].str.contains(regex, case=False)].copy()\n",
    "result['Metabolite_Name'] = 'L-Phenylalanine'\n",
    "result['HMDB_ID'] = 'HMDB0000159'\n",
    "result['Frequency'] = 20\n",
    "# print(result)\n",
    "r5 = result"
   ]
  },
  {
   "cell_type": "code",
   "execution_count": 174,
   "metadata": {},
   "outputs": [],
   "source": [
    "compound = ['L-Proline',\n",
    "            '(-)-(S)-Proline',\n",
    "            '(-)-Proline',\n",
    "            '(2S)-Pyrrolidine-2-carboxylic acid',\n",
    "            '(S)-2-Carboxypyrrolidine',\n",
    "            'proline'\n",
    "           ]\n",
    "regex = \"|\".join(compound)\n",
    "result = df.loc[df['name'].str.contains(regex, case=False)].copy()\n",
    "result['Metabolite_Name'] = 'L-Proline'\n",
    "result['HMDB_ID'] = 'HMDB0000162'\n",
    "result['Frequency'] = 20\n",
    "# print(result.to_markdown())\n",
    "r6 = result"
   ]
  },
  {
   "cell_type": "code",
   "execution_count": 175,
   "metadata": {},
   "outputs": [],
   "source": [
    "compound = ['L-Leucine',\n",
    "            '(2S)-2-Amino-4-methylpentanoic acid',\n",
    "            '(2S)-alpha-2-Amino-4-methylvaleric acid',\n",
    "            '(2S)-alpha-Leucine',\n",
    "            'L-Leucin',\n",
    "            'Leucine',\n",
    "            'leucin'\n",
    "           ]\n",
    "regex = \"|\".join(compound)\n",
    "result = df.loc[df['name'].str.contains(regex, case=False)].copy()\n",
    "result['Metabolite_Name'] = 'L-Leucine'\n",
    "result['HMDB_ID'] = 'HMDB0000687'\n",
    "result['Frequency'] = 20\n",
    "# print(result.to_markdown())\n",
    "r7 = result"
   ]
  },
  {
   "cell_type": "code",
   "execution_count": 176,
   "metadata": {},
   "outputs": [],
   "source": [
    "compound = ['L-Glutamic acid',\n",
    "            '(S)-2-Aminopentanedioic acid',\n",
    "            '(S)-Glutamic acid',\n",
    "            'Glutamate'\n",
    "           ]\n",
    "regex = \"|\".join(compound)\n",
    "result = df.loc[df['name'].str.contains(regex, case=False)].copy()\n",
    "result['Metabolite_Name'] = 'L-Glutamic acid'\n",
    "result['HMDB_ID'] = 'HMDB0000148'\n",
    "result['Frequency'] = 17\n",
    "# print(result.to_markdown())\n",
    "r8 = result"
   ]
  },
  {
   "cell_type": "code",
   "execution_count": 177,
   "metadata": {},
   "outputs": [],
   "source": [
    "compound = ['Taurine',\n",
    "            '2-Aminoethanesulfonic acid',\n",
    "            '2-Aminoethyl sulfonate',\n",
    "            'Aminoethylsulfonate',\n",
    "            'Aminoethylsulphonate'\n",
    "           ]\n",
    "regex = \"|\".join(compound)\n",
    "result = df.loc[df['name'].str.contains(regex, case=False)].copy()\n",
    "result['Metabolite_Name'] = 'Taurine'\n",
    "result['HMDB_ID'] = 'HMDB0000251'\n",
    "result['Frequency'] = 16\n",
    "# print(result.to_markdown())\n",
    "r9 = result"
   ]
  },
  {
   "cell_type": "code",
   "execution_count": 178,
   "metadata": {},
   "outputs": [],
   "source": [
    "compound = ['Palmitic acid',\n",
    "            '1-Hexyldecanoic acid',\n",
    "            'Cetylic acid',\n",
    "            'Hexadecanoate',\n",
    "            'Palmitate'\n",
    "           ]\n",
    "regex = \"|\".join(compound)\n",
    "result = df.loc[df['name'].str.contains(regex, case=False)].copy()\n",
    "result['Metabolite_Name'] = 'Palmitic acid'\n",
    "result['HMDB_ID'] = 'HMDB0000220'\n",
    "result['Frequency'] = 15\n",
    "# print(result.to_markdown())\n",
    "r10 = result"
   ]
  },
  {
   "cell_type": "code",
   "execution_count": 179,
   "metadata": {},
   "outputs": [],
   "source": [
    "compound = ['L-Methionine',\n",
    "            '(2S)-2-Amino-4-(methylsulfanyl)butanoic acid',\n",
    "            'METHIONINE',\n",
    "            'L-Methionin',\n",
    "            'Methionin'\n",
    "           ]\n",
    "regex = \"|\".join(compound)\n",
    "result = df.loc[df['name'].str.contains(regex, case=False)].copy()\n",
    "result['Metabolite_Name'] = 'L-Methionine'\n",
    "result['HMDB_ID'] = 'HMDB0000696'\n",
    "result['Frequency'] = 15\n",
    "# print(result.to_markdown())\n",
    "r11 = result"
   ]
  },
  {
   "cell_type": "code",
   "execution_count": 180,
   "metadata": {},
   "outputs": [],
   "source": [
    "compound = ['Glycerol',\n",
    "            'Glycerine',\n",
    "            'Propanetriol',\n",
    "            'D-Glucuronate'\n",
    "           ]\n",
    "regex = \"|\".join(compound)\n",
    "result = df.loc[df['name'].str.contains(regex, case=False)].copy()\n",
    "result['Metabolite_Name'] = 'Glycerol'\n",
    "result['HMDB_ID'] = 'HMDB0000131'\n",
    "result['Frequency'] = 14\n",
    "# print(result.to_markdown())\n",
    "r12 = result"
   ]
  },
  {
   "cell_type": "code",
   "execution_count": 181,
   "metadata": {},
   "outputs": [],
   "source": [
    "compound = ['L-Tyrosine',\n",
    "            'Tyrosine',\n",
    "            'Benzenepropanoate',\n",
    "            'Benzenepropanoic acid'\n",
    "           ]\n",
    "regex = \"|\".join(compound)\n",
    "result = df.loc[df['name'].str.contains(regex, case=False)].copy()\n",
    "result['Metabolite_Name'] = 'L-Tyrosine'\n",
    "result['HMDB_ID'] = 'HMDB0000158'\n",
    "result['Frequency'] = 14\n",
    "# print(result.to_markdown())\n",
    "r13 = result"
   ]
  },
  {
   "cell_type": "code",
   "execution_count": 182,
   "metadata": {},
   "outputs": [],
   "source": [
    "compound = ['L-Threonine',\n",
    "            'Threonine',\n",
    "            'Threonin',\n",
    "            '2-Amino-3-hydroxybutyric acid'\n",
    "           ]\n",
    "regex = \"|\".join(compound)\n",
    "result = df.loc[df['name'].str.contains(regex, case=False)].copy()\n",
    "result['Metabolite_Name'] = 'L-Threonine'\n",
    "result['HMDB_ID'] = 'HMDB0000167'\n",
    "result['Frequency'] = 14\n",
    "# print(result.to_markdown())\n",
    "r14 = result"
   ]
  },
  {
   "cell_type": "code",
   "execution_count": 183,
   "metadata": {},
   "outputs": [],
   "source": [
    "compound = ['L-Isoleucine',\n",
    "            'Isoleucine',\n",
    "            'Alloisoleucine',\n",
    "            'methylvalerate',\n",
    "            'Isoleucin'\n",
    "           ]\n",
    "regex = \"|\".join(compound)\n",
    "# print(regex)\n",
    "result = df.loc[df['name'].str.contains(regex, case=False)].copy()\n",
    "result['Metabolite_Name'] = 'L-Isoleucine'\n",
    "result['HMDB_ID'] = 'HMDB0000172'\n",
    "result['Frequency'] = 14\n",
    "# print(result.to_markdown())\n",
    "r15 = result"
   ]
  },
  {
   "cell_type": "code",
   "execution_count": 184,
   "metadata": {},
   "outputs": [],
   "source": [
    "compound = ['L-Serine',\n",
    "            'Serine',\n",
    "            'L-Serin',\n",
    "            'Serin',\n",
    "            'hydroxyalanine'\n",
    "           ]\n",
    "regex = \"|\".join(compound)\n",
    "# print(regex)\n",
    "result = df.loc[df['name'].str.contains(regex, case=False)].copy()\n",
    "result['Metabolite_Name'] = 'L-Serine'\n",
    "result['HMDB_ID'] = 'HMDB0000187'\n",
    "result['Frequency'] = 14\n",
    "# print(result.to_markdown())\n",
    "r16 = result"
   ]
  },
  {
   "cell_type": "code",
   "execution_count": 185,
   "metadata": {},
   "outputs": [],
   "source": [
    "compound = ['L-Aspartic acid',\n",
    "            'Aspartic acid',\n",
    "            'L-Aspartate',\n",
    "            'Aspartate',\n",
    "            'Asparagate'\n",
    "           ]\n",
    "regex = \"|\".join(compound)\n",
    "# print(regex)\n",
    "result = df.loc[df['name'].str.contains(regex, case=False)].copy()\n",
    "result['Metabolite_Name'] = 'L-Aspartic acid'\n",
    "result['HMDB_ID'] = 'HMDB0000191'\n",
    "result['Frequency'] = 14\n",
    "# print(result.to_markdown())\n",
    "r17 = result"
   ]
  },
  {
   "cell_type": "code",
   "execution_count": 186,
   "metadata": {},
   "outputs": [],
   "source": [
    "compound = ['Glucose',\n",
    "            'D-Glucose'\n",
    "           ]\n",
    "regex = \"|\".join(compound)\n",
    "# print(regex)\n",
    "result = df.loc[df['name'].str.contains(regex, case=False)].copy()\n",
    "result['Metabolite_Name'] = 'D-Glucose'\n",
    "result['HMDB_ID'] = 'HMDB0000122'\n",
    "result['Frequency'] = 13\n",
    "# print(result.to_markdown())\n",
    "r18 = result"
   ]
  },
  {
   "cell_type": "code",
   "execution_count": 187,
   "metadata": {},
   "outputs": [],
   "source": [
    "compound = ['L-Lysine',\n",
    "            'Lysine'\n",
    "           ]\n",
    "regex = \"|\".join(compound)\n",
    "# print(regex)\n",
    "result = df.loc[df['name'].str.contains(regex, case=False)].copy()\n",
    "result['Metabolite_Name'] = 'L-Lysine'\n",
    "result['HMDB_ID'] = 'HMDB0000182'\n",
    "result['Frequency'] = 12\n",
    "# print(result.to_markdown())\n",
    "r19 = result"
   ]
  },
  {
   "cell_type": "code",
   "execution_count": 188,
   "metadata": {},
   "outputs": [],
   "source": [
    "compound = ['L-Arginine',\n",
    "            'Arginine'\n",
    "           ]\n",
    "regex = \"|\".join(compound)\n",
    "# print(regex)\n",
    "result = df.loc[df['name'].str.contains(regex, case=False)].copy()\n",
    "result['Metabolite_Name'] = 'L-Arginine'\n",
    "result['HMDB_ID'] = 'HMDB0000517'\n",
    "result['Frequency'] = 12\n",
    "# print(result.to_markdown())\n",
    "r20 = result"
   ]
  },
  {
   "cell_type": "code",
   "execution_count": 189,
   "metadata": {},
   "outputs": [],
   "source": [
    "compound = ['L-Glutamine',\n",
    "            'Glutamine'\n",
    "           ]\n",
    "regex = \"|\".join(compound)\n",
    "# print(regex)\n",
    "result = df.loc[df['name'].str.contains(regex, case=False)].copy()\n",
    "result['Metabolite_Name'] = 'L-Glutamine'\n",
    "result['HMDB_ID'] = 'HMDB0000641'\n",
    "result['Frequency'] = 12\n",
    "# print(result.to_markdown())\n",
    "r21 = result"
   ]
  },
  {
   "cell_type": "code",
   "execution_count": 190,
   "metadata": {},
   "outputs": [],
   "source": [
    "compound = ['Choline',\n",
    "            'Bilineurine',\n",
    "            'Biocoline'\n",
    "           ]\n",
    "regex = \"|\".join(compound)\n",
    "# print(regex)\n",
    "result = df.loc[df['name'].str.contains(regex, case=False)].copy()\n",
    "result['Metabolite_Name'] = 'Choline'\n",
    "result['HMDB_ID'] = 'HMDB0000097'\n",
    "result['Frequency'] = 11\n",
    "# print(result.to_markdown())\n",
    "r22 = result"
   ]
  },
  {
   "cell_type": "code",
   "execution_count": 191,
   "metadata": {},
   "outputs": [],
   "source": [
    "compound = ['L-Asparagine',\n",
    "            'Asparagine',\n",
    "            'Aspartamate'\n",
    "           ]\n",
    "regex = \"|\".join(compound)\n",
    "# print(regex)\n",
    "result = df.loc[df['name'].str.contains(regex, case=False)].copy()\n",
    "result['Metabolite_Name'] = 'L-Asparagine'\n",
    "result['HMDB_ID'] = 'HMDB0000168'\n",
    "result['Frequency'] = 11\n",
    "# print(result.to_markdown())\n",
    "r23 = result"
   ]
  },
  {
   "cell_type": "code",
   "execution_count": 192,
   "metadata": {},
   "outputs": [],
   "source": [
    "compound = ['myo-Inositol',\n",
    "            'Inositol',\n",
    "            'Cyclohexitol'\n",
    "           ]\n",
    "regex = \"|\".join(compound)\n",
    "# print(regex)\n",
    "result = df.loc[df['name'].str.contains(regex, case=False)].copy()\n",
    "result['Metabolite_Name'] = 'myo-Inositol'\n",
    "result['HMDB_ID'] = 'HMDB0000211'\n",
    "result['Frequency'] = 11\n",
    "# print(result.to_markdown())\n",
    "r24 = result"
   ]
  },
  {
   "cell_type": "code",
   "execution_count": 193,
   "metadata": {},
   "outputs": [],
   "source": [
    "compound = ['Succinic acid',\n",
    "            'Succinate',\n",
    "            'Butandisaeure'\n",
    "           ]\n",
    "regex = \"|\".join(compound)\n",
    "# print(regex)\n",
    "result = df.loc[df['name'].str.contains(regex, case=False)].copy()\n",
    "result['Metabolite_Name'] = 'Succinic acid'\n",
    "result['HMDB_ID'] = 'HMDB0000254'\n",
    "result['Frequency'] = 11\n",
    "# print(result.to_markdown())\n",
    "r25 = result"
   ]
  },
  {
   "cell_type": "code",
   "execution_count": 194,
   "metadata": {},
   "outputs": [],
   "source": [
    "compound = ['L-Tryptophan',\n",
    "            'Tryptophan'\n",
    "           ]\n",
    "regex = \"|\".join(compound)\n",
    "# print(regex)\n",
    "result = df.loc[df['name'].str.contains(regex, case=False)].copy()\n",
    "result['Metabolite_Name'] = 'L-Tryptophan'\n",
    "result['HMDB_ID'] = 'HMDB0000929'\n",
    "result['Frequency'] = 11\n",
    "# print(result.to_markdown())\n",
    "r26 = result"
   ]
  },
  {
   "cell_type": "code",
   "execution_count": 195,
   "metadata": {},
   "outputs": [],
   "source": [
    "compound = ['Acetic acid',\n",
    "            'Acetate',\n",
    "            'Ethanoate'\n",
    "           ]\n",
    "regex = \"|\".join(compound)\n",
    "# print(regex)\n",
    "result = df.loc[df['name'].str.contains(regex, case=False)].copy()\n",
    "result['Metabolite_Name'] = 'Acetic acid'\n",
    "result['HMDB_ID'] = 'HMDB0000042'\n",
    "result['Frequency'] = 10\n",
    "# print(result.to_markdown())\n",
    "r27 = result"
   ]
  },
  {
   "cell_type": "code",
   "execution_count": 196,
   "metadata": {},
   "outputs": [],
   "source": [
    "compound = ['Uridine',\n",
    "            'Allouridine'\n",
    "           ]\n",
    "regex = \"|\".join(compound)\n",
    "# print(regex)\n",
    "result = df.loc[df['name'].str.contains(regex, case=False)].copy()\n",
    "result['Metabolite_Name'] = 'Uridine'\n",
    "result['HMDB_ID'] = 'HMDB0000296'\n",
    "result['Frequency'] = 10\n",
    "# print(result.to_markdown())\n",
    "r28 = result"
   ]
  },
  {
   "cell_type": "code",
   "execution_count": 197,
   "metadata": {},
   "outputs": [],
   "source": [
    "compound = ['Myristic acid',\n",
    "            'Myristate'\n",
    "            'Myristoate'\n",
    "           ]\n",
    "regex = \"|\".join(compound)\n",
    "# print(regex)\n",
    "result = df.loc[df['name'].str.contains(regex, case=False)].copy()\n",
    "result['Metabolite_Name'] = 'Myristic acid'\n",
    "result['HMDB_ID'] = 'HMDB0000806'\n",
    "result['Frequency'] = 10\n",
    "# print(result.to_markdown())\n",
    "r29 = result"
   ]
  },
  {
   "cell_type": "code",
   "execution_count": 198,
   "metadata": {},
   "outputs": [],
   "source": [
    "ll = [r1, r2, r3, r4, r5, r6, r7, r8, r9, r10, r11, r12, r13, r14, r15, r16,\n",
    "      r17, r18, r19, r20, r21, r22, r23, r24, r25, r26, r27, r28, r29\n",
    "]\n",
    "\n",
    "rr = pd.concat(ll)"
   ]
  },
  {
   "cell_type": "code",
   "execution_count": 201,
   "metadata": {},
   "outputs": [],
   "source": [
    "gg = rr.groupby(['Metabolite_Name', 'HMDB_ID', 'Frequency']).agg({'score':sum, 'kegg_ko':list})\n",
    "gg['kegg_ko'] = gg['kegg_ko'].apply(lambda x: '; '.join(x))"
   ]
  },
  {
   "cell_type": "code",
   "execution_count": 206,
   "metadata": {},
   "outputs": [],
   "source": [
    "gg = gg.sort_values('Frequency', ascending=False)"
   ]
  },
  {
   "cell_type": "code",
   "execution_count": 207,
   "metadata": {},
   "outputs": [
    {
     "data": {
      "text/plain": [
       "\"|                                        |    score | kegg_ko                                                                                                                                                                                                                                                                                                                                                                                                                        |\\n|:---------------------------------------|---------:|:-------------------------------------------------------------------------------------------------------------------------------------------------------------------------------------------------------------------------------------------------------------------------------------------------------------------------------------------------------------------------------------------------------------------------------|\\n| ('Glycine', 'HMDB0000123', 24)         | 3.65349  | K00613; K01442; K00281; K00282; K03310; K03567; K00600; K05020; K00639; K10670; K02168; K02002; K02437; K02000; K11693; K14977; K18896; K01945; K03153; K03566; K13444                                                                                                                                                                                                                                                         |\\n| ('L-Valine', 'HMDB0000883', 23)        | 0.129798 | K00835                                                                                                                                                                                                                                                                                                                                                                                                                         |\\n| ('L-Alanine', 'HMDB0000161', 22)       | 3.33843  | K01449; K03310; K01448; K14260; K03367; K03790; K03789; K01447; K01921; K01924; K00259; K03825; K01775; K12554; K03739; K01286; K14188; K01925; K01918; K01929; K05363; K00830; K03740; K09722                                                                                                                                                                                                                                 |\\n| ('L-Lactic acid', 'HMDB0000190', 22)   | 0.851729 | K00016; K10530; K00101; K18928; K18929; K00782; K11212; K14941                                                                                                                                                                                                                                                                                                                                                                 |\\n| ('L-Proline', 'HMDB0000162', 20)       | 1.53074  | K18318; K00318; K01259; K13821; K02168; K02002; K10793; K02000; K10794; K10796; K01777; K03762; K11928; K18384                                                                                                                                                                                                                                                                                                                 |\\n| ('L-Leucine', 'HMDB0000687', 20)       | 0.437297 | K03719; K11250; K19613; K04424                                                                                                                                                                                                                                                                                                                                                                                                 |\\n| ('L-Phenylalanine', 'HMDB0000159', 20) | 0.11226  | K03825                                                                                                                                                                                                                                                                                                                                                                                                                         |\\n| ('L-Glutamic acid', 'HMDB0000148', 17) | 6.5055   | K00147; K12940; K01928; K09681; K00931; K00930; K07282; K00603; K00549; K00265; K00266; K13990; K01845; K11754; K01295; K00262; K05844; K03312; K10007; K01776; K10002; K01925; K11205; K01919; K01580; K03412; K10005; K10001; K12942; K10006; K11102; K10040; K04603; K04605; K18310; K18311; K00620; K06048; K10039; K05526; K12941; K06914                                                                                 |\\n| ('Taurine', 'HMDB0000251', 16)         | 0.190507 | K15552; K15372; K03119                                                                                                                                                                                                                                                                                                                                                                                                         |\\n| ('L-Methionine', 'HMDB0000696', 15)    | 2.2037   | K15270; K02073; K07304; K07147; K02072; K15045; K01611; K00789; K02071; K03825; K17247; K01761; K00833; K07568; K06219; K08351; K12267; K03764; K07305                                                                                                                                                                                                                                                                         |\\n| ('Glycerol', 'HMDB0000131', 14)        | 6.89784  | K08591; K00113; K00112; K00057; K09809; K00995; K02501; K00096; K00655; K01609; K02445; K02500; K06121; K00005; K05813; K03429; K01089; K07029; K01693; K13292; K00864; K02440; K00980; K17103; K00901; K01002; K02443; K13498; K19002; K02444; K00111; K05815; K13677; K06122; K00712; K00631; K01521; K01046; K13678; K05814; K17104; K17105                                                                                 |\\n| ('L-Threonine', 'HMDB0000167', 14)     | 3.36564  | K01754; K17752; K07862; K00097; K08884; K00060; K01620; K12132; K07313; K01733; K05835; K11912; K07154; K08282; K08809; K04382; K15423; K04757; K03838; K15503; K08866; K08813; K08997                                                                                                                                                                                                                                         |\\n| ('L-Aspartic acid', 'HMDB0000191', 14) | 6.0708   | K01846; K04835; K00573; K00278; K11358; K00812; K17810; K01579; K00609; K01914; K00133; K00610; K06989; K00928; K10002; K10001; K05875; K10040; K01779; K00476; K01744; K14194; K10039; K18933                                                                                                                                                                                                                                 |\\n| ('L-Tyrosine', 'HMDB0000158', 14)      | 2.8156   | K01989; K05833; K05832; K16692; K00903; K01104; K08252; K01668; K08253; K03834; K03318; K19420; K18669; K08997; K18933                                                                                                                                                                                                                                                                                                         |\\n| ('L-Serine', 'HMDB0000187', 14)        | 6.69959  | K17752; K07862; K05834; K08884; K04771; K07258; K12684; K00003; K01740; K12132; K17734; K00651; K01753; K14645; K02204; K07116; K12524; K07313; K01079; K10764; K01613; K07259; K00831; K03837; K00872; K01752; K07403; K17103; K13165; K11912; K07154; K00641; K00640; K08282; K03817; K08809; K04382; K11249; K15423; K14194; K15268; K07315; K13275; K04757; K18988; K05363; K15503; K04774; K00830; K08866; K08813; K08997 |\\n| ('D-Glucose', 'HMDB0000122', 13)       | 4.58277  | K00965; K00975; K01810; K06859; K19506; K00978; K00012; K19507; K01085; K01709; K13854; K03279; K00118; K16212; K01784; K12452; K00523; K00963; K03606; K02778; K00973; K00034; K03275; K13310; K01710; K19504; K00117; K13308; K13677; K13327; K02844; K00036; K05340; K17716; K17315; K12983; K13678; K01792; K08174; K19508                                                                                                 |\\n| ('L-Lysine', 'HMDB0000182', 12)        | 3.74811  | K01843; K18011; K01844; K16182; K18475; K03897; K19506; K04793; K19507; K00290; K10710; K03894; K03758; K04568; K19510; K01582; K06895; K11430; K17073; K19504; K10708; K05827; K05830; K08867; K16181; K03896; K19508                                                                                                                                                                                                         |\\n| ('L-Arginine', 'HMDB0000517', 12)      | 2.66327  | K06714; K19411; K19405; K01585; K02626; K01584; K03758; K13165; K03402; K01583; K02205; K01484; K01478; K00673; K10000                                                                                                                                                                                                                                                                                                         |\\n| ('L-Glutamine', 'HMDB0000641', 12)     | 1.32922  | K00820; K07009; K01953; K01915; K01951; K01950; K07010; K02493; K07320; K10040; K03713; K10039                                                                                                                                                                                                                                                                                                                                 |\\n| ('Succinic acid', 'HMDB0000254', 11)   | 1.3687   | K01940; K01939; K00241; K01755; K01756; K00239; K00240; K00135; K11106; K09477                                                                                                                                                                                                                                                                                                                                                 |\\n| ('myo-Inositol', 'HMDB0000211', 11)    | 1.79194  | K06605; K06606; K01858; K06608; K15521; K00888; K00010; K00889; K17237; K00920; K08256; K17588; K13668; K06607; K01771; K01092; K06610                                                                                                                                                                                                                                                                                         |\\n| ('L-Tryptophan', 'HMDB0000929', 11)    | 2.50409  | K01989; K01695; K05833; K05832; K01667; K01696; K01867; K06285; K03835; K03836                                                                                                                                                                                                                                                                                                                                                 |\\n| ('Choline', 'HMDB0000097', 11)         | 0.519985 | K07271; K02168; K00499; K00108; K14387; K01133                                                                                                                                                                                                                                                                                                                                                                                 |\\n| ('L-Asparagine', 'HMDB0000168', 11)    | 0.148854 | K01953                                                                                                                                                                                                                                                                                                                                                                                                                         |\\n| ('Uridine', 'HMDB0000296', 10)         | 3.48988  | K11179; K06173; K04085; K02427; K06178; K00783; K05541; K00566; K00757; K06179; K15461; K00876; K03177; K06176; K05540; K16328; K06917; K03495; K07236; K05539; K17623; K06180; K06177; K06183; K07583                                                                                                                                                                                                                         |\\n| ('Acetic acid', 'HMDB0000042', 10)     | 1.97768  | K13641; K00483; K03150; K00029; K18118; K01034; K01571; K01912; K00925; K18428; K01573; K01574; K01035; K18372; K01561; K02617; K14393; K02511; K02616; K16171                                                                                                                                                                                                                                                                 |\""
      ]
     },
     "execution_count": 207,
     "metadata": {},
     "output_type": "execute_result"
    }
   ],
   "source": [
    "gg.to_markdown()"
   ]
  },
  {
   "cell_type": "code",
   "execution_count": null,
   "metadata": {},
   "outputs": [],
   "source": []
  }
 ],
 "metadata": {
  "kernelspec": {
   "display_name": "Python 3",
   "language": "python",
   "name": "python3"
  },
  "language_info": {
   "codemirror_mode": {
    "name": "ipython",
    "version": 3
   },
   "file_extension": ".py",
   "mimetype": "text/x-python",
   "name": "python",
   "nbconvert_exporter": "python",
   "pygments_lexer": "ipython3",
   "version": "3.8.6"
  }
 },
 "nbformat": 4,
 "nbformat_minor": 4
}
