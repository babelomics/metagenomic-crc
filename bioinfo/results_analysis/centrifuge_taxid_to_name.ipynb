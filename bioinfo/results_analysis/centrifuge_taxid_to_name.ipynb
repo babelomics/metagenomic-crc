{
 "cells": [
  {
   "cell_type": "code",
   "execution_count": 1,
   "metadata": {},
   "outputs": [],
   "source": [
    "import pandas as pd\n",
    "from ete3 import NCBITaxa\n",
    "ncbi = NCBITaxa()\n",
    "import tabulate"
   ]
  },
  {
   "cell_type": "code",
   "execution_count": 2,
   "metadata": {},
   "outputs": [],
   "source": [
    "tax = pd.read_csv('CRC_centrifuge_cp_support_merge.tsv', sep='\\t')\n",
    "tax.columns= ['taxid', 'score']"
   ]
  },
  {
   "cell_type": "code",
   "execution_count": 3,
   "metadata": {},
   "outputs": [],
   "source": [
    "names = ncbi.get_taxid_translator(tax['taxid'])"
   ]
  },
  {
   "cell_type": "code",
   "execution_count": 4,
   "metadata": {},
   "outputs": [],
   "source": [
    "tax['name'] = ''\n",
    "for i in tax['taxid']:\n",
    "    if i in names.keys():\n",
    "        tax.loc[tax['taxid'] == i, 'name'] = names[i]"
   ]
  },
  {
   "cell_type": "code",
   "execution_count": 5,
   "metadata": {},
   "outputs": [],
   "source": [
    "tax.to_csv('CRC_centrifuge_cp_support_merge_withnames.tsv', sep='\\t')"
   ]
  },
  {
   "cell_type": "code",
   "execution_count": 8,
   "metadata": {},
   "outputs": [
    {
     "name": "stdout",
     "output_type": "stream",
     "text": [
      "|    |   taxid |    score | name                                                |\n",
      "|---:|--------:|---------:|:----------------------------------------------------|\n",
      "|  0 |   33033 | 2.41252  | Parvimonas micra                                    |\n",
      "|  1 |  457405 | 1.59494  | Fusobacterium nucleatum subsp. animalis 7_1         |\n",
      "|  2 |  469607 | 1.56152  | Fusobacterium nucleatum subsp. animalis 4_8         |\n",
      "|  3 |   76859 | 1.28725  | Fusobacterium nucleatum subsp. animalis             |\n",
      "|  4 |  879243 | 0.96797  | Porphyromonas asaccharolytica DSM 20707             |\n",
      "|  5 |  525283 | 0.817899 | Fusobacterium nucleatum subsp. nucleatum ATCC 23726 |\n",
      "|  6 |   39950 | 0.704961 | Dialister pneumosintes                              |\n",
      "|  7 |   76857 | 0.627    | Fusobacterium nucleatum subsp. polymorphum          |\n",
      "|  8 |   29391 | 0.612506 | Gemella morbillorum                                 |\n",
      "|  9 |  143387 | 0.579942 | Fusobacterium necrophorum subsp. funduliforme       |\n",
      "| 10 |    1509 | 0.538195 | Clostridium sporogenes                              |\n",
      "| 11 |  862971 | 0.530336 | Streptococcus anginosus C238                        |\n",
      "| 12 | 2584943 | 0.506644 | Longibaculum sp. KGMB06250                          |\n",
      "| 13 |  649756 | 0.495674 | Anaerostipes hadrus                                 |\n",
      "| 14 |     546 | 0.478419 | Citrobacter freundii                                |\n",
      "| 15 |  155615 | 0.464196 | Fusobacterium nucleatum subsp. vincentii            |\n",
      "| 16 |  361101 | 0.44508  | Streptococcus pseudoporcinus                        |\n",
      "| 17 |  537007 | 0.44365  | Blautia hansenii DSM 20583                          |\n",
      "| 18 |  469604 | 0.433546 | Fusobacterium nucleatum subsp. vincentii 3_1_36A2   |\n",
      "| 19 |  469602 | 0.411814 | Fusobacterium nucleatum subsp. vincentii 3_1_27     |\n"
     ]
    }
   ],
   "source": [
    "print(tax.head(20).to_markdown())"
   ]
  },
  {
   "cell_type": "code",
   "execution_count": null,
   "metadata": {},
   "outputs": [],
   "source": []
  },
  {
   "cell_type": "code",
   "execution_count": 7,
   "metadata": {},
   "outputs": [
    {
     "data": {
      "text/plain": [
       "<module 'tabulate' from '/home/csanchez/.conda/envs/ete3/lib/python3.7/site-packages/tabulate.py'>"
      ]
     },
     "execution_count": 7,
     "metadata": {},
     "output_type": "execute_result"
    }
   ],
   "source": [
    "tabulate"
   ]
  },
  {
   "cell_type": "code",
   "execution_count": null,
   "metadata": {},
   "outputs": [],
   "source": []
  },
  {
   "cell_type": "code",
   "execution_count": null,
   "metadata": {},
   "outputs": [],
   "source": []
  }
 ],
 "metadata": {
  "kernelspec": {
   "display_name": "Python 3",
   "language": "python",
   "name": "python3"
  },
  "language_info": {
   "codemirror_mode": {
    "name": "ipython",
    "version": 3
   },
   "file_extension": ".py",
   "mimetype": "text/x-python",
   "name": "python",
   "nbconvert_exporter": "python",
   "pygments_lexer": "ipython3",
   "version": "3.8.6"
  }
 },
 "nbformat": 4,
 "nbformat_minor": 4
}
