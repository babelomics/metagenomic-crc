{
 "cells": [
  {
   "cell_type": "code",
   "execution_count": 36,
   "metadata": {},
   "outputs": [],
   "source": [
    "import pandas as pd\n",
    "import re\n",
    "import seaborn as sns"
   ]
  },
  {
   "cell_type": "code",
   "execution_count": 3,
   "metadata": {},
   "outputs": [],
   "source": [
    "# load model eggnog tag and scores\n",
    "model = pd.read_csv('CRC_OGs_cp_support_merge.tsv', sep='\\t')\n",
    "model.columns = ['OG+', 'score']\n",
    "model = model.loc[model['score'] > 0]\n",
    "model[['OG', 'TaxonomicLevel']] = model['OG+'].str.split('@', expand=True)\n",
    "model.drop('OG+', axis=1, inplace=True)\n",
    "\n",
    "# load eggnod 4.5 annotations\n",
    "ann = pd.read_csv('all_OG_annotations.tsv', sep='\\t', header=None)\n",
    "ann.columns = ['OG', 'TaxonomicLevel', 'ProteinCount', 'Description', 'COGFunctionalCategory', 'GO', 'kegg_pathways', 'Domains', 'ProteinIDs']\n",
    "ann = ann.loc[ann['OG'].isin(model['OG'])]\n",
    "ann['COGFunctionalCategory'] = ann['COGFunctionalCategory'].apply(lambda x: x[3])\n",
    "\n",
    "# merge model and annots\n",
    "model = model.merge(ann[['OG', 'ProteinCount', 'Description', 'COGFunctionalCategory', 'GO', 'kegg_pathways', 'Domains', 'ProteinIDs']], left_on='OG', right_on='OG')\n",
    "model['GO'] = model['GO'].apply(lambda x: re.findall(r'GO:\\d{7}', x))"
   ]
  },
  {
   "cell_type": "code",
   "execution_count": 78,
   "metadata": {},
   "outputs": [
    {
     "data": {
      "text/plain": [
       "array(['[]', '[]', '[]', ...,\n",
       "       '[[\"Metabolic pathways (01100)\",16,\"64\",\"97.6\"],[\"Butanoate metabolism (00650)\",16,\"64\",\"97.6\"],[\"Microbial metabolism in diverse environments (01120)\",16,\"64\",\"97.6\"],[\"Phenylalanine metabolism (00360)\",11,\"44\",\"95.5\"],[\"Benzoate degradation (00362)\",11,\"44\",\"95.5\"],[\"Biosynthesis of secondary metabolites (01110)\",5,\"20\",\"91.3\"],[\"Fatty acid degradation (00071)\",5,\"20\",\"91.3\"],[\"Carbon fixation pathways in prokaryotes (00720)\",5,\"20\",\"91.3\"],[\"Limonene and pinene degradation (00903)\",5,\"20\",\"91.3\"],[\"Lysine degradation (00310)\",5,\"20\",\"91.3\"],[\"Biosynthesis of unsaturated fatty acids (01040)\",5,\"20\",\"91.3\"],[\"beta-Alanine metabolism (00410)\",5,\"20\",\"91.3\"],[\"Tryptophan metabolism (00380)\",5,\"20\",\"91.3\"],[\"Propanoate metabolism (00640)\",5,\"20\",\"91.3\"],[\"Caprolactam degradation (00930)\",5,\"20\",\"91.3\"],[\"Geraniol degradation (00281)\",5,\"20\",\"91.3\"],[\"Valine, leucine and isoleucine degradation (00280)\",5,\"20\",\"91.3\"]]',\n",
       "       '[]', '[]'], dtype=object)"
      ]
     },
     "execution_count": 78,
     "metadata": {},
     "output_type": "execute_result"
    }
   ],
   "source": [
    "model['kegg_pathways'].values"
   ]
  },
  {
   "cell_type": "code",
   "execution_count": 13,
   "metadata": {},
   "outputs": [
    {
     "name": "stdout",
     "output_type": "stream",
     "text": [
      "|    |   score | OG    | TaxonomicLevel   | Description                                                                                                                                                                                                                                                          |\n",
      "|---:|--------:|:------|:-----------------|:---------------------------------------------------------------------------------------------------------------------------------------------------------------------------------------------------------------------------------------------------------------------|\n",
      "|  0 | 2.47062 | 08XIZ | bactNOG          | integral membrane protein TIGR02185                                                                                                                                                                                                                                  |\n",
      "|  1 | 2.30583 | 06J4I | bactNOG          | nan                                                                                                                                                                                                                                                                  |\n",
      "|  2 | 2.22012 | 0NI2F | firmNOG          | integral membrane protein TIGR02185                                                                                                                                                                                                                                  |\n",
      "|  3 | 1.93081 | 00DN8 | actNOG           | One of the primary rRNA binding proteins, it binds directly to 16S rRNA where it nucleates assembly of the head domain of the 30S subunit. Is located at the subunit interface close to the decoding center, probably blocks exit of the E-site tRNA (By similarity) |\n",
      "|  4 | 1.92116 | 0NTFT | firmNOG          | nan                                                                                                                                                                                                                                                                  |\n",
      "|  5 | 1.76985 | 0Y9D1 | NOG              | nan                                                                                                                                                                                                                                                                  |\n",
      "|  6 | 1.73496 | 0EX7J | cloNOG           | nan                                                                                                                                                                                                                                                                  |\n",
      "|  7 | 1.47985 | 05DDE | bactNOG          | Outer membrane autotransporter barrel domain-containing protein                                                                                                                                                                                                      |\n",
      "|  8 | 1.46286 | 057E2 | bacteNOG         | DNA binding protein, excisionase family                                                                                                                                                                                                                              |\n",
      "|  9 | 1.4445  | 0587E | bacteNOG         | Protein of unknown function (DUF1446)                                                                                                                                                                                                                                |\n",
      "| 10 | 1.37804 | 06F02 | bactNOG          | nan                                                                                                                                                                                                                                                                  |\n",
      "| 11 | 1.34625 | 05CMH | bactNOG          | dehydratase                                                                                                                                                                                                                                                          |\n",
      "| 12 | 1.33923 | 08NTT | bactNOG          | nan                                                                                                                                                                                                                                                                  |\n",
      "| 13 | 1.33323 | 079XJ | bactNOG          | Major outer membrane protein                                                                                                                                                                                                                                         |\n",
      "| 14 | 1.31216 | 08C1U | bactNOG          | nan                                                                                                                                                                                                                                                                  |\n",
      "| 15 | 1.29914 | 08HM2 | bactNOG          | Cell wall binding repeat 2-containing protein                                                                                                                                                                                                                        |\n",
      "| 16 | 1.26147 | 059H0 | bacteNOG         | Methylaspartate mutase, E subunit                                                                                                                                                                                                                                    |\n",
      "| 17 | 1.25394 | 05DCU | bactNOG          | 2-hydroxyglutaryl-CoA dehydratase                                                                                                                                                                                                                                    |\n",
      "| 18 | 1.24681 | 08BIB | bactNOG          | Hypothetical bacterial integral membrane protein (Trep_Strep)                                                                                                                                                                                                        |\n",
      "| 19 | 1.23689 | 07I7J | bactNOG          | s-layer protein                                                                                                                                                                                                                                                      |\n"
     ]
    }
   ],
   "source": [
    "print(model[['score', 'OG', 'TaxonomicLevel', 'Description']].head(20).to_markdown())"
   ]
  },
  {
   "cell_type": "code",
   "execution_count": 14,
   "metadata": {},
   "outputs": [
    {
     "name": "stderr",
     "output_type": "stream",
     "text": [
      "/home/csanchez/.conda/envs/python3.8/lib/python3.8/site-packages/pandas/core/frame.py:3990: SettingWithCopyWarning: \n",
      "A value is trying to be set on a copy of a slice from a DataFrame\n",
      "\n",
      "See the caveats in the documentation: https://pandas.pydata.org/pandas-docs/stable/user_guide/indexing.html#returning-a-view-versus-a-copy\n",
      "  return super().drop(\n"
     ]
    }
   ],
   "source": [
    "# GO analysis and results\n",
    "\n",
    "go = model[['score', 'GO']]\n",
    "go.index = go.score\n",
    "go.drop('score', axis=1, inplace=True)\n",
    "go = go['GO'].apply(pd.Series)\n",
    "go = go.reset_index().melt(id_vars='score')\n",
    "go = go.groupby('value').mean()\n",
    "go.sort_values('score', ascending=False, inplace=True)\n",
    "\n",
    "# parse OBO file\n",
    "obo_dict = {}\n",
    "with open('go-basic.obo') as file:\n",
    "    lines = file.read().splitlines()\n",
    "    key = \"\"\n",
    "    for l in lines:\n",
    "        if l.startswith('id:') :\n",
    "            ss = l.split(': ')\n",
    "            key = ss[1]\n",
    "            obo_dict[key] = {}\n",
    "        if l.startswith('name:'):\n",
    "            ss = l.split(': ')\n",
    "            obo_dict[key]['name'] = ss[1]\n",
    "        if l.startswith('namespace:'):\n",
    "            ss = l.split(': ')\n",
    "            obo_dict[key]['namespace'] = ss[1]\n",
    "        if l.startswith('def:'):\n",
    "            ss = l.split(': ')\n",
    "            obo_dict[key]['def'] = ss[1]\n",
    "\n",
    "for i in go.index:\n",
    "    if i not in obo_dict.keys():\n",
    "        continue\n",
    "    go.loc[i, 'name'] = obo_dict[i]['name']\n",
    "    go.loc[i, 'namespace'] = obo_dict[i]['namespace']\n",
    "    go.loc[i, 'def'] = obo_dict[i]['def']\n",
    "\n"
   ]
  },
  {
   "cell_type": "code",
   "execution_count": 15,
   "metadata": {},
   "outputs": [],
   "source": [
    "go_sum = model[['score', 'GO']]\n",
    "go_sum.index = go_sum.score\n",
    "go_sum.drop('score', axis=1, inplace=True)\n",
    "go_sum = go_sum['GO'].apply(pd.Series)\n",
    "go_sum = go_sum.reset_index().melt(id_vars='score')\n",
    "go_sum = go_sum.groupby('value').sum()\n",
    "go_sum.sort_values('score', ascending=False, inplace=True)"
   ]
  },
  {
   "cell_type": "code",
   "execution_count": 16,
   "metadata": {},
   "outputs": [],
   "source": [
    "go_sum.columns = ['score_sum']\n",
    "go.rename(columns={'score':'score_mean'}, inplace=True)\n",
    "go = go.merge(go_sum, left_index=True, right_index=True).sort_values('score_mean', ascending=False)"
   ]
  },
  {
   "cell_type": "code",
   "execution_count": 18,
   "metadata": {},
   "outputs": [
    {
     "data": {
      "text/plain": [
       "biological_process    5398\n",
       "molecular_function    2718\n",
       "cellular_component     839\n",
       "Name: namespace, dtype: int64"
      ]
     },
     "execution_count": 18,
     "metadata": {},
     "output_type": "execute_result"
    }
   ],
   "source": [
    "go['namespace'].value_counts()"
   ]
  },
  {
   "cell_type": "code",
   "execution_count": 19,
   "metadata": {},
   "outputs": [
    {
     "name": "stdout",
     "output_type": "stream",
     "text": [
      "| value      |   score_mean | name                                                            | namespace          | def                                                                                                                                                                                                                                                                                                               |   score_sum |\n",
      "|:-----------|-------------:|:----------------------------------------------------------------|:-------------------|:------------------------------------------------------------------------------------------------------------------------------------------------------------------------------------------------------------------------------------------------------------------------------------------------------------------|------------:|\n",
      "| GO:0031529 |     0.547256 | ruffle organization                                             | biological_process | \"A process that is carried out at the cellular level which results in the assembly, arrangement of constituent parts, or disassembly of a ruffle, a projection at the leading edge of a crawling cell.\" [GOC:mah, PMID:10036235]                                                                                  |    1.09451  |\n",
      "| GO:2000359 |     0.329371 | regulation of binding of sperm to zona pellucida                | biological_process | \"Any process that modulates the frequency, rate or extent of binding of sperm to the zona pellucida.\" [GOC:obol]                                                                                                                                                                                                  |    0.329371 |\n",
      "| GO:0019670 |     0.325355 | anaerobic glutamate catabolic process                           | biological_process | \"The anaerobic chemical reactions and pathways resulting in the breakdown of glutamate, yielding energy in the form of ATP.\" [GOC:jl]                                                                                                                                                                             |    3.90426  |\n",
      "| GO:0071222 |     0.322831 | cellular response to lipopolysaccharide                         | biological_process | \"Any process that results in a change in state or activity of a cell (in terms of movement, secretion, enzyme production, gene expression, etc.) as a result of a lipopolysaccharide stimulus; lipopolysaccharide is a major component of the cell wall of gram-negative bacteria.\" [GOC:mah]                     |    0.645662 |\n",
      "| GO:0071219 |     0.322831 | cellular response to molecule of bacterial origin               | biological_process | \"Any process that results in a change in state or activity of a cell (in terms of movement, secretion, enzyme production, gene expression, etc.) as a result of a stimulus by molecules of bacterial origin such as peptides derived from bacterial flagellin.\" [GOC:mah]                                         |    0.645662 |\n",
      "| GO:0030834 |     0.30815  | regulation of actin filament depolymerization                   | biological_process | \"Any process that modulates the frequency, rate or extent of the disassembly of actin filaments by the removal of actin monomers from a filament.\" [GOC:mah]                                                                                                                                                      |    1.2326   |\n",
      "| GO:0030835 |     0.30815  | negative regulation of actin filament depolymerization          | biological_process | \"Any process that stops, prevents, or reduces the frequency, rate or extent of actin depolymerization.\" [GOC:mah]                                                                                                                                                                                                 |    1.2326   |\n",
      "| GO:0051017 |     0.301967 | actin filament bundle assembly                                  | biological_process | \"The assembly of actin filament bundles; actin filaments are on the same axis but may be oriented with the same or opposite polarities and may be packed with different levels of tightness.\" [GOC:ai]                                                                                                            |    1.20787  |\n",
      "| GO:0061572 |     0.301967 | actin filament bundle organization                              | biological_process | \"A process that results in the assembly, arrangement of constituent parts, or disassembly of an actin filament bundle.\" [GOC:dph]                                                                                                                                                                                 |    1.20787  |\n",
      "| GO:0097053 |     0.295779 | L-kynurenine catabolic process                                  | biological_process | \"The chemical reactions and pathways resulting in the breakdown of L-kynurenine, the L-enantiomer of the amino acid kynurenine (3-(2-aminobenzoyl)-alanine).\" [GOC:yaf]                                                                                                                                           |    1.77468  |\n",
      "| GO:0007215 |     0.287776 | glutamate receptor signaling pathway                            | biological_process | \"A series of molecular signals initiated by the binding of glutamate to a glutamate receptor on the surface of a target cell, and ending with regulation of a downstream cellular process, e.g. transcription.\" [GOC:mah, GOC:signaling, PMID:9131252]                                                            |    0.863328 |\n",
      "| GO:0035235 |     0.287776 | ionotropic glutamate receptor signaling pathway                 | biological_process | \"A series of molecular signals initiated by glutamate binding to a glutamate receptor on the surface of the target cell, followed by the movement of ions through a channel in the receptor complex. Ends with regulation of a downstream cellular process, e.g. transcription.\" [GOC:signaling, ISBN:0198506732] |    0.863328 |\n",
      "| GO:0006538 |     0.282601 | glutamate catabolic process                                     | biological_process | \"The chemical reactions and pathways resulting in the breakdown of glutamate, the anion of 2-aminopentanedioic acid.\" [GOC:go_curators]                                                                                                                                                                           |    3.95641  |\n",
      "| GO:0043649 |     0.263761 | dicarboxylic acid catabolic process                             | biological_process | \"The chemical reactions and pathways resulting in the breakdown of dicarboxylic acids, any organic acid containing two carboxyl (-COOH) groups.\" [ISBN:0198506732]                                                                                                                                                |    3.95641  |\n",
      "| GO:0097052 |     0.256558 | L-kynurenine metabolic process                                  | biological_process | \"The chemical reactions and pathways involving L-kynurenine, the L-enantiomer of the amino acid kynurenine (3-(2-aminobenzoyl)-alanine).\" [GOC:yaf]                                                                                                                                                               |    1.7959   |\n",
      "| GO:0032298 |     0.250786 | positive regulation of DNA-dependent DNA replication initiation | biological_process | \"Any process that activates or increases the frequency, rate or extent of initiation of DNA-dependent DNA replication.\" [GOC:mah]                                                                                                                                                                                 |    0.501572 |\n",
      "| GO:0051658 |     0.250786 | maintenance of nucleus location                                 | biological_process | \"Any process in which the nucleus is maintained in a specific location within a cell and prevented from moving elsewhere.\" [GOC:ai, GOC:dph, GOC:tb]                                                                                                                                                              |    0.501572 |\n",
      "| GO:0051657 |     0.250786 | maintenance of organelle location                               | biological_process | \"Any process in which an organelle is maintained in a specific location within a cell and prevented from moving elsewhere.\" [GOC:ai, GOC:dph, GOC:tb]                                                                                                                                                             |    0.501572 |\n",
      "| GO:0051647 |     0.250786 | nucleus localization                                            | biological_process | \"Any process in which the nucleus is transported to, and/or maintained in, a specific location within the cell.\" [GOC:ai]                                                                                                                                                                                         |    0.501572 |\n",
      "| GO:0019665 |     0.246682 | anaerobic amino acid catabolic process                          | biological_process | \"The anaerobic chemical reactions and pathways resulting in the breakdown of amino acids, yielding energy in the form of ATP.\" [GOC:curators, GOC:jl, MetaCyc:Fermentation]                                                                                                                                       |    6.66042  |\n"
     ]
    }
   ],
   "source": [
    "print(go.loc[go['namespace'] == 'biological_process'].head(20).to_markdown())"
   ]
  },
  {
   "cell_type": "code",
   "execution_count": 20,
   "metadata": {},
   "outputs": [
    {
     "name": "stdout",
     "output_type": "stream",
     "text": [
      "| value      |   score_mean | name                                                                           | namespace          | def                                                                                                                                                                                                                                           |   score_sum |\n",
      "|:-----------|-------------:|:-------------------------------------------------------------------------------|:-------------------|:----------------------------------------------------------------------------------------------------------------------------------------------------------------------------------------------------------------------------------------------|------------:|\n",
      "| GO:0050096 |     0.456993 | methylaspartate ammonia-lyase activity                                         | molecular_function | \"Catalysis of the reaction                                                                                                                                                                                                                    |    3.19895  |\n",
      "| GO:0003957 |     0.412989 | NAD(P)+ transhydrogenase (B-specific) activity                                 | molecular_function | \"Catalysis of the reaction                                                                                                                                                                                                                    |    1.65196  |\n",
      "| GO:0050278 |     0.409103 | sedoheptulose-bisphosphatase activity                                          | molecular_function | \"Catalysis of the reaction                                                                                                                                                                                                                    |    0.818205 |\n",
      "| GO:0050066 |     0.354841 | lysine 2,3-aminomutase activity                                                | molecular_function | \"Catalysis of the reaction                                                                                                                                                                                                                    |    0.354841 |\n",
      "| GO:0050097 |     0.335421 | methylaspartate mutase activity                                                | molecular_function | \"Catalysis of the reaction                                                                                                                                                                                                                    |    4.36047  |\n",
      "| GO:0030429 |     0.295779 | kynureninase activity                                                          | molecular_function | \"Catalysis of the reaction                                                                                                                                                                                                                    |    1.77468  |\n",
      "| GO:0004970 |     0.287776 | ionotropic glutamate receptor activity                                         | molecular_function | \"Catalysis of the transmembrane transfer of an ion by a channel that opens when glutamate has been bound by the channel complex or one of its constituent parts.\" [ISBN:0198506732]                                                           |    0.863328 |\n",
      "| GO:0008066 |     0.287776 | glutamate receptor activity                                                    | molecular_function | \"Combining with glutamate and transmitting the signal from one side of the membrane to the other to initiate a change in cell activity.\" [GOC:ai, GOC:signaling]                                                                              |    0.863328 |\n",
      "| GO:0005234 |     0.287776 | extracellularly glutamate-gated ion channel activity                           | molecular_function | \"Enables the transmembrane transfer of an ion by a channel that opens when glutamate is  bound by the channel complex or one of its constituent parts on the extracellular side of the plasma membrane.\" [GOC:mtg_transport, ISBN:0815340729] |    0.863328 |\n",
      "| GO:0015069 |     0.279864 | scyllo-inosamine-4-phosphate amidinotransferase activity                       | molecular_function | \"Catalysis of the reaction                                                                                                                                                                                                                    |    0.559728 |\n",
      "| GO:0018454 |     0.273216 | acetoacetyl-CoA reductase activity                                             | molecular_function | \"Catalysis of the reaction                                                                                                                                                                                                                    |    1.09286  |\n",
      "| GO:0008877 |     0.26893  | glucose-1-phosphatase activity                                                 | molecular_function | \"Catalysis of the reaction                                                                                                                                                                                                                    |    0.53786  |\n",
      "| GO:0033989 |     0.266718 | 3alpha,7alpha,12alpha-trihydroxy-5beta-cholest-24-enoyl-CoA hydratase activity | molecular_function | \"Catalysis of the reaction                                                                                                                                                                                                                    |    0.800153 |\n",
      "| GO:0008881 |     0.262842 | glutamate racemase activity                                                    | molecular_function | \"Catalysis of the reaction                                                                                                                                                                                                                    |    4.20548  |\n",
      "| GO:0015067 |     0.255343 | amidinotransferase activity                                                    | molecular_function | \"Catalysis of the reversible transfer of an amidino group to an acceptor.\" [GOC:ai]                                                                                                                                                           |    0.766028 |\n",
      "| GO:0015068 |     0.255343 | glycine amidinotransferase activity                                            | molecular_function | \"Catalysis of the reaction                                                                                                                                                                                                                    |    0.766028 |\n",
      "| GO:0050440 |     0.251228 | 2-methylcitrate synthase activity                                              | molecular_function | \"Catalysis of the reaction                                                                                                                                                                                                                    |    0.502455 |\n",
      "| GO:0004714 |     0.223951 | transmembrane receptor protein tyrosine kinase activity                        | molecular_function | \"Combining with a signal and transmitting the signal from one side of the membrane to the other to initiate a change in cell activity by catalysis of the reaction                                                                            |    0.223951 |\n",
      "| GO:0019199 |     0.223951 | transmembrane receptor protein kinase activity                                 | molecular_function | \"Combining with a signal and transmitting the signal from one side of the membrane to the other to initiate a change in cell activity by catalysis of the reaction                                                                            |    0.223951 |\n",
      "| GO:0047124 |     0.223506 | L-erythro-3,5-diaminohexanoate dehydrogenase activity                          | molecular_function | \"Catalysis of the reaction                                                                                                                                                                                                                    |    1.11753  |\n"
     ]
    }
   ],
   "source": [
    "print(go.loc[go['namespace'] == 'molecular_function'].head(20).to_markdown())"
   ]
  },
  {
   "cell_type": "code",
   "execution_count": 27,
   "metadata": {},
   "outputs": [
    {
     "name": "stdout",
     "output_type": "stream",
     "text": [
      "| value      |   score_mean | name                                        | namespace          | def                                                                                                                                                                                                                                                                                                                                                                                                                                   |   score_sum |\n",
      "|:-----------|-------------:|:--------------------------------------------|:-------------------|:--------------------------------------------------------------------------------------------------------------------------------------------------------------------------------------------------------------------------------------------------------------------------------------------------------------------------------------------------------------------------------------------------------------------------------------|------------:|\n",
      "| GO:0005833 |     0.262872 | hemoglobin complex                          | cellular_component | \"An iron-containing, oxygen carrying complex. In vertebrates it is made up of two pairs of associated globin polypeptide chains, each chain carrying a noncovalently bound heme prosthetic group.\" [GOC:jl, ISBN:0198506732]                                                                                                                                                                                                          |    0.262872 |\n",
      "| GO:0000125 |     0.227261 | PCAF complex                                | cellular_component | \"A large multiprotein complex that possesses histone acetyltransferase activity and is involved in regulation of transcription. The composition is similar to that of the SAGA complex, but includes fewer Spt and Ada proteins, and more TAFs.\" [PMID:10637607]                                                                                                                                                                      |    0.454521 |\n",
      "| GO:0030430 |     0.210174 | host cell cytoplasm                         | cellular_component | \"The cytoplasm of a host cell.\" [GOC:mah]                                                                                                                                                                                                                                                                                                                                                                                             |    0.420348 |\n",
      "| GO:0016593 |     0.177662 | Cdc73/Paf1 complex                          | cellular_component | \"A multiprotein complex that associates with RNA polymerase II and general RNA polymerase II transcription factor complexes and may be involved in both transcriptional initiation and elongation. In Saccharomyces the complex contains Paf1p, Cdc73p, Ctr9p, Rtf1p, and Leo1p.\" [PMID:11884586]                                                                                                                                     |    0.355324 |\n",
      "| GO:0030956 |     0.172327 | glutamyl-tRNA(Gln) amidotransferase complex | cellular_component | \"A protein complex that possesses glutamyl-tRNA(Gln) amidotransferase activity, and therefore creates Gln-tRNA by amidating Glu-tRNA; usually composed of 3 subunits                                                                                                                                                                                                                                                                  |    0.344655 |\n",
      "| GO:0042641 |     0.165919 | actomyosin                                  | cellular_component | \"Any complex of actin, myosin, and accessory proteins.\" [GOC:go_curators]                                                                                                                                                                                                                                                                                                                                                             |    1.32735  |\n",
      "| GO:0001725 |     0.165919 | stress fiber                                | cellular_component | \"A contractile actin filament bundle that consists of short actin filaments with alternating polarity, cross-linked by alpha-actinin and possibly other actin bundling proteins, and with myosin present in a periodic distribution along the fiber.\" [PMID:16651381]                                                                                                                                                                 |    1.32735  |\n",
      "| GO:0032432 |     0.165919 | actin filament bundle                       | cellular_component | \"An assembly of actin filaments that are on the same axis but may be oriented with the same or opposite polarities and may be packed with different levels of tightness.\" [GOC:mah]                                                                                                                                                                                                                                                   |    1.32735  |\n",
      "| GO:0020016 |     0.161718 | ciliary pocket                              | cellular_component | \"Invagination of the plasma membrane from which a cilium (also called flagellum) protrudes.\" [GOC:cilia, GOC:mb]                                                                                                                                                                                                                                                                                                                      |    0.161718 |\n",
      "| GO:0032541 |     0.145805 | cortical endoplasmic reticulum              | cellular_component | \"A cortical network of highly dynamic tubules that are juxtaposed to the plasma membrane and undergo ring closure and tubule-branching movements.\" [GOC:se, PMID:10931860, PMID:17686782]                                                                                                                                                                                                                                             |    0.145805 |\n",
      "| GO:0071782 |     0.145805 | endoplasmic reticulum tubular network       | cellular_component | \"A subcompartment of the endoplasmic reticulum consisting of tubules having membranes with high curvature in cross-section.\" [GOC:vw, PMID:16469703, PMID:20434336]                                                                                                                                                                                                                                                                   |    0.145805 |\n",
      "| GO:0005969 |     0.141874 | serine-pyruvate aminotransferase complex    | cellular_component | \"An enzyme complex that catalyzes the formation of hydroxypyruvate and alanine from serine and pyruvate.\" [EC:2.6.1.51]                                                                                                                                                                                                                                                                                                               |    0.283748 |\n",
      "| GO:0045211 |     0.133761 | postsynaptic membrane                       | cellular_component | \"A specialized area of membrane facing the presynaptic membrane on the tip of the nerve ending and separated from it by a minute cleft (the synaptic cleft). Neurotransmitters cross the synaptic cleft and transmit the signal to the postsynaptic membrane.\" [ISBN:0198506732]                                                                                                                                                      |    1.07009  |\n",
      "| GO:0097060 |     0.133761 | synaptic membrane                           | cellular_component | \"A specialized area of membrane on either the presynaptic or the postsynaptic side of a synapse, the junction between a nerve fiber of one neuron and another neuron or muscle fiber or glial cell.\" [GOC:BHF, PMID:20410104]                                                                                                                                                                                                         |    1.07009  |\n",
      "| GO:0031230 |     0.127169 | intrinsic component of cell outer membrane  | cellular_component | \"The component of the cell outer membrane consisting of the gene products and protein complexes having either part of their peptide sequence embedded in the hydrophobic region of the membrane or some other covalently attached group such as a GPI anchor that is similarly embedded in the membrane.\" [GOC:dos, GOC:mah, GOC:mtg_sensu]                                                                                           |    0.763013 |\n",
      "| GO:0005935 |     0.126674 | cellular bud neck                           | cellular_component | \"The constriction between the mother cell and daughter cell (bud) in an organism that reproduces by budding.\" [GOC:mah]                                                                                                                                                                                                                                                                                                               |    1.14007  |\n",
      "| GO:0005925 |     0.122246 | focal adhesion                              | cellular_component | \"A cell-substrate junction that anchors the cell to the extracellular matrix and that forms a point of termination of actin filaments. In insects focal adhesion has also been referred to as hemi-adherens junction (HAJ).\" [GOC:aruk, GOC:bc, ISBN:0124325653, ISBN:0815316208, PMID:10419689, PMID:12191915, PMID:15246682, PMID:1643657, PMID:16805308, PMID:19197329, PMID:23033047, PMID:26923917, PMID:28796323, PMID:8314002] |    1.58919  |\n",
      "| GO:0005924 |     0.122246 | obsolete cell-substrate adherens junction   | cellular_component | \"OBSOLETE. An adherens junction which connects a cell to the extracellular matrix.\" [GOC:hb]                                                                                                                                                                                                                                                                                                                                          |    1.58919  |\n",
      "| GO:0033646 |     0.121345 | host intracellular part                     | cellular_component | \"Any constituent part of the living contents of a host cell; the matter contained within (but not including) the plasma membrane, usually taken to exclude large vacuoles and masses of secretory or ingested material. In eukaryotes it includes the nucleus and cytoplasm. The host is defined as the larger of the organisms involved in a symbiotic interaction.\" [GOC:pamgo_curators]                                            |    0.485378 |\n",
      "| GO:0043656 |     0.121345 | host intracellular region                   | cellular_component | \"That space within the plasma membrane of a host cell.\" [GOC:cc]                                                                                                                                                                                                                                                                                                                                                                      |    0.485378 |\n"
     ]
    }
   ],
   "source": [
    "print(go.loc[go['namespace'] == 'cellular_component'].sort_values('score_mean', ascending=False).head(20).to_markdown())"
   ]
  },
  {
   "cell_type": "code",
   "execution_count": 158,
   "metadata": {},
   "outputs": [],
   "source": [
    "# save go table with scores summatory\n",
    "go.to_csv('eggnog_go_term_scores.tsv', sep='\\t')"
   ]
  },
  {
   "cell_type": "code",
   "execution_count": null,
   "metadata": {},
   "outputs": [],
   "source": []
  },
  {
   "cell_type": "code",
   "execution_count": 32,
   "metadata": {},
   "outputs": [
    {
     "name": "stderr",
     "output_type": "stream",
     "text": [
      "<ipython-input-32-8f61748a55d9>:4: SettingWithCopyWarning: \n",
      "A value is trying to be set on a copy of a slice from a DataFrame.\n",
      "Try using .loc[row_indexer,col_indexer] = value instead\n",
      "\n",
      "See the caveats in the documentation: https://pandas.pydata.org/pandas-docs/stable/user_guide/indexing.html#returning-a-view-versus-a-copy\n",
      "  dom['pfam'] = dom['Domains'].apply(lambda x: re.findall(r'\"PFAM\":\\[\\[(.+)\\]\\],\"SMART\"', x))\n",
      "<ipython-input-32-8f61748a55d9>:5: SettingWithCopyWarning: \n",
      "A value is trying to be set on a copy of a slice from a DataFrame.\n",
      "Try using .loc[row_indexer,col_indexer] = value instead\n",
      "\n",
      "See the caveats in the documentation: https://pandas.pydata.org/pandas-docs/stable/user_guide/indexing.html#returning-a-view-versus-a-copy\n",
      "  dom['pfam'] = dom['pfam'].astype(str)\n",
      "<ipython-input-32-8f61748a55d9>:6: SettingWithCopyWarning: \n",
      "A value is trying to be set on a copy of a slice from a DataFrame.\n",
      "Try using .loc[row_indexer,col_indexer] = value instead\n",
      "\n",
      "See the caveats in the documentation: https://pandas.pydata.org/pandas-docs/stable/user_guide/indexing.html#returning-a-view-versus-a-copy\n",
      "  dom['pfam'] = dom['pfam'].apply(lambda x: re.findall(r'\"[^\\d,]+\"', x))\n"
     ]
    }
   ],
   "source": [
    "# Domains analysis PFAM\n",
    "dom = model[['score', 'Domains']]\n",
    "dom.index = dom['score']\n",
    "dom['pfam'] = dom['Domains'].apply(lambda x: re.findall(r'\"PFAM\":\\[\\[(.+)\\]\\],\"SMART\"', x))\n",
    "dom['pfam'] = dom['pfam'].astype(str)\n",
    "dom['pfam'] = dom['pfam'].apply(lambda x: re.findall(r'\"[^\\d,]+\"', x))\n",
    "pfam = dom['pfam'].apply(pd.Series)\n",
    "pfam = pfam.reset_index().melt(id_vars='score')\n",
    "pfam['value'] = pfam['value'].str.replace('\"', '')\n",
    "###\n",
    "pfam_mean = pfam.groupby('value').mean()\n",
    "pfam_mean.sort_values('score', ascending=False, inplace=True)\n",
    "pfam_mean.columns = ['score_mean']\n",
    "pfam_sum = pfam.groupby('value').sum()\n",
    "pfam_sum.sort_values('score', ascending=False, inplace=True)\n",
    "pfam_sum.columns = ['score_sum']\n",
    "pfam = pfam_mean.merge(pfam_sum, left_index=True, right_index=True)"
   ]
  },
  {
   "cell_type": "code",
   "execution_count": null,
   "metadata": {},
   "outputs": [],
   "source": []
  },
  {
   "cell_type": "code",
   "execution_count": 56,
   "metadata": {},
   "outputs": [
    {
     "name": "stdout",
     "output_type": "stream",
     "text": [
      "| value           |   score_mean |   score_sum |\n",
      "|:----------------|-------------:|------------:|\n",
      "| RPA             |     0.787358 |    2.36207  |\n",
      "| SSB             |     0.656873 |    5.91186  |\n",
      "| FNIP            |     0.627232 |    0.627232 |\n",
      "| LpxC            |     0.563663 |    0.563663 |\n",
      "| Lig_chan-Glu_bd |     0.408244 |    0.816488 |\n",
      "| LAM_C           |     0.354841 |    0.354841 |\n",
      "| HGD-D           |     0.354251 |    7.79353  |\n",
      "| Glu-tRNAGln     |     0.326656 |    4.24653  |\n",
      "| Globin          |     0.320417 |    0.640835 |\n",
      "| Lig_chan        |     0.287776 |    0.863328 |\n",
      "| KduI            |     0.280174 |    0.560349 |\n",
      "| BiPBP_C         |     0.27854  |    0.55708  |\n",
      "| Trep_Strep      |     0.273555 |   14.4984   |\n",
      "| Spore_II_R      |     0.26674  |    1.3337   |\n",
      "| Spore_IV_A      |     0.26561  |    1.59366  |\n",
      "| Reo_sigmaC      |     0.248732 |    0.746195 |\n",
      "| TraC_F_IV       |     0.245029 |    1.22514  |\n",
      "| DisA-linker     |     0.245007 |    1.47004  |\n",
      "| CysG_dimeriser  |     0.243016 |    0.972064 |\n",
      "| SseB            |     0.240484 |    0.240484 |\n"
     ]
    }
   ],
   "source": [
    "print(pfam.sort_values('score_mean', ascending=False).head(20).to_markdown())"
   ]
  },
  {
   "cell_type": "code",
   "execution_count": 169,
   "metadata": {},
   "outputs": [],
   "source": [
    "pfam.to_csv('eggnog_pfam_scores.tsv', sep='\\t')"
   ]
  },
  {
   "cell_type": "code",
   "execution_count": null,
   "metadata": {},
   "outputs": [],
   "source": []
  },
  {
   "cell_type": "code",
   "execution_count": null,
   "metadata": {},
   "outputs": [],
   "source": []
  },
  {
   "cell_type": "code",
   "execution_count": 4,
   "metadata": {},
   "outputs": [
    {
     "name": "stderr",
     "output_type": "stream",
     "text": [
      "/home/csanchez/.conda/envs/python3.8/lib/python3.8/site-packages/pandas/core/frame.py:3990: SettingWithCopyWarning: \n",
      "A value is trying to be set on a copy of a slice from a DataFrame\n",
      "\n",
      "See the caveats in the documentation: https://pandas.pydata.org/pandas-docs/stable/user_guide/indexing.html#returning-a-view-versus-a-copy\n",
      "  return super().drop(\n",
      "<ipython-input-4-c5640afcef37>:5: SettingWithCopyWarning: \n",
      "A value is trying to be set on a copy of a slice from a DataFrame.\n",
      "Try using .loc[row_indexer,col_indexer] = value instead\n",
      "\n",
      "See the caveats in the documentation: https://pandas.pydata.org/pandas-docs/stable/user_guide/indexing.html#returning-a-view-versus-a-copy\n",
      "  kegg['kegg_pathways'] = kegg['kegg_pathways'].str.replace(r'[\\[\\]\"]', '').str.replace(r'[\\d+.,]', '').str.split(' \\(\\)')\n"
     ]
    }
   ],
   "source": [
    "# kegg pathways\n",
    "kegg = model[['score', 'kegg_pathways']]\n",
    "kegg.index = kegg['score']\n",
    "kegg.drop('score', axis=1, inplace=True)\n",
    "kegg['kegg_pathways'] = kegg['kegg_pathways'].str.replace(r'[\\[\\]\"]', '').str.replace(r'[\\d+.,]', '').str.split(' \\(\\)')\n",
    "kegg = kegg['kegg_pathways'].apply(pd.Series)\n",
    "kegg = kegg.reset_index().melt(id_vars='score')"
   ]
  },
  {
   "cell_type": "code",
   "execution_count": 5,
   "metadata": {},
   "outputs": [],
   "source": [
    "kegg = kegg.loc[(kegg['value'] != '')]"
   ]
  },
  {
   "cell_type": "code",
   "execution_count": null,
   "metadata": {},
   "outputs": [],
   "source": []
  },
  {
   "cell_type": "code",
   "execution_count": null,
   "metadata": {},
   "outputs": [],
   "source": []
  },
  {
   "cell_type": "code",
   "execution_count": 6,
   "metadata": {},
   "outputs": [],
   "source": [
    "kegg_mean = kegg.groupby('value').mean().sort_values('score', ascending=False)\n",
    "kegg_mean.columns = ['score_mean']\n",
    "kegg_sum = kegg.groupby('value').sum().sort_values('score', ascending=False)\n",
    "kegg_sum.columns = ['score_sum']\n",
    "kegg = kegg_mean.merge(kegg_sum, left_index=True, right_index=True)"
   ]
  },
  {
   "cell_type": "code",
   "execution_count": 7,
   "metadata": {},
   "outputs": [
    {
     "name": "stdout",
     "output_type": "stream",
     "text": [
      "| value                                        |   score_mean |   score_sum |\n",
      "|:---------------------------------------------|-------------:|------------:|\n",
      "| Metabolic pathways                           |    0.0638699 |    538.04   |\n",
      "| Biosynthesis of secondary metabolites        |    0.0627524 |    206.644  |\n",
      "| Microbial metabolism in diverse environments |    0.0639753 |    152.197  |\n",
      "| ABC transporters                             |    0.0732881 |    101.504  |\n",
      "| Biosynthesis of amino acids                  |    0.06353   |     91.0384 |\n",
      "| Ribosome                                     |    0.0741482 |     71.6271 |\n",
      "| Purine metabolism                            |    0.0566364 |     56.8063 |\n",
      "| Methane metabolism                           |    0.0609587 |     55.6553 |\n",
      "| Oxidative phosphorylation                    |    0.0666396 |     50.7127 |\n",
      "| Two-component system                         |    0.0652894 |     48.8365 |\n",
      "| Pyrimidine metabolism                        |    0.0540862 |     47.4877 |\n",
      "| Porphyrin and chlorophyll metabolism         |    0.0820562 |     40.2075 |\n",
      "| Aminoacyl-tRNA biosynthesis                  |    0.0940666 |     38.097  |\n",
      "| Carbon fixation pathways in prokaryotes      |    0.0697636 |     37.184  |\n",
      "| Bacterial secretion system                   |    0.0687784 |     32.1195 |\n",
      "| Arginine and proline metabolism              |    0.0633709 |     32.0657 |\n",
      "| Citrate cycle (TCA cycle)                    |    0.0744797 |     29.6429 |\n",
      "| Glycolysis / Gluconeogenesis                 |    0.0681627 |     26.7879 |\n",
      "| Butanoate metabolism                         |    0.0731422 |     26.6237 |\n",
      "| Nitrogen metabolism                          |    0.0562916 |     26.0067 |\n"
     ]
    }
   ],
   "source": [
    "print(kegg.sort_values('score_sum', ascending=False).head(20).to_markdown())"
   ]
  },
  {
   "cell_type": "code",
   "execution_count": 49,
   "metadata": {},
   "outputs": [],
   "source": [
    "kegg.to_csv('eggnog_kegg_pathways_scores.tsv', sep='\\t')"
   ]
  },
  {
   "cell_type": "code",
   "execution_count": 23,
   "metadata": {},
   "outputs": [],
   "source": [
    "# comparativa con los pathways procedentes del modelo de KEGG\n",
    "kegg_path = pd.read_csv('../kegg/krona/crc_kegg_hierarchy.tsv', sep='\\t')\n",
    "kegg_path.columns = ['score', 'brite1', 'brite2', 'pathways', 'module', 'ko']\n",
    "kegg_path = kegg_path[['score', 'pathways']].groupby('pathways').sum().reset_index().sort_values('score', ascending=False)"
   ]
  },
  {
   "cell_type": "code",
   "execution_count": 30,
   "metadata": {},
   "outputs": [
    {
     "name": "stdout",
     "output_type": "stream",
     "text": [
      "(336, 2)\n",
      "(356, 2)\n"
     ]
    },
    {
     "data": {
      "text/html": [
       "<div>\n",
       "<style scoped>\n",
       "    .dataframe tbody tr th:only-of-type {\n",
       "        vertical-align: middle;\n",
       "    }\n",
       "\n",
       "    .dataframe tbody tr th {\n",
       "        vertical-align: top;\n",
       "    }\n",
       "\n",
       "    .dataframe thead th {\n",
       "        text-align: right;\n",
       "    }\n",
       "</style>\n",
       "<table border=\"1\" class=\"dataframe\">\n",
       "  <thead>\n",
       "    <tr style=\"text-align: right;\">\n",
       "      <th></th>\n",
       "      <th>score_mean</th>\n",
       "      <th>score_sum</th>\n",
       "    </tr>\n",
       "    <tr>\n",
       "      <th>value</th>\n",
       "      <th></th>\n",
       "      <th></th>\n",
       "    </tr>\n",
       "  </thead>\n",
       "  <tbody>\n",
       "    <tr>\n",
       "      <th>D-Glutamine and D-glutamate metabolism</th>\n",
       "      <td>1.397234e-01</td>\n",
       "      <td>9.361470e+00</td>\n",
       "    </tr>\n",
       "    <tr>\n",
       "      <th>Nonribosomal peptide structures</th>\n",
       "      <td>1.184760e-01</td>\n",
       "      <td>2.369521e+00</td>\n",
       "    </tr>\n",
       "    <tr>\n",
       "      <th>Zeatin biosynthesis</th>\n",
       "      <td>1.175786e-01</td>\n",
       "      <td>1.998835e+00</td>\n",
       "    </tr>\n",
       "    <tr>\n",
       "      <th>Caprolactam degradation</th>\n",
       "      <td>1.150908e-01</td>\n",
       "      <td>2.647089e+00</td>\n",
       "    </tr>\n",
       "    <tr>\n",
       "      <th>Biosynthesis of type II polyketide products</th>\n",
       "      <td>1.129940e-01</td>\n",
       "      <td>2.259879e-01</td>\n",
       "    </tr>\n",
       "    <tr>\n",
       "      <th>...</th>\n",
       "      <td>...</td>\n",
       "      <td>...</td>\n",
       "    </tr>\n",
       "    <tr>\n",
       "      <th>Cytokine-cytokine receptor interaction</th>\n",
       "      <td>2.028238e-21</td>\n",
       "      <td>2.028238e-21</td>\n",
       "    </tr>\n",
       "    <tr>\n",
       "      <th>SNARE interactions in vesicular transport</th>\n",
       "      <td>1.134847e-21</td>\n",
       "      <td>7.943930e-21</td>\n",
       "    </tr>\n",
       "    <tr>\n",
       "      <th>Hematopoietic cell lineage</th>\n",
       "      <td>1.087371e-21</td>\n",
       "      <td>2.174742e-21</td>\n",
       "    </tr>\n",
       "    <tr>\n",
       "      <th>Olfactory transduction</th>\n",
       "      <td>7.697708e-22</td>\n",
       "      <td>1.539542e-21</td>\n",
       "    </tr>\n",
       "    <tr>\n",
       "      <th>Circadian rhythm - fly</th>\n",
       "      <td>3.802946e-22</td>\n",
       "      <td>7.605891e-22</td>\n",
       "    </tr>\n",
       "  </tbody>\n",
       "</table>\n",
       "<p>336 rows × 2 columns</p>\n",
       "</div>"
      ],
      "text/plain": [
       "                                               score_mean     score_sum\n",
       "value                                                                  \n",
       "D-Glutamine and D-glutamate metabolism       1.397234e-01  9.361470e+00\n",
       "Nonribosomal peptide structures              1.184760e-01  2.369521e+00\n",
       "Zeatin biosynthesis                          1.175786e-01  1.998835e+00\n",
       "Caprolactam degradation                      1.150908e-01  2.647089e+00\n",
       "Biosynthesis of type II polyketide products  1.129940e-01  2.259879e-01\n",
       "...                                                   ...           ...\n",
       "Cytokine-cytokine receptor interaction       2.028238e-21  2.028238e-21\n",
       "SNARE interactions in vesicular transport    1.134847e-21  7.943930e-21\n",
       "Hematopoietic cell lineage                   1.087371e-21  2.174742e-21\n",
       "Olfactory transduction                       7.697708e-22  1.539542e-21\n",
       "Circadian rhythm - fly                       3.802946e-22  7.605891e-22\n",
       "\n",
       "[336 rows x 2 columns]"
      ]
     },
     "execution_count": 30,
     "metadata": {},
     "output_type": "execute_result"
    }
   ],
   "source": [
    "print(kegg.shape)\n",
    "print(kegg_path.shape)"
   ]
  },
  {
   "cell_type": "code",
   "execution_count": 75,
   "metadata": {},
   "outputs": [
    {
     "data": {
      "text/html": [
       "<div>\n",
       "<style scoped>\n",
       "    .dataframe tbody tr th:only-of-type {\n",
       "        vertical-align: middle;\n",
       "    }\n",
       "\n",
       "    .dataframe tbody tr th {\n",
       "        vertical-align: top;\n",
       "    }\n",
       "\n",
       "    .dataframe thead th {\n",
       "        text-align: right;\n",
       "    }\n",
       "</style>\n",
       "<table border=\"1\" class=\"dataframe\">\n",
       "  <thead>\n",
       "    <tr style=\"text-align: right;\">\n",
       "      <th></th>\n",
       "      <th>pathways</th>\n",
       "      <th>score</th>\n",
       "      <th>inter</th>\n",
       "    </tr>\n",
       "  </thead>\n",
       "  <tbody>\n",
       "    <tr>\n",
       "      <th>267</th>\n",
       "      <td>Quorum sensing</td>\n",
       "      <td>9.992933</td>\n",
       "      <td>no</td>\n",
       "    </tr>\n",
       "    <tr>\n",
       "      <th>235</th>\n",
       "      <td>Phenylalanine, tyrosine and tryptophan biosynt...</td>\n",
       "      <td>9.106598</td>\n",
       "      <td>no</td>\n",
       "    </tr>\n",
       "    <tr>\n",
       "      <th>8</th>\n",
       "      <td>Alanine, aspartate and glutamate metabolism</td>\n",
       "      <td>8.939216</td>\n",
       "      <td>no</td>\n",
       "    </tr>\n",
       "    <tr>\n",
       "      <th>131</th>\n",
       "      <td>Glycine, serine and threonine metabolism</td>\n",
       "      <td>8.119296</td>\n",
       "      <td>no</td>\n",
       "    </tr>\n",
       "    <tr>\n",
       "      <th>25</th>\n",
       "      <td>Arginine biosynthesis</td>\n",
       "      <td>5.286660</td>\n",
       "      <td>no</td>\n",
       "    </tr>\n",
       "    <tr>\n",
       "      <th>...</th>\n",
       "      <td>...</td>\n",
       "      <td>...</td>\n",
       "      <td>...</td>\n",
       "    </tr>\n",
       "    <tr>\n",
       "      <th>313</th>\n",
       "      <td>Th1 and Th2 cell differentiation</td>\n",
       "      <td>0.038143</td>\n",
       "      <td>no</td>\n",
       "    </tr>\n",
       "    <tr>\n",
       "      <th>97</th>\n",
       "      <td>Endocrine resistance</td>\n",
       "      <td>0.038143</td>\n",
       "      <td>no</td>\n",
       "    </tr>\n",
       "    <tr>\n",
       "      <th>192</th>\n",
       "      <td>Mitophagy - animal</td>\n",
       "      <td>0.037658</td>\n",
       "      <td>no</td>\n",
       "    </tr>\n",
       "    <tr>\n",
       "      <th>10</th>\n",
       "      <td>Aldosterone synthesis and secretion</td>\n",
       "      <td>0.027959</td>\n",
       "      <td>no</td>\n",
       "    </tr>\n",
       "    <tr>\n",
       "      <th>96</th>\n",
       "      <td>EGFR tyrosine kinase inhibitor resistance</td>\n",
       "      <td>0.015325</td>\n",
       "      <td>no</td>\n",
       "    </tr>\n",
       "  </tbody>\n",
       "</table>\n",
       "<p>93 rows × 3 columns</p>\n",
       "</div>"
      ],
      "text/plain": [
       "                                              pathways     score inter\n",
       "267                                     Quorum sensing  9.992933    no\n",
       "235  Phenylalanine, tyrosine and tryptophan biosynt...  9.106598    no\n",
       "8          Alanine, aspartate and glutamate metabolism  8.939216    no\n",
       "131           Glycine, serine and threonine metabolism  8.119296    no\n",
       "25                               Arginine biosynthesis  5.286660    no\n",
       "..                                                 ...       ...   ...\n",
       "313                   Th1 and Th2 cell differentiation  0.038143    no\n",
       "97                                Endocrine resistance  0.038143    no\n",
       "192                                 Mitophagy - animal  0.037658    no\n",
       "10                 Aldosterone synthesis and secretion  0.027959    no\n",
       "96           EGFR tyrosine kinase inhibitor resistance  0.015325    no\n",
       "\n",
       "[93 rows x 3 columns]"
      ]
     },
     "execution_count": 75,
     "metadata": {},
     "output_type": "execute_result"
    }
   ],
   "source": [
    "kegg_path.loc[kegg_path['inter'] == 'no']"
   ]
  },
  {
   "cell_type": "code",
   "execution_count": 73,
   "metadata": {},
   "outputs": [
    {
     "data": {
      "image/png": "[encoded data removed]",
      "text/plain": [
       "<Figure size 432x288 with 1 Axes>"
      ]
     },
     "metadata": {
      "needs_background": "light"
     },
     "output_type": "display_data"
    }
   ],
   "source": [
    "inter = set(kegg_path['pathways']) & set(kegg.index)\n",
    "kegg_path['inter'] = 'no'\n",
    "kegg_path.loc[kegg_path['pathways'].isin(inter), 'inter'] = 'yes'\n",
    "ax = sns.boxplot(data=kegg_path, x='score', y='inter')\n",
    "ax.figure.savefig('../kegg/krona/pathways_intersec_with_eggnog.png')"
   ]
  },
  {
   "cell_type": "code",
   "execution_count": 70,
   "metadata": {},
   "outputs": [
    {
     "name": "stdout",
     "output_type": "stream",
     "text": [
      "|    | COGFunctionalCategory                                         |   score_mean |   score_sum |   ProteinCount |\n",
      "|---:|:--------------------------------------------------------------|-------------:|------------:|---------------:|\n",
      "|  1 | Function unknown                                              |    0.0667317 | 4599.35     |        2209675 |\n",
      "| 11 | Transcription                                                 |    0.0614815 |  317.982    |         485184 |\n",
      "|  0 | Cell wall/membrane/envelope biogenesis                        |    0.0671169 |  234.506    |         391876 |\n",
      "|  6 | Carbohydrate transport and metabolism                         |    0.0643051 |  218.316    |         490194 |\n",
      "| 14 | Replication, recombination and repair                         |    0.0588104 |  209.777    |         474757 |\n",
      "|  2 | Amino acid transport and metabolism                           |    0.0666461 |  208.002    |         681825 |\n",
      "|  9 | Energy production and conversion                              |    0.0624036 |  192.515    |         554115 |\n",
      "|  3 | Inorganic ion transport and metabolism                        |    0.065346  |  177.937    |         448848 |\n",
      "|  7 | Translation, ribosomal structure and biogenesis               |    0.0641984 |  171.281    |         654358 |\n",
      "|  5 | Coenzyme transport and metabolism                             |    0.0650386 |  118.24     |         302942 |\n",
      "| 15 | Posttranslational modification, protein turnover, chaperones  |    0.058697  |  104.539    |         399612 |\n",
      "| 12 | Signal transduction mechanisms                                |    0.0613674 |  103.159    |         429915 |\n",
      "|  8 | Defense mechanisms                                            |    0.0635588 |   69.5969   |         139528 |\n",
      "| 19 | Intracellular trafficking, secretion, and vesicular transport |    0.0519516 |   65.8746   |         171013 |\n",
      "| 18 | Nucleotide transport and metabolism                           |    0.0524987 |   58.5886   |         246910 |\n",
      "| 17 | Lipid transport and metabolism                                |    0.0571693 |   57.9125   |         265730 |\n",
      "| 16 | Secondary metabolites biosynthesis, transport and catabolism  |    0.0585854 |   40.0138   |         105820 |\n",
      "| 13 | Cell cycle control, cell division, chromosome partitioning    |    0.0610126 |   34.8382   |          94737 |\n",
      "| 10 | Cell motility                                                 |    0.0618149 |   29.7948   |          74145 |\n",
      "| 23 | RNA processing and modification                               |    0.0161889 |    3.61014  |          27737 |\n",
      "| 21 | Chromatin structure and dynamics                              |    0.0339063 |    2.6786   |          34043 |\n",
      "| 22 | Cytoskeleton                                                  |    0.0303927 |    2.0667   |          30947 |\n",
      "|  4 | Nuclear structure                                             |    0.0652399 |    1.04384  |            752 |\n",
      "| 20 | Extracellular structures                                      |    0.0379427 |    0.531198 |           5248 |\n"
     ]
    }
   ],
   "source": [
    "# eggnog functional categories\n",
    "func_cat_sum = model.groupby('COGFunctionalCategory').sum().sort_values('score', ascending=False)\n",
    "func_cat_sum.rename(columns={'score':'score_sum'}, inplace=True)\n",
    "func_cat_mean = model.groupby('COGFunctionalCategory').mean().sort_values('score', ascending=False)\n",
    "func_cat_mean.rename(columns={'score':'score_mean'}, inplace=True)\n",
    "func_cat_mean.drop('ProteinCount', inplace=True, axis=1)\n",
    "func_cat = func_cat_mean.merge(func_cat_sum, left_index=True, right_index=True).reset_index().sort_values('score_mean', ascending=False)\n",
    "\n",
    "dd = {\n",
    "'J' : 'Translation, ribosomal structure and biogenesis',\n",
    "'A' : 'RNA processing and modification',\n",
    "'K' : 'Transcription',\n",
    "'L' : 'Replication, recombination and repair',\n",
    "'B' : 'Chromatin structure and dynamics',\n",
    "'D' : 'Cell cycle control, cell division, chromosome partitioning',\n",
    "'Y' : 'Nuclear structure',\n",
    "'V' : 'Defense mechanisms',\n",
    "'T' : 'Signal transduction mechanisms',\n",
    "'M' : 'Cell wall/membrane/envelope biogenesis',\n",
    "'N' : 'Cell motility',\n",
    "'Z' : 'Cytoskeleton',\n",
    "'W' : 'Extracellular structures',\n",
    "'U' : 'Intracellular trafficking, secretion, and vesicular transport',\n",
    "'O' : 'Posttranslational modification, protein turnover, chaperones',\n",
    "'C' : 'Energy production and conversion',\n",
    "'G' : 'Carbohydrate transport and metabolism',\n",
    "'E' : 'Amino acid transport and metabolism',\n",
    "'F' : 'Nucleotide transport and metabolism',\n",
    "'H' : 'Coenzyme transport and metabolism',\n",
    "'I' : 'Lipid transport and metabolism',\n",
    "'P' : 'Inorganic ion transport and metabolism',\n",
    "'Q' : 'Secondary metabolites biosynthesis, transport and catabolism',\n",
    "'R' : 'General function prediction only',\n",
    "'S' : 'Function unknown'\n",
    "}\n",
    "func_cat['COGFunctionalCategory'] = func_cat['COGFunctionalCategory'].apply(lambda x: dd[x])\n",
    "print(func_cat.sort_values('score_sum', ascending=False).to_markdown())"
   ]
  },
  {
   "cell_type": "code",
   "execution_count": null,
   "metadata": {},
   "outputs": [],
   "source": []
  },
  {
   "cell_type": "code",
   "execution_count": 79,
   "metadata": {},
   "outputs": [],
   "source": [
    "func_cat.to_csv('eggnog_func_cat_scores.tsv', sep='\\t')"
   ]
  },
  {
   "cell_type": "code",
   "execution_count": 84,
   "metadata": {},
   "outputs": [
    {
     "data": {
      "text/plain": [
       "42"
      ]
     },
     "execution_count": 84,
     "metadata": {},
     "output_type": "execute_result"
    }
   ],
   "source": []
  },
  {
   "cell_type": "code",
   "execution_count": null,
   "metadata": {},
   "outputs": [],
   "source": []
  }
 ],
 "metadata": {
  "kernelspec": {
   "display_name": "Python 3",
   "language": "python",
   "name": "python3"
  },
  "language_info": {
   "codemirror_mode": {
    "name": "ipython",
    "version": 3
   },
   "file_extension": ".py",
   "mimetype": "text/x-python",
   "name": "python",
   "nbconvert_exporter": "python",
   "pygments_lexer": "ipython3",
   "version": "3.8.6"
  }
 },
 "nbformat": 4,
 "nbformat_minor": 4
}
